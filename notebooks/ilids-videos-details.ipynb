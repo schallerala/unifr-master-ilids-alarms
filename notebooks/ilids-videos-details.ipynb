{
 "cells": [
  {
   "cell_type": "code",
   "execution_count": 5,
   "metadata": {
    "pycharm": {
     "name": "#%%\n"
    },
    "scrolled": false
   },
   "outputs": [],
   "source": [
    "from glob import glob\n",
    "from itertools import product, chain"
   ]
  },
  {
   "cell_type": "code",
   "execution_count": 3,
   "metadata": {
    "pycharm": {
     "name": "#%%\n"
    }
   },
   "outputs": [
    {
     "data": {
      "text/plain": [
       "['../SZTE/**/*.mov',\n",
       " '../SZTE/**/*.mp4',\n",
       " '../SZTE/**/*.mkv',\n",
       " '../SZTR/**/*.mov',\n",
       " '../SZTR/**/*.mp4',\n",
       " '../SZTR/**/*.mkv']"
      ]
     },
     "execution_count": 3,
     "metadata": {},
     "output_type": "execute_result"
    }
   ],
   "source": [
    "ROOT_FOLDER = \"..\"\n",
    "\n",
    "ilids_folders = [\"SZTE\", \"SZTR\"]\n",
    "video_extensions = [\"mov\", \"mp4\", \"mkv\"]\n",
    "\n",
    "globs_search = [f\"{ROOT_FOLDER}/{folder}/**/*.{extension}\" for folder, extension in product(ilids_folders, video_extensions)]\n",
    "globs_search"
   ]
  },
  {
   "cell_type": "markdown",
   "metadata": {
    "pycharm": {
     "name": "#%% md\n"
    }
   },
   "source": [
    "Originally, the videos have `.mov` extensions with little compression/encoding"
   ]
  },
  {
   "cell_type": "code",
   "execution_count": 11,
   "metadata": {
    "pycharm": {
     "name": "#%%\n"
    }
   },
   "outputs": [
    {
     "name": "stdout",
     "output_type": "stream",
     "text": [
      "270 videos (example: ../SZTE/video/SZTEN101c.mov)\n"
     ]
    }
   ],
   "source": [
    "video_paths = [glob(glob_search, recursive=True) for glob_search in globs_search]\n",
    "print(f\"{len(video_paths)} videos (example: {video_paths[0]})\")"
   ]
  },
  {
   "cell_type": "code",
   "execution_count": 29,
   "metadata": {
    "pycharm": {
     "name": "#%%\n"
    }
   },
   "outputs": [
    {
     "data": {
      "text/plain": [
       "'../SZTE/video/SZTEN101c.mov'"
      ]
     },
     "execution_count": 29,
     "metadata": {},
     "output_type": "execute_result"
    }
   ],
   "source": [
    "original_video = next(filter(lambda video_path: video_path.endswith(\".mov\"), video_paths))\n",
    "original_video"
   ]
  },
  {
   "cell_type": "code",
   "execution_count": 31,
   "metadata": {
    "pycharm": {
     "name": "#%%\n"
    }
   },
   "outputs": [
    {
     "name": "stdout",
     "output_type": "stream",
     "text": [
      "ffprobe version 5.0.1 Copyright (c) 2007-2022 the FFmpeg developers\n",
      "  built with Apple clang version 13.1.6 (clang-1316.0.21.2.5)\n",
      "  configuration: --prefix=/usr/local/Cellar/ffmpeg/5.0.1_3 --enable-shared --enable-pthreads --enable-version3 --cc=clang --host-cflags= --host-ldflags= --enable-ffplay --enable-gnutls --enable-gpl --enable-libaom --enable-libbluray --enable-libdav1d --enable-libmp3lame --enable-libopus --enable-librav1e --enable-librist --enable-librubberband --enable-libsnappy --enable-libsrt --enable-libtesseract --enable-libtheora --enable-libvidstab --enable-libvmaf --enable-libvorbis --enable-libvpx --enable-libwebp --enable-libx264 --enable-libx265 --enable-libxml2 --enable-libxvid --enable-lzma --enable-libfontconfig --enable-libfreetype --enable-frei0r --enable-libass --enable-libopencore-amrnb --enable-libopencore-amrwb --enable-libopenjpeg --enable-libspeex --enable-libsoxr --enable-libzmq --enable-libzimg --disable-libjack --disable-indev=jack --enable-videotoolbox\n",
      "  libavutil      57. 17.100 / 57. 17.100\n",
      "  libavcodec     59. 18.100 / 59. 18.100\n",
      "  libavformat    59. 16.100 / 59. 16.100\n",
      "  libavdevice    59.  4.100 / 59.  4.100\n",
      "  libavfilter     8. 24.100 /  8. 24.100\n",
      "  libswscale      6.  4.100 /  6.  4.100\n",
      "  libswresample   4.  3.100 /  4.  3.100\n",
      "  libpostproc    56.  3.100 / 56.  3.100\n",
      "Input #0, mov,mp4,m4a,3gp,3g2,mj2, from '../SZTE/video/SZTEN101c.mov':\n",
      "  Metadata:\n",
      "    creation_time   : 2005-12-13T10:20:14.000000Z\n",
      "    premiere_version: Created with Adobe Premiere 6.0\n",
      "  Duration: 00:30:00.00, start: 0.000000, bitrate: 41741 kb/s\n",
      "  Stream #0:0[0x1](eng): Video: mjpeg (Baseline) (mjpa / 0x61706A6D), yuvj422p(pc, bt470bg/unknown/unknown, top first), 720x576 [SAR 72:72 DAR 5:4], 41731 kb/s, SAR 15:16 DAR 75:64, 25 fps, 25 tbr, 25 tbn (default)\n",
      "    Metadata:\n",
      "      creation_time   : 2005-12-13T10:20:14.000000Z\n",
      "      handler_name    : Apple Video Media Handler\n",
      "      vendor_id       : appl\n",
      "      encoder         : Motion JPEG A\n"
     ]
    }
   ],
   "source": [
    "!ffprobe $original_video"
   ]
  }
 ],
 "metadata": {
  "celltoolbar": "Tags",
  "kernelspec": {
   "display_name": "Python 3",
   "language": "python",
   "name": "python3"
  },
  "language_info": {
   "codemirror_mode": {
    "name": "ipython",
    "version": 3
   },
   "file_extension": ".py",
   "mimetype": "text/x-python",
   "name": "python",
   "nbconvert_exporter": "python",
   "pygments_lexer": "ipython3",
   "version": "3.10.5"
  },
  "vscode": {
   "interpreter": {
    "hash": "16d16579ac16af49d8151a36f2799f423cff0ad66d4c2584ff74047bfbf540a6"
   }
  }
 },
 "nbformat": 4,
 "nbformat_minor": 2
}
