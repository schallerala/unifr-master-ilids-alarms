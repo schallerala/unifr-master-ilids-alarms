{
 "cells": [
  {
   "cell_type": "code",
   "execution_count": 14,
   "outputs": [],
   "source": [
    "import subprocess\n",
    "import sys\n",
    "from functools import partial\n",
    "import logging\n",
    "from pathlib import Path\n",
    "from time import strftime, gmtime\n",
    "from typing import List\n",
    "\n",
    "import numpy as np\n",
    "import pandas as pd\n",
    "from tqdm import tqdm\n",
    "\n",
    "from ilids.utils.ffmpeg_tqdm import analyze_stream, ffmpeg_to_tqdm"
   ],
   "metadata": {
    "collapsed": false,
    "pycharm": {
     "name": "#%%\n"
    }
   }
  },
  {
   "cell_type": "code",
   "execution_count": 8,
   "outputs": [],
   "source": [
    "def get_ffmpeg_select_argument(frames_sequence: List[int], setpts_filter: float) -> str:\n",
    "    \"\"\"Produce a string to be used with the FFMPEG command and its \"select\" argument.\n",
    "\n",
    "    :param frames_sequence: linear or not list of frames to extract.\n",
    "                            Example: 0, 12, 24, 36, 48, 60, ...\n",
    "                            or:      6, 23, 27, 42, 50, 68, ...\n",
    "    :param setpts_filter: from FFMPEG manual page:\n",
    "                            \"setpts\" filter, which only sets timestamps and otherwise passes the frames unchanged\n",
    "                          It is expected to be smaller than 1 in can less frames are selected and it is wished to\n",
    "                          speed up the video.\n",
    "                          Usually, it is expected to get 1/FRAMES_SKIP\n",
    "                          Example: *0.25* (for a FRAMES_SKIP of 4)\n",
    "    :return: string to be used to run the FFMPEG command for the \"select\" argument like: ffmpeg -i SZTRA201a08_224.mp4 -vf select='eq(n\\,0)+eq(n\\,12)+eq(n\\,24)+eq(n\\,36)+eq(n\\,48)+eq(n\\,60), setpts=0.08333333333*PTS' -an SZTRA201a08_224_12_random.mp4\n",
    "    \"\"\"\n",
    "    # eq(n\\\\,0)+eq(n\\\\,12)+eq(n\\\\,24)+eq(n\\\\,36)+eq(n\\\\,48)\n",
    "    eq_chain = \"+\".join([f\"eq(n\\,{n})\" for n in frames_sequence])\n",
    "    setpts = f\"setpts={setpts_filter}*PTS\"\n",
    "    return f\"'{eq_chain}',{setpts}\"\n",
    "\n",
    "\n",
    "def trivial(interval: int, frames_count: int):\n",
    "    return list(range(0, frames_count, interval)) + (\n",
    "        [] if (frames_count - 1) % interval == 0 else [frames_count - 1]\n",
    "    )"
   ],
   "metadata": {
    "collapsed": false,
    "pycharm": {
     "name": "#%%\n"
    }
   }
  },
  {
   "cell_type": "code",
   "execution_count": 23,
   "metadata": {
    "pycharm": {
     "name": "#%%\n"
    }
   },
   "outputs": [],
   "source": [
    "# # Adapted from CLIP4Clip: https://github.com/ArrowLuo/CLIP4Clip/blob/master/preprocess/compress_video.py\n",
    "# # but don't change the frame rate as be which to have different frame selection strategies\n",
    "# # and use ffmpeg_to_tqdm helper\n",
    "# def scale_compress_video(input_video_path: Path, output_video_path: Path) -> int:\n",
    "#     logger = logging.getLogger(f\"ffmpeg-{str(output_video_path)}\")\n",
    "#     logger.debug(\"Using ffmpeg to scale and compress an original video.\")\n",
    "\n",
    "#     stream_info = analyze_stream(logger, str(input_video_path))\n",
    "\n",
    "#     command = [\n",
    "#         \"ffmpeg\",\n",
    "#         \"-y\",  # (optional) overwrite output file if it exists\n",
    "#         \"-i\",\n",
    "#         str(input_video_path),\n",
    "#         \"-filter:v\",\n",
    "#         \"scale='if(gt(a,1),trunc(oh*a/2)*2,224)':'if(gt(a,1),224,trunc(ow*a/2)*2)'\",  # scale to 224\n",
    "#         \"-map\",\n",
    "#         \"0:v\",\n",
    "#         \"-vcodec\",\n",
    "#         \"libx264\",  # additionally, change the codec for better\n",
    "#         # compression\n",
    "#         # display codecs with: `ffmpeg -codecs`\n",
    "#         #    '-r', '3',  # frames per second\n",
    "#         str(output_video_path),\n",
    "#     ]\n",
    "#     # to avoid carriage return ('\\r') in ffmpeg output, to mess with the reading of the\n",
    "#     # progress, use 'universal_newlines' argument\n",
    "#     # https://github.com/chriskiehl/Gooey/issues/495#issuecomment-614991802\n",
    "#     ffmpeg_process = subprocess.Popen(\n",
    "#         command,\n",
    "#         stdout=subprocess.PIPE,\n",
    "#         stderr=subprocess.STDOUT,\n",
    "#         universal_newlines=True,\n",
    "#     )\n",
    "\n",
    "#     return ffmpeg_to_tqdm(\n",
    "#         logger,\n",
    "#         ffmpeg_process,\n",
    "#         duration=stream_info.get(\"duration\"),\n",
    "#         tqdm_desc=\"FFMPEG scale down to 224 and encode libx264\",\n",
    "#     ).returncode\n",
    "\n",
    "# # Using Stackoverflow answer, we can select multiple frames with the '+' \"operation\" inside the select\n",
    "# def get_ffmpeg_select_argument(frames_sequence: List[int], setpts_filter: float) -> str:\n",
    "#     \"\"\"Produce a string to be used with the FFMPEG command and its \"select\" argument.\n",
    "\n",
    "#     :param frames_sequence: linear or not list of frames to extract.\n",
    "#                             Example: 0, 12, 24, 36, 48, 60, ...\n",
    "#                             or:      6, 23, 27, 42, 50, 68, ...\n",
    "#     :param setpts_filter: from FFMPEG manual page:\n",
    "#                             \"setpts\" filter, which only sets timestamps and otherwise passes the frames unchanged\n",
    "#                           It is expected to be smaller than 1 in can less frames are selected and it is wished to\n",
    "#                           speed up the video.\n",
    "#                           Usually, it is expected to get 1/FRAMES_SKIP\n",
    "#                           Example: *0.25* (for a FRAMES_SKIP of 4)\n",
    "#     :return: string to be used to run the FFMPEG command for the \"select\" argument like: ffmpeg -i SZTRA201a08_224.mp4 -vf select='eq(n\\,0)+eq(n\\,12)+eq(n\\,24)+eq(n\\,36)+eq(n\\,48)+eq(n\\,60), setpts=0.08333333333*PTS' -an SZTRA201a08_224_12_random.mp4\n",
    "#     \"\"\"\n",
    "#     # eq(n\\\\,0)+eq(n\\\\,12)+eq(n\\\\,24)+eq(n\\\\,36)+eq(n\\\\,48)\n",
    "#     eq_chain = \"+\".join([f\"eq(n\\,{n})\" for n in frames_sequence])\n",
    "#     setpts = f\"setpts={setpts_filter}*PTS\"\n",
    "#     return f\"'{eq_chain}',{setpts}\"\n",
    "#\n",
    "# def extract_frames_in_video(\n",
    "#     frames_sequence: List[int],\n",
    "#     setpts_filter: float,\n",
    "#     input_video_path: Path,\n",
    "#     output_video_path: Path,\n",
    "# ) -> int:\n",
    "#     logger = logging.getLogger(f\"ffmpeg-{str(output_video_path)}\")\n",
    "#     logger.setLevel(logging.INFO)\n",
    "#     logger.debug(\"Using ffmpeg to extract frames from a video.\")\n",
    "\n",
    "#     stream_info = analyze_stream(logger, str(input_video_path))\n",
    "\n",
    "#     command = [\n",
    "#         \"ffmpeg\",\n",
    "#         \"-y\",  # (optional) overwrite output file if it exists\n",
    "#         \"-i\",\n",
    "#         str(input_video_path),\n",
    "#         \"-vf\",\n",
    "#         f\"select={get_ffmpeg_select_argument(frames_sequence, setpts_filter)}\",\n",
    "#         \"-an\",  # _The presence of \"-an\" disables audio stream selection for_ its output\n",
    "#         str(output_video_path),\n",
    "#     ]\n",
    "\n",
    "#     # to avoid carriage return ('\\r') in ffmpeg output, to mess with the reading of the\n",
    "#     # progress, use 'universal_newlines' argument\n",
    "#     # https://github.com/chriskiehl/Gooey/issues/495#issuecomment-614991802\n",
    "#     ffmpeg_process = subprocess.Popen(\n",
    "#         command,\n",
    "#         stdout=subprocess.PIPE,\n",
    "#         stderr=subprocess.STDOUT,\n",
    "#         universal_newlines=True,\n",
    "#     )\n",
    "#     return ffmpeg_to_tqdm(\n",
    "#         logger,\n",
    "#         ffmpeg_process,\n",
    "#         duration=stream_info.get(\"duration\"),\n",
    "#         tqdm_desc=\"FFMPEG select subset of frames\",\n",
    "#     ).returncode\n",
    "\n",
    "\n",
    "# Adapted from CLIP4Clip: https://github.com/ArrowLuo/CLIP4Clip/blob/master/preprocess/compress_video.py\n",
    "# but don't change the frame rate as be which to have different frame selection strategies\n",
    "# use ffmpeg_to_tqdm helper\n",
    "# and directly extract a sequence of frames\n",
    "def scale_compress_select_sequence(\n",
    "    input_video_path: Path,\n",
    "    output_video_path: Path,\n",
    "    frames_sequence: List[int],\n",
    "    setpts_filter: float,\n",
    ") -> int:\n",
    "    logger = logging.getLogger(f\"ffmpeg-{str(output_video_path)}\")\n",
    "    logger.debug(\"Using ffmpeg to scale and compress and extract sub sequence\")\n",
    "\n",
    "    stream_info = analyze_stream(logger, str(input_video_path))\n",
    "\n",
    "    command = [\n",
    "        \"ffmpeg\",\n",
    "        \"-y\",  # (optional) overwrite output file if it exists\n",
    "        \"-i\",\n",
    "        str(input_video_path),\n",
    "        \"-vf\",\n",
    "        \"scale='if(gt(a,1),trunc(oh*a/2)*2,224)':'if(gt(a,1),224,trunc(ow*a/2)*2)'\",  # scale to 224\n",
    "        \"-vf\",\n",
    "        f\"select={get_ffmpeg_select_argument(frames_sequence, setpts_filter)}\",  # select specific frames\n",
    "        \"-map\",\n",
    "        \"0:v\",\n",
    "        \"-vcodec\",\n",
    "        \"libx264\",  # additionally, change the codec for better\n",
    "        \"-an\",  # Manual: The presence of \"-an\" disables audio stream selection for [its output]\n",
    "        str(output_video_path),\n",
    "    ]\n",
    "    # to avoid carriage return ('\\r') in ffmpeg output, to mess with the reading of the\n",
    "    # progress, use 'universal_newlines' argument\n",
    "    # https://github.com/chriskiehl/Gooey/issues/495#issuecomment-614991802\n",
    "    ffmpeg_process = subprocess.Popen(\n",
    "        command,\n",
    "        stdout=subprocess.PIPE,\n",
    "        stderr=subprocess.STDOUT,\n",
    "        universal_newlines=True,\n",
    "    )\n",
    "\n",
    "    ffmpeg_to_tqdm(\n",
    "        logger,\n",
    "        ffmpeg_process,\n",
    "        duration=stream_info.get(\"duration\"),\n",
    "        tqdm_desc=\"FFMPEG scale down to 224, select frames and encode libx264\",\n",
    "    )\n",
    "\n",
    "    ffmpeg_process.wait()\n",
    "\n",
    "    return ffmpeg_process.returncode\n"
   ]
  },
  {
   "cell_type": "code",
   "execution_count": 10,
   "metadata": {
    "pycharm": {
     "name": "#%%\n"
    }
   },
   "outputs": [
    {
     "data": {
      "text/plain": "                     filename Duration       StartTime         EndTime  \\\n0  SZTR/video/SZTRA103a17.mov     36.4 0 days 00:00:09 0 days 00:00:36   \n1  SZTR/video/SZTRA203a17.mov     36.4 0 days 00:00:10 0 days 00:00:36   \n2  SZTR/video/SZTRA202b13.mov     39.2 0 days 00:00:19 0 days 00:00:39   \n3  SZTR/video/SZTRA102b13.mov     39.2 0 days 00:00:20 0 days 00:00:39   \n4  SZTR/video/SZTRA203b17.mov    44.32 0 days 00:00:13 0 days 00:00:42   \n5  SZTR/video/SZTRA103b17.mov     49.6 0 days 00:00:12 0 days 00:00:44   \n6  SZTR/video/SZTRA103b17.mov     49.6 0 days 00:00:00 0 days 00:00:45   \n7  SZTR/video/SZTRA202a10.mov    82.72 0 days 00:00:06 0 days 00:01:21   \n8  SZTR/video/SZTRA202a10.mov    82.72 0 days 00:00:08 0 days 00:00:52   \n9  SZTR/video/SZTRA202a10.mov    82.72 0 days 00:00:00 0 days 00:01:17   \n\n  Distance SubjectApproachType SubjectDescription SubjectOrientation  \\\n0     10.0    Walk With Ladder         One person      Perpendicular   \n1     30.0    Walk With Ladder         One person      Perpendicular   \n2     10.0    Walk With Ladder         One person      Perpendicular   \n3     30.0    Walk With Ladder         One person      Perpendicular   \n4     30.0    Walk With Ladder         One person      Perpendicular   \n5     10.0    Walk With Ladder         One person      Perpendicular   \n6     None                None               None               None   \n7     None                None               None               None   \n8     30.0    Walk With Ladder         One person      Perpendicular   \n9     None                None               None               None   \n\n  Classification Stage  \n0             TP     1  \n1             TP     2  \n2             TP     2  \n3             TP     1  \n4             TP     2  \n5             TP     1  \n6             FP     1  \n7             FP     2  \n8             TP     2  \n9             FP     2  ",
      "text/html": "<div>\n<style scoped>\n    .dataframe tbody tr th:only-of-type {\n        vertical-align: middle;\n    }\n\n    .dataframe tbody tr th {\n        vertical-align: top;\n    }\n\n    .dataframe thead th {\n        text-align: right;\n    }\n</style>\n<table border=\"1\" class=\"dataframe\">\n  <thead>\n    <tr style=\"text-align: right;\">\n      <th></th>\n      <th>filename</th>\n      <th>Duration</th>\n      <th>StartTime</th>\n      <th>EndTime</th>\n      <th>Distance</th>\n      <th>SubjectApproachType</th>\n      <th>SubjectDescription</th>\n      <th>SubjectOrientation</th>\n      <th>Classification</th>\n      <th>Stage</th>\n    </tr>\n  </thead>\n  <tbody>\n    <tr>\n      <th>0</th>\n      <td>SZTR/video/SZTRA103a17.mov</td>\n      <td>36.4</td>\n      <td>0 days 00:00:09</td>\n      <td>0 days 00:00:36</td>\n      <td>10.0</td>\n      <td>Walk With Ladder</td>\n      <td>One person</td>\n      <td>Perpendicular</td>\n      <td>TP</td>\n      <td>1</td>\n    </tr>\n    <tr>\n      <th>1</th>\n      <td>SZTR/video/SZTRA203a17.mov</td>\n      <td>36.4</td>\n      <td>0 days 00:00:10</td>\n      <td>0 days 00:00:36</td>\n      <td>30.0</td>\n      <td>Walk With Ladder</td>\n      <td>One person</td>\n      <td>Perpendicular</td>\n      <td>TP</td>\n      <td>2</td>\n    </tr>\n    <tr>\n      <th>2</th>\n      <td>SZTR/video/SZTRA202b13.mov</td>\n      <td>39.2</td>\n      <td>0 days 00:00:19</td>\n      <td>0 days 00:00:39</td>\n      <td>10.0</td>\n      <td>Walk With Ladder</td>\n      <td>One person</td>\n      <td>Perpendicular</td>\n      <td>TP</td>\n      <td>2</td>\n    </tr>\n    <tr>\n      <th>3</th>\n      <td>SZTR/video/SZTRA102b13.mov</td>\n      <td>39.2</td>\n      <td>0 days 00:00:20</td>\n      <td>0 days 00:00:39</td>\n      <td>30.0</td>\n      <td>Walk With Ladder</td>\n      <td>One person</td>\n      <td>Perpendicular</td>\n      <td>TP</td>\n      <td>1</td>\n    </tr>\n    <tr>\n      <th>4</th>\n      <td>SZTR/video/SZTRA203b17.mov</td>\n      <td>44.32</td>\n      <td>0 days 00:00:13</td>\n      <td>0 days 00:00:42</td>\n      <td>30.0</td>\n      <td>Walk With Ladder</td>\n      <td>One person</td>\n      <td>Perpendicular</td>\n      <td>TP</td>\n      <td>2</td>\n    </tr>\n    <tr>\n      <th>5</th>\n      <td>SZTR/video/SZTRA103b17.mov</td>\n      <td>49.6</td>\n      <td>0 days 00:00:12</td>\n      <td>0 days 00:00:44</td>\n      <td>10.0</td>\n      <td>Walk With Ladder</td>\n      <td>One person</td>\n      <td>Perpendicular</td>\n      <td>TP</td>\n      <td>1</td>\n    </tr>\n    <tr>\n      <th>6</th>\n      <td>SZTR/video/SZTRA103b17.mov</td>\n      <td>49.6</td>\n      <td>0 days 00:00:00</td>\n      <td>0 days 00:00:45</td>\n      <td>None</td>\n      <td>None</td>\n      <td>None</td>\n      <td>None</td>\n      <td>FP</td>\n      <td>1</td>\n    </tr>\n    <tr>\n      <th>7</th>\n      <td>SZTR/video/SZTRA202a10.mov</td>\n      <td>82.72</td>\n      <td>0 days 00:00:06</td>\n      <td>0 days 00:01:21</td>\n      <td>None</td>\n      <td>None</td>\n      <td>None</td>\n      <td>None</td>\n      <td>FP</td>\n      <td>2</td>\n    </tr>\n    <tr>\n      <th>8</th>\n      <td>SZTR/video/SZTRA202a10.mov</td>\n      <td>82.72</td>\n      <td>0 days 00:00:08</td>\n      <td>0 days 00:00:52</td>\n      <td>30.0</td>\n      <td>Walk With Ladder</td>\n      <td>One person</td>\n      <td>Perpendicular</td>\n      <td>TP</td>\n      <td>2</td>\n    </tr>\n    <tr>\n      <th>9</th>\n      <td>SZTR/video/SZTRA202a10.mov</td>\n      <td>82.72</td>\n      <td>0 days 00:00:00</td>\n      <td>0 days 00:01:17</td>\n      <td>None</td>\n      <td>None</td>\n      <td>None</td>\n      <td>None</td>\n      <td>FP</td>\n      <td>2</td>\n    </tr>\n  </tbody>\n</table>\n</div>"
     },
     "execution_count": 10,
     "metadata": {},
     "output_type": "execute_result"
    }
   ],
   "source": [
    "short_df[\"StartFrame\"] = short_df[\"StartTime\"].dt.seconds * 25\n",
    "short_df[\"EndFrame\"] = short_df[\"EndTime\"].dt.seconds * 25\n",
    "short_df[\"DurationFrame\"] = short_df[\"EndFrame\"] - short_df[\"StartFrame\"]\n",
    "short_df"
   ]
  },
  {
   "cell_type": "code",
   "execution_count": 11,
   "metadata": {
    "pycharm": {
     "name": "#%%\n"
    }
   },
   "outputs": [
    {
     "data": {
      "text/plain": "                     filename Duration       StartTime         EndTime  \\\n0  SZTR/video/SZTRA103a17.mov     36.4 0 days 00:00:09 0 days 00:00:36   \n1  SZTR/video/SZTRA203a17.mov     36.4 0 days 00:00:10 0 days 00:00:36   \n2  SZTR/video/SZTRA202b13.mov     39.2 0 days 00:00:19 0 days 00:00:39   \n3  SZTR/video/SZTRA102b13.mov     39.2 0 days 00:00:20 0 days 00:00:39   \n4  SZTR/video/SZTRA203b17.mov    44.32 0 days 00:00:13 0 days 00:00:42   \n5  SZTR/video/SZTRA103b17.mov     49.6 0 days 00:00:12 0 days 00:00:44   \n6  SZTR/video/SZTRA103b17.mov     49.6 0 days 00:00:00 0 days 00:00:45   \n7  SZTR/video/SZTRA202a10.mov    82.72 0 days 00:00:06 0 days 00:01:21   \n8  SZTR/video/SZTRA202a10.mov    82.72 0 days 00:00:08 0 days 00:00:52   \n9  SZTR/video/SZTRA202a10.mov    82.72 0 days 00:00:00 0 days 00:01:17   \n\n  Distance SubjectApproachType SubjectDescription SubjectOrientation  \\\n0     10.0    Walk With Ladder         One person      Perpendicular   \n1     30.0    Walk With Ladder         One person      Perpendicular   \n2     10.0    Walk With Ladder         One person      Perpendicular   \n3     30.0    Walk With Ladder         One person      Perpendicular   \n4     30.0    Walk With Ladder         One person      Perpendicular   \n5     10.0    Walk With Ladder         One person      Perpendicular   \n6     None                None               None               None   \n7     None                None               None               None   \n8     30.0    Walk With Ladder         One person      Perpendicular   \n9     None                None               None               None   \n\n  Classification Stage  StartFrame  EndFrame  DurationFrame  \n0             TP     1         225       900            675  \n1             TP     2         250       900            650  \n2             TP     2         475       975            500  \n3             TP     1         500       975            475  \n4             TP     2         325      1050            725  \n5             TP     1         300      1100            800  \n6             FP     1           0      1125           1125  \n7             FP     2         150      2025           1875  \n8             TP     2         200      1300           1100  \n9             FP     2           0      1925           1925  ",
      "text/html": "<div>\n<style scoped>\n    .dataframe tbody tr th:only-of-type {\n        vertical-align: middle;\n    }\n\n    .dataframe tbody tr th {\n        vertical-align: top;\n    }\n\n    .dataframe thead th {\n        text-align: right;\n    }\n</style>\n<table border=\"1\" class=\"dataframe\">\n  <thead>\n    <tr style=\"text-align: right;\">\n      <th></th>\n      <th>filename</th>\n      <th>Duration</th>\n      <th>StartTime</th>\n      <th>EndTime</th>\n      <th>Distance</th>\n      <th>SubjectApproachType</th>\n      <th>SubjectDescription</th>\n      <th>SubjectOrientation</th>\n      <th>Classification</th>\n      <th>Stage</th>\n      <th>StartFrame</th>\n      <th>EndFrame</th>\n      <th>DurationFrame</th>\n    </tr>\n  </thead>\n  <tbody>\n    <tr>\n      <th>0</th>\n      <td>SZTR/video/SZTRA103a17.mov</td>\n      <td>36.4</td>\n      <td>0 days 00:00:09</td>\n      <td>0 days 00:00:36</td>\n      <td>10.0</td>\n      <td>Walk With Ladder</td>\n      <td>One person</td>\n      <td>Perpendicular</td>\n      <td>TP</td>\n      <td>1</td>\n      <td>225</td>\n      <td>900</td>\n      <td>675</td>\n    </tr>\n    <tr>\n      <th>1</th>\n      <td>SZTR/video/SZTRA203a17.mov</td>\n      <td>36.4</td>\n      <td>0 days 00:00:10</td>\n      <td>0 days 00:00:36</td>\n      <td>30.0</td>\n      <td>Walk With Ladder</td>\n      <td>One person</td>\n      <td>Perpendicular</td>\n      <td>TP</td>\n      <td>2</td>\n      <td>250</td>\n      <td>900</td>\n      <td>650</td>\n    </tr>\n    <tr>\n      <th>2</th>\n      <td>SZTR/video/SZTRA202b13.mov</td>\n      <td>39.2</td>\n      <td>0 days 00:00:19</td>\n      <td>0 days 00:00:39</td>\n      <td>10.0</td>\n      <td>Walk With Ladder</td>\n      <td>One person</td>\n      <td>Perpendicular</td>\n      <td>TP</td>\n      <td>2</td>\n      <td>475</td>\n      <td>975</td>\n      <td>500</td>\n    </tr>\n    <tr>\n      <th>3</th>\n      <td>SZTR/video/SZTRA102b13.mov</td>\n      <td>39.2</td>\n      <td>0 days 00:00:20</td>\n      <td>0 days 00:00:39</td>\n      <td>30.0</td>\n      <td>Walk With Ladder</td>\n      <td>One person</td>\n      <td>Perpendicular</td>\n      <td>TP</td>\n      <td>1</td>\n      <td>500</td>\n      <td>975</td>\n      <td>475</td>\n    </tr>\n    <tr>\n      <th>4</th>\n      <td>SZTR/video/SZTRA203b17.mov</td>\n      <td>44.32</td>\n      <td>0 days 00:00:13</td>\n      <td>0 days 00:00:42</td>\n      <td>30.0</td>\n      <td>Walk With Ladder</td>\n      <td>One person</td>\n      <td>Perpendicular</td>\n      <td>TP</td>\n      <td>2</td>\n      <td>325</td>\n      <td>1050</td>\n      <td>725</td>\n    </tr>\n    <tr>\n      <th>5</th>\n      <td>SZTR/video/SZTRA103b17.mov</td>\n      <td>49.6</td>\n      <td>0 days 00:00:12</td>\n      <td>0 days 00:00:44</td>\n      <td>10.0</td>\n      <td>Walk With Ladder</td>\n      <td>One person</td>\n      <td>Perpendicular</td>\n      <td>TP</td>\n      <td>1</td>\n      <td>300</td>\n      <td>1100</td>\n      <td>800</td>\n    </tr>\n    <tr>\n      <th>6</th>\n      <td>SZTR/video/SZTRA103b17.mov</td>\n      <td>49.6</td>\n      <td>0 days 00:00:00</td>\n      <td>0 days 00:00:45</td>\n      <td>None</td>\n      <td>None</td>\n      <td>None</td>\n      <td>None</td>\n      <td>FP</td>\n      <td>1</td>\n      <td>0</td>\n      <td>1125</td>\n      <td>1125</td>\n    </tr>\n    <tr>\n      <th>7</th>\n      <td>SZTR/video/SZTRA202a10.mov</td>\n      <td>82.72</td>\n      <td>0 days 00:00:06</td>\n      <td>0 days 00:01:21</td>\n      <td>None</td>\n      <td>None</td>\n      <td>None</td>\n      <td>None</td>\n      <td>FP</td>\n      <td>2</td>\n      <td>150</td>\n      <td>2025</td>\n      <td>1875</td>\n    </tr>\n    <tr>\n      <th>8</th>\n      <td>SZTR/video/SZTRA202a10.mov</td>\n      <td>82.72</td>\n      <td>0 days 00:00:08</td>\n      <td>0 days 00:00:52</td>\n      <td>30.0</td>\n      <td>Walk With Ladder</td>\n      <td>One person</td>\n      <td>Perpendicular</td>\n      <td>TP</td>\n      <td>2</td>\n      <td>200</td>\n      <td>1300</td>\n      <td>1100</td>\n    </tr>\n    <tr>\n      <th>9</th>\n      <td>SZTR/video/SZTRA202a10.mov</td>\n      <td>82.72</td>\n      <td>0 days 00:00:00</td>\n      <td>0 days 00:01:17</td>\n      <td>None</td>\n      <td>None</td>\n      <td>None</td>\n      <td>None</td>\n      <td>FP</td>\n      <td>2</td>\n      <td>0</td>\n      <td>1925</td>\n      <td>1925</td>\n    </tr>\n  </tbody>\n</table>\n</div>"
     },
     "execution_count": 11,
     "metadata": {},
     "output_type": "execute_result"
    }
   ],
   "source": [
    "short_df[\"OutFilename\"] = short_df[\"filename\"].apply(lambda f: str(Path(f).parent / Path(f).stem).replace(\"/\", \"_\")) + \"_\" + short_df[\"StartTime\"].dt.seconds.apply(lambda secs: strftime(\"%H_%M_%S\", gmtime(secs))) + \"_\" + short_df[\"Classification\"] + \".mp4\"\n",
    "short_df[\"OutFilename\"].head()"
   ]
  },
  {
   "cell_type": "code",
   "execution_count": 12,
   "metadata": {
    "pycharm": {
     "name": "#%%\n"
    }
   },
   "outputs": [
    {
     "data": {
      "text/plain": "0    SZTR_video_SZTRA103a17_00_00_09_TP.mp4\n1    SZTR_video_SZTRA203a17_00_00_10_TP.mp4\n2    SZTR_video_SZTRA202b13_00_00_19_TP.mp4\n3    SZTR_video_SZTRA102b13_00_00_20_TP.mp4\n4    SZTR_video_SZTRA203b17_00_00_13_TP.mp4\nName: OutFilename, dtype: object"
     },
     "execution_count": 12,
     "metadata": {},
     "output_type": "execute_result"
    }
   ],
   "source": [
    "trivial_twelve = partial(trivial, 12)\n",
    "\n",
    "for _, row in tqdm(short_df.iterrows(), desc=\"Extract sequences\"):\n",
    "    print(Path(\"..\") / row[\"filename\"], Path(\"..\") / \"data\" / \"sequences\" / row[\"OutFilename\"], (row[\"StartFrame\"] + np.array(trivial_twelve(row[\"DurationFrame\"]))).tolist(), 1 / 12)\n",
    "    scale_compress_select_sequence(Path(\"..\") / row[\"filename\"], Path(\"..\") / \"data\" / \"sequences\" / row[\"OutFilename\"], (row[\"StartFrame\"] + np.array(trivial_twelve(row[\"DurationFrame\"]))).tolist(), 1 / 12)\n"
   ]
  },
  {
   "cell_type": "code",
   "execution_count": 24,
   "outputs": [
    {
     "name": "stderr",
     "output_type": "stream",
     "text": [
      "Extract sequences: 0it [00:00, ?it/s]"
     ]
    },
    {
     "name": "stdout",
     "output_type": "stream",
     "text": [
      "../SZTR/video/SZTRA103a17.mov ../data/sequences/SZTR_video_SZTRA103a17_00_00_09_TP.mp4 [225, 237, 249, 261, 273, 285, 297, 309, 321, 333, 345, 357, 369, 381, 393, 405, 417, 429, 441, 453, 465, 477, 489, 501, 513, 525, 537, 549, 561, 573, 585, 597, 609, 621, 633, 645, 657, 669, 681, 693, 705, 717, 729, 741, 753, 765, 777, 789, 801, 813, 825, 837, 849, 861, 873, 885, 897, 899] 0.08333333333333333\n"
     ]
    },
    {
     "name": "stderr",
     "output_type": "stream",
     "text": [
      "\n",
      "\n",
      "\n",
      "FFMPEG scale down to 224, select frames and encode libx264:   0%|          | 0/36.0 [00:00<?, ?segment/s]\u001B[A\u001B[A\u001B[A\n",
      "\n",
      "\n",
      "FFMPEG scale down to 224, select frames and encode libx264:   0%|          | 0.0/36.0 [00:01<?, ?segment/s]\u001B[A\u001B[A\u001B[A\n",
      "\n",
      "\n",
      "FFMPEG scale down to 224, select frames and encode libx264:   0%|          | 0.0/36.0 [00:01<?, ?segment/s]\u001B[A\u001B[A\u001B[A\n",
      "\n",
      "\n",
      "FFMPEG scale down to 224, select frames and encode libx264:   0%|          | 0.0/36.0 [00:02<?, ?segment/s]\u001B[A\u001B[A\u001B[A\n",
      "\n",
      "\n",
      "FFMPEG scale down to 224, select frames and encode libx264: 38.0segment [00:02, 15.10segment/s]            \u001B[A\u001B[A\u001B[A\n",
      "Extract sequences: 1it [00:25, 25.02s/it]"
     ]
    },
    {
     "name": "stdout",
     "output_type": "stream",
     "text": [
      "../SZTR/video/SZTRA203a17.mov ../data/sequences/SZTR_video_SZTRA203a17_00_00_10_TP.mp4 [250, 262, 274, 286, 298, 310, 322, 334, 346, 358, 370, 382, 394, 406, 418, 430, 442, 454, 466, 478, 490, 502, 514, 526, 538, 550, 562, 574, 586, 598, 610, 622, 634, 646, 658, 670, 682, 694, 706, 718, 730, 742, 754, 766, 778, 790, 802, 814, 826, 838, 850, 862, 874, 886, 898, 899] 0.08333333333333333\n"
     ]
    },
    {
     "name": "stderr",
     "output_type": "stream",
     "text": [
      "\n",
      "\n",
      "\n",
      "FFMPEG scale down to 224, select frames and encode libx264:   0%|          | 0/36.0 [00:00<?, ?segment/s]\u001B[A\u001B[A\u001B[A\n",
      "\n",
      "\n",
      "FFMPEG scale down to 224, select frames and encode libx264:   0%|          | 0.0/36.0 [00:01<?, ?segment/s]\u001B[A\u001B[A\u001B[A\n",
      "\n",
      "\n",
      "FFMPEG scale down to 224, select frames and encode libx264:   0%|          | 0.0/36.0 [00:01<?, ?segment/s]\u001B[A\u001B[A\u001B[A\n",
      "\n",
      "\n",
      "FFMPEG scale down to 224, select frames and encode libx264: 38.0segment [00:02, 18.12segment/s]            \u001B[A\u001B[A\u001B[A\n",
      "Extract sequences: 2it [00:32, 14.41s/it]"
     ]
    },
    {
     "name": "stdout",
     "output_type": "stream",
     "text": [
      "../SZTR/video/SZTRA202b13.mov ../data/sequences/SZTR_video_SZTRA202b13_00_00_19_TP.mp4 [475, 487, 499, 511, 523, 535, 547, 559, 571, 583, 595, 607, 619, 631, 643, 655, 667, 679, 691, 703, 715, 727, 739, 751, 763, 775, 787, 799, 811, 823, 835, 847, 859, 871, 883, 895, 907, 919, 931, 943, 955, 967, 974] 0.08333333333333333\n"
     ]
    },
    {
     "name": "stderr",
     "output_type": "stream",
     "text": [
      "\n",
      "\n",
      "\n",
      "FFMPEG scale down to 224, select frames and encode libx264:   0%|          | 0/39.0 [00:00<?, ?segment/s]\u001B[A\u001B[A\u001B[A\n",
      "\n",
      "\n",
      "FFMPEG scale down to 224, select frames and encode libx264:   0%|          | 0.0/39.0 [00:01<?, ?segment/s]\u001B[A\u001B[A\u001B[A\n",
      "\n",
      "\n",
      "FFMPEG scale down to 224, select frames and encode libx264:   0%|          | 0.0/39.0 [00:02<?, ?segment/s]\u001B[A\u001B[A\u001B[A\n",
      "\n",
      "\n",
      "FFMPEG scale down to 224, select frames and encode libx264: 42.0segment [00:02, 17.56segment/s]            \u001B[A\u001B[A\u001B[A\n",
      "Extract sequences: 3it [00:39, 11.40s/it]"
     ]
    },
    {
     "name": "stdout",
     "output_type": "stream",
     "text": [
      "../SZTR/video/SZTRA102b13.mov ../data/sequences/SZTR_video_SZTRA102b13_00_00_20_TP.mp4 [500, 512, 524, 536, 548, 560, 572, 584, 596, 608, 620, 632, 644, 656, 668, 680, 692, 704, 716, 728, 740, 752, 764, 776, 788, 800, 812, 824, 836, 848, 860, 872, 884, 896, 908, 920, 932, 944, 956, 968, 974] 0.08333333333333333\n"
     ]
    },
    {
     "name": "stderr",
     "output_type": "stream",
     "text": [
      "\n",
      "\n",
      "\n",
      "FFMPEG scale down to 224, select frames and encode libx264:   0%|          | 0/39.0 [00:00<?, ?segment/s]\u001B[A\u001B[A\u001B[A\n",
      "\n",
      "\n",
      "FFMPEG scale down to 224, select frames and encode libx264:   0%|          | 0.0/39.0 [00:01<?, ?segment/s]\u001B[A\u001B[A\u001B[A\n",
      "\n",
      "\n",
      "FFMPEG scale down to 224, select frames and encode libx264:   0%|          | 0.0/39.0 [00:02<?, ?segment/s]\u001B[A\u001B[A\u001B[A\n",
      "\n",
      "\n",
      "FFMPEG scale down to 224, select frames and encode libx264: 42.0segment [00:03, 13.89segment/s]            \u001B[A\u001B[A\u001B[A\n",
      "Extract sequences: 4it [00:42,  8.14s/it]"
     ]
    },
    {
     "name": "stdout",
     "output_type": "stream",
     "text": [
      "../SZTR/video/SZTRA203b17.mov ../data/sequences/SZTR_video_SZTRA203b17_00_00_13_TP.mp4 [325, 337, 349, 361, 373, 385, 397, 409, 421, 433, 445, 457, 469, 481, 493, 505, 517, 529, 541, 553, 565, 577, 589, 601, 613, 625, 637, 649, 661, 673, 685, 697, 709, 721, 733, 745, 757, 769, 781, 793, 805, 817, 829, 841, 853, 865, 877, 889, 901, 913, 925, 937, 949, 961, 973, 985, 997, 1009, 1021, 1033, 1045, 1049] 0.08333333333333333\n"
     ]
    },
    {
     "name": "stderr",
     "output_type": "stream",
     "text": [
      "\n",
      "\n",
      "\n",
      "FFMPEG scale down to 224, select frames and encode libx264:   0%|          | 0/44.0 [00:00<?, ?segment/s]\u001B[A\u001B[A\u001B[A\n",
      "\n",
      "\n",
      "FFMPEG scale down to 224, select frames and encode libx264:   0%|          | 0.0/44.0 [00:01<?, ?segment/s]\u001B[A\u001B[A\u001B[A\n",
      "\n",
      "\n",
      "FFMPEG scale down to 224, select frames and encode libx264:   0%|          | 0.0/44.0 [00:01<?, ?segment/s]\u001B[A\u001B[A\u001B[A\n",
      "\n",
      "\n",
      "FFMPEG scale down to 224, select frames and encode libx264:   0%|          | 0.0/44.0 [00:02<?, ?segment/s]\u001B[A\u001B[A\u001B[A\n",
      "\n",
      "\n",
      "FFMPEG scale down to 224, select frames and encode libx264:   0%|          | 0.0/44.0 [00:02<?, ?segment/s]\u001B[A\u001B[A\u001B[A\n",
      "\n",
      "\n",
      "FFMPEG scale down to 224, select frames and encode libx264: 47.0segment [00:03, 15.27segment/s]            \u001B[A\u001B[A\u001B[A\n",
      "Extract sequences: 5it [00:46,  6.36s/it]"
     ]
    },
    {
     "name": "stdout",
     "output_type": "stream",
     "text": [
      "../SZTR/video/SZTRA103b17.mov ../data/sequences/SZTR_video_SZTRA103b17_00_00_12_TP.mp4 [300, 312, 324, 336, 348, 360, 372, 384, 396, 408, 420, 432, 444, 456, 468, 480, 492, 504, 516, 528, 540, 552, 564, 576, 588, 600, 612, 624, 636, 648, 660, 672, 684, 696, 708, 720, 732, 744, 756, 768, 780, 792, 804, 816, 828, 840, 852, 864, 876, 888, 900, 912, 924, 936, 948, 960, 972, 984, 996, 1008, 1020, 1032, 1044, 1056, 1068, 1080, 1092, 1099] 0.08333333333333333\n"
     ]
    },
    {
     "name": "stderr",
     "output_type": "stream",
     "text": [
      "\n",
      "\n",
      "\n",
      "FFMPEG scale down to 224, select frames and encode libx264:   0%|          | 0/49.0 [00:00<?, ?segment/s]\u001B[A\u001B[A\u001B[A\n",
      "\n",
      "\n",
      "FFMPEG scale down to 224, select frames and encode libx264:   0%|          | 0.0/49.0 [00:01<?, ?segment/s]\u001B[A\u001B[A\u001B[A\n",
      "\n",
      "\n",
      "FFMPEG scale down to 224, select frames and encode libx264:   0%|          | 0.0/49.0 [00:01<?, ?segment/s]\u001B[A\u001B[A\u001B[A\n",
      "\n",
      "\n",
      "FFMPEG scale down to 224, select frames and encode libx264:   0%|          | 0.0/49.0 [00:02<?, ?segment/s]\u001B[A\u001B[A\u001B[A\n",
      "\n",
      "\n",
      "FFMPEG scale down to 224, select frames and encode libx264:   0%|          | 0.0/49.0 [00:02<?, ?segment/s]\u001B[A\u001B[A\u001B[A\n",
      "\n",
      "\n",
      "FFMPEG scale down to 224, select frames and encode libx264:   0%|          | 0.0/49.0 [00:03<?, ?segment/s]\u001B[A\u001B[A\u001B[A\n",
      "\n",
      "\n",
      "FFMPEG scale down to 224, select frames and encode libx264: 52.0segment [00:04, 12.52segment/s]            \u001B[A\u001B[A\u001B[A\n",
      "Extract sequences: 6it [00:50,  5.66s/it]"
     ]
    },
    {
     "name": "stdout",
     "output_type": "stream",
     "text": [
      "../SZTR/video/SZTRA103b17.mov ../data/sequences/SZTR_video_SZTRA103b17_00_00_00_FP.mp4 [0, 12, 24, 36, 48, 60, 72, 84, 96, 108, 120, 132, 144, 156, 168, 180, 192, 204, 216, 228, 240, 252, 264, 276, 288, 300, 312, 324, 336, 348, 360, 372, 384, 396, 408, 420, 432, 444, 456, 468, 480, 492, 504, 516, 528, 540, 552, 564, 576, 588, 600, 612, 624, 636, 648, 660, 672, 684, 696, 708, 720, 732, 744, 756, 768, 780, 792, 804, 816, 828, 840, 852, 864, 876, 888, 900, 912, 924, 936, 948, 960, 972, 984, 996, 1008, 1020, 1032, 1044, 1056, 1068, 1080, 1092, 1104, 1116, 1124] 0.08333333333333333\n"
     ]
    },
    {
     "name": "stderr",
     "output_type": "stream",
     "text": [
      "\n",
      "\n",
      "\n",
      "FFMPEG scale down to 224, select frames and encode libx264:   0%|          | 0/49.0 [00:00<?, ?segment/s]\u001B[A\u001B[A\u001B[A\n",
      "\n",
      "\n",
      "FFMPEG scale down to 224, select frames and encode libx264:   0%|          | 0.0/49.0 [00:00<?, ?segment/s]\u001B[A\u001B[A\u001B[A\n",
      "\n",
      "\n",
      "FFMPEG scale down to 224, select frames and encode libx264:   0%|          | 0.0/49.0 [00:01<?, ?segment/s]\u001B[A\u001B[A\u001B[A\n",
      "\n",
      "\n",
      "FFMPEG scale down to 224, select frames and encode libx264:   0%|          | 0.0/49.0 [00:01<?, ?segment/s]\u001B[A\u001B[A\u001B[A\n",
      "\n",
      "\n",
      "FFMPEG scale down to 224, select frames and encode libx264:   0%|          | 0.0/49.0 [00:02<?, ?segment/s]\u001B[A\u001B[A\u001B[A\n",
      "\n",
      "\n",
      "FFMPEG scale down to 224, select frames and encode libx264:   0%|          | 0.0/49.0 [00:02<?, ?segment/s]\u001B[A\u001B[A\u001B[A\n",
      "\n",
      "\n",
      "FFMPEG scale down to 224, select frames and encode libx264:   0%|          | 0.0/49.0 [00:03<?, ?segment/s]\u001B[A\u001B[A\u001B[A\n",
      "\n",
      "\n",
      "FFMPEG scale down to 224, select frames and encode libx264:   0%|          | 0.0/49.0 [00:03<?, ?segment/s]\u001B[A\u001B[A\u001B[A\n",
      "\n",
      "\n",
      "FFMPEG scale down to 224, select frames and encode libx264: 52.0segment [00:03, 13.45segment/s]                    \u001B[A\u001B[A\u001B[A\n",
      "Extract sequences: 7it [00:54,  5.11s/it]"
     ]
    },
    {
     "name": "stdout",
     "output_type": "stream",
     "text": [
      "../SZTR/video/SZTRA202a10.mov ../data/sequences/SZTR_video_SZTRA202a10_00_00_06_FP.mp4 [150, 162, 174, 186, 198, 210, 222, 234, 246, 258, 270, 282, 294, 306, 318, 330, 342, 354, 366, 378, 390, 402, 414, 426, 438, 450, 462, 474, 486, 498, 510, 522, 534, 546, 558, 570, 582, 594, 606, 618, 630, 642, 654, 666, 678, 690, 702, 714, 726, 738, 750, 762, 774, 786, 798, 810, 822, 834, 846, 858, 870, 882, 894, 906, 918, 930, 942, 954, 966, 978, 990, 1002, 1014, 1026, 1038, 1050, 1062, 1074, 1086, 1098, 1110, 1122, 1134, 1146, 1158, 1170, 1182, 1194, 1206, 1218, 1230, 1242, 1254, 1266, 1278, 1290, 1302, 1314, 1326, 1338, 1350, 1362, 1374, 1386, 1398, 1410, 1422, 1434, 1446, 1458, 1470, 1482, 1494, 1506, 1518, 1530, 1542, 1554, 1566, 1578, 1590, 1602, 1614, 1626, 1638, 1650, 1662, 1674, 1686, 1698, 1710, 1722, 1734, 1746, 1758, 1770, 1782, 1794, 1806, 1818, 1830, 1842, 1854, 1866, 1878, 1890, 1902, 1914, 1926, 1938, 1950, 1962, 1974, 1986, 1998, 2010, 2022, 2024] 0.08333333333333333\n"
     ]
    },
    {
     "name": "stderr",
     "output_type": "stream",
     "text": [
      "\n",
      "\n",
      "\n",
      "FFMPEG scale down to 224, select frames and encode libx264:   0%|          | 0/82.0 [00:00<?, ?segment/s]\u001B[A\u001B[A\u001B[A\n",
      "\n",
      "\n",
      "FFMPEG scale down to 224, select frames and encode libx264:   0%|          | 0.0/82.0 [00:00<?, ?segment/s]\u001B[A\u001B[A\u001B[A\n",
      "\n",
      "\n",
      "FFMPEG scale down to 224, select frames and encode libx264:   0%|          | 0.0/82.0 [00:01<?, ?segment/s]\u001B[A\u001B[A\u001B[A\n",
      "\n",
      "\n",
      "FFMPEG scale down to 224, select frames and encode libx264:   0%|          | 0.0/82.0 [00:01<?, ?segment/s]\u001B[A\u001B[A\u001B[A\n",
      "\n",
      "\n",
      "FFMPEG scale down to 224, select frames and encode libx264:   0%|          | 0.0/82.0 [00:02<?, ?segment/s]\u001B[A\u001B[A\u001B[A\n",
      "\n",
      "\n",
      "FFMPEG scale down to 224, select frames and encode libx264:   0%|          | 0.0/82.0 [00:02<?, ?segment/s]\u001B[A\u001B[A\u001B[A\n",
      "\n",
      "\n",
      "FFMPEG scale down to 224, select frames and encode libx264:   1%|          | 1.0/82.0 [00:03<00:40,  2.00segment/s]\u001B[A\u001B[A\u001B[A\n",
      "\n",
      "\n",
      "FFMPEG scale down to 224, select frames and encode libx264:   2%|▏         | 2.0/82.0 [00:03<00:40,  1.99segment/s]\u001B[A\u001B[A\u001B[A\n",
      "\n",
      "\n",
      "FFMPEG scale down to 224, select frames and encode libx264:   4%|▎         | 3.0/82.0 [00:04<00:57,  1.37segment/s]\u001B[A\u001B[A\u001B[A\n",
      "\n",
      "\n",
      "FFMPEG scale down to 224, select frames and encode libx264: 88.0segment [00:05, 16.94segment/s]                    \u001B[A\u001B[A\u001B[A\n",
      "Extract sequences: 8it [00:59,  5.18s/it]"
     ]
    },
    {
     "name": "stdout",
     "output_type": "stream",
     "text": [
      "../SZTR/video/SZTRA202a10.mov ../data/sequences/SZTR_video_SZTRA202a10_00_00_08_TP.mp4 [200, 212, 224, 236, 248, 260, 272, 284, 296, 308, 320, 332, 344, 356, 368, 380, 392, 404, 416, 428, 440, 452, 464, 476, 488, 500, 512, 524, 536, 548, 560, 572, 584, 596, 608, 620, 632, 644, 656, 668, 680, 692, 704, 716, 728, 740, 752, 764, 776, 788, 800, 812, 824, 836, 848, 860, 872, 884, 896, 908, 920, 932, 944, 956, 968, 980, 992, 1004, 1016, 1028, 1040, 1052, 1064, 1076, 1088, 1100, 1112, 1124, 1136, 1148, 1160, 1172, 1184, 1196, 1208, 1220, 1232, 1244, 1256, 1268, 1280, 1292, 1299] 0.08333333333333333\n"
     ]
    },
    {
     "name": "stderr",
     "output_type": "stream",
     "text": [
      "\n",
      "\n",
      "\n",
      "FFMPEG scale down to 224, select frames and encode libx264:   0%|          | 0/82.0 [00:00<?, ?segment/s]\u001B[A\u001B[A\u001B[A\n",
      "\n",
      "\n",
      "FFMPEG scale down to 224, select frames and encode libx264:   0%|          | 0.0/82.0 [00:01<?, ?segment/s]\u001B[A\u001B[A\u001B[A\n",
      "\n",
      "\n",
      "FFMPEG scale down to 224, select frames and encode libx264:   0%|          | 0.0/82.0 [00:01<?, ?segment/s]\u001B[A\u001B[A\u001B[A\n",
      "\n",
      "\n",
      "FFMPEG scale down to 224, select frames and encode libx264:   0%|          | 0.0/82.0 [00:02<?, ?segment/s]\u001B[A\u001B[A\u001B[A\n",
      "\n",
      "\n",
      "FFMPEG scale down to 224, select frames and encode libx264:   0%|          | 0.0/82.0 [00:02<?, ?segment/s]\u001B[A\u001B[A\u001B[A\n",
      "\n",
      "\n",
      "FFMPEG scale down to 224, select frames and encode libx264:   1%|          | 1.0/82.0 [00:03<00:40,  2.00segment/s]\u001B[A\u001B[A\u001B[A\n",
      "\n",
      "\n",
      "FFMPEG scale down to 224, select frames and encode libx264: 86.0segment [00:05, 16.73segment/s]                    \u001B[A\u001B[A\u001B[A\n",
      "Extract sequences: 9it [01:05,  5.21s/it]"
     ]
    },
    {
     "name": "stdout",
     "output_type": "stream",
     "text": [
      "../SZTR/video/SZTRA202a10.mov ../data/sequences/SZTR_video_SZTRA202a10_00_00_00_FP.mp4 [0, 12, 24, 36, 48, 60, 72, 84, 96, 108, 120, 132, 144, 156, 168, 180, 192, 204, 216, 228, 240, 252, 264, 276, 288, 300, 312, 324, 336, 348, 360, 372, 384, 396, 408, 420, 432, 444, 456, 468, 480, 492, 504, 516, 528, 540, 552, 564, 576, 588, 600, 612, 624, 636, 648, 660, 672, 684, 696, 708, 720, 732, 744, 756, 768, 780, 792, 804, 816, 828, 840, 852, 864, 876, 888, 900, 912, 924, 936, 948, 960, 972, 984, 996, 1008, 1020, 1032, 1044, 1056, 1068, 1080, 1092, 1104, 1116, 1128, 1140, 1152, 1164, 1176, 1188, 1200, 1212, 1224, 1236, 1248, 1260, 1272, 1284, 1296, 1308, 1320, 1332, 1344, 1356, 1368, 1380, 1392, 1404, 1416, 1428, 1440, 1452, 1464, 1476, 1488, 1500, 1512, 1524, 1536, 1548, 1560, 1572, 1584, 1596, 1608, 1620, 1632, 1644, 1656, 1668, 1680, 1692, 1704, 1716, 1728, 1740, 1752, 1764, 1776, 1788, 1800, 1812, 1824, 1836, 1848, 1860, 1872, 1884, 1896, 1908, 1920, 1924] 0.08333333333333333\n"
     ]
    },
    {
     "name": "stderr",
     "output_type": "stream",
     "text": [
      "\n",
      "\n",
      "\n",
      "FFMPEG scale down to 224, select frames and encode libx264:   0%|          | 0/82.0 [00:00<?, ?segment/s]\u001B[A\u001B[A\u001B[A\n",
      "\n",
      "\n",
      "FFMPEG scale down to 224, select frames and encode libx264:   0%|          | 0.0/82.0 [00:00<?, ?segment/s]\u001B[A\u001B[A\u001B[A\n",
      "\n",
      "\n",
      "FFMPEG scale down to 224, select frames and encode libx264:   0%|          | 0.0/82.0 [00:01<?, ?segment/s]\u001B[A\u001B[A\u001B[A\n",
      "\n",
      "\n",
      "FFMPEG scale down to 224, select frames and encode libx264:   0%|          | 0.0/82.0 [00:01<?, ?segment/s]\u001B[A\u001B[A\u001B[A\n",
      "\n",
      "\n",
      "FFMPEG scale down to 224, select frames and encode libx264:   0%|          | 0.0/82.0 [00:02<?, ?segment/s]\u001B[A\u001B[A\u001B[A\n",
      "\n",
      "\n",
      "FFMPEG scale down to 224, select frames and encode libx264:   0%|          | 0.0/82.0 [00:02<?, ?segment/s]\u001B[A\u001B[A\u001B[A\n",
      "\n",
      "\n",
      "FFMPEG scale down to 224, select frames and encode libx264:   0%|          | 0.0/82.0 [00:03<?, ?segment/s]\u001B[A\u001B[A\u001B[A\n",
      "\n",
      "\n",
      "FFMPEG scale down to 224, select frames and encode libx264:   1%|          | 1.0/82.0 [00:03<00:40,  1.99segment/s]\u001B[A\u001B[A\u001B[A\n",
      "\n",
      "\n",
      "FFMPEG scale down to 224, select frames and encode libx264:   2%|▏         | 2.0/82.0 [00:04<01:03,  1.26segment/s]\u001B[A\u001B[A\u001B[A\n",
      "\n",
      "\n",
      "FFMPEG scale down to 224, select frames and encode libx264:   4%|▎         | 3.0/82.0 [00:05<00:52,  1.51segment/s]\u001B[A\u001B[A\u001B[A\n",
      "\n",
      "\n",
      "FFMPEG scale down to 224, select frames and encode libx264: 88.0segment [00:05, 16.16segment/s]                    \u001B[A\u001B[A\u001B[A\n",
      "Extract sequences: 10it [01:10,  7.06s/it]\n"
     ]
    }
   ],
   "source": [
    "trivial_twelve = partial(trivial, 12)\n",
    "\n",
    "# root = logging.getLogger()\n",
    "# root.setLevel(logging.INFO)\n",
    "#\n",
    "# handler = logging.StreamHandler(sys.stdout)\n",
    "# handler.setLevel(logging.INFO)\n",
    "# formatter = logging.Formatter(\"%(asctime)s - %(name)s - %(levelname)s - %(message)s\")\n",
    "# handler.setFormatter(formatter)\n",
    "# root.addHandler(handler)\n",
    "\n",
    "for _, row in tqdm(short_df.iterrows(), desc=\"Extract sequences\"):\n",
    "    print(Path(\"..\") / row[\"filename\"], Path(\"..\") / \"data\" / \"sequences\" / row[\"OutFilename\"], (row[\"StartFrame\"] + np.array(trivial_twelve(row[\"DurationFrame\"]))).tolist(), 1 / 12)\n",
    "    result = scale_compress_select_sequence(Path(\"..\") / row[\"filename\"], Path(\"..\") / \"data\" / \"sequences\" / row[\"OutFilename\"], (row[\"StartFrame\"] + np.array(trivial_twelve(row[\"DurationFrame\"]))).tolist(), 1 / 12)\n",
    "\n",
    "    assert result == 0\n"
   ],
   "metadata": {
    "collapsed": false,
    "pycharm": {
     "name": "#%%\n"
    }
   }
  }
 ],
 "metadata": {
  "kernelspec": {
   "display_name": "Python 3.10.6 ('.venv': poetry)",
   "language": "python",
   "name": "python3"
  },
  "language_info": {
   "codemirror_mode": {
    "name": "ipython",
    "version": 3
   },
   "file_extension": ".py",
   "mimetype": "text/x-python",
   "name": "python",
   "nbconvert_exporter": "python",
   "pygments_lexer": "ipython3",
   "version": "3.10.6"
  },
  "orig_nbformat": 4,
  "vscode": {
   "interpreter": {
    "hash": "16d16579ac16af49d8151a36f2799f423cff0ad66d4c2584ff74047bfbf540a6"
   }
  }
 },
 "nbformat": 4,
 "nbformat_minor": 2
}