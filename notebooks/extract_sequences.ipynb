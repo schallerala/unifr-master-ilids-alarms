{
 "cells": [
  {
   "cell_type": "code",
   "execution_count": 15,
   "metadata": {
    "collapsed": false,
    "pycharm": {
     "name": "#%%\n"
    }
   },
   "outputs": [],
   "source": [
    "import subprocess\n",
    "from functools import partial\n",
    "import logging\n",
    "from pathlib import Path\n",
    "from time import strftime, gmtime\n",
    "from typing import List\n",
    "\n",
    "import numpy as np\n",
    "import pandas as pd\n",
    "from tqdm import tqdm\n",
    "\n",
    "from ilids.utils.ffmpeg_tqdm import analyze_stream, ffmpeg_to_tqdm"
   ]
  },
  {
   "cell_type": "code",
   "execution_count": 16,
   "metadata": {
    "collapsed": false,
    "pycharm": {
     "name": "#%%\n"
    }
   },
   "outputs": [],
   "source": [
    "def get_ffmpeg_select_argument(frames_sequence: List[int], N: int) -> str:\n",
    "    \"\"\"Produce a string to be used with the FFMPEG command and its \"select\" argument.\n",
    "\n",
    "    :param frames_sequence: linear or not list of frames to extract.\n",
    "                            Example: 0, 12, 24, 36, 48, 60, ...\n",
    "                            or:      6, 23, 27, 42, 50, 68, ...\n",
    "    :param setpts_filter: from FFMPEG manual page:\n",
    "                            \"setpts\" filter, which only sets timestamps and otherwise passes the frames unchanged\n",
    "                          It is expected to be smaller than 1 in can less frames are selected and it is wished to\n",
    "                          speed up the video.\n",
    "                          Usually, it is expected to get 1/FRAMES_SKIP\n",
    "                          Example: *0.25* (for a FRAMES_SKIP of 4)\n",
    "    :return: string to be used to run the FFMPEG command for the \"select\" argument like: ffmpeg -i SZTRA201a08_224.mp4 -vf select='eq(n\\,0)+eq(n\\,12)+eq(n\\,24)+eq(n\\,36)+eq(n\\,48)+eq(n\\,60), setpts=0.08333333333*PTS' -an SZTRA201a08_224_12_random.mp4\n",
    "    \"\"\"\n",
    "    # eq(n\\\\,0)+eq(n\\\\,12)+eq(n\\\\,24)+eq(n\\\\,36)+eq(n\\\\,48)\n",
    "    eq_chain = \"+\".join([f\"eq(n\\,{n})\" for n in frames_sequence])\n",
    "    # change the 'setpts' filter to correct the shift in frames in case of any.\n",
    "    # Else, starting timestamp will be \"FIRST FRAME\" / N (and you will miss most of the desired sequence)\n",
    "    setpts = f\"setpts={1 / N}*PTS-{frames_sequence[0] / N}\"\n",
    "    return f\"'{eq_chain}',{setpts}\"\n",
    "\n",
    "\n",
    "def trivial(interval: int, frames_count: int):\n",
    "    return list(range(0, frames_count, interval)) + (\n",
    "        [] if (frames_count - 1) % interval == 0 else [frames_count - 1]\n",
    "    )"
   ]
  },
  {
   "cell_type": "code",
   "execution_count": 17,
   "metadata": {
    "collapsed": false,
    "pycharm": {
     "name": "#%%\n"
    }
   },
   "outputs": [],
   "source": [
    "# # Adapted from CLIP4Clip: https://github.com/ArrowLuo/CLIP4Clip/blob/master/preprocess/compress_video.py\n",
    "# # but don't change the frame rate as be which to have different frame selection strategies\n",
    "# # and use ffmpeg_to_tqdm helper\n",
    "# def scale_compress_video(input_video_path: Path, output_video_path: Path) -> int:\n",
    "#     logger = logging.getLogger(f\"ffmpeg-{str(output_video_path)}\")\n",
    "#     logger.debug(\"Using ffmpeg to scale and compress an original video.\")\n",
    "\n",
    "#     stream_info = analyze_stream(logger, str(input_video_path))\n",
    "\n",
    "#     command = [\n",
    "#         \"ffmpeg\",\n",
    "#         \"-y\",  # (optional) overwrite output file if it exists\n",
    "#         \"-i\",\n",
    "#         str(input_video_path),\n",
    "#         \"-filter:v\",\n",
    "#         \"scale='if(gt(a,1),trunc(oh*a/2)*2,224)':'if(gt(a,1),224,trunc(ow*a/2)*2)'\",  # scale to 224\n",
    "#         \"-map\",\n",
    "#         \"0:v\",\n",
    "#         \"-vcodec\",\n",
    "#         \"libx264\",  # additionally, change the codec for better\n",
    "#         # compression\n",
    "#         # display codecs with: `ffmpeg -codecs`\n",
    "#         #    '-r', '3',  # frames per second\n",
    "#         str(output_video_path),\n",
    "#     ]\n",
    "#     # to avoid carriage return ('\\r') in ffmpeg output, to mess with the reading of the\n",
    "#     # progress, use 'universal_newlines' argument\n",
    "#     # https://github.com/chriskiehl/Gooey/issues/495#issuecomment-614991802\n",
    "#     ffmpeg_process = subprocess.Popen(\n",
    "#         command,\n",
    "#         stdout=subprocess.PIPE,\n",
    "#         stderr=subprocess.STDOUT,\n",
    "#         universal_newlines=True,\n",
    "#     )\n",
    "\n",
    "#     return ffmpeg_to_tqdm(\n",
    "#         logger,\n",
    "#         ffmpeg_process,\n",
    "#         duration=stream_info.get(\"duration\"),\n",
    "#         tqdm_desc=\"FFMPEG scale down to 224 and encode libx264\",\n",
    "#     ).returncode\n",
    "\n",
    "# # Using Stackoverflow answer, we can select multiple frames with the '+' \"operation\" inside the select\n",
    "# def get_ffmpeg_select_argument(frames_sequence: List[int], setpts_filter: float) -> str:\n",
    "#     \"\"\"Produce a string to be used with the FFMPEG command and its \"select\" argument.\n",
    "\n",
    "#     :param frames_sequence: linear or not list of frames to extract.\n",
    "#                             Example: 0, 12, 24, 36, 48, 60, ...\n",
    "#                             or:      6, 23, 27, 42, 50, 68, ...\n",
    "#     :param setpts_filter: from FFMPEG manual page:\n",
    "#                             \"setpts\" filter, which only sets timestamps and otherwise passes the frames unchanged\n",
    "#                           It is expected to be smaller than 1 in can less frames are selected and it is wished to\n",
    "#                           speed up the video.\n",
    "#                           Usually, it is expected to get 1/FRAMES_SKIP\n",
    "#                           Example: *0.25* (for a FRAMES_SKIP of 4)\n",
    "#     :return: string to be used to run the FFMPEG command for the \"select\" argument like: ffmpeg -i SZTRA201a08_224.mp4 -vf select='eq(n\\,0)+eq(n\\,12)+eq(n\\,24)+eq(n\\,36)+eq(n\\,48)+eq(n\\,60), setpts=0.08333333333*PTS' -an SZTRA201a08_224_12_random.mp4\n",
    "#     \"\"\"\n",
    "#     # eq(n\\\\,0)+eq(n\\\\,12)+eq(n\\\\,24)+eq(n\\\\,36)+eq(n\\\\,48)\n",
    "#     eq_chain = \"+\".join([f\"eq(n\\,{n})\" for n in frames_sequence])\n",
    "#     setpts = f\"setpts={setpts_filter}*PTS\"\n",
    "#     return f\"'{eq_chain}',{setpts}\"\n",
    "#\n",
    "# def extract_frames_in_video(\n",
    "#     frames_sequence: List[int],\n",
    "#     setpts_filter: float,\n",
    "#     input_video_path: Path,\n",
    "#     output_video_path: Path,\n",
    "# ) -> int:\n",
    "#     logger = logging.getLogger(f\"ffmpeg-{str(output_video_path)}\")\n",
    "#     logger.setLevel(logging.INFO)\n",
    "#     logger.debug(\"Using ffmpeg to extract frames from a video.\")\n",
    "\n",
    "#     stream_info = analyze_stream(logger, str(input_video_path))\n",
    "\n",
    "#     command = [\n",
    "#         \"ffmpeg\",\n",
    "#         \"-y\",  # (optional) overwrite output file if it exists\n",
    "#         \"-i\",\n",
    "#         str(input_video_path),\n",
    "#         \"-vf\",\n",
    "#         f\"select={get_ffmpeg_select_argument(frames_sequence, setpts_filter)}\",\n",
    "#         \"-an\",  # _The presence of \"-an\" disables audio stream selection for_ its output\n",
    "#         str(output_video_path),\n",
    "#     ]\n",
    "\n",
    "#     # to avoid carriage return ('\\r') in ffmpeg output, to mess with the reading of the\n",
    "#     # progress, use 'universal_newlines' argument\n",
    "#     # https://github.com/chriskiehl/Gooey/issues/495#issuecomment-614991802\n",
    "#     ffmpeg_process = subprocess.Popen(\n",
    "#         command,\n",
    "#         stdout=subprocess.PIPE,\n",
    "#         stderr=subprocess.STDOUT,\n",
    "#         universal_newlines=True,\n",
    "#     )\n",
    "#     return ffmpeg_to_tqdm(\n",
    "#         logger,\n",
    "#         ffmpeg_process,\n",
    "#         duration=stream_info.get(\"duration\"),\n",
    "#         tqdm_desc=\"FFMPEG select subset of frames\",\n",
    "#     ).returncode\n",
    "\n",
    "\n",
    "# Adapted from CLIP4Clip: https://github.com/ArrowLuo/CLIP4Clip/blob/master/preprocess/compress_video.py\n",
    "# but don't change the frame rate as be which to have different frame selection strategies\n",
    "# use ffmpeg_to_tqdm helper\n",
    "# and directly extract a sequence of frames\n",
    "def scale_compress_select_sequence(\n",
    "    input_video_path: Path,\n",
    "    output_video_path: Path,\n",
    "    frames_sequence: List[int],\n",
    "    N: int,\n",
    ") -> int:\n",
    "    logger = logging.getLogger(f\"ffmpeg-{str(output_video_path)}\")\n",
    "    logger.debug(\"Using ffmpeg to scale and compress and extract sub sequence\")\n",
    "\n",
    "    stream_info = analyze_stream(logger, str(input_video_path))\n",
    "\n",
    "    # to avoid carriage return ('\\r') in ffmpeg output, to mess with the reading of the\n",
    "    # progress, use 'universal_newlines' argument\n",
    "    # https://github.com/chriskiehl/Gooey/issues/495#issuecomment-614991802\n",
    "    ffmpeg_process = subprocess.Popen(\n",
    "        # -frames:v\n",
    "        #       -frames[:stream_specifier] framecount (output,per-stream)\n",
    "        #           Stop writing to the stream after framecount frames.\n",
    "        # -vcodec\n",
    "        #       get list of codecs with ffmpeg -codecs\n",
    "        f\"ffmpeg -y -i {str(input_video_path)} -frames:v {len(frames_sequence)} -vf \\\"select={get_ffmpeg_select_argument(frames_sequence, N)},scale='if(gt(a,1),trunc(oh*a/2)*2,224)':'if(gt(a,1),224,trunc(ow*a/2)*2)'\\\" -map 0:v -vcodec libx264 {str(output_video_path)}\",\n",
    "        shell=True,\n",
    "        stdout=subprocess.PIPE,\n",
    "        stderr=subprocess.STDOUT,\n",
    "        universal_newlines=True,\n",
    "    )\n",
    "\n",
    "    ffmpeg_to_tqdm(\n",
    "        logger,\n",
    "        ffmpeg_process,\n",
    "        duration=stream_info.get(\"duration\"),\n",
    "        tqdm_desc=\"FFMPEG scale down to 224, select frames and encode libx264\",\n",
    "    )\n",
    "\n",
    "    ffmpeg_process.wait()\n",
    "\n",
    "    return ffmpeg_process.returncode"
   ]
  },
  {
   "cell_type": "code",
   "execution_count": 18,
   "outputs": [],
   "source": [
    "short_fp_df = pd.read_csv(\n",
    "    Path(\"..\") / \"data\" / \"handcrafted-metadata\" / \"short_sequences_fp.csv\",\n",
    "    index_col=\"filename\",\n",
    ")\n",
    "short_tp_df = pd.read_csv(\n",
    "    Path(\"..\") / \"data\" / \"handcrafted-metadata\" / \"short_sequences_tp.csv\",\n",
    "    index_col=\"filename\",\n",
    ")\n",
    "\n",
    "short_df = pd.concat([short_fp_df, short_tp_df])\n",
    "\n",
    "short_df[\"StartTime\"] = pd.to_timedelta(short_df[\"StartTime\"])\n",
    "short_df[\"EndTime\"] = pd.to_timedelta(short_df[\"EndTime\"])"
   ],
   "metadata": {
    "collapsed": false,
    "pycharm": {
     "name": "#%%\n"
    }
   }
  },
  {
   "cell_type": "code",
   "execution_count": 19,
   "outputs": [
    {
     "data": {
      "text/plain": "                            video_duration       StartTime         EndTime  \\\nfilename                                                                     \nSZTR/video/SZTRA202b06.mov          101.00 0 days 00:00:59 0 days 00:01:34   \nSZTR/video/SZTRA104b10.mov          104.48 0 days 00:00:03 0 days 00:00:37   \nSZTR/video/SZTRA201a09.mov          119.48 0 days 00:00:58 0 days 00:01:22   \nSZTR/video/SZTRA202b11.mov          119.60 0 days 00:01:26 0 days 00:01:44   \nSZTR/video/SZTRA203a12.mov          130.32 0 days 00:00:55 0 days 00:01:14   \nSZTR/video/SZTRA103a17.mov           36.40 0 days 00:00:09 0 days 00:00:36   \nSZTR/video/SZTRA203a17.mov           36.40 0 days 00:00:10 0 days 00:00:36   \nSZTR/video/SZTRA202b13.mov           39.20 0 days 00:00:19 0 days 00:00:39   \nSZTR/video/SZTRA102b13.mov           39.20 0 days 00:00:20 0 days 00:00:39   \nSZTR/video/SZTRA203b17.mov           44.32 0 days 00:00:13 0 days 00:00:42   \n\n                            Distance SubjectApproachType SubjectDescription  \\\nfilename                                                                      \nSZTR/video/SZTRA202b06.mov       NaN                 NaN                NaN   \nSZTR/video/SZTRA104b10.mov       NaN                 NaN                NaN   \nSZTR/video/SZTRA201a09.mov       NaN                 NaN                NaN   \nSZTR/video/SZTRA202b11.mov       NaN                 NaN                NaN   \nSZTR/video/SZTRA203a12.mov       NaN                 NaN                NaN   \nSZTR/video/SZTRA103a17.mov      10.0    Walk With Ladder         One person   \nSZTR/video/SZTRA203a17.mov      30.0    Walk With Ladder         One person   \nSZTR/video/SZTRA202b13.mov      10.0    Walk With Ladder         One person   \nSZTR/video/SZTRA102b13.mov      30.0    Walk With Ladder         One person   \nSZTR/video/SZTRA203b17.mov      30.0    Walk With Ladder         One person   \n\n                           SubjectOrientation Classification  Distraction  \\\nfilename                                                                    \nSZTR/video/SZTRA202b06.mov                NaN             FP          NaN   \nSZTR/video/SZTRA104b10.mov                NaN             FP          NaN   \nSZTR/video/SZTRA201a09.mov                NaN             FP          NaN   \nSZTR/video/SZTRA202b11.mov                NaN             FP          NaN   \nSZTR/video/SZTRA203a12.mov                NaN             FP          NaN   \nSZTR/video/SZTRA103a17.mov      Perpendicular             TP          NaN   \nSZTR/video/SZTRA203a17.mov      Perpendicular             TP          NaN   \nSZTR/video/SZTRA202b13.mov      Perpendicular             TP          NaN   \nSZTR/video/SZTRA102b13.mov      Perpendicular             TP          NaN   \nSZTR/video/SZTRA203b17.mov      Perpendicular             TP          NaN   \n\n                            Stage Weather.Clouds  Weather.Fog  Weather.Rain  \\\nfilename                                                                      \nSZTR/video/SZTRA202b06.mov      2           None        False         False   \nSZTR/video/SZTRA104b10.mov      1       Overcast        False         False   \nSZTR/video/SZTRA201a09.mov      2            NaN        False         False   \nSZTR/video/SZTRA202b11.mov      2           None        False         False   \nSZTR/video/SZTRA203a12.mov      2       Overcast        False         False   \nSZTR/video/SZTRA103a17.mov      1       Overcast        False         False   \nSZTR/video/SZTRA203a17.mov      2       Overcast        False         False   \nSZTR/video/SZTRA202b13.mov      2           None        False         False   \nSZTR/video/SZTRA102b13.mov      1           None        False         False   \nSZTR/video/SZTRA203b17.mov      2           None        False         False   \n\n                            Weather.Snow Weather.TimeOfDay  StartFrame  \\\nfilename                                                                 \nSZTR/video/SZTRA202b06.mov         False               Day        1475   \nSZTR/video/SZTRA104b10.mov          True               Day          75   \nSZTR/video/SZTRA201a09.mov         False             Night        1450   \nSZTR/video/SZTRA202b11.mov         False               Day        2150   \nSZTR/video/SZTRA203a12.mov         False               Day        1375   \nSZTR/video/SZTRA103a17.mov         False               Day         225   \nSZTR/video/SZTRA203a17.mov         False               Day         250   \nSZTR/video/SZTRA202b13.mov         False               Day         475   \nSZTR/video/SZTRA102b13.mov         False               Day         500   \nSZTR/video/SZTRA203b17.mov         False               Day         325   \n\n                            EndFrame  DurationFrame  \nfilename                                             \nSZTR/video/SZTRA202b06.mov      2350            875  \nSZTR/video/SZTRA104b10.mov       925            850  \nSZTR/video/SZTRA201a09.mov      2050            600  \nSZTR/video/SZTRA202b11.mov      2600            450  \nSZTR/video/SZTRA203a12.mov      1850            475  \nSZTR/video/SZTRA103a17.mov       900            675  \nSZTR/video/SZTRA203a17.mov       900            650  \nSZTR/video/SZTRA202b13.mov       975            500  \nSZTR/video/SZTRA102b13.mov       975            475  \nSZTR/video/SZTRA203b17.mov      1050            725  ",
      "text/html": "<div>\n<style scoped>\n    .dataframe tbody tr th:only-of-type {\n        vertical-align: middle;\n    }\n\n    .dataframe tbody tr th {\n        vertical-align: top;\n    }\n\n    .dataframe thead th {\n        text-align: right;\n    }\n</style>\n<table border=\"1\" class=\"dataframe\">\n  <thead>\n    <tr style=\"text-align: right;\">\n      <th></th>\n      <th>video_duration</th>\n      <th>StartTime</th>\n      <th>EndTime</th>\n      <th>Distance</th>\n      <th>SubjectApproachType</th>\n      <th>SubjectDescription</th>\n      <th>SubjectOrientation</th>\n      <th>Classification</th>\n      <th>Distraction</th>\n      <th>Stage</th>\n      <th>Weather.Clouds</th>\n      <th>Weather.Fog</th>\n      <th>Weather.Rain</th>\n      <th>Weather.Snow</th>\n      <th>Weather.TimeOfDay</th>\n      <th>StartFrame</th>\n      <th>EndFrame</th>\n      <th>DurationFrame</th>\n    </tr>\n    <tr>\n      <th>filename</th>\n      <th></th>\n      <th></th>\n      <th></th>\n      <th></th>\n      <th></th>\n      <th></th>\n      <th></th>\n      <th></th>\n      <th></th>\n      <th></th>\n      <th></th>\n      <th></th>\n      <th></th>\n      <th></th>\n      <th></th>\n      <th></th>\n      <th></th>\n      <th></th>\n    </tr>\n  </thead>\n  <tbody>\n    <tr>\n      <th>SZTR/video/SZTRA202b06.mov</th>\n      <td>101.00</td>\n      <td>0 days 00:00:59</td>\n      <td>0 days 00:01:34</td>\n      <td>NaN</td>\n      <td>NaN</td>\n      <td>NaN</td>\n      <td>NaN</td>\n      <td>FP</td>\n      <td>NaN</td>\n      <td>2</td>\n      <td>None</td>\n      <td>False</td>\n      <td>False</td>\n      <td>False</td>\n      <td>Day</td>\n      <td>1475</td>\n      <td>2350</td>\n      <td>875</td>\n    </tr>\n    <tr>\n      <th>SZTR/video/SZTRA104b10.mov</th>\n      <td>104.48</td>\n      <td>0 days 00:00:03</td>\n      <td>0 days 00:00:37</td>\n      <td>NaN</td>\n      <td>NaN</td>\n      <td>NaN</td>\n      <td>NaN</td>\n      <td>FP</td>\n      <td>NaN</td>\n      <td>1</td>\n      <td>Overcast</td>\n      <td>False</td>\n      <td>False</td>\n      <td>True</td>\n      <td>Day</td>\n      <td>75</td>\n      <td>925</td>\n      <td>850</td>\n    </tr>\n    <tr>\n      <th>SZTR/video/SZTRA201a09.mov</th>\n      <td>119.48</td>\n      <td>0 days 00:00:58</td>\n      <td>0 days 00:01:22</td>\n      <td>NaN</td>\n      <td>NaN</td>\n      <td>NaN</td>\n      <td>NaN</td>\n      <td>FP</td>\n      <td>NaN</td>\n      <td>2</td>\n      <td>NaN</td>\n      <td>False</td>\n      <td>False</td>\n      <td>False</td>\n      <td>Night</td>\n      <td>1450</td>\n      <td>2050</td>\n      <td>600</td>\n    </tr>\n    <tr>\n      <th>SZTR/video/SZTRA202b11.mov</th>\n      <td>119.60</td>\n      <td>0 days 00:01:26</td>\n      <td>0 days 00:01:44</td>\n      <td>NaN</td>\n      <td>NaN</td>\n      <td>NaN</td>\n      <td>NaN</td>\n      <td>FP</td>\n      <td>NaN</td>\n      <td>2</td>\n      <td>None</td>\n      <td>False</td>\n      <td>False</td>\n      <td>False</td>\n      <td>Day</td>\n      <td>2150</td>\n      <td>2600</td>\n      <td>450</td>\n    </tr>\n    <tr>\n      <th>SZTR/video/SZTRA203a12.mov</th>\n      <td>130.32</td>\n      <td>0 days 00:00:55</td>\n      <td>0 days 00:01:14</td>\n      <td>NaN</td>\n      <td>NaN</td>\n      <td>NaN</td>\n      <td>NaN</td>\n      <td>FP</td>\n      <td>NaN</td>\n      <td>2</td>\n      <td>Overcast</td>\n      <td>False</td>\n      <td>False</td>\n      <td>False</td>\n      <td>Day</td>\n      <td>1375</td>\n      <td>1850</td>\n      <td>475</td>\n    </tr>\n    <tr>\n      <th>SZTR/video/SZTRA103a17.mov</th>\n      <td>36.40</td>\n      <td>0 days 00:00:09</td>\n      <td>0 days 00:00:36</td>\n      <td>10.0</td>\n      <td>Walk With Ladder</td>\n      <td>One person</td>\n      <td>Perpendicular</td>\n      <td>TP</td>\n      <td>NaN</td>\n      <td>1</td>\n      <td>Overcast</td>\n      <td>False</td>\n      <td>False</td>\n      <td>False</td>\n      <td>Day</td>\n      <td>225</td>\n      <td>900</td>\n      <td>675</td>\n    </tr>\n    <tr>\n      <th>SZTR/video/SZTRA203a17.mov</th>\n      <td>36.40</td>\n      <td>0 days 00:00:10</td>\n      <td>0 days 00:00:36</td>\n      <td>30.0</td>\n      <td>Walk With Ladder</td>\n      <td>One person</td>\n      <td>Perpendicular</td>\n      <td>TP</td>\n      <td>NaN</td>\n      <td>2</td>\n      <td>Overcast</td>\n      <td>False</td>\n      <td>False</td>\n      <td>False</td>\n      <td>Day</td>\n      <td>250</td>\n      <td>900</td>\n      <td>650</td>\n    </tr>\n    <tr>\n      <th>SZTR/video/SZTRA202b13.mov</th>\n      <td>39.20</td>\n      <td>0 days 00:00:19</td>\n      <td>0 days 00:00:39</td>\n      <td>10.0</td>\n      <td>Walk With Ladder</td>\n      <td>One person</td>\n      <td>Perpendicular</td>\n      <td>TP</td>\n      <td>NaN</td>\n      <td>2</td>\n      <td>None</td>\n      <td>False</td>\n      <td>False</td>\n      <td>False</td>\n      <td>Day</td>\n      <td>475</td>\n      <td>975</td>\n      <td>500</td>\n    </tr>\n    <tr>\n      <th>SZTR/video/SZTRA102b13.mov</th>\n      <td>39.20</td>\n      <td>0 days 00:00:20</td>\n      <td>0 days 00:00:39</td>\n      <td>30.0</td>\n      <td>Walk With Ladder</td>\n      <td>One person</td>\n      <td>Perpendicular</td>\n      <td>TP</td>\n      <td>NaN</td>\n      <td>1</td>\n      <td>None</td>\n      <td>False</td>\n      <td>False</td>\n      <td>False</td>\n      <td>Day</td>\n      <td>500</td>\n      <td>975</td>\n      <td>475</td>\n    </tr>\n    <tr>\n      <th>SZTR/video/SZTRA203b17.mov</th>\n      <td>44.32</td>\n      <td>0 days 00:00:13</td>\n      <td>0 days 00:00:42</td>\n      <td>30.0</td>\n      <td>Walk With Ladder</td>\n      <td>One person</td>\n      <td>Perpendicular</td>\n      <td>TP</td>\n      <td>NaN</td>\n      <td>2</td>\n      <td>None</td>\n      <td>False</td>\n      <td>False</td>\n      <td>False</td>\n      <td>Day</td>\n      <td>325</td>\n      <td>1050</td>\n      <td>725</td>\n    </tr>\n  </tbody>\n</table>\n</div>"
     },
     "execution_count": 19,
     "metadata": {},
     "output_type": "execute_result"
    }
   ],
   "source": [
    "short_df[\"StartFrame\"] = short_df[\"StartTime\"].dt.seconds * 25\n",
    "short_df[\"EndFrame\"] = short_df[\"EndTime\"].dt.seconds * 25\n",
    "short_df[\"DurationFrame\"] = short_df[\"EndFrame\"] - short_df[\"StartFrame\"]\n",
    "short_df"
   ],
   "metadata": {
    "collapsed": false,
    "pycharm": {
     "name": "#%%\n"
    }
   }
  },
  {
   "cell_type": "code",
   "execution_count": 20,
   "outputs": [
    {
     "data": {
      "text/plain": "filename\nSZTR/video/SZTRA202b06.mov    SZTR_video_SZTRA202b06_00_00_59_FP.mp4\nSZTR/video/SZTRA104b10.mov    SZTR_video_SZTRA104b10_00_00_03_FP.mp4\nSZTR/video/SZTRA201a09.mov    SZTR_video_SZTRA201a09_00_00_58_FP.mp4\nSZTR/video/SZTRA202b11.mov    SZTR_video_SZTRA202b11_00_01_26_FP.mp4\nSZTR/video/SZTRA203a12.mov    SZTR_video_SZTRA203a12_00_00_55_FP.mp4\nName: OutFilename, dtype: object"
     },
     "execution_count": 20,
     "metadata": {},
     "output_type": "execute_result"
    }
   ],
   "source": [
    "short_df[\"OutFilename\"] = (\n",
    "    short_df.index.to_series().apply(\n",
    "        lambda f: str(Path(f).parent / Path(f).stem).replace(\"/\", \"_\")\n",
    "    )\n",
    "    + \"_\"\n",
    "    + short_df[\"StartTime\"].dt.seconds.apply(\n",
    "        lambda secs: strftime(\"%H_%M_%S\", gmtime(secs))\n",
    "    )\n",
    "    + \"_\"\n",
    "    + short_df[\"Classification\"]\n",
    "    + \".mp4\"\n",
    ")\n",
    "short_df[\"OutFilename\"].head()"
   ],
   "metadata": {
    "collapsed": false,
    "pycharm": {
     "name": "#%%\n"
    }
   }
  },
  {
   "cell_type": "code",
   "execution_count": 21,
   "outputs": [
    {
     "name": "stderr",
     "output_type": "stream",
     "text": [
      "Extract sequences: 0it [00:00, ?it/s]"
     ]
    },
    {
     "name": "stdout",
     "output_type": "stream",
     "text": [
      "../SZTR/video/SZTRA202b06.mov ../data/sequences/SZTR_video_SZTRA202b06_00_00_59_FP.mp4 [1475, 1487, 1499, 1511, 1523, 1535, 1547, 1559, 1571, 1583, 1595, 1607, 1619, 1631, 1643, 1655, 1667, 1679, 1691, 1703, 1715, 1727, 1739, 1751, 1763, 1775, 1787, 1799, 1811, 1823, 1835, 1847, 1859, 1871, 1883, 1895, 1907, 1919, 1931, 1943, 1955, 1967, 1979, 1991, 2003, 2015, 2027, 2039, 2051, 2063, 2075, 2087, 2099, 2111, 2123, 2135, 2147, 2159, 2171, 2183, 2195, 2207, 2219, 2231, 2243, 2255, 2267, 2279, 2291, 2303, 2315, 2327, 2339, 2349] 0.08333333333333333\n"
     ]
    },
    {
     "name": "stderr",
     "output_type": "stream",
     "text": [
      "\n",
      "FFMPEG scale down to 224, select frames and encode libx264:   0%|          | 0/101.0 [00:00<?, ?segment/s]\u001B[A\n",
      "FFMPEG scale down to 224, select frames and encode libx264:   0%|          | 0.0/101.0 [00:03<?, ?segment/s]\u001B[A\n",
      "FFMPEG scale down to 224, select frames and encode libx264:   0%|          | 0.0/101.0 [00:04<?, ?segment/s]\u001B[A\n",
      "FFMPEG scale down to 224, select frames and encode libx264:   0%|          | 0.0/101.0 [00:04<?, ?segment/s]\u001B[A\n",
      "FFMPEG scale down to 224, select frames and encode libx264: 103.0segment [00:05, 18.93segment/s]            \u001B[A\n",
      "Extract sequences: 1it [00:05,  5.55s/it]"
     ]
    },
    {
     "name": "stdout",
     "output_type": "stream",
     "text": [
      "../SZTR/video/SZTRA104b10.mov ../data/sequences/SZTR_video_SZTRA104b10_00_00_03_FP.mp4 [75, 87, 99, 111, 123, 135, 147, 159, 171, 183, 195, 207, 219, 231, 243, 255, 267, 279, 291, 303, 315, 327, 339, 351, 363, 375, 387, 399, 411, 423, 435, 447, 459, 471, 483, 495, 507, 519, 531, 543, 555, 567, 579, 591, 603, 615, 627, 639, 651, 663, 675, 687, 699, 711, 723, 735, 747, 759, 771, 783, 795, 807, 819, 831, 843, 855, 867, 879, 891, 903, 915, 924] 0.08333333333333333\n"
     ]
    },
    {
     "name": "stderr",
     "output_type": "stream",
     "text": [
      "\n",
      "FFMPEG scale down to 224, select frames and encode libx264:   0%|          | 0/104.0 [00:00<?, ?segment/s]\u001B[A\n",
      "FFMPEG scale down to 224, select frames and encode libx264:   0%|          | 0.0/104.0 [00:00<?, ?segment/s]\u001B[A\n",
      "FFMPEG scale down to 224, select frames and encode libx264:   0%|          | 0.0/104.0 [00:01<?, ?segment/s]\u001B[A\n",
      "FFMPEG scale down to 224, select frames and encode libx264:   0%|          | 0.0/104.0 [00:01<?, ?segment/s]\u001B[A\n",
      "FFMPEG scale down to 224, select frames and encode libx264:   0%|          | 0.0/104.0 [00:02<?, ?segment/s]\u001B[A\n",
      "FFMPEG scale down to 224, select frames and encode libx264: 106.0segment [00:03, 34.74segment/s]            \u001B[A\n",
      "Extract sequences: 2it [00:08,  4.16s/it]"
     ]
    },
    {
     "name": "stdout",
     "output_type": "stream",
     "text": [
      "../SZTR/video/SZTRA201a09.mov ../data/sequences/SZTR_video_SZTRA201a09_00_00_58_FP.mp4 [1450, 1462, 1474, 1486, 1498, 1510, 1522, 1534, 1546, 1558, 1570, 1582, 1594, 1606, 1618, 1630, 1642, 1654, 1666, 1678, 1690, 1702, 1714, 1726, 1738, 1750, 1762, 1774, 1786, 1798, 1810, 1822, 1834, 1846, 1858, 1870, 1882, 1894, 1906, 1918, 1930, 1942, 1954, 1966, 1978, 1990, 2002, 2014, 2026, 2038, 2049] 0.08333333333333333\n"
     ]
    },
    {
     "name": "stderr",
     "output_type": "stream",
     "text": [
      "\n",
      "FFMPEG scale down to 224, select frames and encode libx264:   0%|          | 0/119.0 [00:00<?, ?segment/s]\u001B[A\n",
      "FFMPEG scale down to 224, select frames and encode libx264:   0%|          | 0.0/119.0 [00:03<?, ?segment/s]\u001B[A\n",
      "FFMPEG scale down to 224, select frames and encode libx264:   0%|          | 0.0/119.0 [00:04<?, ?segment/s]\u001B[A\n",
      "FFMPEG scale down to 224, select frames and encode libx264: 120.0segment [00:04, 26.43segment/s]            \u001B[A\n",
      "Extract sequences: 3it [00:13,  4.39s/it]"
     ]
    },
    {
     "name": "stdout",
     "output_type": "stream",
     "text": [
      "../SZTR/video/SZTRA202b11.mov ../data/sequences/SZTR_video_SZTRA202b11_00_01_26_FP.mp4 [2150, 2162, 2174, 2186, 2198, 2210, 2222, 2234, 2246, 2258, 2270, 2282, 2294, 2306, 2318, 2330, 2342, 2354, 2366, 2378, 2390, 2402, 2414, 2426, 2438, 2450, 2462, 2474, 2486, 2498, 2510, 2522, 2534, 2546, 2558, 2570, 2582, 2594, 2599] 0.08333333333333333\n"
     ]
    },
    {
     "name": "stderr",
     "output_type": "stream",
     "text": [
      "\n",
      "FFMPEG scale down to 224, select frames and encode libx264:   0%|          | 0/119.0 [00:00<?, ?segment/s]\u001B[A\n",
      "FFMPEG scale down to 224, select frames and encode libx264:   0%|          | 0.0/119.0 [00:05<?, ?segment/s]\u001B[A\n",
      "FFMPEG scale down to 224, select frames and encode libx264: 120.0segment [00:05, 21.13segment/s]            \u001B[A\n",
      "Extract sequences: 4it [00:19,  4.94s/it]"
     ]
    },
    {
     "name": "stdout",
     "output_type": "stream",
     "text": [
      "../SZTR/video/SZTRA203a12.mov ../data/sequences/SZTR_video_SZTRA203a12_00_00_55_FP.mp4 [1375, 1387, 1399, 1411, 1423, 1435, 1447, 1459, 1471, 1483, 1495, 1507, 1519, 1531, 1543, 1555, 1567, 1579, 1591, 1603, 1615, 1627, 1639, 1651, 1663, 1675, 1687, 1699, 1711, 1723, 1735, 1747, 1759, 1771, 1783, 1795, 1807, 1819, 1831, 1843, 1849] 0.08333333333333333\n"
     ]
    },
    {
     "name": "stderr",
     "output_type": "stream",
     "text": [
      "\n",
      "FFMPEG scale down to 224, select frames and encode libx264:   0%|          | 0/130.0 [00:00<?, ?segment/s]\u001B[A\n",
      "FFMPEG scale down to 224, select frames and encode libx264:   0%|          | 0.0/130.0 [00:03<?, ?segment/s]\u001B[A\n",
      "FFMPEG scale down to 224, select frames and encode libx264: 131.0segment [00:03, 32.80segment/s]            \u001B[A\n",
      "Extract sequences: 5it [00:23,  4.64s/it]"
     ]
    },
    {
     "name": "stdout",
     "output_type": "stream",
     "text": [
      "../SZTR/video/SZTRA103a17.mov ../data/sequences/SZTR_video_SZTRA103a17_00_00_09_TP.mp4 [225, 237, 249, 261, 273, 285, 297, 309, 321, 333, 345, 357, 369, 381, 393, 405, 417, 429, 441, 453, 465, 477, 489, 501, 513, 525, 537, 549, 561, 573, 585, 597, 609, 621, 633, 645, 657, 669, 681, 693, 705, 717, 729, 741, 753, 765, 777, 789, 801, 813, 825, 837, 849, 861, 873, 885, 897, 899] 0.08333333333333333\n"
     ]
    },
    {
     "name": "stderr",
     "output_type": "stream",
     "text": [
      "\n",
      "FFMPEG scale down to 224, select frames and encode libx264:   0%|          | 0/36.0 [00:00<?, ?segment/s]\u001B[A\n",
      "FFMPEG scale down to 224, select frames and encode libx264:   0%|          | 0.0/36.0 [00:01<?, ?segment/s]\u001B[A\n",
      "FFMPEG scale down to 224, select frames and encode libx264:   0%|          | 0.0/36.0 [00:01<?, ?segment/s]\u001B[A\n",
      "FFMPEG scale down to 224, select frames and encode libx264:   0%|          | 0.0/36.0 [00:02<?, ?segment/s]\u001B[A\n",
      "FFMPEG scale down to 224, select frames and encode libx264: 38.0segment [00:02, 16.03segment/s]            \u001B[A\n",
      "Extract sequences: 6it [00:25,  3.90s/it]"
     ]
    },
    {
     "name": "stdout",
     "output_type": "stream",
     "text": [
      "../SZTR/video/SZTRA203a17.mov ../data/sequences/SZTR_video_SZTRA203a17_00_00_10_TP.mp4 [250, 262, 274, 286, 298, 310, 322, 334, 346, 358, 370, 382, 394, 406, 418, 430, 442, 454, 466, 478, 490, 502, 514, 526, 538, 550, 562, 574, 586, 598, 610, 622, 634, 646, 658, 670, 682, 694, 706, 718, 730, 742, 754, 766, 778, 790, 802, 814, 826, 838, 850, 862, 874, 886, 898, 899] 0.08333333333333333\n"
     ]
    },
    {
     "name": "stderr",
     "output_type": "stream",
     "text": [
      "\n",
      "FFMPEG scale down to 224, select frames and encode libx264:   0%|          | 0/36.0 [00:00<?, ?segment/s]\u001B[A\n",
      "FFMPEG scale down to 224, select frames and encode libx264:   0%|          | 0.0/36.0 [00:01<?, ?segment/s]\u001B[A\n",
      "FFMPEG scale down to 224, select frames and encode libx264:   0%|          | 0.0/36.0 [00:01<?, ?segment/s]\u001B[A\n",
      "FFMPEG scale down to 224, select frames and encode libx264: 38.0segment [00:02, 18.06segment/s]            \u001B[A\n",
      "Extract sequences: 7it [00:27,  3.36s/it]"
     ]
    },
    {
     "name": "stdout",
     "output_type": "stream",
     "text": [
      "../SZTR/video/SZTRA202b13.mov ../data/sequences/SZTR_video_SZTRA202b13_00_00_19_TP.mp4 [475, 487, 499, 511, 523, 535, 547, 559, 571, 583, 595, 607, 619, 631, 643, 655, 667, 679, 691, 703, 715, 727, 739, 751, 763, 775, 787, 799, 811, 823, 835, 847, 859, 871, 883, 895, 907, 919, 931, 943, 955, 967, 974] 0.08333333333333333\n"
     ]
    },
    {
     "name": "stderr",
     "output_type": "stream",
     "text": [
      "\n",
      "FFMPEG scale down to 224, select frames and encode libx264:   0%|          | 0/39.0 [00:00<?, ?segment/s]\u001B[A\n",
      "FFMPEG scale down to 224, select frames and encode libx264:   0%|          | 0.0/39.0 [00:01<?, ?segment/s]\u001B[A\n",
      "FFMPEG scale down to 224, select frames and encode libx264:   0%|          | 0.0/39.0 [00:02<?, ?segment/s]\u001B[A\n",
      "FFMPEG scale down to 224, select frames and encode libx264: 40.0segment [00:02, 18.38segment/s]            \u001B[A\n",
      "Extract sequences: 8it [00:30,  3.01s/it]"
     ]
    },
    {
     "name": "stdout",
     "output_type": "stream",
     "text": [
      "../SZTR/video/SZTRA102b13.mov ../data/sequences/SZTR_video_SZTRA102b13_00_00_20_TP.mp4 [500, 512, 524, 536, 548, 560, 572, 584, 596, 608, 620, 632, 644, 656, 668, 680, 692, 704, 716, 728, 740, 752, 764, 776, 788, 800, 812, 824, 836, 848, 860, 872, 884, 896, 908, 920, 932, 944, 956, 968, 974] 0.08333333333333333\n"
     ]
    },
    {
     "name": "stderr",
     "output_type": "stream",
     "text": [
      "\n",
      "FFMPEG scale down to 224, select frames and encode libx264:   0%|          | 0/39.0 [00:00<?, ?segment/s]\u001B[A\n",
      "FFMPEG scale down to 224, select frames and encode libx264:   0%|          | 0.0/39.0 [00:01<?, ?segment/s]\u001B[A\n",
      "FFMPEG scale down to 224, select frames and encode libx264:   0%|          | 0.0/39.0 [00:02<?, ?segment/s]\u001B[A\n",
      "FFMPEG scale down to 224, select frames and encode libx264: 40.0segment [00:02, 14.83segment/s]            \u001B[A\n",
      "Extract sequences: 9it [00:33,  2.95s/it]"
     ]
    },
    {
     "name": "stdout",
     "output_type": "stream",
     "text": [
      "../SZTR/video/SZTRA203b17.mov ../data/sequences/SZTR_video_SZTRA203b17_00_00_13_TP.mp4 [325, 337, 349, 361, 373, 385, 397, 409, 421, 433, 445, 457, 469, 481, 493, 505, 517, 529, 541, 553, 565, 577, 589, 601, 613, 625, 637, 649, 661, 673, 685, 697, 709, 721, 733, 745, 757, 769, 781, 793, 805, 817, 829, 841, 853, 865, 877, 889, 901, 913, 925, 937, 949, 961, 973, 985, 997, 1009, 1021, 1033, 1045, 1049] 0.08333333333333333\n"
     ]
    },
    {
     "name": "stderr",
     "output_type": "stream",
     "text": [
      "\n",
      "FFMPEG scale down to 224, select frames and encode libx264:   0%|          | 0/44.0 [00:00<?, ?segment/s]\u001B[A\n",
      "FFMPEG scale down to 224, select frames and encode libx264:   0%|          | 0.0/44.0 [00:01<?, ?segment/s]\u001B[A\n",
      "FFMPEG scale down to 224, select frames and encode libx264:   0%|          | 0.0/44.0 [00:01<?, ?segment/s]\u001B[A\n",
      "FFMPEG scale down to 224, select frames and encode libx264:   0%|          | 0.0/44.0 [00:02<?, ?segment/s]\u001B[A\n",
      "FFMPEG scale down to 224, select frames and encode libx264: 46.0segment [00:02, 17.97segment/s]                    \u001B[A\n",
      "Extract sequences: 10it [00:35,  3.57s/it]\n"
     ]
    }
   ],
   "source": [
    "trivial_twelve = partial(trivial, 12)\n",
    "\n",
    "for _, row in tqdm(short_df.iterrows(), desc=\"Extract sequences\"):\n",
    "    print(\n",
    "        Path(\"..\") / row.name,\n",
    "        Path(\"..\") / \"data\" / \"sequences\" / row[\"OutFilename\"],\n",
    "        (row[\"StartFrame\"] + np.array(trivial_twelve(row[\"DurationFrame\"]))).tolist(),\n",
    "        1 / 12,\n",
    "    )\n",
    "    result = scale_compress_select_sequence(\n",
    "        Path(\"..\") / row.name,\n",
    "        Path(\"..\") / \"data\" / \"sequences\" / row[\"OutFilename\"],\n",
    "        (row[\"StartFrame\"] + np.array(trivial_twelve(row[\"DurationFrame\"]))).tolist(),\n",
    "        12,\n",
    "    )\n",
    "\n",
    "    assert result == 0"
   ],
   "metadata": {
    "collapsed": false,
    "pycharm": {
     "name": "#%%\n"
    }
   }
  },
  {
   "cell_type": "code",
   "execution_count": 21,
   "metadata": {
    "pycharm": {
     "name": "#%%\n"
    }
   },
   "outputs": [],
   "source": []
  }
 ],
 "metadata": {
  "kernelspec": {
   "display_name": "Python 3.10.6 ('.venv': poetry)",
   "language": "python",
   "name": "python3"
  },
  "language_info": {
   "codemirror_mode": {
    "name": "ipython",
    "version": 3
   },
   "file_extension": ".py",
   "mimetype": "text/x-python",
   "name": "python",
   "nbconvert_exporter": "python",
   "pygments_lexer": "ipython3",
   "version": "3.10.6"
  },
  "orig_nbformat": 4,
  "vscode": {
   "interpreter": {
    "hash": "16d16579ac16af49d8151a36f2799f423cff0ad66d4c2584ff74047bfbf540a6"
   }
  }
 },
 "nbformat": 4,
 "nbformat_minor": 2
}