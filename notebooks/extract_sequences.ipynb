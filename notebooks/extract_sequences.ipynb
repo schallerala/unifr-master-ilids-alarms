{
 "cells": [
  {
   "cell_type": "code",
   "execution_count": 1,
   "metadata": {
    "collapsed": false,
    "pycharm": {
     "name": "#%%\n"
    }
   },
   "outputs": [],
   "source": [
    "import subprocess\n",
    "from functools import partial\n",
    "import logging\n",
    "from pathlib import Path\n",
    "from time import strftime, gmtime\n",
    "from typing import List\n",
    "\n",
    "import numpy as np\n",
    "import pandas as pd\n",
    "from tqdm import tqdm\n",
    "\n",
    "from ilids.utils.ffmpeg_tqdm import analyze_stream, ffmpeg_to_tqdm"
   ]
  },
  {
   "cell_type": "code",
   "execution_count": 2,
   "metadata": {
    "collapsed": false,
    "pycharm": {
     "name": "#%%\n"
    }
   },
   "outputs": [],
   "source": [
    "def get_ffmpeg_select_argument(frames_sequence: List[int], N: int) -> str:\n",
    "    \"\"\"Produce a string to be used with the FFMPEG command and its \"select\" argument.\n",
    "\n",
    "    :param frames_sequence: linear or not list of frames to extract.\n",
    "                            Example: 0, 12, 24, 36, 48, 60, ...\n",
    "                            or:      6, 23, 27, 42, 50, 68, ...\n",
    "    :param setpts_filter: from FFMPEG manual page:\n",
    "                            \"setpts\" filter, which only sets timestamps and otherwise passes the frames unchanged\n",
    "                          It is expected to be smaller than 1 in can less frames are selected and it is wished to\n",
    "                          speed up the video.\n",
    "                          Usually, it is expected to get 1/FRAMES_SKIP\n",
    "                          Example: *0.25* (for a FRAMES_SKIP of 4)\n",
    "    :return: string to be used to run the FFMPEG command for the \"select\" argument like: ffmpeg -i SZTRA201a08_224.mp4 -vf select='eq(n\\,0)+eq(n\\,12)+eq(n\\,24)+eq(n\\,36)+eq(n\\,48)+eq(n\\,60), setpts=0.08333333333*PTS' -an SZTRA201a08_224_12_random.mp4\n",
    "    \"\"\"\n",
    "    # eq(n\\\\,0)+eq(n\\\\,12)+eq(n\\\\,24)+eq(n\\\\,36)+eq(n\\\\,48)\n",
    "    eq_chain = \"+\".join([f\"eq(n\\,{n})\" for n in frames_sequence])\n",
    "    # change the 'setpts' filter to correct the shift in frames in case of any.\n",
    "    # Else, starting timestamp will be \"FIRST FRAME\" / N (and you will miss most of the desired sequence)\n",
    "    setpts = f\"setpts={1 / N}*PTS-{int(frames_sequence[0] / N)}\"\n",
    "    return f\"'{eq_chain}',{setpts}\"\n",
    "\n",
    "\n",
    "def trivial(interval: int, frames_count: int):\n",
    "    return list(range(0, frames_count, interval)) + (\n",
    "        [] if (frames_count - 1) % interval == 0 else [frames_count - 1]\n",
    "    )"
   ]
  },
  {
   "cell_type": "code",
   "execution_count": 3,
   "metadata": {
    "collapsed": false,
    "pycharm": {
     "name": "#%%\n"
    }
   },
   "outputs": [],
   "source": [
    "# # Adapted from CLIP4Clip: https://github.com/ArrowLuo/CLIP4Clip/blob/master/preprocess/compress_video.py\n",
    "# # but don't change the frame rate as be which to have different frame selection strategies\n",
    "# # and use ffmpeg_to_tqdm helper\n",
    "# def scale_compress_video(input_video_path: Path, output_video_path: Path) -> int:\n",
    "#     logger = logging.getLogger(f\"ffmpeg-{str(output_video_path)}\")\n",
    "#     logger.debug(\"Using ffmpeg to scale and compress an original video.\")\n",
    "\n",
    "#     stream_info = analyze_stream(logger, str(input_video_path))\n",
    "\n",
    "#     command = [\n",
    "#         \"ffmpeg\",\n",
    "#         \"-y\",  # (optional) overwrite output file if it exists\n",
    "#         \"-i\",\n",
    "#         str(input_video_path),\n",
    "#         \"-filter:v\",\n",
    "#         \"scale='if(gt(a,1),trunc(oh*a/2)*2,224)':'if(gt(a,1),224,trunc(ow*a/2)*2)'\",  # scale to 224\n",
    "#         \"-map\",\n",
    "#         \"0:v\",\n",
    "#         \"-vcodec\",\n",
    "#         \"libx264\",  # additionally, change the codec for better\n",
    "#         # compression\n",
    "#         # display codecs with: `ffmpeg -codecs`\n",
    "#         #    '-r', '3',  # frames per second\n",
    "#         str(output_video_path),\n",
    "#     ]\n",
    "#     # to avoid carriage return ('\\r') in ffmpeg output, to mess with the reading of the\n",
    "#     # progress, use 'universal_newlines' argument\n",
    "#     # https://github.com/chriskiehl/Gooey/issues/495#issuecomment-614991802\n",
    "#     ffmpeg_process = subprocess.Popen(\n",
    "#         command,\n",
    "#         stdout=subprocess.PIPE,\n",
    "#         stderr=subprocess.STDOUT,\n",
    "#         universal_newlines=True,\n",
    "#     )\n",
    "\n",
    "#     return ffmpeg_to_tqdm(\n",
    "#         logger,\n",
    "#         ffmpeg_process,\n",
    "#         duration=stream_info.get(\"duration\"),\n",
    "#         tqdm_desc=\"FFMPEG scale down to 224 and encode libx264\",\n",
    "#     ).returncode\n",
    "\n",
    "# # Using Stackoverflow answer, we can select multiple frames with the '+' \"operation\" inside the select\n",
    "# def get_ffmpeg_select_argument(frames_sequence: List[int], setpts_filter: float) -> str:\n",
    "#     \"\"\"Produce a string to be used with the FFMPEG command and its \"select\" argument.\n",
    "\n",
    "#     :param frames_sequence: linear or not list of frames to extract.\n",
    "#                             Example: 0, 12, 24, 36, 48, 60, ...\n",
    "#                             or:      6, 23, 27, 42, 50, 68, ...\n",
    "#     :param setpts_filter: from FFMPEG manual page:\n",
    "#                             \"setpts\" filter, which only sets timestamps and otherwise passes the frames unchanged\n",
    "#                           It is expected to be smaller than 1 in can less frames are selected and it is wished to\n",
    "#                           speed up the video.\n",
    "#                           Usually, it is expected to get 1/FRAMES_SKIP\n",
    "#                           Example: *0.25* (for a FRAMES_SKIP of 4)\n",
    "#     :return: string to be used to run the FFMPEG command for the \"select\" argument like: ffmpeg -i SZTRA201a08_224.mp4 -vf select='eq(n\\,0)+eq(n\\,12)+eq(n\\,24)+eq(n\\,36)+eq(n\\,48)+eq(n\\,60), setpts=0.08333333333*PTS' -an SZTRA201a08_224_12_random.mp4\n",
    "#     \"\"\"\n",
    "#     # eq(n\\\\,0)+eq(n\\\\,12)+eq(n\\\\,24)+eq(n\\\\,36)+eq(n\\\\,48)\n",
    "#     eq_chain = \"+\".join([f\"eq(n\\,{n})\" for n in frames_sequence])\n",
    "#     setpts = f\"setpts={setpts_filter}*PTS\"\n",
    "#     return f\"'{eq_chain}',{setpts}\"\n",
    "#\n",
    "# def extract_frames_in_video(\n",
    "#     frames_sequence: List[int],\n",
    "#     setpts_filter: float,\n",
    "#     input_video_path: Path,\n",
    "#     output_video_path: Path,\n",
    "# ) -> int:\n",
    "#     logger = logging.getLogger(f\"ffmpeg-{str(output_video_path)}\")\n",
    "#     logger.setLevel(logging.INFO)\n",
    "#     logger.debug(\"Using ffmpeg to extract frames from a video.\")\n",
    "\n",
    "#     stream_info = analyze_stream(logger, str(input_video_path))\n",
    "\n",
    "#     command = [\n",
    "#         \"ffmpeg\",\n",
    "#         \"-y\",  # (optional) overwrite output file if it exists\n",
    "#         \"-i\",\n",
    "#         str(input_video_path),\n",
    "#         \"-vf\",\n",
    "#         f\"select={get_ffmpeg_select_argument(frames_sequence, setpts_filter)}\",\n",
    "#         \"-an\",  # _The presence of \"-an\" disables audio stream selection for_ its output\n",
    "#         str(output_video_path),\n",
    "#     ]\n",
    "\n",
    "#     # to avoid carriage return ('\\r') in ffmpeg output, to mess with the reading of the\n",
    "#     # progress, use 'universal_newlines' argument\n",
    "#     # https://github.com/chriskiehl/Gooey/issues/495#issuecomment-614991802\n",
    "#     ffmpeg_process = subprocess.Popen(\n",
    "#         command,\n",
    "#         stdout=subprocess.PIPE,\n",
    "#         stderr=subprocess.STDOUT,\n",
    "#         universal_newlines=True,\n",
    "#     )\n",
    "#     return ffmpeg_to_tqdm(\n",
    "#         logger,\n",
    "#         ffmpeg_process,\n",
    "#         duration=stream_info.get(\"duration\"),\n",
    "#         tqdm_desc=\"FFMPEG select subset of frames\",\n",
    "#     ).returncode\n",
    "\n",
    "\n",
    "# Adapted from CLIP4Clip: https://github.com/ArrowLuo/CLIP4Clip/blob/master/preprocess/compress_video.py\n",
    "# but don't change the frame rate as be which to have different frame selection strategies\n",
    "# use ffmpeg_to_tqdm helper\n",
    "# and directly extract a sequence of frames\n",
    "def scale_compress_select_sequence(\n",
    "    input_video_path: Path,\n",
    "    output_video_path: Path,\n",
    "    frames_sequence: List[int],\n",
    "    N: int,\n",
    ") -> int:\n",
    "    logger = logging.getLogger(f\"ffmpeg-{str(output_video_path)}\")\n",
    "    logger.debug(\"Using ffmpeg to scale and compress and extract sub sequence\")\n",
    "\n",
    "    stream_info = analyze_stream(logger, str(input_video_path))\n",
    "\n",
    "    # to avoid carriage return ('\\r') in ffmpeg output, to mess with the reading of the\n",
    "    # progress, use 'universal_newlines' argument\n",
    "    # https://github.com/chriskiehl/Gooey/issues/495#issuecomment-614991802\n",
    "    ffmpeg_process = subprocess.Popen(\n",
    "        f\"ffmpeg -y -i {str(input_video_path)} -vf \\\"scale='if(gt(a,1),trunc(oh*a/2)*2,224)':'if(gt(a,1),224,trunc(ow*a/2)*2)',select={get_ffmpeg_select_argument(frames_sequence, N)}\\\" -map 0:v -vcodec libx264 {str(output_video_path)}\",\n",
    "        shell=True,\n",
    "        stdout=subprocess.PIPE,\n",
    "        stderr=subprocess.STDOUT,\n",
    "        universal_newlines=True,\n",
    "    )\n",
    "\n",
    "    ffmpeg_to_tqdm(\n",
    "        logger,\n",
    "        ffmpeg_process,\n",
    "        duration=stream_info.get(\"duration\"),\n",
    "        tqdm_desc=\"FFMPEG scale down to 224, select frames and encode libx264\",\n",
    "    )\n",
    "\n",
    "    ffmpeg_process.wait()\n",
    "\n",
    "    return ffmpeg_process.returncode"
   ]
  },
  {
   "cell_type": "code",
   "execution_count": 4,
   "metadata": {
    "collapsed": false,
    "pycharm": {
     "name": "#%%\n"
    }
   },
   "outputs": [],
   "source": [
    "short_fp_df = pd.read_csv(Path(\"..\") / \"data\" / \"handcrafted-metadata\" / \"short_sequences_fp.csv\", index_col=\"filename\")\n",
    "short_tp_df = pd.read_csv(Path(\"..\") / \"data\" / \"handcrafted-metadata\" / \"short_sequences_tp.csv\", index_col=\"filename\")\n",
    "\n",
    "short_df = pd.concat([short_fp_df, short_tp_df])\n",
    "\n",
    "short_df[\"StartTime\"] = pd.to_timedelta(short_df[\"StartTime\"])\n",
    "short_df[\"EndTime\"] = pd.to_timedelta(short_df[\"EndTime\"])"
   ]
  },
  {
   "cell_type": "code",
   "execution_count": 5,
   "metadata": {
    "collapsed": false,
    "pycharm": {
     "name": "#%%\n"
    }
   },
   "outputs": [
    {
     "data": {
      "text/plain": "                            video_duration       StartTime         EndTime  \\\nfilename                                                                     \nSZTR/video/SZTRA202b06.mov          101.00 0 days 00:00:59 0 days 00:01:34   \nSZTR/video/SZTRA104b10.mov          104.48 0 days 00:00:03 0 days 00:00:37   \nSZTR/video/SZTRA201a09.mov          119.48 0 days 00:00:58 0 days 00:01:22   \nSZTR/video/SZTRA202b11.mov          119.60 0 days 00:01:26 0 days 00:01:44   \nSZTR/video/SZTRA203a12.mov          130.32 0 days 00:00:55 0 days 00:01:14   \nSZTR/video/SZTRA103a17.mov           36.40 0 days 00:00:09 0 days 00:00:36   \nSZTR/video/SZTRA203a17.mov           36.40 0 days 00:00:10 0 days 00:00:36   \nSZTR/video/SZTRA202b13.mov           39.20 0 days 00:00:19 0 days 00:00:39   \nSZTR/video/SZTRA102b13.mov           39.20 0 days 00:00:20 0 days 00:00:39   \nSZTR/video/SZTRA203b17.mov           44.32 0 days 00:00:13 0 days 00:00:42   \n\n                            Distance SubjectApproachType SubjectDescription  \\\nfilename                                                                      \nSZTR/video/SZTRA202b06.mov       NaN                 NaN                NaN   \nSZTR/video/SZTRA104b10.mov       NaN                 NaN                NaN   \nSZTR/video/SZTRA201a09.mov       NaN                 NaN                NaN   \nSZTR/video/SZTRA202b11.mov       NaN                 NaN                NaN   \nSZTR/video/SZTRA203a12.mov       NaN                 NaN                NaN   \nSZTR/video/SZTRA103a17.mov      10.0    Walk With Ladder         One person   \nSZTR/video/SZTRA203a17.mov      30.0    Walk With Ladder         One person   \nSZTR/video/SZTRA202b13.mov      10.0    Walk With Ladder         One person   \nSZTR/video/SZTRA102b13.mov      30.0    Walk With Ladder         One person   \nSZTR/video/SZTRA203b17.mov      30.0    Walk With Ladder         One person   \n\n                           SubjectOrientation Classification  Distraction  \\\nfilename                                                                    \nSZTR/video/SZTRA202b06.mov                NaN             FP          NaN   \nSZTR/video/SZTRA104b10.mov                NaN             FP          NaN   \nSZTR/video/SZTRA201a09.mov                NaN             FP          NaN   \nSZTR/video/SZTRA202b11.mov                NaN             FP          NaN   \nSZTR/video/SZTRA203a12.mov                NaN             FP          NaN   \nSZTR/video/SZTRA103a17.mov      Perpendicular             TP          NaN   \nSZTR/video/SZTRA203a17.mov      Perpendicular             TP          NaN   \nSZTR/video/SZTRA202b13.mov      Perpendicular             TP          NaN   \nSZTR/video/SZTRA102b13.mov      Perpendicular             TP          NaN   \nSZTR/video/SZTRA203b17.mov      Perpendicular             TP          NaN   \n\n                            Stage Weather.Clouds  Weather.Fog  Weather.Rain  \\\nfilename                                                                      \nSZTR/video/SZTRA202b06.mov      2           None        False         False   \nSZTR/video/SZTRA104b10.mov      1       Overcast        False         False   \nSZTR/video/SZTRA201a09.mov      2            NaN        False         False   \nSZTR/video/SZTRA202b11.mov      2           None        False         False   \nSZTR/video/SZTRA203a12.mov      2       Overcast        False         False   \nSZTR/video/SZTRA103a17.mov      1       Overcast        False         False   \nSZTR/video/SZTRA203a17.mov      2       Overcast        False         False   \nSZTR/video/SZTRA202b13.mov      2           None        False         False   \nSZTR/video/SZTRA102b13.mov      1           None        False         False   \nSZTR/video/SZTRA203b17.mov      2           None        False         False   \n\n                            Weather.Snow Weather.TimeOfDay  StartFrame  \\\nfilename                                                                 \nSZTR/video/SZTRA202b06.mov         False               Day        1475   \nSZTR/video/SZTRA104b10.mov          True               Day          75   \nSZTR/video/SZTRA201a09.mov         False             Night        1450   \nSZTR/video/SZTRA202b11.mov         False               Day        2150   \nSZTR/video/SZTRA203a12.mov         False               Day        1375   \nSZTR/video/SZTRA103a17.mov         False               Day         225   \nSZTR/video/SZTRA203a17.mov         False               Day         250   \nSZTR/video/SZTRA202b13.mov         False               Day         475   \nSZTR/video/SZTRA102b13.mov         False               Day         500   \nSZTR/video/SZTRA203b17.mov         False               Day         325   \n\n                            EndFrame  DurationFrame  \nfilename                                             \nSZTR/video/SZTRA202b06.mov      2350            875  \nSZTR/video/SZTRA104b10.mov       925            850  \nSZTR/video/SZTRA201a09.mov      2050            600  \nSZTR/video/SZTRA202b11.mov      2600            450  \nSZTR/video/SZTRA203a12.mov      1850            475  \nSZTR/video/SZTRA103a17.mov       900            675  \nSZTR/video/SZTRA203a17.mov       900            650  \nSZTR/video/SZTRA202b13.mov       975            500  \nSZTR/video/SZTRA102b13.mov       975            475  \nSZTR/video/SZTRA203b17.mov      1050            725  ",
      "text/html": "<div>\n<style scoped>\n    .dataframe tbody tr th:only-of-type {\n        vertical-align: middle;\n    }\n\n    .dataframe tbody tr th {\n        vertical-align: top;\n    }\n\n    .dataframe thead th {\n        text-align: right;\n    }\n</style>\n<table border=\"1\" class=\"dataframe\">\n  <thead>\n    <tr style=\"text-align: right;\">\n      <th></th>\n      <th>video_duration</th>\n      <th>StartTime</th>\n      <th>EndTime</th>\n      <th>Distance</th>\n      <th>SubjectApproachType</th>\n      <th>SubjectDescription</th>\n      <th>SubjectOrientation</th>\n      <th>Classification</th>\n      <th>Distraction</th>\n      <th>Stage</th>\n      <th>Weather.Clouds</th>\n      <th>Weather.Fog</th>\n      <th>Weather.Rain</th>\n      <th>Weather.Snow</th>\n      <th>Weather.TimeOfDay</th>\n      <th>StartFrame</th>\n      <th>EndFrame</th>\n      <th>DurationFrame</th>\n    </tr>\n    <tr>\n      <th>filename</th>\n      <th></th>\n      <th></th>\n      <th></th>\n      <th></th>\n      <th></th>\n      <th></th>\n      <th></th>\n      <th></th>\n      <th></th>\n      <th></th>\n      <th></th>\n      <th></th>\n      <th></th>\n      <th></th>\n      <th></th>\n      <th></th>\n      <th></th>\n      <th></th>\n    </tr>\n  </thead>\n  <tbody>\n    <tr>\n      <th>SZTR/video/SZTRA202b06.mov</th>\n      <td>101.00</td>\n      <td>0 days 00:00:59</td>\n      <td>0 days 00:01:34</td>\n      <td>NaN</td>\n      <td>NaN</td>\n      <td>NaN</td>\n      <td>NaN</td>\n      <td>FP</td>\n      <td>NaN</td>\n      <td>2</td>\n      <td>None</td>\n      <td>False</td>\n      <td>False</td>\n      <td>False</td>\n      <td>Day</td>\n      <td>1475</td>\n      <td>2350</td>\n      <td>875</td>\n    </tr>\n    <tr>\n      <th>SZTR/video/SZTRA104b10.mov</th>\n      <td>104.48</td>\n      <td>0 days 00:00:03</td>\n      <td>0 days 00:00:37</td>\n      <td>NaN</td>\n      <td>NaN</td>\n      <td>NaN</td>\n      <td>NaN</td>\n      <td>FP</td>\n      <td>NaN</td>\n      <td>1</td>\n      <td>Overcast</td>\n      <td>False</td>\n      <td>False</td>\n      <td>True</td>\n      <td>Day</td>\n      <td>75</td>\n      <td>925</td>\n      <td>850</td>\n    </tr>\n    <tr>\n      <th>SZTR/video/SZTRA201a09.mov</th>\n      <td>119.48</td>\n      <td>0 days 00:00:58</td>\n      <td>0 days 00:01:22</td>\n      <td>NaN</td>\n      <td>NaN</td>\n      <td>NaN</td>\n      <td>NaN</td>\n      <td>FP</td>\n      <td>NaN</td>\n      <td>2</td>\n      <td>NaN</td>\n      <td>False</td>\n      <td>False</td>\n      <td>False</td>\n      <td>Night</td>\n      <td>1450</td>\n      <td>2050</td>\n      <td>600</td>\n    </tr>\n    <tr>\n      <th>SZTR/video/SZTRA202b11.mov</th>\n      <td>119.60</td>\n      <td>0 days 00:01:26</td>\n      <td>0 days 00:01:44</td>\n      <td>NaN</td>\n      <td>NaN</td>\n      <td>NaN</td>\n      <td>NaN</td>\n      <td>FP</td>\n      <td>NaN</td>\n      <td>2</td>\n      <td>None</td>\n      <td>False</td>\n      <td>False</td>\n      <td>False</td>\n      <td>Day</td>\n      <td>2150</td>\n      <td>2600</td>\n      <td>450</td>\n    </tr>\n    <tr>\n      <th>SZTR/video/SZTRA203a12.mov</th>\n      <td>130.32</td>\n      <td>0 days 00:00:55</td>\n      <td>0 days 00:01:14</td>\n      <td>NaN</td>\n      <td>NaN</td>\n      <td>NaN</td>\n      <td>NaN</td>\n      <td>FP</td>\n      <td>NaN</td>\n      <td>2</td>\n      <td>Overcast</td>\n      <td>False</td>\n      <td>False</td>\n      <td>False</td>\n      <td>Day</td>\n      <td>1375</td>\n      <td>1850</td>\n      <td>475</td>\n    </tr>\n    <tr>\n      <th>SZTR/video/SZTRA103a17.mov</th>\n      <td>36.40</td>\n      <td>0 days 00:00:09</td>\n      <td>0 days 00:00:36</td>\n      <td>10.0</td>\n      <td>Walk With Ladder</td>\n      <td>One person</td>\n      <td>Perpendicular</td>\n      <td>TP</td>\n      <td>NaN</td>\n      <td>1</td>\n      <td>Overcast</td>\n      <td>False</td>\n      <td>False</td>\n      <td>False</td>\n      <td>Day</td>\n      <td>225</td>\n      <td>900</td>\n      <td>675</td>\n    </tr>\n    <tr>\n      <th>SZTR/video/SZTRA203a17.mov</th>\n      <td>36.40</td>\n      <td>0 days 00:00:10</td>\n      <td>0 days 00:00:36</td>\n      <td>30.0</td>\n      <td>Walk With Ladder</td>\n      <td>One person</td>\n      <td>Perpendicular</td>\n      <td>TP</td>\n      <td>NaN</td>\n      <td>2</td>\n      <td>Overcast</td>\n      <td>False</td>\n      <td>False</td>\n      <td>False</td>\n      <td>Day</td>\n      <td>250</td>\n      <td>900</td>\n      <td>650</td>\n    </tr>\n    <tr>\n      <th>SZTR/video/SZTRA202b13.mov</th>\n      <td>39.20</td>\n      <td>0 days 00:00:19</td>\n      <td>0 days 00:00:39</td>\n      <td>10.0</td>\n      <td>Walk With Ladder</td>\n      <td>One person</td>\n      <td>Perpendicular</td>\n      <td>TP</td>\n      <td>NaN</td>\n      <td>2</td>\n      <td>None</td>\n      <td>False</td>\n      <td>False</td>\n      <td>False</td>\n      <td>Day</td>\n      <td>475</td>\n      <td>975</td>\n      <td>500</td>\n    </tr>\n    <tr>\n      <th>SZTR/video/SZTRA102b13.mov</th>\n      <td>39.20</td>\n      <td>0 days 00:00:20</td>\n      <td>0 days 00:00:39</td>\n      <td>30.0</td>\n      <td>Walk With Ladder</td>\n      <td>One person</td>\n      <td>Perpendicular</td>\n      <td>TP</td>\n      <td>NaN</td>\n      <td>1</td>\n      <td>None</td>\n      <td>False</td>\n      <td>False</td>\n      <td>False</td>\n      <td>Day</td>\n      <td>500</td>\n      <td>975</td>\n      <td>475</td>\n    </tr>\n    <tr>\n      <th>SZTR/video/SZTRA203b17.mov</th>\n      <td>44.32</td>\n      <td>0 days 00:00:13</td>\n      <td>0 days 00:00:42</td>\n      <td>30.0</td>\n      <td>Walk With Ladder</td>\n      <td>One person</td>\n      <td>Perpendicular</td>\n      <td>TP</td>\n      <td>NaN</td>\n      <td>2</td>\n      <td>None</td>\n      <td>False</td>\n      <td>False</td>\n      <td>False</td>\n      <td>Day</td>\n      <td>325</td>\n      <td>1050</td>\n      <td>725</td>\n    </tr>\n  </tbody>\n</table>\n</div>"
     },
     "execution_count": 5,
     "metadata": {},
     "output_type": "execute_result"
    }
   ],
   "source": [
    "short_df[\"StartFrame\"] = short_df[\"StartTime\"].dt.seconds * 25\n",
    "short_df[\"EndFrame\"] = short_df[\"EndTime\"].dt.seconds * 25\n",
    "short_df[\"DurationFrame\"] = short_df[\"EndFrame\"] - short_df[\"StartFrame\"]\n",
    "short_df"
   ]
  },
  {
   "cell_type": "code",
   "execution_count": 6,
   "metadata": {
    "collapsed": false,
    "pycharm": {
     "name": "#%%\n"
    }
   },
   "outputs": [
    {
     "data": {
      "text/plain": "filename\nSZTR/video/SZTRA202b06.mov    SZTR_video_SZTRA202b06_00_00_59_FP.mp4\nSZTR/video/SZTRA104b10.mov    SZTR_video_SZTRA104b10_00_00_03_FP.mp4\nSZTR/video/SZTRA201a09.mov    SZTR_video_SZTRA201a09_00_00_58_FP.mp4\nSZTR/video/SZTRA202b11.mov    SZTR_video_SZTRA202b11_00_01_26_FP.mp4\nSZTR/video/SZTRA203a12.mov    SZTR_video_SZTRA203a12_00_00_55_FP.mp4\nName: OutFilename, dtype: object"
     },
     "execution_count": 6,
     "metadata": {},
     "output_type": "execute_result"
    }
   ],
   "source": [
    "short_df[\"OutFilename\"] = (\n",
    "    short_df.index.to_series().apply(\n",
    "        lambda f: str(Path(f).parent / Path(f).stem).replace(\"/\", \"_\")\n",
    "    )\n",
    "    + \"_\"\n",
    "    + short_df[\"StartTime\"].dt.seconds.apply(\n",
    "        lambda secs: strftime(\"%H_%M_%S\", gmtime(secs))\n",
    "    )\n",
    "    + \"_\"\n",
    "    + short_df[\"Classification\"]\n",
    "    + \".mp4\"\n",
    ")\n",
    "short_df[\"OutFilename\"].head()"
   ]
  },
  {
   "cell_type": "code",
   "execution_count": 7,
   "metadata": {
    "collapsed": false,
    "pycharm": {
     "name": "#%%\n"
    }
   },
   "outputs": [
    {
     "name": "stderr",
     "output_type": "stream",
     "text": [
      "Extract sequences: 0it [00:00, ?it/s]"
     ]
    },
    {
     "name": "stdout",
     "output_type": "stream",
     "text": [
      "../SZTR/video/SZTRA202b06.mov ../data/sequences/SZTR_video_SZTRA202b06_00_00_59_FP.mp4 [1475, 1487, 1499, 1511, 1523, 1535, 1547, 1559, 1571, 1583, 1595, 1607, 1619, 1631, 1643, 1655, 1667, 1679, 1691, 1703, 1715, 1727, 1739, 1751, 1763, 1775, 1787, 1799, 1811, 1823, 1835, 1847, 1859, 1871, 1883, 1895, 1907, 1919, 1931, 1943, 1955, 1967, 1979, 1991, 2003, 2015, 2027, 2039, 2051, 2063, 2075, 2087, 2099, 2111, 2123, 2135, 2147, 2159, 2171, 2183, 2195, 2207, 2219, 2231, 2243, 2255, 2267, 2279, 2291, 2303, 2315, 2327, 2339, 2349] 0.08333333333333333\n"
     ]
    },
    {
     "name": "stderr",
     "output_type": "stream",
     "text": [
      "\n",
      "FFMPEG scale down to 224, select frames and encode libx264:   0%|          | 0/101.0 [00:00<?, ?segment/s]\u001B[A\n",
      "FFMPEG scale down to 224, select frames and encode libx264:   0%|          | 0.0/101.0 [00:04<?, ?segment/s]\u001B[A\n",
      "FFMPEG scale down to 224, select frames and encode libx264:   0%|          | 0.0/101.0 [00:04<?, ?segment/s]\u001B[A\n",
      "FFMPEG scale down to 224, select frames and encode libx264:   0%|          | 0.0/101.0 [00:05<?, ?segment/s]\u001B[A\n",
      "FFMPEG scale down to 224, select frames and encode libx264: 103.0segment [00:06, 16.79segment/s]            \u001B[A\n",
      "Extract sequences: 1it [00:06,  6.26s/it]"
     ]
    },
    {
     "name": "stdout",
     "output_type": "stream",
     "text": [
      "../SZTR/video/SZTRA104b10.mov ../data/sequences/SZTR_video_SZTRA104b10_00_00_03_FP.mp4 [75, 87, 99, 111, 123, 135, 147, 159, 171, 183, 195, 207, 219, 231, 243, 255, 267, 279, 291, 303, 315, 327, 339, 351, 363, 375, 387, 399, 411, 423, 435, 447, 459, 471, 483, 495, 507, 519, 531, 543, 555, 567, 579, 591, 603, 615, 627, 639, 651, 663, 675, 687, 699, 711, 723, 735, 747, 759, 771, 783, 795, 807, 819, 831, 843, 855, 867, 879, 891, 903, 915, 924] 0.08333333333333333\n"
     ]
    },
    {
     "name": "stderr",
     "output_type": "stream",
     "text": [
      "\n",
      "FFMPEG scale down to 224, select frames and encode libx264:   0%|          | 0/104.0 [00:00<?, ?segment/s]\u001B[A\n",
      "FFMPEG scale down to 224, select frames and encode libx264:   0%|          | 0.0/104.0 [00:00<?, ?segment/s]\u001B[A\n",
      "FFMPEG scale down to 224, select frames and encode libx264:   0%|          | 0.0/104.0 [00:01<?, ?segment/s]\u001B[A\n",
      "FFMPEG scale down to 224, select frames and encode libx264:   0%|          | 0.0/104.0 [00:01<?, ?segment/s]\u001B[A\n",
      "FFMPEG scale down to 224, select frames and encode libx264:   0%|          | 0.0/104.0 [00:02<?, ?segment/s]\u001B[A\n",
      "FFMPEG scale down to 224, select frames and encode libx264:   0%|          | 0.0/104.0 [00:02<?, ?segment/s]\u001B[A\n",
      "FFMPEG scale down to 224, select frames and encode libx264:   0%|          | 0.0/104.0 [00:03<?, ?segment/s]\u001B[A\n",
      "FFMPEG scale down to 224, select frames and encode libx264:   0%|          | 0.0/104.0 [00:03<?, ?segment/s]\u001B[A\n",
      "FFMPEG scale down to 224, select frames and encode libx264:   0%|          | 0.0/104.0 [00:04<?, ?segment/s]\u001B[A\n",
      "FFMPEG scale down to 224, select frames and encode libx264:   0%|          | 0.0/104.0 [00:04<?, ?segment/s]\u001B[A\n",
      "FFMPEG scale down to 224, select frames and encode libx264:   0%|          | 0.0/104.0 [00:05<?, ?segment/s]\u001B[A\n",
      "FFMPEG scale down to 224, select frames and encode libx264:   0%|          | 0.0/104.0 [00:05<?, ?segment/s]\u001B[A\n",
      "FFMPEG scale down to 224, select frames and encode libx264:   0%|          | 0.0/104.0 [00:06<?, ?segment/s]\u001B[A\n",
      "FFMPEG scale down to 224, select frames and encode libx264:   0%|          | 0.0/104.0 [00:06<?, ?segment/s]\u001B[A\n",
      "FFMPEG scale down to 224, select frames and encode libx264: 106.0segment [00:07, 14.52segment/s]            \u001B[A\n",
      "Extract sequences: 2it [00:13,  6.94s/it]"
     ]
    },
    {
     "name": "stdout",
     "output_type": "stream",
     "text": [
      "../SZTR/video/SZTRA201a09.mov ../data/sequences/SZTR_video_SZTRA201a09_00_00_58_FP.mp4 [1450, 1462, 1474, 1486, 1498, 1510, 1522, 1534, 1546, 1558, 1570, 1582, 1594, 1606, 1618, 1630, 1642, 1654, 1666, 1678, 1690, 1702, 1714, 1726, 1738, 1750, 1762, 1774, 1786, 1798, 1810, 1822, 1834, 1846, 1858, 1870, 1882, 1894, 1906, 1918, 1930, 1942, 1954, 1966, 1978, 1990, 2002, 2014, 2026, 2038, 2049] 0.08333333333333333\n"
     ]
    },
    {
     "name": "stderr",
     "output_type": "stream",
     "text": [
      "\n",
      "FFMPEG scale down to 224, select frames and encode libx264:   0%|          | 0/119.0 [00:00<?, ?segment/s]\u001B[A\n",
      "FFMPEG scale down to 224, select frames and encode libx264:   0%|          | 0.0/119.0 [00:04<?, ?segment/s]\u001B[A\n",
      "FFMPEG scale down to 224, select frames and encode libx264:   0%|          | 0.0/119.0 [00:04<?, ?segment/s]\u001B[A\n",
      "FFMPEG scale down to 224, select frames and encode libx264:   0%|          | 0.0/119.0 [00:05<?, ?segment/s]\u001B[A\n",
      "FFMPEG scale down to 224, select frames and encode libx264:   0%|          | 0.0/119.0 [00:05<?, ?segment/s]\u001B[A\n",
      "FFMPEG scale down to 224, select frames and encode libx264:   0%|          | 0.0/119.0 [00:06<?, ?segment/s]\u001B[A\n",
      "FFMPEG scale down to 224, select frames and encode libx264:   0%|          | 0.0/119.0 [00:06<?, ?segment/s]\u001B[A\n",
      "FFMPEG scale down to 224, select frames and encode libx264:   0%|          | 0.0/119.0 [00:07<?, ?segment/s]\u001B[A\n",
      "FFMPEG scale down to 224, select frames and encode libx264: 120.0segment [00:07, 16.47segment/s]            \u001B[A\n",
      "Extract sequences: 3it [00:21,  7.16s/it]"
     ]
    },
    {
     "name": "stdout",
     "output_type": "stream",
     "text": [
      "../SZTR/video/SZTRA202b11.mov ../data/sequences/SZTR_video_SZTRA202b11_00_01_26_FP.mp4 [2150, 2162, 2174, 2186, 2198, 2210, 2222, 2234, 2246, 2258, 2270, 2282, 2294, 2306, 2318, 2330, 2342, 2354, 2366, 2378, 2390, 2402, 2414, 2426, 2438, 2450, 2462, 2474, 2486, 2498, 2510, 2522, 2534, 2546, 2558, 2570, 2582, 2594, 2599] 0.08333333333333333\n"
     ]
    },
    {
     "name": "stderr",
     "output_type": "stream",
     "text": [
      "\n",
      "FFMPEG scale down to 224, select frames and encode libx264:   0%|          | 0/119.0 [00:00<?, ?segment/s]\u001B[A\n",
      "FFMPEG scale down to 224, select frames and encode libx264:   0%|          | 0.0/119.0 [00:05<?, ?segment/s]\u001B[A\n",
      "FFMPEG scale down to 224, select frames and encode libx264:   0%|          | 0.0/119.0 [00:06<?, ?segment/s]\u001B[A\n",
      "FFMPEG scale down to 224, select frames and encode libx264:   0%|          | 0.0/119.0 [00:06<?, ?segment/s]\u001B[A\n",
      "FFMPEG scale down to 224, select frames and encode libx264: 120.0segment [00:07, 17.00segment/s]            \u001B[A\n",
      "Extract sequences: 4it [00:28,  7.17s/it]"
     ]
    },
    {
     "name": "stdout",
     "output_type": "stream",
     "text": [
      "../SZTR/video/SZTRA203a12.mov ../data/sequences/SZTR_video_SZTRA203a12_00_00_55_FP.mp4 [1375, 1387, 1399, 1411, 1423, 1435, 1447, 1459, 1471, 1483, 1495, 1507, 1519, 1531, 1543, 1555, 1567, 1579, 1591, 1603, 1615, 1627, 1639, 1651, 1663, 1675, 1687, 1699, 1711, 1723, 1735, 1747, 1759, 1771, 1783, 1795, 1807, 1819, 1831, 1843, 1849] 0.08333333333333333\n"
     ]
    },
    {
     "name": "stderr",
     "output_type": "stream",
     "text": [
      "\n",
      "FFMPEG scale down to 224, select frames and encode libx264:   0%|          | 0/130.0 [00:00<?, ?segment/s]\u001B[A\n",
      "FFMPEG scale down to 224, select frames and encode libx264:   0%|          | 0.0/130.0 [00:03<?, ?segment/s]\u001B[A\n",
      "FFMPEG scale down to 224, select frames and encode libx264:   0%|          | 0.0/130.0 [00:04<?, ?segment/s]\u001B[A\n",
      "FFMPEG scale down to 224, select frames and encode libx264:   0%|          | 0.0/130.0 [00:04<?, ?segment/s]\u001B[A\n",
      "FFMPEG scale down to 224, select frames and encode libx264:   0%|          | 0.0/130.0 [00:05<?, ?segment/s]\u001B[A\n",
      "FFMPEG scale down to 224, select frames and encode libx264:   0%|          | 0.0/130.0 [00:05<?, ?segment/s]\u001B[A\n",
      "FFMPEG scale down to 224, select frames and encode libx264:   0%|          | 0.0/130.0 [00:06<?, ?segment/s]\u001B[A\n",
      "FFMPEG scale down to 224, select frames and encode libx264:   0%|          | 0.0/130.0 [00:06<?, ?segment/s]\u001B[A\n",
      "FFMPEG scale down to 224, select frames and encode libx264:   0%|          | 0.0/130.0 [00:07<?, ?segment/s]\u001B[A\n",
      "FFMPEG scale down to 224, select frames and encode libx264: 131.0segment [00:07, 17.58segment/s]            \u001B[A\n",
      "Extract sequences: 5it [00:35,  7.32s/it]"
     ]
    },
    {
     "name": "stdout",
     "output_type": "stream",
     "text": [
      "../SZTR/video/SZTRA103a17.mov ../data/sequences/SZTR_video_SZTRA103a17_00_00_09_TP.mp4 [225, 237, 249, 261, 273, 285, 297, 309, 321, 333, 345, 357, 369, 381, 393, 405, 417, 429, 441, 453, 465, 477, 489, 501, 513, 525, 537, 549, 561, 573, 585, 597, 609, 621, 633, 645, 657, 669, 681, 693, 705, 717, 729, 741, 753, 765, 777, 789, 801, 813, 825, 837, 849, 861, 873, 885, 897, 899] 0.08333333333333333\n"
     ]
    },
    {
     "name": "stderr",
     "output_type": "stream",
     "text": [
      "\n",
      "FFMPEG scale down to 224, select frames and encode libx264:   0%|          | 0/36.0 [00:00<?, ?segment/s]\u001B[A\n",
      "FFMPEG scale down to 224, select frames and encode libx264:   0%|          | 0.0/36.0 [00:01<?, ?segment/s]\u001B[A\n",
      "FFMPEG scale down to 224, select frames and encode libx264:   0%|          | 0.0/36.0 [00:01<?, ?segment/s]\u001B[A\n",
      "FFMPEG scale down to 224, select frames and encode libx264:   0%|          | 0.0/36.0 [00:02<?, ?segment/s]\u001B[A\n",
      "FFMPEG scale down to 224, select frames and encode libx264: 38.0segment [00:02, 14.50segment/s]            \u001B[A\n",
      "Extract sequences: 6it [00:38,  5.77s/it]"
     ]
    },
    {
     "name": "stdout",
     "output_type": "stream",
     "text": [
      "../SZTR/video/SZTRA203a17.mov ../data/sequences/SZTR_video_SZTRA203a17_00_00_10_TP.mp4 [250, 262, 274, 286, 298, 310, 322, 334, 346, 358, 370, 382, 394, 406, 418, 430, 442, 454, 466, 478, 490, 502, 514, 526, 538, 550, 562, 574, 586, 598, 610, 622, 634, 646, 658, 670, 682, 694, 706, 718, 730, 742, 754, 766, 778, 790, 802, 814, 826, 838, 850, 862, 874, 886, 898, 899] 0.08333333333333333\n"
     ]
    },
    {
     "name": "stderr",
     "output_type": "stream",
     "text": [
      "\n",
      "FFMPEG scale down to 224, select frames and encode libx264:   0%|          | 0/36.0 [00:00<?, ?segment/s]\u001B[A\n",
      "FFMPEG scale down to 224, select frames and encode libx264:   0%|          | 0.0/36.0 [00:01<?, ?segment/s]\u001B[A\n",
      "FFMPEG scale down to 224, select frames and encode libx264:   0%|          | 0.0/36.0 [00:01<?, ?segment/s]\u001B[A\n",
      "FFMPEG scale down to 224, select frames and encode libx264:   0%|          | 0.0/36.0 [00:02<?, ?segment/s]\u001B[A\n",
      "FFMPEG scale down to 224, select frames and encode libx264: 38.0segment [00:02, 16.22segment/s]                    \u001B[A\n",
      "Extract sequences: 7it [00:41,  4.68s/it]"
     ]
    },
    {
     "name": "stdout",
     "output_type": "stream",
     "text": [
      "../SZTR/video/SZTRA202b13.mov ../data/sequences/SZTR_video_SZTRA202b13_00_00_19_TP.mp4 [475, 487, 499, 511, 523, 535, 547, 559, 571, 583, 595, 607, 619, 631, 643, 655, 667, 679, 691, 703, 715, 727, 739, 751, 763, 775, 787, 799, 811, 823, 835, 847, 859, 871, 883, 895, 907, 919, 931, 943, 955, 967, 974] 0.08333333333333333\n"
     ]
    },
    {
     "name": "stderr",
     "output_type": "stream",
     "text": [
      "\n",
      "FFMPEG scale down to 224, select frames and encode libx264:   0%|          | 0/39.0 [00:00<?, ?segment/s]\u001B[A\n",
      "FFMPEG scale down to 224, select frames and encode libx264:   0%|          | 0.0/39.0 [00:01<?, ?segment/s]\u001B[A\n",
      "FFMPEG scale down to 224, select frames and encode libx264:   0%|          | 0.0/39.0 [00:02<?, ?segment/s]\u001B[A\n",
      "FFMPEG scale down to 224, select frames and encode libx264: 40.0segment [00:02, 15.16segment/s]            \u001B[A\n",
      "Extract sequences: 8it [00:43,  4.07s/it]"
     ]
    },
    {
     "name": "stdout",
     "output_type": "stream",
     "text": [
      "../SZTR/video/SZTRA102b13.mov ../data/sequences/SZTR_video_SZTRA102b13_00_00_20_TP.mp4 [500, 512, 524, 536, 548, 560, 572, 584, 596, 608, 620, 632, 644, 656, 668, 680, 692, 704, 716, 728, 740, 752, 764, 776, 788, 800, 812, 824, 836, 848, 860, 872, 884, 896, 908, 920, 932, 944, 956, 968, 974] 0.08333333333333333\n"
     ]
    },
    {
     "name": "stderr",
     "output_type": "stream",
     "text": [
      "\n",
      "FFMPEG scale down to 224, select frames and encode libx264:   0%|          | 0/39.0 [00:00<?, ?segment/s]\u001B[A\n",
      "FFMPEG scale down to 224, select frames and encode libx264:   0%|          | 0.0/39.0 [00:02<?, ?segment/s]\u001B[A\n",
      "FFMPEG scale down to 224, select frames and encode libx264:   0%|          | 0.0/39.0 [00:02<?, ?segment/s]\u001B[A\n",
      "FFMPEG scale down to 224, select frames and encode libx264: 40.0segment [00:02, 13.76segment/s]            \u001B[A\n",
      "Extract sequences: 9it [00:46,  3.74s/it]"
     ]
    },
    {
     "name": "stdout",
     "output_type": "stream",
     "text": [
      "../SZTR/video/SZTRA203b17.mov ../data/sequences/SZTR_video_SZTRA203b17_00_00_13_TP.mp4 [325, 337, 349, 361, 373, 385, 397, 409, 421, 433, 445, 457, 469, 481, 493, 505, 517, 529, 541, 553, 565, 577, 589, 601, 613, 625, 637, 649, 661, 673, 685, 697, 709, 721, 733, 745, 757, 769, 781, 793, 805, 817, 829, 841, 853, 865, 877, 889, 901, 913, 925, 937, 949, 961, 973, 985, 997, 1009, 1021, 1033, 1045, 1049] 0.08333333333333333\n"
     ]
    },
    {
     "name": "stderr",
     "output_type": "stream",
     "text": [
      "\n",
      "FFMPEG scale down to 224, select frames and encode libx264:   0%|          | 0/44.0 [00:00<?, ?segment/s]\u001B[A\n",
      "FFMPEG scale down to 224, select frames and encode libx264:   0%|          | 0.0/44.0 [00:01<?, ?segment/s]\u001B[A\n",
      "FFMPEG scale down to 224, select frames and encode libx264:   0%|          | 0.0/44.0 [00:01<?, ?segment/s]\u001B[A\n",
      "FFMPEG scale down to 224, select frames and encode libx264:   0%|          | 0.0/44.0 [00:02<?, ?segment/s]\u001B[A\n",
      "FFMPEG scale down to 224, select frames and encode libx264: 46.0segment [00:02, 15.79segment/s]                    \u001B[A\n",
      "Extract sequences: 10it [00:49,  4.99s/it]\n"
     ]
    }
   ],
   "source": [
    "trivial_twelve = partial(trivial, 12)\n",
    "\n",
    "for _, row in tqdm(short_df.iterrows(), desc=\"Extract sequences\"):\n",
    "    print(\n",
    "        Path(\"..\") / row.name,\n",
    "        Path(\"..\") / \"data\" / \"sequences\" / row[\"OutFilename\"],\n",
    "        (row[\"StartFrame\"] + np.array(trivial_twelve(row[\"DurationFrame\"]))).tolist(),\n",
    "        1 / 12,\n",
    "    )\n",
    "    result = scale_compress_select_sequence(\n",
    "        Path(\"..\") / row.name,\n",
    "        Path(\"..\") / \"data\" / \"sequences\" / row[\"OutFilename\"],\n",
    "        (row[\"StartFrame\"] + np.array(trivial_twelve(row[\"DurationFrame\"]))).tolist(),\n",
    "        12,\n",
    "    )\n",
    "\n",
    "    assert result == 0\n"
   ]
  },
  {
   "cell_type": "code",
   "execution_count": 27,
   "metadata": {},
   "outputs": [
    {
     "name": "stdout",
     "output_type": "stream",
     "text": [
      "2022-09-05 01:37:28,421 - ffmpeg-../data/sequences/SZTR_video_SZTRA202b06_00_00_59_FP.mp4 - DEBUG - Using ffmpeg to scale and compress an original video.\n",
      "2022-09-05 01:37:28,421 - ffmpeg-../data/sequences/SZTR_video_SZTRA202b06_00_00_59_FP.mp4 - DEBUG - Using ffmpeg to scale and compress an original video.\n",
      "2022-09-05 01:37:28,422 - ffmpeg-../data/sequences/SZTR_video_SZTRA202b06_00_00_59_FP.mp4 - DEBUG - Calling PIPE child process for ffmpeg: ['ffmpeg', '-hide_banner', '-i', '../SZTR/video/SZTRA202b06.mov']\n",
      "2022-09-05 01:37:28,422 - ffmpeg-../data/sequences/SZTR_video_SZTRA202b06_00_00_59_FP.mp4 - DEBUG - Calling PIPE child process for ffmpeg: ['ffmpeg', '-hide_banner', '-i', '../SZTR/video/SZTRA202b06.mov']\n"
     ]
    },
    {
     "name": "stderr",
     "output_type": "stream",
     "text": [
      "FFMPEG scale down to 224 and encode libx264:   0%|          | 0/101.0 [00:00<?, ?segment/s]"
     ]
    },
    {
     "name": "stdout",
     "output_type": "stream",
     "text": [
      "2022-09-05 01:37:28,648 - ffmpeg-../data/sequences/SZTR_video_SZTRA202b06_00_00_59_FP.mp4 - DEBUG - [ffmpeg] ffmpeg version 5.1 Copyright (c) 2000-2022 the FFmpeg developers\n",
      "2022-09-05 01:37:28,648 - ffmpeg-../data/sequences/SZTR_video_SZTRA202b06_00_00_59_FP.mp4 - DEBUG - [ffmpeg] ffmpeg version 5.1 Copyright (c) 2000-2022 the FFmpeg developers\n",
      "2022-09-05 01:37:28,650 - ffmpeg-../data/sequences/SZTR_video_SZTRA202b06_00_00_59_FP.mp4 - DEBUG - [ffmpeg] built with Apple clang version 13.1.6 (clang-1316.0.21.2.5)\n",
      "2022-09-05 01:37:28,650 - ffmpeg-../data/sequences/SZTR_video_SZTRA202b06_00_00_59_FP.mp4 - DEBUG - [ffmpeg] built with Apple clang version 13.1.6 (clang-1316.0.21.2.5)\n",
      "2022-09-05 01:37:28,651 - ffmpeg-../data/sequences/SZTR_video_SZTRA202b06_00_00_59_FP.mp4 - DEBUG - [ffmpeg] configuration: --prefix=/usr/local/Cellar/ffmpeg/5.1 --enable-shared --enable-pthreads --enable-version3 --cc=clang --host-cflags= --host-ldflags= --enable-ffplay --enable-gnutls --enable-gpl --enable-libaom --enable-libbluray --enable-libdav1d --enable-libmp3lame --enable-libopus --enable-librav1e --enable-librist --enable-librubberband --enable-libsnappy --enable-libsrt --enable-libtesseract --enable-libtheora --enable-libvidstab --enable-libvmaf --enable-libvorbis --enable-libvpx --enable-libwebp --enable-libx264 --enable-libx265 --enable-libxml2 --enable-libxvid --enable-lzma --enable-libfontconfig --enable-libfreetype --enable-frei0r --enable-libass --enable-libopencore-amrnb --enable-libopencore-amrwb --enable-libopenjpeg --enable-libspeex --enable-libsoxr --enable-libzmq --enable-libzimg --disable-libjack --disable-indev=jack --enable-videotoolbox\n",
      "2022-09-05 01:37:28,651 - ffmpeg-../data/sequences/SZTR_video_SZTRA202b06_00_00_59_FP.mp4 - DEBUG - [ffmpeg] configuration: --prefix=/usr/local/Cellar/ffmpeg/5.1 --enable-shared --enable-pthreads --enable-version3 --cc=clang --host-cflags= --host-ldflags= --enable-ffplay --enable-gnutls --enable-gpl --enable-libaom --enable-libbluray --enable-libdav1d --enable-libmp3lame --enable-libopus --enable-librav1e --enable-librist --enable-librubberband --enable-libsnappy --enable-libsrt --enable-libtesseract --enable-libtheora --enable-libvidstab --enable-libvmaf --enable-libvorbis --enable-libvpx --enable-libwebp --enable-libx264 --enable-libx265 --enable-libxml2 --enable-libxvid --enable-lzma --enable-libfontconfig --enable-libfreetype --enable-frei0r --enable-libass --enable-libopencore-amrnb --enable-libopencore-amrwb --enable-libopenjpeg --enable-libspeex --enable-libsoxr --enable-libzmq --enable-libzimg --disable-libjack --disable-indev=jack --enable-videotoolbox\n",
      "2022-09-05 01:37:28,652 - ffmpeg-../data/sequences/SZTR_video_SZTRA202b06_00_00_59_FP.mp4 - DEBUG - [ffmpeg] libavutil      57. 28.100 / 57. 28.100\n",
      "2022-09-05 01:37:28,652 - ffmpeg-../data/sequences/SZTR_video_SZTRA202b06_00_00_59_FP.mp4 - DEBUG - [ffmpeg] libavutil      57. 28.100 / 57. 28.100\n",
      "2022-09-05 01:37:28,653 - ffmpeg-../data/sequences/SZTR_video_SZTRA202b06_00_00_59_FP.mp4 - DEBUG - [ffmpeg] libavcodec     59. 37.100 / 59. 37.100\n",
      "2022-09-05 01:37:28,653 - ffmpeg-../data/sequences/SZTR_video_SZTRA202b06_00_00_59_FP.mp4 - DEBUG - [ffmpeg] libavcodec     59. 37.100 / 59. 37.100\n",
      "2022-09-05 01:37:28,654 - ffmpeg-../data/sequences/SZTR_video_SZTRA202b06_00_00_59_FP.mp4 - DEBUG - [ffmpeg] libavformat    59. 27.100 / 59. 27.100\n",
      "2022-09-05 01:37:28,654 - ffmpeg-../data/sequences/SZTR_video_SZTRA202b06_00_00_59_FP.mp4 - DEBUG - [ffmpeg] libavformat    59. 27.100 / 59. 27.100\n",
      "2022-09-05 01:37:28,655 - ffmpeg-../data/sequences/SZTR_video_SZTRA202b06_00_00_59_FP.mp4 - DEBUG - [ffmpeg] libavdevice    59.  7.100 / 59.  7.100\n",
      "2022-09-05 01:37:28,655 - ffmpeg-../data/sequences/SZTR_video_SZTRA202b06_00_00_59_FP.mp4 - DEBUG - [ffmpeg] libavdevice    59.  7.100 / 59.  7.100\n",
      "2022-09-05 01:37:28,657 - ffmpeg-../data/sequences/SZTR_video_SZTRA202b06_00_00_59_FP.mp4 - DEBUG - [ffmpeg] libavfilter     8. 44.100 /  8. 44.100\n",
      "2022-09-05 01:37:28,657 - ffmpeg-../data/sequences/SZTR_video_SZTRA202b06_00_00_59_FP.mp4 - DEBUG - [ffmpeg] libavfilter     8. 44.100 /  8. 44.100\n",
      "2022-09-05 01:37:28,658 - ffmpeg-../data/sequences/SZTR_video_SZTRA202b06_00_00_59_FP.mp4 - DEBUG - [ffmpeg] libswscale      6.  7.100 /  6.  7.100\n",
      "2022-09-05 01:37:28,658 - ffmpeg-../data/sequences/SZTR_video_SZTRA202b06_00_00_59_FP.mp4 - DEBUG - [ffmpeg] libswscale      6.  7.100 /  6.  7.100\n",
      "2022-09-05 01:37:28,659 - ffmpeg-../data/sequences/SZTR_video_SZTRA202b06_00_00_59_FP.mp4 - DEBUG - [ffmpeg] libswresample   4.  7.100 /  4.  7.100\n",
      "2022-09-05 01:37:28,659 - ffmpeg-../data/sequences/SZTR_video_SZTRA202b06_00_00_59_FP.mp4 - DEBUG - [ffmpeg] libswresample   4.  7.100 /  4.  7.100\n",
      "2022-09-05 01:37:28,660 - ffmpeg-../data/sequences/SZTR_video_SZTRA202b06_00_00_59_FP.mp4 - DEBUG - [ffmpeg] libpostproc    56.  6.100 / 56.  6.100\n",
      "2022-09-05 01:37:28,660 - ffmpeg-../data/sequences/SZTR_video_SZTRA202b06_00_00_59_FP.mp4 - DEBUG - [ffmpeg] libpostproc    56.  6.100 / 56.  6.100\n",
      "2022-09-05 01:37:28,661 - ffmpeg-../data/sequences/SZTR_video_SZTRA202b06_00_00_59_FP.mp4 - DEBUG - [ffmpeg] Input #0, mov,mp4,m4a,3gp,3g2,mj2, from '../SZTR/video/SZTRA202b06.mov':\n",
      "2022-09-05 01:37:28,661 - ffmpeg-../data/sequences/SZTR_video_SZTRA202b06_00_00_59_FP.mp4 - DEBUG - [ffmpeg] Input #0, mov,mp4,m4a,3gp,3g2,mj2, from '../SZTR/video/SZTRA202b06.mov':\n",
      "2022-09-05 01:37:28,662 - ffmpeg-../data/sequences/SZTR_video_SZTRA202b06_00_00_59_FP.mp4 - DEBUG - [ffmpeg] Metadata:\n",
      "2022-09-05 01:37:28,662 - ffmpeg-../data/sequences/SZTR_video_SZTRA202b06_00_00_59_FP.mp4 - DEBUG - [ffmpeg] Metadata:\n",
      "2022-09-05 01:37:28,662 - ffmpeg-../data/sequences/SZTR_video_SZTRA202b06_00_00_59_FP.mp4 - DEBUG - [ffmpeg] creation_time   : 2005-10-19T03:30:41.000000Z\n",
      "2022-09-05 01:37:28,662 - ffmpeg-../data/sequences/SZTR_video_SZTRA202b06_00_00_59_FP.mp4 - DEBUG - [ffmpeg] creation_time   : 2005-10-19T03:30:41.000000Z\n",
      "2022-09-05 01:37:28,663 - ffmpeg-../data/sequences/SZTR_video_SZTRA202b06_00_00_59_FP.mp4 - DEBUG - [ffmpeg] premiere_version: Created with Adobe Premiere 6.0\n",
      "2022-09-05 01:37:28,663 - ffmpeg-../data/sequences/SZTR_video_SZTRA202b06_00_00_59_FP.mp4 - DEBUG - [ffmpeg] premiere_version: Created with Adobe Premiere 6.0\n",
      "2022-09-05 01:37:28,664 - ffmpeg-../data/sequences/SZTR_video_SZTRA202b06_00_00_59_FP.mp4 - DEBUG - [ffmpeg] Duration: 00:01:41.00, start: 0.000000, bitrate: 28893 kb/s\n",
      "2022-09-05 01:37:28,664 - ffmpeg-../data/sequences/SZTR_video_SZTRA202b06_00_00_59_FP.mp4 - DEBUG - [ffmpeg] Duration: 00:01:41.00, start: 0.000000, bitrate: 28893 kb/s\n",
      "2022-09-05 01:37:28,665 - ffmpeg-../data/sequences/SZTR_video_SZTRA202b06_00_00_59_FP.mp4 - DEBUG - [ffmpeg] Stream #0:0[0x1](eng): Video: mjpeg (Baseline) (mjpa / 0x61706A6D), yuvj422p(pc, bt470bg/unknown/unknown, top first), 720x576 [SAR 72:72 DAR 5:4], 28886 kb/s, SAR 15:16 DAR 75:64, 25 fps, 25 tbr, 25 tbn (default)\n",
      "2022-09-05 01:37:28,665 - ffmpeg-../data/sequences/SZTR_video_SZTRA202b06_00_00_59_FP.mp4 - DEBUG - [ffmpeg] Stream #0:0[0x1](eng): Video: mjpeg (Baseline) (mjpa / 0x61706A6D), yuvj422p(pc, bt470bg/unknown/unknown, top first), 720x576 [SAR 72:72 DAR 5:4], 28886 kb/s, SAR 15:16 DAR 75:64, 25 fps, 25 tbr, 25 tbn (default)\n",
      "2022-09-05 01:37:28,666 - ffmpeg-../data/sequences/SZTR_video_SZTRA202b06_00_00_59_FP.mp4 - DEBUG - [ffmpeg] Metadata:\n",
      "2022-09-05 01:37:28,666 - ffmpeg-../data/sequences/SZTR_video_SZTRA202b06_00_00_59_FP.mp4 - DEBUG - [ffmpeg] Metadata:\n",
      "2022-09-05 01:37:28,667 - ffmpeg-../data/sequences/SZTR_video_SZTRA202b06_00_00_59_FP.mp4 - DEBUG - [ffmpeg] creation_time   : 2005-10-19T03:30:41.000000Z\n",
      "2022-09-05 01:37:28,667 - ffmpeg-../data/sequences/SZTR_video_SZTRA202b06_00_00_59_FP.mp4 - DEBUG - [ffmpeg] creation_time   : 2005-10-19T03:30:41.000000Z\n",
      "2022-09-05 01:37:28,668 - ffmpeg-../data/sequences/SZTR_video_SZTRA202b06_00_00_59_FP.mp4 - DEBUG - [ffmpeg] handler_name    : Apple Video Media Handler\n",
      "2022-09-05 01:37:28,668 - ffmpeg-../data/sequences/SZTR_video_SZTRA202b06_00_00_59_FP.mp4 - DEBUG - [ffmpeg] handler_name    : Apple Video Media Handler\n",
      "2022-09-05 01:37:28,669 - ffmpeg-../data/sequences/SZTR_video_SZTRA202b06_00_00_59_FP.mp4 - DEBUG - [ffmpeg] vendor_id       : appl\n",
      "2022-09-05 01:37:28,669 - ffmpeg-../data/sequences/SZTR_video_SZTRA202b06_00_00_59_FP.mp4 - DEBUG - [ffmpeg] vendor_id       : appl\n",
      "2022-09-05 01:37:28,670 - ffmpeg-../data/sequences/SZTR_video_SZTRA202b06_00_00_59_FP.mp4 - DEBUG - [ffmpeg] encoder         : Motion JPEG A\n",
      "2022-09-05 01:37:28,670 - ffmpeg-../data/sequences/SZTR_video_SZTRA202b06_00_00_59_FP.mp4 - DEBUG - [ffmpeg] encoder         : Motion JPEG A\n",
      "2022-09-05 01:37:28,671 - ffmpeg-../data/sequences/SZTR_video_SZTRA202b06_00_00_59_FP.mp4 - DEBUG - [ffmpeg] Stream mapping:\n",
      "2022-09-05 01:37:28,671 - ffmpeg-../data/sequences/SZTR_video_SZTRA202b06_00_00_59_FP.mp4 - DEBUG - [ffmpeg] Stream mapping:\n",
      "2022-09-05 01:37:28,673 - ffmpeg-../data/sequences/SZTR_video_SZTRA202b06_00_00_59_FP.mp4 - DEBUG - [ffmpeg] Stream #0:0 -> #0:0 (mjpeg (native) -> h264 (libx264))\n",
      "2022-09-05 01:37:28,673 - ffmpeg-../data/sequences/SZTR_video_SZTRA202b06_00_00_59_FP.mp4 - DEBUG - [ffmpeg] Stream #0:0 -> #0:0 (mjpeg (native) -> h264 (libx264))\n",
      "2022-09-05 01:37:28,674 - ffmpeg-../data/sequences/SZTR_video_SZTRA202b06_00_00_59_FP.mp4 - DEBUG - [ffmpeg] Press [q] to stop, [?] for help\n",
      "2022-09-05 01:37:28,674 - ffmpeg-../data/sequences/SZTR_video_SZTRA202b06_00_00_59_FP.mp4 - DEBUG - [ffmpeg] Press [q] to stop, [?] for help\n",
      "2022-09-05 01:37:28,675 - ffmpeg-../data/sequences/SZTR_video_SZTRA202b06_00_00_59_FP.mp4 - DEBUG - [ffmpeg] [Parsed_scale_0 @ 0x7fc6f57040c0] Circular references detected for width 'if(gt(a,1),trunc(oh*a/2)*2,224)' and height 'if(gt(a,1),224,trunc(ow*a/2)*2)' - possibly invalid.\n",
      "2022-09-05 01:37:28,675 - ffmpeg-../data/sequences/SZTR_video_SZTRA202b06_00_00_59_FP.mp4 - DEBUG - [ffmpeg] [Parsed_scale_0 @ 0x7fc6f57040c0] Circular references detected for width 'if(gt(a,1),trunc(oh*a/2)*2,224)' and height 'if(gt(a,1),224,trunc(ow*a/2)*2)' - possibly invalid.\n",
      "2022-09-05 01:37:28,677 - ffmpeg-../data/sequences/SZTR_video_SZTRA202b06_00_00_59_FP.mp4 - DEBUG - [ffmpeg] [swscaler @ 0x7fc710118000] [swscaler @ 0x7fc718008000] deprecated pixel format used, make sure you did set range correctly\n",
      "2022-09-05 01:37:28,677 - ffmpeg-../data/sequences/SZTR_video_SZTRA202b06_00_00_59_FP.mp4 - DEBUG - [ffmpeg] [swscaler @ 0x7fc710118000] [swscaler @ 0x7fc718008000] deprecated pixel format used, make sure you did set range correctly\n",
      "2022-09-05 01:37:28,678 - ffmpeg-../data/sequences/SZTR_video_SZTRA202b06_00_00_59_FP.mp4 - DEBUG - [ffmpeg] [swscaler @ 0x7fc710118000] [swscaler @ 0x7fc718018000] deprecated pixel format used, make sure you did set range correctly\n",
      "2022-09-05 01:37:28,678 - ffmpeg-../data/sequences/SZTR_video_SZTRA202b06_00_00_59_FP.mp4 - DEBUG - [ffmpeg] [swscaler @ 0x7fc710118000] [swscaler @ 0x7fc718018000] deprecated pixel format used, make sure you did set range correctly\n",
      "2022-09-05 01:37:28,679 - ffmpeg-../data/sequences/SZTR_video_SZTRA202b06_00_00_59_FP.mp4 - DEBUG - [ffmpeg] [swscaler @ 0x7fc710118000] [swscaler @ 0x7fc6f8040000] deprecated pixel format used, make sure you did set range correctly\n",
      "2022-09-05 01:37:28,679 - ffmpeg-../data/sequences/SZTR_video_SZTRA202b06_00_00_59_FP.mp4 - DEBUG - [ffmpeg] [swscaler @ 0x7fc710118000] [swscaler @ 0x7fc6f8040000] deprecated pixel format used, make sure you did set range correctly\n",
      "2022-09-05 01:37:28,680 - ffmpeg-../data/sequences/SZTR_video_SZTRA202b06_00_00_59_FP.mp4 - DEBUG - [ffmpeg] [swscaler @ 0x7fc710118000] [swscaler @ 0x7fc6f8050000] deprecated pixel format used, make sure you did set range correctly\n",
      "2022-09-05 01:37:28,680 - ffmpeg-../data/sequences/SZTR_video_SZTRA202b06_00_00_59_FP.mp4 - DEBUG - [ffmpeg] [swscaler @ 0x7fc710118000] [swscaler @ 0x7fc6f8050000] deprecated pixel format used, make sure you did set range correctly\n",
      "2022-09-05 01:37:28,681 - ffmpeg-../data/sequences/SZTR_video_SZTRA202b06_00_00_59_FP.mp4 - DEBUG - [ffmpeg] [swscaler @ 0x7fc710118000] [swscaler @ 0x7fc6e8008000] deprecated pixel format used, make sure you did set range correctly\n",
      "2022-09-05 01:37:28,681 - ffmpeg-../data/sequences/SZTR_video_SZTRA202b06_00_00_59_FP.mp4 - DEBUG - [ffmpeg] [swscaler @ 0x7fc710118000] [swscaler @ 0x7fc6e8008000] deprecated pixel format used, make sure you did set range correctly\n",
      "2022-09-05 01:37:28,682 - ffmpeg-../data/sequences/SZTR_video_SZTRA202b06_00_00_59_FP.mp4 - DEBUG - [ffmpeg] [swscaler @ 0x7fc710118000] [swscaler @ 0x7fc6e8018000] deprecated pixel format used, make sure you did set range correctly\n",
      "2022-09-05 01:37:28,682 - ffmpeg-../data/sequences/SZTR_video_SZTRA202b06_00_00_59_FP.mp4 - DEBUG - [ffmpeg] [swscaler @ 0x7fc710118000] [swscaler @ 0x7fc6e8018000] deprecated pixel format used, make sure you did set range correctly\n",
      "2022-09-05 01:37:28,683 - ffmpeg-../data/sequences/SZTR_video_SZTRA202b06_00_00_59_FP.mp4 - DEBUG - [ffmpeg] [swscaler @ 0x7fc710118000] [swscaler @ 0x7fc6e8028000] deprecated pixel format used, make sure you did set range correctly\n",
      "2022-09-05 01:37:28,683 - ffmpeg-../data/sequences/SZTR_video_SZTRA202b06_00_00_59_FP.mp4 - DEBUG - [ffmpeg] [swscaler @ 0x7fc710118000] [swscaler @ 0x7fc6e8028000] deprecated pixel format used, make sure you did set range correctly\n",
      "2022-09-05 01:37:28,684 - ffmpeg-../data/sequences/SZTR_video_SZTRA202b06_00_00_59_FP.mp4 - DEBUG - [ffmpeg] [swscaler @ 0x7fc710118000] [swscaler @ 0x7fc6e8038000] deprecated pixel format used, make sure you did set range correctly\n",
      "2022-09-05 01:37:28,684 - ffmpeg-../data/sequences/SZTR_video_SZTRA202b06_00_00_59_FP.mp4 - DEBUG - [ffmpeg] [swscaler @ 0x7fc710118000] [swscaler @ 0x7fc6e8038000] deprecated pixel format used, make sure you did set range correctly\n",
      "2022-09-05 01:37:28,685 - ffmpeg-../data/sequences/SZTR_video_SZTRA202b06_00_00_59_FP.mp4 - DEBUG - [ffmpeg] [swscaler @ 0x7fc710118000] [swscaler @ 0x7fc6e8048000] deprecated pixel format used, make sure you did set range correctly\n",
      "2022-09-05 01:37:28,685 - ffmpeg-../data/sequences/SZTR_video_SZTRA202b06_00_00_59_FP.mp4 - DEBUG - [ffmpeg] [swscaler @ 0x7fc710118000] [swscaler @ 0x7fc6e8048000] deprecated pixel format used, make sure you did set range correctly\n",
      "2022-09-05 01:37:28,687 - ffmpeg-../data/sequences/SZTR_video_SZTRA202b06_00_00_59_FP.mp4 - DEBUG - [ffmpeg] [swscaler @ 0x7fc710118000] [swscaler @ 0x7fc6e8058000] deprecated pixel format used, make sure you did set range correctly\n",
      "2022-09-05 01:37:28,687 - ffmpeg-../data/sequences/SZTR_video_SZTRA202b06_00_00_59_FP.mp4 - DEBUG - [ffmpeg] [swscaler @ 0x7fc710118000] [swscaler @ 0x7fc6e8058000] deprecated pixel format used, make sure you did set range correctly\n",
      "2022-09-05 01:37:28,687 - ffmpeg-../data/sequences/SZTR_video_SZTRA202b06_00_00_59_FP.mp4 - DEBUG - [ffmpeg] [swscaler @ 0x7fc710118000] [swscaler @ 0x7fc6e8068000] deprecated pixel format used, make sure you did set range correctly\n",
      "2022-09-05 01:37:28,687 - ffmpeg-../data/sequences/SZTR_video_SZTRA202b06_00_00_59_FP.mp4 - DEBUG - [ffmpeg] [swscaler @ 0x7fc710118000] [swscaler @ 0x7fc6e8068000] deprecated pixel format used, make sure you did set range correctly\n",
      "2022-09-05 01:37:28,689 - ffmpeg-../data/sequences/SZTR_video_SZTRA202b06_00_00_59_FP.mp4 - DEBUG - [ffmpeg] [swscaler @ 0x7fc710118000] [swscaler @ 0x7fc6e8078000] deprecated pixel format used, make sure you did set range correctly\n",
      "2022-09-05 01:37:28,689 - ffmpeg-../data/sequences/SZTR_video_SZTRA202b06_00_00_59_FP.mp4 - DEBUG - [ffmpeg] [swscaler @ 0x7fc710118000] [swscaler @ 0x7fc6e8078000] deprecated pixel format used, make sure you did set range correctly\n",
      "2022-09-05 01:37:28,690 - ffmpeg-../data/sequences/SZTR_video_SZTRA202b06_00_00_59_FP.mp4 - DEBUG - [ffmpeg] [swscaler @ 0x7fc710118000] [swscaler @ 0x7fc6e8088000] deprecated pixel format used, make sure you did set range correctly\n",
      "2022-09-05 01:37:28,690 - ffmpeg-../data/sequences/SZTR_video_SZTRA202b06_00_00_59_FP.mp4 - DEBUG - [ffmpeg] [swscaler @ 0x7fc710118000] [swscaler @ 0x7fc6e8088000] deprecated pixel format used, make sure you did set range correctly\n",
      "2022-09-05 01:37:28,691 - ffmpeg-../data/sequences/SZTR_video_SZTRA202b06_00_00_59_FP.mp4 - DEBUG - [ffmpeg] [swscaler @ 0x7fc710118000] [swscaler @ 0x7fc6e8098000] deprecated pixel format used, make sure you did set range correctly\n",
      "2022-09-05 01:37:28,691 - ffmpeg-../data/sequences/SZTR_video_SZTRA202b06_00_00_59_FP.mp4 - DEBUG - [ffmpeg] [swscaler @ 0x7fc710118000] [swscaler @ 0x7fc6e8098000] deprecated pixel format used, make sure you did set range correctly\n",
      "2022-09-05 01:37:28,692 - ffmpeg-../data/sequences/SZTR_video_SZTRA202b06_00_00_59_FP.mp4 - DEBUG - [ffmpeg] [swscaler @ 0x7fc710118000] [swscaler @ 0x7fc6e80a8000] deprecated pixel format used, make sure you did set range correctly\n",
      "2022-09-05 01:37:28,692 - ffmpeg-../data/sequences/SZTR_video_SZTRA202b06_00_00_59_FP.mp4 - DEBUG - [ffmpeg] [swscaler @ 0x7fc710118000] [swscaler @ 0x7fc6e80a8000] deprecated pixel format used, make sure you did set range correctly\n",
      "2022-09-05 01:37:28,692 - ffmpeg-../data/sequences/SZTR_video_SZTRA202b06_00_00_59_FP.mp4 - DEBUG - [ffmpeg] [swscaler @ 0x7fc710118000] [swscaler @ 0x7fc6e80b8000] deprecated pixel format used, make sure you did set range correctly\n",
      "2022-09-05 01:37:28,692 - ffmpeg-../data/sequences/SZTR_video_SZTRA202b06_00_00_59_FP.mp4 - DEBUG - [ffmpeg] [swscaler @ 0x7fc710118000] [swscaler @ 0x7fc6e80b8000] deprecated pixel format used, make sure you did set range correctly\n",
      "2022-09-05 01:37:28,693 - ffmpeg-../data/sequences/SZTR_video_SZTRA202b06_00_00_59_FP.mp4 - DEBUG - [ffmpeg] [swscaler @ 0x7fc710118000] [swscaler @ 0x7fc6e80c8000] deprecated pixel format used, make sure you did set range correctly\n",
      "2022-09-05 01:37:28,693 - ffmpeg-../data/sequences/SZTR_video_SZTRA202b06_00_00_59_FP.mp4 - DEBUG - [ffmpeg] [swscaler @ 0x7fc710118000] [swscaler @ 0x7fc6e80c8000] deprecated pixel format used, make sure you did set range correctly\n",
      "2022-09-05 01:37:28,694 - ffmpeg-../data/sequences/SZTR_video_SZTRA202b06_00_00_59_FP.mp4 - DEBUG - [ffmpeg] [swscaler @ 0x7fc718018000] [swscaler @ 0x7fc708008000] deprecated pixel format used, make sure you did set range correctly\n",
      "2022-09-05 01:37:28,694 - ffmpeg-../data/sequences/SZTR_video_SZTRA202b06_00_00_59_FP.mp4 - DEBUG - [ffmpeg] [swscaler @ 0x7fc718018000] [swscaler @ 0x7fc708008000] deprecated pixel format used, make sure you did set range correctly\n",
      "2022-09-05 01:37:28,695 - ffmpeg-../data/sequences/SZTR_video_SZTRA202b06_00_00_59_FP.mp4 - DEBUG - [ffmpeg] [swscaler @ 0x7fc718018000] [swscaler @ 0x7fc708080000] deprecated pixel format used, make sure you did set range correctly\n",
      "2022-09-05 01:37:28,695 - ffmpeg-../data/sequences/SZTR_video_SZTRA202b06_00_00_59_FP.mp4 - DEBUG - [ffmpeg] [swscaler @ 0x7fc718018000] [swscaler @ 0x7fc708080000] deprecated pixel format used, make sure you did set range correctly\n",
      "2022-09-05 01:37:28,696 - ffmpeg-../data/sequences/SZTR_video_SZTRA202b06_00_00_59_FP.mp4 - DEBUG - [ffmpeg] [swscaler @ 0x7fc718018000] [swscaler @ 0x7fc708090000] deprecated pixel format used, make sure you did set range correctly\n",
      "2022-09-05 01:37:28,696 - ffmpeg-../data/sequences/SZTR_video_SZTRA202b06_00_00_59_FP.mp4 - DEBUG - [ffmpeg] [swscaler @ 0x7fc718018000] [swscaler @ 0x7fc708090000] deprecated pixel format used, make sure you did set range correctly\n",
      "2022-09-05 01:37:28,697 - ffmpeg-../data/sequences/SZTR_video_SZTRA202b06_00_00_59_FP.mp4 - DEBUG - [ffmpeg] [swscaler @ 0x7fc718018000] [swscaler @ 0x7fc7080a0000] deprecated pixel format used, make sure you did set range correctly\n",
      "2022-09-05 01:37:28,697 - ffmpeg-../data/sequences/SZTR_video_SZTRA202b06_00_00_59_FP.mp4 - DEBUG - [ffmpeg] [swscaler @ 0x7fc718018000] [swscaler @ 0x7fc7080a0000] deprecated pixel format used, make sure you did set range correctly\n",
      "2022-09-05 01:37:28,698 - ffmpeg-../data/sequences/SZTR_video_SZTRA202b06_00_00_59_FP.mp4 - DEBUG - [ffmpeg] [swscaler @ 0x7fc718018000] [swscaler @ 0x7fc7080b0000] deprecated pixel format used, make sure you did set range correctly\n",
      "2022-09-05 01:37:28,698 - ffmpeg-../data/sequences/SZTR_video_SZTRA202b06_00_00_59_FP.mp4 - DEBUG - [ffmpeg] [swscaler @ 0x7fc718018000] [swscaler @ 0x7fc7080b0000] deprecated pixel format used, make sure you did set range correctly\n",
      "2022-09-05 01:37:28,699 - ffmpeg-../data/sequences/SZTR_video_SZTRA202b06_00_00_59_FP.mp4 - DEBUG - [ffmpeg] [swscaler @ 0x7fc718018000] [swscaler @ 0x7fc7080c0000] deprecated pixel format used, make sure you did set range correctly\n",
      "2022-09-05 01:37:28,699 - ffmpeg-../data/sequences/SZTR_video_SZTRA202b06_00_00_59_FP.mp4 - DEBUG - [ffmpeg] [swscaler @ 0x7fc718018000] [swscaler @ 0x7fc7080c0000] deprecated pixel format used, make sure you did set range correctly\n",
      "2022-09-05 01:37:28,700 - ffmpeg-../data/sequences/SZTR_video_SZTRA202b06_00_00_59_FP.mp4 - DEBUG - [ffmpeg] [swscaler @ 0x7fc718018000] [swscaler @ 0x7fc7080d0000] deprecated pixel format used, make sure you did set range correctly\n",
      "2022-09-05 01:37:28,700 - ffmpeg-../data/sequences/SZTR_video_SZTRA202b06_00_00_59_FP.mp4 - DEBUG - [ffmpeg] [swscaler @ 0x7fc718018000] [swscaler @ 0x7fc7080d0000] deprecated pixel format used, make sure you did set range correctly\n",
      "2022-09-05 01:37:28,701 - ffmpeg-../data/sequences/SZTR_video_SZTRA202b06_00_00_59_FP.mp4 - DEBUG - [ffmpeg] [swscaler @ 0x7fc718018000] [swscaler @ 0x7fc7080e0000] deprecated pixel format used, make sure you did set range correctly\n",
      "2022-09-05 01:37:28,701 - ffmpeg-../data/sequences/SZTR_video_SZTRA202b06_00_00_59_FP.mp4 - DEBUG - [ffmpeg] [swscaler @ 0x7fc718018000] [swscaler @ 0x7fc7080e0000] deprecated pixel format used, make sure you did set range correctly\n",
      "2022-09-05 01:37:28,701 - ffmpeg-../data/sequences/SZTR_video_SZTRA202b06_00_00_59_FP.mp4 - DEBUG - [ffmpeg] [swscaler @ 0x7fc718018000] [swscaler @ 0x7fc7080f0000] deprecated pixel format used, make sure you did set range correctly\n",
      "2022-09-05 01:37:28,701 - ffmpeg-../data/sequences/SZTR_video_SZTRA202b06_00_00_59_FP.mp4 - DEBUG - [ffmpeg] [swscaler @ 0x7fc718018000] [swscaler @ 0x7fc7080f0000] deprecated pixel format used, make sure you did set range correctly\n",
      "2022-09-05 01:37:28,703 - ffmpeg-../data/sequences/SZTR_video_SZTRA202b06_00_00_59_FP.mp4 - DEBUG - [ffmpeg] [swscaler @ 0x7fc718018000] [swscaler @ 0x7fc6e80c8000] deprecated pixel format used, make sure you did set range correctly\n",
      "2022-09-05 01:37:28,703 - ffmpeg-../data/sequences/SZTR_video_SZTRA202b06_00_00_59_FP.mp4 - DEBUG - [ffmpeg] [swscaler @ 0x7fc718018000] [swscaler @ 0x7fc6e80c8000] deprecated pixel format used, make sure you did set range correctly\n",
      "2022-09-05 01:37:28,703 - ffmpeg-../data/sequences/SZTR_video_SZTRA202b06_00_00_59_FP.mp4 - DEBUG - [ffmpeg] [swscaler @ 0x7fc718018000] [swscaler @ 0x7fc6e8008000] deprecated pixel format used, make sure you did set range correctly\n",
      "2022-09-05 01:37:28,703 - ffmpeg-../data/sequences/SZTR_video_SZTRA202b06_00_00_59_FP.mp4 - DEBUG - [ffmpeg] [swscaler @ 0x7fc718018000] [swscaler @ 0x7fc6e8008000] deprecated pixel format used, make sure you did set range correctly\n",
      "2022-09-05 01:37:28,705 - ffmpeg-../data/sequences/SZTR_video_SZTRA202b06_00_00_59_FP.mp4 - DEBUG - [ffmpeg] [swscaler @ 0x7fc718018000] [swscaler @ 0x7fc6e8018000] deprecated pixel format used, make sure you did set range correctly\n",
      "2022-09-05 01:37:28,705 - ffmpeg-../data/sequences/SZTR_video_SZTRA202b06_00_00_59_FP.mp4 - DEBUG - [ffmpeg] [swscaler @ 0x7fc718018000] [swscaler @ 0x7fc6e8018000] deprecated pixel format used, make sure you did set range correctly\n",
      "2022-09-05 01:37:28,706 - ffmpeg-../data/sequences/SZTR_video_SZTRA202b06_00_00_59_FP.mp4 - DEBUG - [ffmpeg] [swscaler @ 0x7fc718018000] [swscaler @ 0x7fc6e8028000] deprecated pixel format used, make sure you did set range correctly\n",
      "2022-09-05 01:37:28,706 - ffmpeg-../data/sequences/SZTR_video_SZTRA202b06_00_00_59_FP.mp4 - DEBUG - [ffmpeg] [swscaler @ 0x7fc718018000] [swscaler @ 0x7fc6e8028000] deprecated pixel format used, make sure you did set range correctly\n",
      "2022-09-05 01:37:28,707 - ffmpeg-../data/sequences/SZTR_video_SZTRA202b06_00_00_59_FP.mp4 - DEBUG - [ffmpeg] [swscaler @ 0x7fc718018000] [swscaler @ 0x7fc6e8038000] deprecated pixel format used, make sure you did set range correctly\n",
      "2022-09-05 01:37:28,707 - ffmpeg-../data/sequences/SZTR_video_SZTRA202b06_00_00_59_FP.mp4 - DEBUG - [ffmpeg] [swscaler @ 0x7fc718018000] [swscaler @ 0x7fc6e8038000] deprecated pixel format used, make sure you did set range correctly\n",
      "2022-09-05 01:37:28,708 - ffmpeg-../data/sequences/SZTR_video_SZTRA202b06_00_00_59_FP.mp4 - DEBUG - [ffmpeg] [swscaler @ 0x7fc718018000] [swscaler @ 0x7fc6e8048000] deprecated pixel format used, make sure you did set range correctly\n",
      "2022-09-05 01:37:28,708 - ffmpeg-../data/sequences/SZTR_video_SZTRA202b06_00_00_59_FP.mp4 - DEBUG - [ffmpeg] [swscaler @ 0x7fc718018000] [swscaler @ 0x7fc6e8048000] deprecated pixel format used, make sure you did set range correctly\n",
      "2022-09-05 01:37:28,709 - ffmpeg-../data/sequences/SZTR_video_SZTRA202b06_00_00_59_FP.mp4 - DEBUG - [ffmpeg] [swscaler @ 0x7fc718018000] [swscaler @ 0x7fc728008000] deprecated pixel format used, make sure you did set range correctly\n",
      "2022-09-05 01:37:28,709 - ffmpeg-../data/sequences/SZTR_video_SZTRA202b06_00_00_59_FP.mp4 - DEBUG - [ffmpeg] [swscaler @ 0x7fc718018000] [swscaler @ 0x7fc728008000] deprecated pixel format used, make sure you did set range correctly\n",
      "2022-09-05 01:37:28,709 - ffmpeg-../data/sequences/SZTR_video_SZTRA202b06_00_00_59_FP.mp4 - DEBUG - [ffmpeg] [swscaler @ 0x7fc718018000] [swscaler @ 0x7fc728018000] deprecated pixel format used, make sure you did set range correctly\n",
      "2022-09-05 01:37:28,709 - ffmpeg-../data/sequences/SZTR_video_SZTRA202b06_00_00_59_FP.mp4 - DEBUG - [ffmpeg] [swscaler @ 0x7fc718018000] [swscaler @ 0x7fc728018000] deprecated pixel format used, make sure you did set range correctly\n",
      "2022-09-05 01:37:28,710 - ffmpeg-../data/sequences/SZTR_video_SZTRA202b06_00_00_59_FP.mp4 - DEBUG - [ffmpeg] [swscaler @ 0x7fc710118000] [swscaler @ 0x7fc6e8048000] deprecated pixel format used, make sure you did set range correctly\n",
      "2022-09-05 01:37:28,710 - ffmpeg-../data/sequences/SZTR_video_SZTRA202b06_00_00_59_FP.mp4 - DEBUG - [ffmpeg] [swscaler @ 0x7fc710118000] [swscaler @ 0x7fc6e8048000] deprecated pixel format used, make sure you did set range correctly\n",
      "2022-09-05 01:37:28,711 - ffmpeg-../data/sequences/SZTR_video_SZTRA202b06_00_00_59_FP.mp4 - DEBUG - [ffmpeg] [swscaler @ 0x7fc710118000] [swscaler @ 0x7fc7080f0000] deprecated pixel format used, make sure you did set range correctly\n",
      "2022-09-05 01:37:28,711 - ffmpeg-../data/sequences/SZTR_video_SZTRA202b06_00_00_59_FP.mp4 - DEBUG - [ffmpeg] [swscaler @ 0x7fc710118000] [swscaler @ 0x7fc7080f0000] deprecated pixel format used, make sure you did set range correctly\n",
      "2022-09-05 01:37:28,712 - ffmpeg-../data/sequences/SZTR_video_SZTRA202b06_00_00_59_FP.mp4 - DEBUG - [ffmpeg] [swscaler @ 0x7fc710118000] [swscaler @ 0x7fc710128000] deprecated pixel format used, make sure you did set range correctly\n",
      "2022-09-05 01:37:28,712 - ffmpeg-../data/sequences/SZTR_video_SZTRA202b06_00_00_59_FP.mp4 - DEBUG - [ffmpeg] [swscaler @ 0x7fc710118000] [swscaler @ 0x7fc710128000] deprecated pixel format used, make sure you did set range correctly\n",
      "2022-09-05 01:37:28,713 - ffmpeg-../data/sequences/SZTR_video_SZTRA202b06_00_00_59_FP.mp4 - DEBUG - [ffmpeg] [swscaler @ 0x7fc710118000] [swscaler @ 0x7fc708008000] deprecated pixel format used, make sure you did set range correctly\n",
      "2022-09-05 01:37:28,713 - ffmpeg-../data/sequences/SZTR_video_SZTRA202b06_00_00_59_FP.mp4 - DEBUG - [ffmpeg] [swscaler @ 0x7fc710118000] [swscaler @ 0x7fc708008000] deprecated pixel format used, make sure you did set range correctly\n",
      "2022-09-05 01:37:28,714 - ffmpeg-../data/sequences/SZTR_video_SZTRA202b06_00_00_59_FP.mp4 - DEBUG - [ffmpeg] [swscaler @ 0x7fc710118000] [swscaler @ 0x7fc710138000] deprecated pixel format used, make sure you did set range correctly\n",
      "2022-09-05 01:37:28,714 - ffmpeg-../data/sequences/SZTR_video_SZTRA202b06_00_00_59_FP.mp4 - DEBUG - [ffmpeg] [swscaler @ 0x7fc710118000] [swscaler @ 0x7fc710138000] deprecated pixel format used, make sure you did set range correctly\n",
      "2022-09-05 01:37:28,715 - ffmpeg-../data/sequences/SZTR_video_SZTRA202b06_00_00_59_FP.mp4 - DEBUG - [ffmpeg] [swscaler @ 0x7fc710118000] [swscaler @ 0x7fc710148000] deprecated pixel format used, make sure you did set range correctly\n",
      "2022-09-05 01:37:28,715 - ffmpeg-../data/sequences/SZTR_video_SZTRA202b06_00_00_59_FP.mp4 - DEBUG - [ffmpeg] [swscaler @ 0x7fc710118000] [swscaler @ 0x7fc710148000] deprecated pixel format used, make sure you did set range correctly\n",
      "2022-09-05 01:37:28,716 - ffmpeg-../data/sequences/SZTR_video_SZTRA202b06_00_00_59_FP.mp4 - DEBUG - [ffmpeg] [swscaler @ 0x7fc710118000] [swscaler @ 0x7fc6d8008000] deprecated pixel format used, make sure you did set range correctly\n",
      "2022-09-05 01:37:28,716 - ffmpeg-../data/sequences/SZTR_video_SZTRA202b06_00_00_59_FP.mp4 - DEBUG - [ffmpeg] [swscaler @ 0x7fc710118000] [swscaler @ 0x7fc6d8008000] deprecated pixel format used, make sure you did set range correctly\n",
      "2022-09-05 01:37:28,717 - ffmpeg-../data/sequences/SZTR_video_SZTRA202b06_00_00_59_FP.mp4 - DEBUG - [ffmpeg] [swscaler @ 0x7fc710118000] [swscaler @ 0x7fc6d8018000] deprecated pixel format used, make sure you did set range correctly\n",
      "2022-09-05 01:37:28,717 - ffmpeg-../data/sequences/SZTR_video_SZTRA202b06_00_00_59_FP.mp4 - DEBUG - [ffmpeg] [swscaler @ 0x7fc710118000] [swscaler @ 0x7fc6d8018000] deprecated pixel format used, make sure you did set range correctly\n",
      "2022-09-05 01:37:28,718 - ffmpeg-../data/sequences/SZTR_video_SZTRA202b06_00_00_59_FP.mp4 - DEBUG - [ffmpeg] [swscaler @ 0x7fc710118000] [swscaler @ 0x7fc6d8028000] deprecated pixel format used, make sure you did set range correctly\n",
      "2022-09-05 01:37:28,718 - ffmpeg-../data/sequences/SZTR_video_SZTRA202b06_00_00_59_FP.mp4 - DEBUG - [ffmpeg] [swscaler @ 0x7fc710118000] [swscaler @ 0x7fc6d8028000] deprecated pixel format used, make sure you did set range correctly\n",
      "2022-09-05 01:37:28,719 - ffmpeg-../data/sequences/SZTR_video_SZTRA202b06_00_00_59_FP.mp4 - DEBUG - [ffmpeg] [swscaler @ 0x7fc710118000] [swscaler @ 0x7fc6d8038000] deprecated pixel format used, make sure you did set range correctly\n",
      "2022-09-05 01:37:28,719 - ffmpeg-../data/sequences/SZTR_video_SZTRA202b06_00_00_59_FP.mp4 - DEBUG - [ffmpeg] [swscaler @ 0x7fc710118000] [swscaler @ 0x7fc6d8038000] deprecated pixel format used, make sure you did set range correctly\n",
      "2022-09-05 01:37:28,719 - ffmpeg-../data/sequences/SZTR_video_SZTRA202b06_00_00_59_FP.mp4 - DEBUG - [ffmpeg] [swscaler @ 0x7fc710118000] [swscaler @ 0x7fc6d8048000] deprecated pixel format used, make sure you did set range correctly\n",
      "2022-09-05 01:37:28,719 - ffmpeg-../data/sequences/SZTR_video_SZTRA202b06_00_00_59_FP.mp4 - DEBUG - [ffmpeg] [swscaler @ 0x7fc710118000] [swscaler @ 0x7fc6d8048000] deprecated pixel format used, make sure you did set range correctly\n",
      "2022-09-05 01:37:28,720 - ffmpeg-../data/sequences/SZTR_video_SZTRA202b06_00_00_59_FP.mp4 - DEBUG - [ffmpeg] [swscaler @ 0x7fc710118000] [swscaler @ 0x7fc6d8058000] deprecated pixel format used, make sure you did set range correctly\n",
      "2022-09-05 01:37:28,720 - ffmpeg-../data/sequences/SZTR_video_SZTRA202b06_00_00_59_FP.mp4 - DEBUG - [ffmpeg] [swscaler @ 0x7fc710118000] [swscaler @ 0x7fc6d8058000] deprecated pixel format used, make sure you did set range correctly\n",
      "2022-09-05 01:37:28,721 - ffmpeg-../data/sequences/SZTR_video_SZTRA202b06_00_00_59_FP.mp4 - DEBUG - [ffmpeg] [swscaler @ 0x7fc710118000] [swscaler @ 0x7fc6d8068000] deprecated pixel format used, make sure you did set range correctly\n",
      "2022-09-05 01:37:28,721 - ffmpeg-../data/sequences/SZTR_video_SZTRA202b06_00_00_59_FP.mp4 - DEBUG - [ffmpeg] [swscaler @ 0x7fc710118000] [swscaler @ 0x7fc6d8068000] deprecated pixel format used, make sure you did set range correctly\n",
      "2022-09-05 01:37:28,722 - ffmpeg-../data/sequences/SZTR_video_SZTRA202b06_00_00_59_FP.mp4 - DEBUG - [ffmpeg] [swscaler @ 0x7fc710118000] [swscaler @ 0x7fc6d8078000] deprecated pixel format used, make sure you did set range correctly\n",
      "2022-09-05 01:37:28,722 - ffmpeg-../data/sequences/SZTR_video_SZTRA202b06_00_00_59_FP.mp4 - DEBUG - [ffmpeg] [swscaler @ 0x7fc710118000] [swscaler @ 0x7fc6d8078000] deprecated pixel format used, make sure you did set range correctly\n",
      "2022-09-05 01:37:28,723 - ffmpeg-../data/sequences/SZTR_video_SZTRA202b06_00_00_59_FP.mp4 - DEBUG - [ffmpeg] [swscaler @ 0x7fc710118000] [swscaler @ 0x7fc6d8088000] deprecated pixel format used, make sure you did set range correctly\n",
      "2022-09-05 01:37:28,723 - ffmpeg-../data/sequences/SZTR_video_SZTRA202b06_00_00_59_FP.mp4 - DEBUG - [ffmpeg] [swscaler @ 0x7fc710118000] [swscaler @ 0x7fc6d8088000] deprecated pixel format used, make sure you did set range correctly\n",
      "2022-09-05 01:37:28,725 - ffmpeg-../data/sequences/SZTR_video_SZTRA202b06_00_00_59_FP.mp4 - DEBUG - [ffmpeg] [swscaler @ 0x7fc710118000] [swscaler @ 0x7fc6d8098000] deprecated pixel format used, make sure you did set range correctly\n",
      "2022-09-05 01:37:28,725 - ffmpeg-../data/sequences/SZTR_video_SZTRA202b06_00_00_59_FP.mp4 - DEBUG - [ffmpeg] [swscaler @ 0x7fc710118000] [swscaler @ 0x7fc6d8098000] deprecated pixel format used, make sure you did set range correctly\n",
      "2022-09-05 01:37:28,726 - ffmpeg-../data/sequences/SZTR_video_SZTRA202b06_00_00_59_FP.mp4 - DEBUG - [ffmpeg] [swscaler @ 0x7fc710118000] [swscaler @ 0x7fc6d80a8000] deprecated pixel format used, make sure you did set range correctly\n",
      "2022-09-05 01:37:28,726 - ffmpeg-../data/sequences/SZTR_video_SZTRA202b06_00_00_59_FP.mp4 - DEBUG - [ffmpeg] [swscaler @ 0x7fc710118000] [swscaler @ 0x7fc6d80a8000] deprecated pixel format used, make sure you did set range correctly\n",
      "2022-09-05 01:37:28,727 - ffmpeg-../data/sequences/SZTR_video_SZTRA202b06_00_00_59_FP.mp4 - DEBUG - [ffmpeg] [swscaler @ 0x7fc6f8050000] [swscaler @ 0x7fc708008000] deprecated pixel format used, make sure you did set range correctly\n",
      "2022-09-05 01:37:28,727 - ffmpeg-../data/sequences/SZTR_video_SZTRA202b06_00_00_59_FP.mp4 - DEBUG - [ffmpeg] [swscaler @ 0x7fc6f8050000] [swscaler @ 0x7fc708008000] deprecated pixel format used, make sure you did set range correctly\n",
      "2022-09-05 01:37:28,728 - ffmpeg-../data/sequences/SZTR_video_SZTRA202b06_00_00_59_FP.mp4 - DEBUG - [ffmpeg] [swscaler @ 0x7fc6f8050000] [swscaler @ 0x7fc6d80a8000] deprecated pixel format used, make sure you did set range correctly\n",
      "2022-09-05 01:37:28,728 - ffmpeg-../data/sequences/SZTR_video_SZTRA202b06_00_00_59_FP.mp4 - DEBUG - [ffmpeg] [swscaler @ 0x7fc6f8050000] [swscaler @ 0x7fc6d80a8000] deprecated pixel format used, make sure you did set range correctly\n",
      "2022-09-05 01:37:28,728 - ffmpeg-../data/sequences/SZTR_video_SZTRA202b06_00_00_59_FP.mp4 - DEBUG - [ffmpeg] [swscaler @ 0x7fc6f8050000] [swscaler @ 0x7fc6f8040000] deprecated pixel format used, make sure you did set range correctly\n",
      "2022-09-05 01:37:28,728 - ffmpeg-../data/sequences/SZTR_video_SZTRA202b06_00_00_59_FP.mp4 - DEBUG - [ffmpeg] [swscaler @ 0x7fc6f8050000] [swscaler @ 0x7fc6f8040000] deprecated pixel format used, make sure you did set range correctly\n",
      "2022-09-05 01:37:28,732 - ffmpeg-../data/sequences/SZTR_video_SZTRA202b06_00_00_59_FP.mp4 - DEBUG - [ffmpeg] [swscaler @ 0x7fc6f8050000] [swscaler @ 0x7fc6f8060000] deprecated pixel format used, make sure you did set range correctly\n",
      "2022-09-05 01:37:28,732 - ffmpeg-../data/sequences/SZTR_video_SZTRA202b06_00_00_59_FP.mp4 - DEBUG - [ffmpeg] [swscaler @ 0x7fc6f8050000] [swscaler @ 0x7fc6f8060000] deprecated pixel format used, make sure you did set range correctly\n",
      "2022-09-05 01:37:28,733 - ffmpeg-../data/sequences/SZTR_video_SZTRA202b06_00_00_59_FP.mp4 - DEBUG - [ffmpeg] [swscaler @ 0x7fc6f8050000] [swscaler @ 0x7fc6f8070000] deprecated pixel format used, make sure you did set range correctly\n",
      "2022-09-05 01:37:28,733 - ffmpeg-../data/sequences/SZTR_video_SZTRA202b06_00_00_59_FP.mp4 - DEBUG - [ffmpeg] [swscaler @ 0x7fc6f8050000] [swscaler @ 0x7fc6f8070000] deprecated pixel format used, make sure you did set range correctly\n",
      "2022-09-05 01:37:28,734 - ffmpeg-../data/sequences/SZTR_video_SZTRA202b06_00_00_59_FP.mp4 - DEBUG - [ffmpeg] [swscaler @ 0x7fc6f8050000] [swscaler @ 0x7fc6f8080000] deprecated pixel format used, make sure you did set range correctly\n",
      "2022-09-05 01:37:28,734 - ffmpeg-../data/sequences/SZTR_video_SZTRA202b06_00_00_59_FP.mp4 - DEBUG - [ffmpeg] [swscaler @ 0x7fc6f8050000] [swscaler @ 0x7fc6f8080000] deprecated pixel format used, make sure you did set range correctly\n",
      "2022-09-05 01:37:28,735 - ffmpeg-../data/sequences/SZTR_video_SZTRA202b06_00_00_59_FP.mp4 - DEBUG - [ffmpeg] [swscaler @ 0x7fc6f8050000] [swscaler @ 0x7fc6f8090000] deprecated pixel format used, make sure you did set range correctly\n",
      "2022-09-05 01:37:28,735 - ffmpeg-../data/sequences/SZTR_video_SZTRA202b06_00_00_59_FP.mp4 - DEBUG - [ffmpeg] [swscaler @ 0x7fc6f8050000] [swscaler @ 0x7fc6f8090000] deprecated pixel format used, make sure you did set range correctly\n",
      "2022-09-05 01:37:28,736 - ffmpeg-../data/sequences/SZTR_video_SZTRA202b06_00_00_59_FP.mp4 - DEBUG - [ffmpeg] [swscaler @ 0x7fc6f8050000] [swscaler @ 0x7fc6f80a0000] deprecated pixel format used, make sure you did set range correctly\n",
      "2022-09-05 01:37:28,736 - ffmpeg-../data/sequences/SZTR_video_SZTRA202b06_00_00_59_FP.mp4 - DEBUG - [ffmpeg] [swscaler @ 0x7fc6f8050000] [swscaler @ 0x7fc6f80a0000] deprecated pixel format used, make sure you did set range correctly\n",
      "2022-09-05 01:37:28,737 - ffmpeg-../data/sequences/SZTR_video_SZTRA202b06_00_00_59_FP.mp4 - DEBUG - [ffmpeg] [swscaler @ 0x7fc6f8050000] [swscaler @ 0x7fc6f80b0000] deprecated pixel format used, make sure you did set range correctly\n",
      "2022-09-05 01:37:28,737 - ffmpeg-../data/sequences/SZTR_video_SZTRA202b06_00_00_59_FP.mp4 - DEBUG - [ffmpeg] [swscaler @ 0x7fc6f8050000] [swscaler @ 0x7fc6f80b0000] deprecated pixel format used, make sure you did set range correctly\n",
      "2022-09-05 01:37:28,738 - ffmpeg-../data/sequences/SZTR_video_SZTRA202b06_00_00_59_FP.mp4 - DEBUG - [ffmpeg] [swscaler @ 0x7fc6f8050000] [swscaler @ 0x7fc6f80c0000] deprecated pixel format used, make sure you did set range correctly\n",
      "2022-09-05 01:37:28,738 - ffmpeg-../data/sequences/SZTR_video_SZTRA202b06_00_00_59_FP.mp4 - DEBUG - [ffmpeg] [swscaler @ 0x7fc6f8050000] [swscaler @ 0x7fc6f80c0000] deprecated pixel format used, make sure you did set range correctly\n",
      "2022-09-05 01:37:28,739 - ffmpeg-../data/sequences/SZTR_video_SZTRA202b06_00_00_59_FP.mp4 - DEBUG - [ffmpeg] [swscaler @ 0x7fc6f8050000] [swscaler @ 0x7fc6f80d0000] deprecated pixel format used, make sure you did set range correctly\n",
      "2022-09-05 01:37:28,739 - ffmpeg-../data/sequences/SZTR_video_SZTRA202b06_00_00_59_FP.mp4 - DEBUG - [ffmpeg] [swscaler @ 0x7fc6f8050000] [swscaler @ 0x7fc6f80d0000] deprecated pixel format used, make sure you did set range correctly\n",
      "2022-09-05 01:37:28,739 - ffmpeg-../data/sequences/SZTR_video_SZTRA202b06_00_00_59_FP.mp4 - DEBUG - [ffmpeg] [swscaler @ 0x7fc6f8050000] [swscaler @ 0x7fc6f80e0000] deprecated pixel format used, make sure you did set range correctly\n",
      "2022-09-05 01:37:28,739 - ffmpeg-../data/sequences/SZTR_video_SZTRA202b06_00_00_59_FP.mp4 - DEBUG - [ffmpeg] [swscaler @ 0x7fc6f8050000] [swscaler @ 0x7fc6f80e0000] deprecated pixel format used, make sure you did set range correctly\n",
      "2022-09-05 01:37:28,740 - ffmpeg-../data/sequences/SZTR_video_SZTRA202b06_00_00_59_FP.mp4 - DEBUG - [ffmpeg] [swscaler @ 0x7fc6f8050000] [swscaler @ 0x7fc6f80f0000] deprecated pixel format used, make sure you did set range correctly\n",
      "2022-09-05 01:37:28,740 - ffmpeg-../data/sequences/SZTR_video_SZTRA202b06_00_00_59_FP.mp4 - DEBUG - [ffmpeg] [swscaler @ 0x7fc6f8050000] [swscaler @ 0x7fc6f80f0000] deprecated pixel format used, make sure you did set range correctly\n",
      "2022-09-05 01:37:28,741 - ffmpeg-../data/sequences/SZTR_video_SZTRA202b06_00_00_59_FP.mp4 - DEBUG - [ffmpeg] [swscaler @ 0x7fc6f8050000] [swscaler @ 0x7fc6f8100000] deprecated pixel format used, make sure you did set range correctly\n",
      "2022-09-05 01:37:28,741 - ffmpeg-../data/sequences/SZTR_video_SZTRA202b06_00_00_59_FP.mp4 - DEBUG - [ffmpeg] [swscaler @ 0x7fc6f8050000] [swscaler @ 0x7fc6f8100000] deprecated pixel format used, make sure you did set range correctly\n",
      "2022-09-05 01:37:28,742 - ffmpeg-../data/sequences/SZTR_video_SZTRA202b06_00_00_59_FP.mp4 - DEBUG - [ffmpeg] [swscaler @ 0x7fc6f8050000] [swscaler @ 0x7fc6f8110000] deprecated pixel format used, make sure you did set range correctly\n",
      "2022-09-05 01:37:28,742 - ffmpeg-../data/sequences/SZTR_video_SZTRA202b06_00_00_59_FP.mp4 - DEBUG - [ffmpeg] [swscaler @ 0x7fc6f8050000] [swscaler @ 0x7fc6f8110000] deprecated pixel format used, make sure you did set range correctly\n",
      "2022-09-05 01:37:28,743 - ffmpeg-../data/sequences/SZTR_video_SZTRA202b06_00_00_59_FP.mp4 - DEBUG - [ffmpeg] [swscaler @ 0x7fc6f8050000] [swscaler @ 0x7fc6f8120000] deprecated pixel format used, make sure you did set range correctly\n",
      "2022-09-05 01:37:28,743 - ffmpeg-../data/sequences/SZTR_video_SZTRA202b06_00_00_59_FP.mp4 - DEBUG - [ffmpeg] [swscaler @ 0x7fc6f8050000] [swscaler @ 0x7fc6f8120000] deprecated pixel format used, make sure you did set range correctly\n",
      "2022-09-05 01:37:28,744 - ffmpeg-../data/sequences/SZTR_video_SZTRA202b06_00_00_59_FP.mp4 - DEBUG - [ffmpeg] [swscaler @ 0x7fc6f8050000] [swscaler @ 0x7fc6f8130000] deprecated pixel format used, make sure you did set range correctly\n",
      "2022-09-05 01:37:28,744 - ffmpeg-../data/sequences/SZTR_video_SZTRA202b06_00_00_59_FP.mp4 - DEBUG - [ffmpeg] [swscaler @ 0x7fc6f8050000] [swscaler @ 0x7fc6f8130000] deprecated pixel format used, make sure you did set range correctly\n",
      "2022-09-05 01:37:28,745 - ffmpeg-../data/sequences/SZTR_video_SZTRA202b06_00_00_59_FP.mp4 - DEBUG - [ffmpeg] [libx264 @ 0x7fc72572f240] using SAR=15/16\n",
      "2022-09-05 01:37:28,745 - ffmpeg-../data/sequences/SZTR_video_SZTRA202b06_00_00_59_FP.mp4 - DEBUG - [ffmpeg] [libx264 @ 0x7fc72572f240] using SAR=15/16\n",
      "2022-09-05 01:37:28,746 - ffmpeg-../data/sequences/SZTR_video_SZTRA202b06_00_00_59_FP.mp4 - DEBUG - [ffmpeg] [libx264 @ 0x7fc72572f240] using cpu capabilities: MMX2 SSE2Fast SSSE3 SSE4.2 AVX FMA3 BMI2 AVX2\n",
      "2022-09-05 01:37:28,746 - ffmpeg-../data/sequences/SZTR_video_SZTRA202b06_00_00_59_FP.mp4 - DEBUG - [ffmpeg] [libx264 @ 0x7fc72572f240] using cpu capabilities: MMX2 SSE2Fast SSSE3 SSE4.2 AVX FMA3 BMI2 AVX2\n",
      "2022-09-05 01:37:28,747 - ffmpeg-../data/sequences/SZTR_video_SZTRA202b06_00_00_59_FP.mp4 - DEBUG - [ffmpeg] [libx264 @ 0x7fc72572f240] profile High 4:2:2, level 1.3, 4:2:2, 8-bit\n",
      "2022-09-05 01:37:28,747 - ffmpeg-../data/sequences/SZTR_video_SZTRA202b06_00_00_59_FP.mp4 - DEBUG - [ffmpeg] [libx264 @ 0x7fc72572f240] profile High 4:2:2, level 1.3, 4:2:2, 8-bit\n",
      "2022-09-05 01:37:28,748 - ffmpeg-../data/sequences/SZTR_video_SZTRA202b06_00_00_59_FP.mp4 - DEBUG - [ffmpeg] [libx264 @ 0x7fc72572f240] 264 - core 164 r3095 baee400 - H.264/MPEG-4 AVC codec - Copyleft 2003-2022 - http://www.videolan.org/x264.html - options: cabac=1 ref=3 deblock=1:0:0 analyse=0x3:0x113 me=hex subme=7 psy=1 psy_rd=1.00:0.00 mixed_ref=1 me_range=16 chroma_me=1 trellis=1 8x8dct=1 cqm=0 deadzone=21,11 fast_pskip=1 chroma_qp_offset=-2 threads=7 lookahead_threads=1 sliced_threads=0 nr=0 decimate=1 interlaced=0 bluray_compat=0 constrained_intra=0 bframes=3 b_pyramid=2 b_adapt=1 b_bias=0 direct=1 weightb=1 open_gop=0 weightp=2 keyint=250 keyint_min=25 scenecut=40 intra_refresh=0 rc_lookahead=40 rc=crf mbtree=1 crf=23.0 qcomp=0.60 qpmin=0 qpmax=69 qpstep=4 ip_ratio=1.40 aq=1:1.00\n",
      "2022-09-05 01:37:28,748 - ffmpeg-../data/sequences/SZTR_video_SZTRA202b06_00_00_59_FP.mp4 - DEBUG - [ffmpeg] [libx264 @ 0x7fc72572f240] 264 - core 164 r3095 baee400 - H.264/MPEG-4 AVC codec - Copyleft 2003-2022 - http://www.videolan.org/x264.html - options: cabac=1 ref=3 deblock=1:0:0 analyse=0x3:0x113 me=hex subme=7 psy=1 psy_rd=1.00:0.00 mixed_ref=1 me_range=16 chroma_me=1 trellis=1 8x8dct=1 cqm=0 deadzone=21,11 fast_pskip=1 chroma_qp_offset=-2 threads=7 lookahead_threads=1 sliced_threads=0 nr=0 decimate=1 interlaced=0 bluray_compat=0 constrained_intra=0 bframes=3 b_pyramid=2 b_adapt=1 b_bias=0 direct=1 weightb=1 open_gop=0 weightp=2 keyint=250 keyint_min=25 scenecut=40 intra_refresh=0 rc_lookahead=40 rc=crf mbtree=1 crf=23.0 qcomp=0.60 qpmin=0 qpmax=69 qpstep=4 ip_ratio=1.40 aq=1:1.00\n",
      "2022-09-05 01:37:28,749 - ffmpeg-../data/sequences/SZTR_video_SZTRA202b06_00_00_59_FP.mp4 - DEBUG - [ffmpeg] Output #0, mp4, to '../data/sequences/SZTR_video_SZTRA202b06_00_00_59_FP.mp4':\n",
      "2022-09-05 01:37:28,749 - ffmpeg-../data/sequences/SZTR_video_SZTRA202b06_00_00_59_FP.mp4 - DEBUG - [ffmpeg] Output #0, mp4, to '../data/sequences/SZTR_video_SZTRA202b06_00_00_59_FP.mp4':\n",
      "2022-09-05 01:37:28,749 - ffmpeg-../data/sequences/SZTR_video_SZTRA202b06_00_00_59_FP.mp4 - DEBUG - [ffmpeg] Metadata:\n",
      "2022-09-05 01:37:28,749 - ffmpeg-../data/sequences/SZTR_video_SZTRA202b06_00_00_59_FP.mp4 - DEBUG - [ffmpeg] Metadata:\n",
      "2022-09-05 01:37:28,750 - ffmpeg-../data/sequences/SZTR_video_SZTRA202b06_00_00_59_FP.mp4 - DEBUG - [ffmpeg] premiere_version: Created with Adobe Premiere 6.0\n",
      "2022-09-05 01:37:28,750 - ffmpeg-../data/sequences/SZTR_video_SZTRA202b06_00_00_59_FP.mp4 - DEBUG - [ffmpeg] premiere_version: Created with Adobe Premiere 6.0\n",
      "2022-09-05 01:37:28,751 - ffmpeg-../data/sequences/SZTR_video_SZTRA202b06_00_00_59_FP.mp4 - DEBUG - [ffmpeg] encoder         : Lavf59.27.100\n",
      "2022-09-05 01:37:28,751 - ffmpeg-../data/sequences/SZTR_video_SZTRA202b06_00_00_59_FP.mp4 - DEBUG - [ffmpeg] encoder         : Lavf59.27.100\n",
      "2022-09-05 01:37:28,752 - ffmpeg-../data/sequences/SZTR_video_SZTRA202b06_00_00_59_FP.mp4 - DEBUG - [ffmpeg] Stream #0:0(eng): Video: h264 (avc1 / 0x31637661), yuvj422p(pc, bt470bg/unknown/unknown, progressive), 280x224 [SAR 15:16 DAR 75:64], q=2-31, 25 fps, 12800 tbn (default)\n",
      "2022-09-05 01:37:28,752 - ffmpeg-../data/sequences/SZTR_video_SZTRA202b06_00_00_59_FP.mp4 - DEBUG - [ffmpeg] Stream #0:0(eng): Video: h264 (avc1 / 0x31637661), yuvj422p(pc, bt470bg/unknown/unknown, progressive), 280x224 [SAR 15:16 DAR 75:64], q=2-31, 25 fps, 12800 tbn (default)\n",
      "2022-09-05 01:37:28,753 - ffmpeg-../data/sequences/SZTR_video_SZTRA202b06_00_00_59_FP.mp4 - DEBUG - [ffmpeg] Metadata:\n",
      "2022-09-05 01:37:28,753 - ffmpeg-../data/sequences/SZTR_video_SZTRA202b06_00_00_59_FP.mp4 - DEBUG - [ffmpeg] Metadata:\n",
      "2022-09-05 01:37:28,753 - ffmpeg-../data/sequences/SZTR_video_SZTRA202b06_00_00_59_FP.mp4 - DEBUG - [ffmpeg] creation_time   : 2005-10-19T03:30:41.000000Z\n",
      "2022-09-05 01:37:28,753 - ffmpeg-../data/sequences/SZTR_video_SZTRA202b06_00_00_59_FP.mp4 - DEBUG - [ffmpeg] creation_time   : 2005-10-19T03:30:41.000000Z\n",
      "2022-09-05 01:37:28,754 - ffmpeg-../data/sequences/SZTR_video_SZTRA202b06_00_00_59_FP.mp4 - DEBUG - [ffmpeg] handler_name    : Apple Video Media Handler\n",
      "2022-09-05 01:37:28,754 - ffmpeg-../data/sequences/SZTR_video_SZTRA202b06_00_00_59_FP.mp4 - DEBUG - [ffmpeg] handler_name    : Apple Video Media Handler\n",
      "2022-09-05 01:37:28,755 - ffmpeg-../data/sequences/SZTR_video_SZTRA202b06_00_00_59_FP.mp4 - DEBUG - [ffmpeg] vendor_id       : appl\n",
      "2022-09-05 01:37:28,755 - ffmpeg-../data/sequences/SZTR_video_SZTRA202b06_00_00_59_FP.mp4 - DEBUG - [ffmpeg] vendor_id       : appl\n",
      "2022-09-05 01:37:28,756 - ffmpeg-../data/sequences/SZTR_video_SZTRA202b06_00_00_59_FP.mp4 - DEBUG - [ffmpeg] encoder         : Lavc59.37.100 libx264\n",
      "2022-09-05 01:37:28,756 - ffmpeg-../data/sequences/SZTR_video_SZTRA202b06_00_00_59_FP.mp4 - DEBUG - [ffmpeg] encoder         : Lavc59.37.100 libx264\n",
      "2022-09-05 01:37:28,757 - ffmpeg-../data/sequences/SZTR_video_SZTRA202b06_00_00_59_FP.mp4 - DEBUG - [ffmpeg] Side data:\n",
      "2022-09-05 01:37:28,757 - ffmpeg-../data/sequences/SZTR_video_SZTRA202b06_00_00_59_FP.mp4 - DEBUG - [ffmpeg] Side data:\n",
      "2022-09-05 01:37:28,758 - ffmpeg-../data/sequences/SZTR_video_SZTRA202b06_00_00_59_FP.mp4 - DEBUG - [ffmpeg] cpb: bitrate max/min/avg: 0/0/0 buffer size: 0 vbv_delay: N/A\n",
      "2022-09-05 01:37:28,758 - ffmpeg-../data/sequences/SZTR_video_SZTRA202b06_00_00_59_FP.mp4 - DEBUG - [ffmpeg] cpb: bitrate max/min/avg: 0/0/0 buffer size: 0 vbv_delay: N/A\n",
      "2022-09-05 01:37:29,157 - ffmpeg-../data/sequences/SZTR_video_SZTRA202b06_00_00_59_FP.mp4 - DEBUG - [ffmpeg] frame=    1 fps=0.0 q=0.0 size=       0kB time=00:00:00.00 bitrate=N/A speed=   0x\n",
      "2022-09-05 01:37:29,157 - ffmpeg-../data/sequences/SZTR_video_SZTRA202b06_00_00_59_FP.mp4 - DEBUG - [ffmpeg] frame=    1 fps=0.0 q=0.0 size=       0kB time=00:00:00.00 bitrate=N/A speed=   0x\n"
     ]
    },
    {
     "name": "stderr",
     "output_type": "stream",
     "text": [
      "FFMPEG scale down to 224 and encode libx264:   0%|          | 0.0/101.0 [00:00<?, ?segment/s]"
     ]
    },
    {
     "name": "stdout",
     "output_type": "stream",
     "text": [
      "2022-09-05 01:37:29,658 - ffmpeg-../data/sequences/SZTR_video_SZTRA202b06_00_00_59_FP.mp4 - DEBUG - [ffmpeg] frame=  157 fps=0.0 q=28.0 size=       0kB time=00:00:04.12 bitrate=   0.1kbits/s speed= 8.2x\n",
      "2022-09-05 01:37:29,658 - ffmpeg-../data/sequences/SZTR_video_SZTRA202b06_00_00_59_FP.mp4 - DEBUG - [ffmpeg] frame=  157 fps=0.0 q=28.0 size=       0kB time=00:00:04.12 bitrate=   0.1kbits/s speed= 8.2x\n"
     ]
    },
    {
     "name": "stderr",
     "output_type": "stream",
     "text": [
      "FFMPEG scale down to 224 and encode libx264:   4%|▍         | 4.0/101.0 [00:01<00:12,  7.97segment/s]"
     ]
    },
    {
     "name": "stdout",
     "output_type": "stream",
     "text": [
      "2022-09-05 01:37:30,160 - ffmpeg-../data/sequences/SZTR_video_SZTRA202b06_00_00_59_FP.mp4 - DEBUG - [ffmpeg] frame=  327 fps=326 q=28.0 size=       0kB time=00:00:10.92 bitrate=   0.0kbits/s speed=10.9x\n",
      "2022-09-05 01:37:30,160 - ffmpeg-../data/sequences/SZTR_video_SZTRA202b06_00_00_59_FP.mp4 - DEBUG - [ffmpeg] frame=  327 fps=326 q=28.0 size=       0kB time=00:00:10.92 bitrate=   0.0kbits/s speed=10.9x\n"
     ]
    },
    {
     "name": "stderr",
     "output_type": "stream",
     "text": [
      "FFMPEG scale down to 224 and encode libx264:  10%|▉         | 10.0/101.0 [00:01<00:08, 10.32segment/s]"
     ]
    },
    {
     "name": "stdout",
     "output_type": "stream",
     "text": [
      "2022-09-05 01:37:30,660 - ffmpeg-../data/sequences/SZTR_video_SZTRA202b06_00_00_59_FP.mp4 - DEBUG - [ffmpeg] frame=  484 fps=321 q=28.0 size=       0kB time=00:00:17.20 bitrate=   0.0kbits/s speed=11.4x\n",
      "2022-09-05 01:37:30,660 - ffmpeg-../data/sequences/SZTR_video_SZTRA202b06_00_00_59_FP.mp4 - DEBUG - [ffmpeg] frame=  484 fps=321 q=28.0 size=       0kB time=00:00:17.20 bitrate=   0.0kbits/s speed=11.4x\n"
     ]
    },
    {
     "name": "stderr",
     "output_type": "stream",
     "text": [
      "FFMPEG scale down to 224 and encode libx264:  17%|█▋        | 17.0/101.0 [00:02<00:07, 11.99segment/s]"
     ]
    },
    {
     "name": "stdout",
     "output_type": "stream",
     "text": [
      "2022-09-05 01:37:31,161 - ffmpeg-../data/sequences/SZTR_video_SZTRA202b06_00_00_59_FP.mp4 - DEBUG - [ffmpeg] frame=  648 fps=323 q=28.0 size=       0kB time=00:00:23.76 bitrate=   0.0kbits/s speed=11.8x\n",
      "2022-09-05 01:37:31,161 - ffmpeg-../data/sequences/SZTR_video_SZTRA202b06_00_00_59_FP.mp4 - DEBUG - [ffmpeg] frame=  648 fps=323 q=28.0 size=       0kB time=00:00:23.76 bitrate=   0.0kbits/s speed=11.8x\n"
     ]
    },
    {
     "name": "stderr",
     "output_type": "stream",
     "text": [
      "FFMPEG scale down to 224 and encode libx264:  23%|██▎       | 23.0/101.0 [00:02<00:06, 11.99segment/s]"
     ]
    },
    {
     "name": "stdout",
     "output_type": "stream",
     "text": [
      "2022-09-05 01:37:31,661 - ffmpeg-../data/sequences/SZTR_video_SZTRA202b06_00_00_59_FP.mp4 - DEBUG - [ffmpeg] frame=  832 fps=332 q=28.0 size=       0kB time=00:00:31.12 bitrate=   0.0kbits/s speed=12.4x\n",
      "2022-09-05 01:37:31,661 - ffmpeg-../data/sequences/SZTR_video_SZTRA202b06_00_00_59_FP.mp4 - DEBUG - [ffmpeg] frame=  832 fps=332 q=28.0 size=       0kB time=00:00:31.12 bitrate=   0.0kbits/s speed=12.4x\n"
     ]
    },
    {
     "name": "stderr",
     "output_type": "stream",
     "text": [
      "FFMPEG scale down to 224 and encode libx264:  31%|███       | 31.0/101.0 [00:03<00:05, 13.44segment/s]"
     ]
    },
    {
     "name": "stdout",
     "output_type": "stream",
     "text": [
      "2022-09-05 01:37:32,162 - ffmpeg-../data/sequences/SZTR_video_SZTRA202b06_00_00_59_FP.mp4 - DEBUG - [ffmpeg] frame= 1020 fps=339 q=28.0 size=       0kB time=00:00:38.64 bitrate=   0.0kbits/s speed=12.9x\n",
      "2022-09-05 01:37:32,162 - ffmpeg-../data/sequences/SZTR_video_SZTRA202b06_00_00_59_FP.mp4 - DEBUG - [ffmpeg] frame= 1020 fps=339 q=28.0 size=       0kB time=00:00:38.64 bitrate=   0.0kbits/s speed=12.9x\n"
     ]
    },
    {
     "name": "stderr",
     "output_type": "stream",
     "text": [
      "FFMPEG scale down to 224 and encode libx264:  38%|███▊      | 38.0/101.0 [00:03<00:04, 13.62segment/s]"
     ]
    },
    {
     "name": "stdout",
     "output_type": "stream",
     "text": [
      "2022-09-05 01:37:32,664 - ffmpeg-../data/sequences/SZTR_video_SZTRA202b06_00_00_59_FP.mp4 - DEBUG - [ffmpeg] frame= 1212 fps=346 q=28.0 size=       0kB time=00:00:46.32 bitrate=   0.0kbits/s speed=13.2x\n",
      "2022-09-05 01:37:32,664 - ffmpeg-../data/sequences/SZTR_video_SZTRA202b06_00_00_59_FP.mp4 - DEBUG - [ffmpeg] frame= 1212 fps=346 q=28.0 size=       0kB time=00:00:46.32 bitrate=   0.0kbits/s speed=13.2x\n"
     ]
    },
    {
     "name": "stderr",
     "output_type": "stream",
     "text": [
      "FFMPEG scale down to 224 and encode libx264:  46%|████▌     | 46.0/101.0 [00:04<00:03, 14.32segment/s]"
     ]
    },
    {
     "name": "stdout",
     "output_type": "stream",
     "text": [
      "2022-09-05 01:37:33,165 - ffmpeg-../data/sequences/SZTR_video_SZTRA202b06_00_00_59_FP.mp4 - DEBUG - [ffmpeg] frame= 1346 fps=336 q=28.0 size=       0kB time=00:00:51.68 bitrate=   0.0kbits/s speed=12.9x\n",
      "2022-09-05 01:37:33,165 - ffmpeg-../data/sequences/SZTR_video_SZTRA202b06_00_00_59_FP.mp4 - DEBUG - [ffmpeg] frame= 1346 fps=336 q=28.0 size=       0kB time=00:00:51.68 bitrate=   0.0kbits/s speed=12.9x\n"
     ]
    },
    {
     "name": "stderr",
     "output_type": "stream",
     "text": [
      "FFMPEG scale down to 224 and encode libx264:  50%|█████     | 51.0/101.0 [00:04<00:03, 12.99segment/s]"
     ]
    },
    {
     "name": "stdout",
     "output_type": "stream",
     "text": [
      "2022-09-05 01:37:33,666 - ffmpeg-../data/sequences/SZTR_video_SZTRA202b06_00_00_59_FP.mp4 - DEBUG - [ffmpeg] frame= 1468 fps=325 q=28.0 size=       0kB time=00:00:56.56 bitrate=   0.0kbits/s speed=12.5x\n",
      "2022-09-05 01:37:33,666 - ffmpeg-../data/sequences/SZTR_video_SZTRA202b06_00_00_59_FP.mp4 - DEBUG - [ffmpeg] frame= 1468 fps=325 q=28.0 size=       0kB time=00:00:56.56 bitrate=   0.0kbits/s speed=12.5x\n"
     ]
    },
    {
     "name": "stderr",
     "output_type": "stream",
     "text": [
      "FFMPEG scale down to 224 and encode libx264:  55%|█████▌    | 56.0/101.0 [00:05<00:03, 12.05segment/s]"
     ]
    },
    {
     "name": "stdout",
     "output_type": "stream",
     "text": [
      "2022-09-05 01:37:34,167 - ffmpeg-../data/sequences/SZTR_video_SZTRA202b06_00_00_59_FP.mp4 - DEBUG - [ffmpeg] frame= 1662 fps=332 q=28.0 size=       0kB time=00:01:04.32 bitrate=   0.0kbits/s speed=12.8x\n",
      "2022-09-05 01:37:34,167 - ffmpeg-../data/sequences/SZTR_video_SZTRA202b06_00_00_59_FP.mp4 - DEBUG - [ffmpeg] frame= 1662 fps=332 q=28.0 size=       0kB time=00:01:04.32 bitrate=   0.0kbits/s speed=12.8x\n"
     ]
    },
    {
     "name": "stderr",
     "output_type": "stream",
     "text": [
      "FFMPEG scale down to 224 and encode libx264:  63%|██████▎   | 64.0/101.0 [00:05<00:02, 13.26segment/s]"
     ]
    },
    {
     "name": "stdout",
     "output_type": "stream",
     "text": [
      "2022-09-05 01:37:34,670 - ffmpeg-../data/sequences/SZTR_video_SZTRA202b06_00_00_59_FP.mp4 - DEBUG - [ffmpeg] frame= 1851 fps=336 q=28.0 size=       0kB time=00:01:11.88 bitrate=   0.0kbits/s speed=  13x\n",
      "2022-09-05 01:37:34,670 - ffmpeg-../data/sequences/SZTR_video_SZTRA202b06_00_00_59_FP.mp4 - DEBUG - [ffmpeg] frame= 1851 fps=336 q=28.0 size=       0kB time=00:01:11.88 bitrate=   0.0kbits/s speed=  13x\n"
     ]
    },
    {
     "name": "stderr",
     "output_type": "stream",
     "text": [
      "FFMPEG scale down to 224 and encode libx264:  70%|███████   | 71.0/101.0 [00:06<00:02, 13.46segment/s]"
     ]
    },
    {
     "name": "stdout",
     "output_type": "stream",
     "text": [
      "2022-09-05 01:37:35,172 - ffmpeg-../data/sequences/SZTR_video_SZTRA202b06_00_00_59_FP.mp4 - DEBUG - [ffmpeg] frame= 2044 fps=340 q=28.0 size=       0kB time=00:01:19.60 bitrate=   0.0kbits/s speed=13.2x\n",
      "2022-09-05 01:37:35,172 - ffmpeg-../data/sequences/SZTR_video_SZTRA202b06_00_00_59_FP.mp4 - DEBUG - [ffmpeg] frame= 2044 fps=340 q=28.0 size=       0kB time=00:01:19.60 bitrate=   0.0kbits/s speed=13.2x\n"
     ]
    },
    {
     "name": "stderr",
     "output_type": "stream",
     "text": [
      "FFMPEG scale down to 224 and encode libx264:  78%|███████▊  | 79.0/101.0 [00:06<00:01, 14.22segment/s]"
     ]
    },
    {
     "name": "stdout",
     "output_type": "stream",
     "text": [
      "2022-09-05 01:37:35,674 - ffmpeg-../data/sequences/SZTR_video_SZTRA202b06_00_00_59_FP.mp4 - DEBUG - [ffmpeg] frame= 2232 fps=342 q=28.0 size=       0kB time=00:01:27.12 bitrate=   0.0kbits/s speed=13.4x\n",
      "2022-09-05 01:37:35,674 - ffmpeg-../data/sequences/SZTR_video_SZTRA202b06_00_00_59_FP.mp4 - DEBUG - [ffmpeg] frame= 2232 fps=342 q=28.0 size=       0kB time=00:01:27.12 bitrate=   0.0kbits/s speed=13.4x\n"
     ]
    },
    {
     "name": "stderr",
     "output_type": "stream",
     "text": [
      "FFMPEG scale down to 224 and encode libx264:  86%|████████▌ | 87.0/101.0 [00:07<00:00, 14.73segment/s]"
     ]
    },
    {
     "name": "stdout",
     "output_type": "stream",
     "text": [
      "2022-09-05 01:37:35,952 - ffmpeg-../data/sequences/SZTR_video_SZTRA202b06_00_00_59_FP.mp4 - DEBUG - [ffmpeg] frame= 2425 fps=345 q=28.0 size=       0kB time=00:01:34.84 bitrate=   0.0kbits/s speed=13.5x\n",
      "2022-09-05 01:37:35,952 - ffmpeg-../data/sequences/SZTR_video_SZTRA202b06_00_00_59_FP.mp4 - DEBUG - [ffmpeg] frame= 2425 fps=345 q=28.0 size=       0kB time=00:01:34.84 bitrate=   0.0kbits/s speed=13.5x\n"
     ]
    },
    {
     "name": "stderr",
     "output_type": "stream",
     "text": [
      "FFMPEG scale down to 224 and encode libx264:  93%|█████████▎| 94.0/101.0 [00:07<00:00, 16.76segment/s]"
     ]
    },
    {
     "name": "stdout",
     "output_type": "stream",
     "text": [
      "2022-09-05 01:37:35,954 - ffmpeg-../data/sequences/SZTR_video_SZTRA202b06_00_00_59_FP.mp4 - DEBUG - [ffmpeg] frame= 2525 fps=346 q=-1.0 Lsize=     260kB time=00:01:40.88 bitrate=  21.1kbits/s speed=13.8x\n",
      "2022-09-05 01:37:35,954 - ffmpeg-../data/sequences/SZTR_video_SZTRA202b06_00_00_59_FP.mp4 - DEBUG - [ffmpeg] frame= 2525 fps=346 q=-1.0 Lsize=     260kB time=00:01:40.88 bitrate=  21.1kbits/s speed=13.8x\n",
      "2022-09-05 01:37:35,955 - ffmpeg-../data/sequences/SZTR_video_SZTRA202b06_00_00_59_FP.mp4 - DEBUG - [ffmpeg] video:230kB audio:0kB subtitle:0kB other streams:0kB global headers:0kB muxing overhead: 13.250824%\n",
      "2022-09-05 01:37:35,955 - ffmpeg-../data/sequences/SZTR_video_SZTRA202b06_00_00_59_FP.mp4 - DEBUG - [ffmpeg] video:230kB audio:0kB subtitle:0kB other streams:0kB global headers:0kB muxing overhead: 13.250824%\n",
      "2022-09-05 01:37:35,956 - ffmpeg-../data/sequences/SZTR_video_SZTRA202b06_00_00_59_FP.mp4 - DEBUG - [ffmpeg] [libx264 @ 0x7fc72572f240] frame I:11    Avg QP:19.28  size: 12982\n",
      "2022-09-05 01:37:35,956 - ffmpeg-../data/sequences/SZTR_video_SZTRA202b06_00_00_59_FP.mp4 - DEBUG - [ffmpeg] [libx264 @ 0x7fc72572f240] frame I:11    Avg QP:19.28  size: 12982\n",
      "2022-09-05 01:37:35,956 - ffmpeg-../data/sequences/SZTR_video_SZTRA202b06_00_00_59_FP.mp4 - DEBUG - [ffmpeg] [libx264 @ 0x7fc72572f240] frame P:636   Avg QP:21.77  size:    84\n",
      "2022-09-05 01:37:35,956 - ffmpeg-../data/sequences/SZTR_video_SZTRA202b06_00_00_59_FP.mp4 - DEBUG - [ffmpeg] [libx264 @ 0x7fc72572f240] frame P:636   Avg QP:21.77  size:    84\n",
      "2022-09-05 01:37:35,957 - ffmpeg-../data/sequences/SZTR_video_SZTRA202b06_00_00_59_FP.mp4 - DEBUG - [ffmpeg] [libx264 @ 0x7fc72572f240] frame B:1878  Avg QP:34.19  size:    20\n",
      "2022-09-05 01:37:35,957 - ffmpeg-../data/sequences/SZTR_video_SZTRA202b06_00_00_59_FP.mp4 - DEBUG - [ffmpeg] [libx264 @ 0x7fc72572f240] frame B:1878  Avg QP:34.19  size:    20\n",
      "2022-09-05 01:37:35,958 - ffmpeg-../data/sequences/SZTR_video_SZTRA202b06_00_00_59_FP.mp4 - DEBUG - [ffmpeg] [libx264 @ 0x7fc72572f240] consecutive B-frames:  0.8%  0.0%  0.0% 99.2%\n",
      "2022-09-05 01:37:35,958 - ffmpeg-../data/sequences/SZTR_video_SZTRA202b06_00_00_59_FP.mp4 - DEBUG - [ffmpeg] [libx264 @ 0x7fc72572f240] consecutive B-frames:  0.8%  0.0%  0.0% 99.2%\n",
      "2022-09-05 01:37:35,959 - ffmpeg-../data/sequences/SZTR_video_SZTRA202b06_00_00_59_FP.mp4 - DEBUG - [ffmpeg] [libx264 @ 0x7fc72572f240] mb I  I16..4:  8.9% 39.2% 51.9%\n",
      "2022-09-05 01:37:35,959 - ffmpeg-../data/sequences/SZTR_video_SZTRA202b06_00_00_59_FP.mp4 - DEBUG - [ffmpeg] [libx264 @ 0x7fc72572f240] mb I  I16..4:  8.9% 39.2% 51.9%\n",
      "2022-09-05 01:37:35,960 - ffmpeg-../data/sequences/SZTR_video_SZTRA202b06_00_00_59_FP.mp4 - DEBUG - [ffmpeg] [libx264 @ 0x7fc72572f240] mb P  I16..4:  0.0%  0.0%  0.0%  P16..4:  4.5%  1.1%  0.8%  0.0%  0.0%    skip:93.6%\n",
      "2022-09-05 01:37:35,960 - ffmpeg-../data/sequences/SZTR_video_SZTRA202b06_00_00_59_FP.mp4 - DEBUG - [ffmpeg] [libx264 @ 0x7fc72572f240] mb P  I16..4:  0.0%  0.0%  0.0%  P16..4:  4.5%  1.1%  0.8%  0.0%  0.0%    skip:93.6%\n",
      "2022-09-05 01:37:35,961 - ffmpeg-../data/sequences/SZTR_video_SZTRA202b06_00_00_59_FP.mp4 - DEBUG - [ffmpeg] [libx264 @ 0x7fc72572f240] mb B  I16..4:  0.0%  0.0%  0.0%  B16..8:  2.2%  0.0%  0.0%  direct: 0.0%  skip:97.7%  L0:33.4% L1:65.7% BI: 0.9%\n",
      "2022-09-05 01:37:35,961 - ffmpeg-../data/sequences/SZTR_video_SZTRA202b06_00_00_59_FP.mp4 - DEBUG - [ffmpeg] [libx264 @ 0x7fc72572f240] mb B  I16..4:  0.0%  0.0%  0.0%  B16..8:  2.2%  0.0%  0.0%  direct: 0.0%  skip:97.7%  L0:33.4% L1:65.7% BI: 0.9%\n",
      "2022-09-05 01:37:35,962 - ffmpeg-../data/sequences/SZTR_video_SZTRA202b06_00_00_59_FP.mp4 - DEBUG - [ffmpeg] [libx264 @ 0x7fc72572f240] 8x8 transform intra:39.3% inter:72.4%\n",
      "2022-09-05 01:37:35,962 - ffmpeg-../data/sequences/SZTR_video_SZTRA202b06_00_00_59_FP.mp4 - DEBUG - [ffmpeg] [libx264 @ 0x7fc72572f240] 8x8 transform intra:39.3% inter:72.4%\n",
      "2022-09-05 01:37:35,964 - ffmpeg-../data/sequences/SZTR_video_SZTRA202b06_00_00_59_FP.mp4 - DEBUG - [ffmpeg] [libx264 @ 0x7fc72572f240] coded y,uvDC,uvAC intra: 95.5% 1.5% 1.2% inter: 0.3% 0.0% 0.0%\n",
      "2022-09-05 01:37:35,964 - ffmpeg-../data/sequences/SZTR_video_SZTRA202b06_00_00_59_FP.mp4 - DEBUG - [ffmpeg] [libx264 @ 0x7fc72572f240] coded y,uvDC,uvAC intra: 95.5% 1.5% 1.2% inter: 0.3% 0.0% 0.0%\n",
      "2022-09-05 01:37:35,965 - ffmpeg-../data/sequences/SZTR_video_SZTRA202b06_00_00_59_FP.mp4 - DEBUG - [ffmpeg] [libx264 @ 0x7fc72572f240] i16 v,h,dc,p: 73%  4%  6% 16%\n",
      "2022-09-05 01:37:35,965 - ffmpeg-../data/sequences/SZTR_video_SZTRA202b06_00_00_59_FP.mp4 - DEBUG - [ffmpeg] [libx264 @ 0x7fc72572f240] i16 v,h,dc,p: 73%  4%  6% 16%\n",
      "2022-09-05 01:37:35,966 - ffmpeg-../data/sequences/SZTR_video_SZTRA202b06_00_00_59_FP.mp4 - DEBUG - [ffmpeg] [libx264 @ 0x7fc72572f240] i8 v,h,dc,ddl,ddr,vr,hd,vl,hu: 18% 20% 16%  3% 11%  8% 12%  4%  8%\n",
      "2022-09-05 01:37:35,966 - ffmpeg-../data/sequences/SZTR_video_SZTRA202b06_00_00_59_FP.mp4 - DEBUG - [ffmpeg] [libx264 @ 0x7fc72572f240] i8 v,h,dc,ddl,ddr,vr,hd,vl,hu: 18% 20% 16%  3% 11%  8% 12%  4%  8%\n",
      "2022-09-05 01:37:35,967 - ffmpeg-../data/sequences/SZTR_video_SZTRA202b06_00_00_59_FP.mp4 - DEBUG - [ffmpeg] [libx264 @ 0x7fc72572f240] i4 v,h,dc,ddl,ddr,vr,hd,vl,hu: 33% 17% 11%  3%  9%  8%  9%  4%  6%\n",
      "2022-09-05 01:37:35,967 - ffmpeg-../data/sequences/SZTR_video_SZTRA202b06_00_00_59_FP.mp4 - DEBUG - [ffmpeg] [libx264 @ 0x7fc72572f240] i4 v,h,dc,ddl,ddr,vr,hd,vl,hu: 33% 17% 11%  3%  9%  8%  9%  4%  6%\n",
      "2022-09-05 01:37:35,968 - ffmpeg-../data/sequences/SZTR_video_SZTRA202b06_00_00_59_FP.mp4 - DEBUG - [ffmpeg] [libx264 @ 0x7fc72572f240] i8c dc,h,v,p: 99%  0%  1%  0%\n",
      "2022-09-05 01:37:35,968 - ffmpeg-../data/sequences/SZTR_video_SZTRA202b06_00_00_59_FP.mp4 - DEBUG - [ffmpeg] [libx264 @ 0x7fc72572f240] i8c dc,h,v,p: 99%  0%  1%  0%\n",
      "2022-09-05 01:37:35,969 - ffmpeg-../data/sequences/SZTR_video_SZTRA202b06_00_00_59_FP.mp4 - DEBUG - [ffmpeg] [libx264 @ 0x7fc72572f240] Weighted P-Frames: Y:0.0% UV:0.0%\n",
      "2022-09-05 01:37:35,969 - ffmpeg-../data/sequences/SZTR_video_SZTRA202b06_00_00_59_FP.mp4 - DEBUG - [ffmpeg] [libx264 @ 0x7fc72572f240] Weighted P-Frames: Y:0.0% UV:0.0%\n",
      "2022-09-05 01:37:35,970 - ffmpeg-../data/sequences/SZTR_video_SZTRA202b06_00_00_59_FP.mp4 - DEBUG - [ffmpeg] [libx264 @ 0x7fc72572f240] ref P L0: 59.8% 13.2% 20.0%  7.0%\n",
      "2022-09-05 01:37:35,970 - ffmpeg-../data/sequences/SZTR_video_SZTRA202b06_00_00_59_FP.mp4 - DEBUG - [ffmpeg] [libx264 @ 0x7fc72572f240] ref P L0: 59.8% 13.2% 20.0%  7.0%\n",
      "2022-09-05 01:37:35,971 - ffmpeg-../data/sequences/SZTR_video_SZTRA202b06_00_00_59_FP.mp4 - DEBUG - [ffmpeg] [libx264 @ 0x7fc72572f240] ref B L0: 85.8% 11.6%  2.6%\n",
      "2022-09-05 01:37:35,971 - ffmpeg-../data/sequences/SZTR_video_SZTRA202b06_00_00_59_FP.mp4 - DEBUG - [ffmpeg] [libx264 @ 0x7fc72572f240] ref B L0: 85.8% 11.6%  2.6%\n",
      "2022-09-05 01:37:35,972 - ffmpeg-../data/sequences/SZTR_video_SZTRA202b06_00_00_59_FP.mp4 - DEBUG - [ffmpeg] [libx264 @ 0x7fc72572f240] ref B L1: 86.0% 14.0%\n",
      "2022-09-05 01:37:35,972 - ffmpeg-../data/sequences/SZTR_video_SZTRA202b06_00_00_59_FP.mp4 - DEBUG - [ffmpeg] [libx264 @ 0x7fc72572f240] ref B L1: 86.0% 14.0%\n",
      "2022-09-05 01:37:35,973 - ffmpeg-../data/sequences/SZTR_video_SZTRA202b06_00_00_59_FP.mp4 - DEBUG - [ffmpeg] [libx264 @ 0x7fc72572f240] kb/s:18.57\n",
      "2022-09-05 01:37:35,973 - ffmpeg-../data/sequences/SZTR_video_SZTRA202b06_00_00_59_FP.mp4 - DEBUG - [ffmpeg] [libx264 @ 0x7fc72572f240] kb/s:18.57\n"
     ]
    },
    {
     "name": "stderr",
     "output_type": "stream",
     "text": [
      "FFMPEG scale down to 224 and encode libx264: 201.0segment [00:07, 27.10segment/s]                     \n"
     ]
    },
    {
     "data": {
      "text/plain": [
       "0"
      ]
     },
     "execution_count": 27,
     "metadata": {},
     "output_type": "execute_result"
    }
   ],
   "source": [
    "def get_ffmpeg_select_argument(frames_sequence: List[int], setpts_filter: float) -> str:\n",
    "    \"\"\"Produce a string to be used with the FFMPEG command and its \"select\" argument.\n",
    "\n",
    "    :param frames_sequence: linear or not list of frames to extract.\n",
    "                            Example: 0, 12, 24, 36, 48, 60, ...\n",
    "                            or:      6, 23, 27, 42, 50, 68, ...\n",
    "    :param setpts_filter: from FFMPEG manual page:\n",
    "                            \"setpts\" filter, which only sets timestamps and otherwise passes the frames unchanged\n",
    "                          It is expected to be smaller than 1 in can less frames are selected and it is wished to\n",
    "                          speed up the video.\n",
    "                          Usually, it is expected to get 1/FRAMES_SKIP\n",
    "                          Example: *0.25* (for a FRAMES_SKIP of 4)\n",
    "    :return: string to be used to run the FFMPEG command for the \"select\" argument like: ffmpeg -i SZTRA201a08_224.mp4 -vf select='eq(n\\,0)+eq(n\\,12)+eq(n\\,24)+eq(n\\,36)+eq(n\\,48)+eq(n\\,60), setpts=0.08333333333*PTS' -an SZTRA201a08_224_12_random.mp4\n",
    "    \"\"\"\n",
    "    # eq(n\\\\,0)+eq(n\\\\,12)+eq(n\\\\,24)+eq(n\\\\,36)+eq(n\\\\,48)\n",
    "    eq_chain = \"+\".join([f\"eq(n\\,{n})\" for n in frames_sequence])\n",
    "    setpts = f\"setpts={setpts_filter}*PTS\"\n",
    "    return f\"'{eq_chain}',{setpts}\"\n",
    "\n",
    "def scale_compress_video(\n",
    "    frames_sequence: List[int],\n",
    "    setpts_filter: float,\n",
    "    input_video_path: Path,\n",
    "    output_video_path: Path,) -> int:\n",
    "    logger = logging.getLogger(f\"ffmpeg-{str(output_video_path)}\")\n",
    "    logger.debug(\"Using ffmpeg to scale and compress an original video.\")\n",
    "\n",
    "    stream_info = analyze_stream(logger, str(input_video_path))\n",
    "\n",
    "    command = [\n",
    "        \"ffmpeg\",\n",
    "        \"-y\",  # (optional) overwrite output file if it exists\n",
    "        \"-i\",\n",
    "        str(input_video_path),\n",
    "        \"-vf\",\n",
    "\n",
    "        f\"scale='if(gt(a,1),trunc(oh*a/2)*2,224)':'if(gt(a,1),224,trunc(ow*a/2)*2)'\",  # scale to 224\n",
    "        # f\"\\\"scale='if(gt(a,1),trunc(oh*a/2)*2,224)':'if(gt(a,1),224,trunc(ow*a/2)*2)', select={get_ffmpeg_select_argument(frames_sequence, setpts_filter)}\\\"\",  # scale to 224\n",
    "\n",
    "        \"-map\",\n",
    "        \"0:v\",\n",
    "        \"-vcodec\",\n",
    "        \"libx264\",  # additionally, change the codec for better\n",
    "\n",
    "        # \"-an\",  # _The presence of \"-an\" disables audio stream selection for_ its output\n",
    "\n",
    "        # compression\n",
    "        # display codecs with: `ffmpeg -codecs`\n",
    "        #    '-r', '3',  # frames per second\n",
    "        str(output_video_path),\n",
    "    ]\n",
    "    # to avoid carriage return ('\\r') in ffmpeg output, to mess with the reading of the\n",
    "    # progress, use 'universal_newlines' argument\n",
    "    # https://github.com/chriskiehl/Gooey/issues/495#issuecomment-614991802\n",
    "    ffmpeg_process = subprocess.Popen(\n",
    "        command,\n",
    "        stdout=subprocess.PIPE,\n",
    "        stderr=subprocess.STDOUT,\n",
    "        universal_newlines=True,\n",
    "    )\n",
    "\n",
    "    ffmpeg_to_tqdm(\n",
    "        logger,\n",
    "        ffmpeg_process,\n",
    "        duration=stream_info.get(\"duration\"),\n",
    "        tqdm_desc=\"FFMPEG scale down to 224 and encode libx264\",\n",
    "    )\n",
    "\n",
    "    ffmpeg_process.wait()\n",
    "\n",
    "    return ffmpeg_process.returncode\n",
    "\n",
    "\n",
    "root = logging.getLogger()\n",
    "root.setLevel(logging.DEBUG)\n",
    "\n",
    "handler = logging.StreamHandler(sys.stdout)\n",
    "handler.setLevel(logging.DEBUG)\n",
    "formatter = logging.Formatter(\"%(asctime)s - %(name)s - %(levelname)s - %(message)s\")\n",
    "handler.setFormatter(formatter)\n",
    "root.addHandler(handler)\n",
    "\n",
    "\n",
    "scale_compress_video(trivial_twelve(101 * 25), 1 / 12, Path(\"../SZTR/video/SZTRA202b06.mov\"), Path(\"../data/sequences/SZTR_video_SZTRA202b06_00_00_59_FP.mp4\"))"
   ]
  },
  {
   "cell_type": "code",
   "execution_count": 24,
   "metadata": {},
   "outputs": [
    {
     "name": "stderr",
     "output_type": "stream",
     "text": [
      "FFMPEG select subset of frames: 106.0segment [00:00, 353.38segment/s]           \n"
     ]
    },
    {
     "data": {
      "text/plain": [
       "0"
      ]
     },
     "execution_count": 24,
     "metadata": {},
     "output_type": "execute_result"
    }
   ],
   "source": []
  },
  {
   "cell_type": "code",
   "execution_count": 22,
   "metadata": {},
   "outputs": [
    {
     "data": {
      "text/plain": [
       "[600,\n",
       " 612,\n",
       " 624,\n",
       " 636,\n",
       " 648,\n",
       " 660,\n",
       " 672,\n",
       " 684,\n",
       " 696,\n",
       " 708,\n",
       " 720,\n",
       " 732,\n",
       " 744,\n",
       " 756,\n",
       " 768,\n",
       " 780,\n",
       " 792,\n",
       " 804,\n",
       " 816,\n",
       " 828,\n",
       " 840,\n",
       " 852,\n",
       " 864,\n",
       " 876,\n",
       " 888,\n",
       " 900,\n",
       " 912,\n",
       " 924,\n",
       " 936,\n",
       " 948,\n",
       " 960,\n",
       " 972,\n",
       " 984,\n",
       " 996,\n",
       " 1008,\n",
       " 1020,\n",
       " 1032,\n",
       " 1044,\n",
       " 1056,\n",
       " 1068,\n",
       " 1080,\n",
       " 1092,\n",
       " 1104,\n",
       " 1116,\n",
       " 1128,\n",
       " 1140,\n",
       " 1152,\n",
       " 1164,\n",
       " 1176,\n",
       " 1188,\n",
       " 1200,\n",
       " 1212,\n",
       " 1224,\n",
       " 1236,\n",
       " 1248,\n",
       " 1260,\n",
       " 1272,\n",
       " 1284,\n",
       " 1296,\n",
       " 1308,\n",
       " 1320,\n",
       " 1332,\n",
       " 1344,\n",
       " 1356,\n",
       " 1368,\n",
       " 1380,\n",
       " 1392,\n",
       " 1404,\n",
       " 1416,\n",
       " 1428,\n",
       " 1440,\n",
       " 1452,\n",
       " 1464,\n",
       " 1476,\n",
       " 1488,\n",
       " 1500,\n",
       " 1512,\n",
       " 1524,\n",
       " 1536,\n",
       " 1548,\n",
       " 1560,\n",
       " 1572,\n",
       " 1584,\n",
       " 1596,\n",
       " 1608,\n",
       " 1620,\n",
       " 1632,\n",
       " 1644,\n",
       " 1656,\n",
       " 1668,\n",
       " 1680,\n",
       " 1692,\n",
       " 1704,\n",
       " 1716,\n",
       " 1728,\n",
       " 1740,\n",
       " 1752,\n",
       " 1764,\n",
       " 1776,\n",
       " 1788,\n",
       " 1800,\n",
       " 1812,\n",
       " 1824,\n",
       " 1836,\n",
       " 1848,\n",
       " 1860,\n",
       " 1872,\n",
       " 1884,\n",
       " 1896,\n",
       " 1908,\n",
       " 1920,\n",
       " 1932,\n",
       " 1944,\n",
       " 1956,\n",
       " 1968,\n",
       " 1980,\n",
       " 1992,\n",
       " 2004,\n",
       " 2016,\n",
       " 2028,\n",
       " 2040,\n",
       " 2052,\n",
       " 2064,\n",
       " 2076,\n",
       " 2088,\n",
       " 2100,\n",
       " 2112,\n",
       " 2124,\n",
       " 2136,\n",
       " 2148]"
      ]
     },
     "execution_count": 22,
     "metadata": {},
     "output_type": "execute_result"
    }
   ],
   "source": [
    "trivial_twelve(101 * 25)"
   ]
  }
 ],
 "metadata": {
  "kernelspec": {
   "display_name": "Python 3.10.6 ('.venv': poetry)",
   "language": "python",
   "name": "python3"
  },
  "language_info": {
   "codemirror_mode": {
    "name": "ipython",
    "version": 3
   },
   "file_extension": ".py",
   "mimetype": "text/x-python",
   "name": "python",
   "nbconvert_exporter": "python",
   "pygments_lexer": "ipython3",
   "version": "3.10.6"
  },
  "orig_nbformat": 4,
  "vscode": {
   "interpreter": {
    "hash": "16d16579ac16af49d8151a36f2799f423cff0ad66d4c2584ff74047bfbf540a6"
   }
  }
 },
 "nbformat": 4,
 "nbformat_minor": 2
}