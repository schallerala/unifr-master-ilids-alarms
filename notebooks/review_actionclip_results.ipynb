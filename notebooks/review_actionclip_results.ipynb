{
 "cells": [
  {
   "cell_type": "code",
   "execution_count": null,
   "metadata": {
    "pycharm": {
     "is_executing": true
    }
   },
   "outputs": [],
   "source": [
    "import glob\n",
    "import os\n",
    "from math import trunc\n",
    "from typing import Dict, List, Tuple\n",
    "\n",
    "import open_clip\n",
    "import torch\n",
    "import plotly.express as px\n",
    "import pandas as pd\n",
    "from pathlib import Path\n",
    "\n",
    "import numpy as np\n",
    "\n",
    "import plotly.graph_objects as go\n",
    "from plotly.subplots import make_subplots\n",
    "\n",
    "from sklearn.manifold import TSNE\n",
    "\n",
    "from ilids.models.actionclip.factory import create_models_and_transforms"
   ]
  },
  {
   "cell_type": "code",
   "execution_count": null,
   "metadata": {
    "pycharm": {
     "is_executing": true
    }
   },
   "outputs": [],
   "source": [
    "SOURCE_PATH = Path(os.path.dirname(os.getcwd()))\n",
    "\n",
    "FEATURES_COLUMNS_INDEXES = pd.RangeIndex.from_range(range(512))\n",
    "\n",
    "VARIATION_PATHS = list(\n",
    "    map(lambda result_file: Path(result_file), glob.glob(str(SOURCE_PATH / \"results\" / \"actionclip\" / \"*.pkl\")))\n",
    ")\n",
    "VARIATION_NAMES = sorted(\n",
    "    list(map(lambda result_path: result_path.stem, VARIATION_PATHS))\n",
    ")\n",
    "\n",
    "tp_fp_sequences_path = (\n",
    "    SOURCE_PATH / \"data\" / \"handcrafted-metadata\" / \"tp_fp_sequences.csv\"\n",
    ")\n",
    "SEQUENCES_DF = pd.read_csv(tp_fp_sequences_path, index_col=0)\n",
    "# Only keep relevant columns\n",
    "SEQUENCES_DF = SEQUENCES_DF[\n",
    "    [\n",
    "        \"Classification\",\n",
    "        \"Duration\",\n",
    "        \"Distance\",\n",
    "        \"SubjectApproachType\",\n",
    "        \"SubjectDescription\",\n",
    "        \"Distraction\",\n",
    "        \"Stage\",\n",
    "    ]\n",
    "]\n",
    "# Fix index prefix for join\n",
    "SEQUENCES_DF = SEQUENCES_DF.set_index(\"data/sequences/\" + SEQUENCES_DF.index)\n",
    "\n",
    "\n",
    "def load_variation_df(movinet_variation):\n",
    "    pickle_file =  SOURCE_PATH / \"results\" / \"actionclip\" / f\"{movinet_variation}.pkl\"\n",
    "    features_df = pd.read_pickle(pickle_file)\n",
    "\n",
    "    df = SEQUENCES_DF.join(features_df)\n",
    "\n",
    "    df[\"Alarm\"] = df[\"Classification\"] == \"TP\"\n",
    "    # For each sample, get the highest feature/signal\n",
    "    df[\"Activation\"] = df[FEATURES_COLUMNS_INDEXES].max(axis=1)\n",
    "\n",
    "    return df\n",
    "\n",
    "\n",
    "ALL_DF = {\n",
    "    variation_name: load_variation_df(variation_name)\n",
    "    for variation_name in VARIATION_NAMES\n",
    "}\n",
    "\n",
    "model_text = create_models_and_transforms(\n",
    "    actionclip_pretrained_ckpt=SOURCE_PATH\n",
    "    / \"ckpt\"\n",
    "    / \"actionclip\"\n",
    "    / \"vit-b-16-8f.pt\",\n",
    "    openai_model_name=\"ViT-B-16\",\n",
    "    extracted_frames=8,\n",
    "    device=torch.device(\"cpu\"),\n",
    ")[1]"
   ]
  },
  {
   "cell_type": "code",
   "execution_count": null,
   "metadata": {
    "pycharm": {
     "is_executing": true
    }
   },
   "outputs": [],
   "source": [
    "def get_text_features(text: str) -> np.ndarray:\n",
    "    tokenized_text = open_clip.tokenize([text])\n",
    "\n",
    "    with torch.no_grad():\n",
    "        return model_text(tokenized_text).numpy().ravel()"
   ]
  },
  {
   "cell_type": "code",
   "execution_count": null,
   "metadata": {
    "pycharm": {
     "is_executing": true
    }
   },
   "outputs": [],
   "source": [
    "TEXT_FEATURES_LEN = len(get_text_features(\"\"))\n",
    "\n",
    "DF_COLUMNS = [\"text\", \"classification\"] + list(range(TEXT_FEATURES_LEN))\n",
    "\n",
    "df = pd.DataFrame([], columns=DF_COLUMNS)"
   ]
  },
  {
   "cell_type": "code",
   "execution_count": null,
   "metadata": {
    "pycharm": {
     "is_executing": true
    }
   },
   "outputs": [],
   "source": [
    "def update_texts_dataframe(new_text: str, classification: bool) -> np.ndarray:\n",
    "    features = get_text_features(new_text)\n",
    "    new_entry = pd.Series([new_text, classification, *features], index=DF_COLUMNS)\n",
    "\n",
    "    df.loc[df.shape[0]] = new_entry\n",
    "\n",
    "    df.drop_duplicates(\"text\", inplace=True)\n",
    "    df.reset_index(drop=True, inplace=True)\n",
    "\n",
    "    return features"
   ]
  },
  {
   "cell_type": "code",
   "execution_count": null,
   "metadata": {
    "pycharm": {
     "is_executing": true
    }
   },
   "outputs": [],
   "source": [
    "def downscale_outlier(arr: np.ndarray, m = 2.) -> np.ndarray:\n",
    "    threshold = m * np.std(arr)\n",
    "    copy = arr.copy()\n",
    "\n",
    "    copy[abs(copy - np.mean(copy)) > threshold] = threshold\n",
    "\n",
    "    return copy\n",
    "\n",
    "def plot_linear_heatmap(text: str, arr: np.ndarray, colorbar_y) -> go.Trace:\n",
    "    trace = go.Heatmap(\n",
    "        z=[arr],\n",
    "        x=list(range(TEXT_FEATURES_LEN)),\n",
    "        y=[text],\n",
    "        colorbar=dict(y=colorbar_y, len=.5),\n",
    "        colorscale='Viridis')\n",
    "\n",
    "    return trace\n",
    "\n",
    "def add_new_text_and_plot(text: str, classification: bool) -> go.Figure:\n",
    "    fig = make_subplots(rows=2)\n",
    "\n",
    "    features = update_texts_dataframe(text, classification)\n",
    "    fig.add_trace(plot_linear_heatmap(text, features, .8), row=1, col=1)\n",
    "    fig.add_trace(plot_linear_heatmap(f\"{text}<br><i>scaled outliers</i>\", downscale_outlier(features), .2), row=2, col=1)\n",
    "\n",
    "    return fig"
   ]
  },
  {
   "cell_type": "code",
   "execution_count": null,
   "metadata": {
    "pycharm": {
     "is_executing": true
    }
   },
   "outputs": [],
   "source": [
    "add_new_text_and_plot(\"picture of an empty field\", False).show()\n"
   ]
  },
  {
   "cell_type": "code",
   "execution_count": null,
   "metadata": {
    "pycharm": {
     "is_executing": true
    }
   },
   "outputs": [],
   "source": [
    "add_new_text_and_plot(\"empty field\", False).show()\n"
   ]
  },
  {
   "cell_type": "code",
   "execution_count": null,
   "metadata": {
    "pycharm": {
     "is_executing": true
    }
   },
   "outputs": [],
   "source": [
    "add_new_text_and_plot(\"field with a fence\", False).show()\n"
   ]
  },
  {
   "cell_type": "code",
   "execution_count": null,
   "metadata": {
    "pycharm": {
     "is_executing": true
    }
   },
   "outputs": [],
   "source": [
    "add_new_text_and_plot(\"rabbits running around a field\", False).show()\n"
   ]
  },
  {
   "cell_type": "code",
   "execution_count": null,
   "metadata": {
    "pycharm": {
     "is_executing": true
    }
   },
   "outputs": [],
   "source": [
    "add_new_text_and_plot(\"wind blowing\", False).show()\n"
   ]
  },
  {
   "cell_type": "code",
   "execution_count": null,
   "metadata": {
    "pycharm": {
     "is_executing": true
    }
   },
   "outputs": [],
   "source": [
    "add_new_text_and_plot(\"plastic bag flying\", False).show()\n"
   ]
  },
  {
   "cell_type": "code",
   "execution_count": null,
   "metadata": {
    "pycharm": {
     "is_executing": true
    }
   },
   "outputs": [],
   "source": [
    "add_new_text_and_plot(\"human climbing a ladder\", True).show()\n"
   ]
  },
  {
   "cell_type": "code",
   "execution_count": null,
   "metadata": {
    "pycharm": {
     "is_executing": true
    }
   },
   "outputs": [],
   "source": [
    "add_new_text_and_plot(\"a human approaching a fence\", True).show()\n"
   ]
  },
  {
   "cell_type": "code",
   "execution_count": null,
   "metadata": {
    "pycharm": {
     "is_executing": true
    }
   },
   "outputs": [],
   "source": [
    "add_new_text_and_plot(\"human walking towards a fence\", True).show()\n"
   ]
  },
  {
   "cell_type": "code",
   "execution_count": null,
   "metadata": {
    "pycharm": {
     "is_executing": true
    }
   },
   "outputs": [],
   "source": [
    "df\n"
   ]
  },
  {
   "cell_type": "code",
   "execution_count": null,
   "metadata": {
    "pycharm": {
     "is_executing": true
    }
   },
   "outputs": [],
   "source": [
    "text_features = torch.from_numpy(df[FEATURES_COLUMNS_INDEXES].to_numpy(dtype=np.float64))\n",
    "text_features /= text_features.norm(dim=-1, keepdim=True)\n",
    "text_features.shape\n"
   ]
  },
  {
   "cell_type": "code",
   "execution_count": null,
   "metadata": {
    "pycharm": {
     "is_executing": true
    }
   },
   "outputs": [],
   "source": [
    "go.Figure(go.Heatmap(\n",
    "        z=df[FEATURES_COLUMNS_INDEXES],\n",
    "        x=list(range(TEXT_FEATURES_LEN)),\n",
    "        y=df[\"text\"],\n",
    "        colorscale='Viridis'))"
   ]
  },
  {
   "cell_type": "code",
   "execution_count": null,
   "metadata": {
    "pycharm": {
     "is_executing": true
    }
   },
   "outputs": [],
   "source": [
    "go.Figure(go.Heatmap(\n",
    "        z=text_features.numpy(),\n",
    "        x=list(range(TEXT_FEATURES_LEN)),\n",
    "        y=df[\"text\"],\n",
    "        colorscale='Viridis'))"
   ]
  },
  {
   "cell_type": "code",
   "execution_count": null,
   "metadata": {
    "pycharm": {
     "is_executing": true
    }
   },
   "outputs": [],
   "source": [
    "images_features = torch.from_numpy(ALL_DF[\"vit-b-16-8f\"][FEATURES_COLUMNS_INDEXES].to_numpy(dtype=np.float64))\n",
    "images_features.shape\n"
   ]
  },
  {
   "cell_type": "code",
   "execution_count": null,
   "metadata": {
    "pycharm": {
     "is_executing": true
    }
   },
   "outputs": [],
   "source": [
    "similarity = 100. * images_features @ text_features.T\n",
    "similarity\n"
   ]
  },
  {
   "cell_type": "code",
   "execution_count": null,
   "metadata": {
    "pycharm": {
     "is_executing": true
    }
   },
   "outputs": [],
   "source": [
    "softmax_sim = similarity = similarity.softmax(dim=-1)\n",
    "softmax_sim\n"
   ]
  },
  {
   "cell_type": "code",
   "execution_count": null,
   "metadata": {
    "pycharm": {
     "is_executing": true
    }
   },
   "outputs": [],
   "source": [
    "fig = go.Figure(data=go.Heatmap(\n",
    "    z=softmax_sim.numpy(),\n",
    "    x=df[\"text\"],\n",
    "    y=ALL_DF[\"vit-b-16-8f\"].index.str.lstrip(\"data/sequences/\")\n",
    "))\n",
    "\n",
    "fig.show()\n"
   ]
  },
  {
   "cell_type": "code",
   "execution_count": null,
   "metadata": {
    "pycharm": {
     "is_executing": true
    }
   },
   "outputs": [],
   "source": [
    "top1_action_idx = softmax_sim.numpy().argmax(axis=1)\n",
    "top1_action_df = pd.DataFrame(np.take_along_axis(df[\"text\"].to_numpy(), top1_action_idx, axis=0), columns=[\"top1_action\"], index=ALL_DF[\"vit-b-16-8f\"].index)\n",
    "top1_action_df[\"top1_text_classification\"] = np.take_along_axis(df[\"classification\"].to_numpy(), top1_action_idx, axis=0)\n",
    "top1_action_df[\"Classification\"] = ALL_DF[\"vit-b-16-8f\"][\"Classification\"] == \"TP\"\n",
    "top1_action_df[\"Classification_Match\"] = top1_action_df[\"top1_text_classification\"] == top1_action_df[\"Classification\"]\n",
    "top1_action_df[\"SubjectApproachType\"] = ALL_DF[\"vit-b-16-8f\"][\"SubjectApproachType\"]\n",
    "top1_action_df[\"SubjectDescription\"] = ALL_DF[\"vit-b-16-8f\"][\"SubjectDescription\"]\n",
    "top1_action_df[\"Distance\"] = ALL_DF[\"vit-b-16-8f\"][\"Distance\"]\n",
    "top1_action_df[\"Distraction\"] = ALL_DF[\"vit-b-16-8f\"][\"Distraction\"]\n",
    "top1_action_df"
   ]
  },
  {
   "cell_type": "code",
   "execution_count": null,
   "metadata": {
    "pycharm": {
     "is_executing": true
    }
   },
   "outputs": [],
   "source": [
    "mismatch_df = top1_action_df[~top1_action_df[\"Classification_Match\"]][[\"top1_action\", \"Classification\", \"SubjectApproachType\", \"SubjectDescription\", \"Distraction\"]]\n",
    "mismatch_df[mismatch_df[\"Classification\"]]"
   ]
  },
  {
   "cell_type": "code",
   "execution_count": null,
   "metadata": {
    "pycharm": {
     "is_executing": true
    }
   },
   "outputs": [],
   "source": [
    "mismatch_df[~mismatch_df[\"Classification\"]]\n"
   ]
  },
  {
   "cell_type": "code",
   "execution_count": null,
   "metadata": {
    "pycharm": {
     "is_executing": true
    }
   },
   "outputs": [],
   "source": [
    "matching_df = top1_action_df[top1_action_df[\"Classification_Match\"]]\n",
    "matching_df[matching_df[\"Classification\"]].shape, matching_df[~matching_df[\"Classification\"]].shape\n"
   ]
  },
  {
   "cell_type": "code",
   "execution_count": null,
   "metadata": {
    "pycharm": {
     "is_executing": true
    }
   },
   "outputs": [],
   "source": [
    "projection_color_df = pd.DataFrame(index=ALL_DF[\"vit-b-16-8f\"].index)\n",
    "projection_color_df[\"category\"] = None  # \"create\" a new column\n",
    "projection_color_df.loc[ALL_DF[\"vit-b-16-8f\"][\"Distraction\"].notnull(), \"category\"] = \"Distraction\"\n",
    "projection_color_df.loc[~ALL_DF[\"vit-b-16-8f\"][\"Distraction\"].notnull(), \"category\"] = \"Background\"\n",
    "projection_color_df.loc[ALL_DF[\"vit-b-16-8f\"][\"Classification\"] == \"TP\", \"category\"] = \"Alarm\"\n",
    "projection_color_df[\"Classification\"] = ALL_DF[\"vit-b-16-8f\"][\"Classification\"]\n",
    "projection_color_df"
   ]
  },
  {
   "cell_type": "code",
   "execution_count": null,
   "metadata": {
    "pycharm": {
     "is_executing": true
    }
   },
   "outputs": [],
   "source": [
    "sequences_projections_2d = TSNE(n_components=2, random_state=16896375, init='pca').fit_transform(ALL_DF[\"vit-b-16-8f\"][FEATURES_COLUMNS_INDEXES])\n",
    "\n",
    "fig = px.scatter(\n",
    "    sequences_projections_2d, x=0, y=1,\n",
    "    color=projection_color_df[\"category\"],\n",
    "    render_mode='svg',\n",
    "    hover_data={\"sequence\": ALL_DF[\"vit-b-16-8f\"].index},\n",
    ")\n",
    "fig.show()\n"
   ]
  },
  {
   "cell_type": "code",
   "execution_count": null,
   "metadata": {
    "pycharm": {
     "is_executing": true
    }
   },
   "outputs": [],
   "source": [
    "sequences_projections_3d = TSNE(n_components=3, random_state=16896375).fit_transform(ALL_DF[\"vit-b-16-8f\"][FEATURES_COLUMNS_INDEXES])\n",
    "\n",
    "fig = px.scatter_3d(\n",
    "    sequences_projections_3d, x=0, y=1, z=2,\n",
    "    color=projection_color_df[\"category\"],\n",
    "    hover_data={\"sequence\": ALL_DF[\"vit-b-16-8f\"].index},\n",
    ")\n",
    "fig.show()\n"
   ]
  },
  {
   "cell_type": "code",
   "execution_count": null,
   "metadata": {
    "pycharm": {
     "is_executing": true
    }
   },
   "outputs": [],
   "source": [
    "texts_projections_2d = TSNE(n_components=2, random_state=16896375, perplexity=5.).fit_transform(text_features)\n",
    "\n",
    "fig = px.scatter(\n",
    "    texts_projections_2d, x=0, y=1,\n",
    "    color=df[\"classification\"],\n",
    "    render_mode='svg',\n",
    "    hover_data={\"text\": df[\"text\"]},\n",
    ")\n",
    "fig.show()"
   ]
  },
  {
   "cell_type": "code",
   "execution_count": null,
   "metadata": {
    "pycharm": {
     "is_executing": true
    }
   },
   "outputs": [],
   "source": [
    "texts_projections_3d = TSNE(n_components=3, random_state=16896375, perplexity=5.).fit_transform(text_features)\n",
    "\n",
    "fig = px.scatter_3d(\n",
    "    texts_projections_3d, x=0, y=1, z=2,\n",
    "    color=df[\"classification\"],\n",
    "    hover_data={\"text\": df[\"text\"]},\n",
    ")\n",
    "fig.show()\n"
   ]
  }
 ],
 "metadata": {
  "kernelspec": {
   "display_name": "Python 3 (ipykernel)",
   "language": "python",
   "name": "python3"
  },
  "language_info": {
   "codemirror_mode": {
    "name": "ipython",
    "version": 3
   },
   "file_extension": ".py",
   "mimetype": "text/x-python",
   "name": "python",
   "nbconvert_exporter": "python",
   "pygments_lexer": "ipython3",
   "version": "3.10.6"
  }
 },
 "nbformat": 4,
 "nbformat_minor": 1
}
