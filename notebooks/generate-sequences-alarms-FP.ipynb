{
 "cells": [
  {
   "cell_type": "code",
   "execution_count": 1,
   "metadata": {
    "pycharm": {
     "name": "#%%\n"
    }
   },
   "outputs": [],
   "source": [
    "from pathlib import Path\n",
    "from typing import List, Tuple\n",
    "\n",
    "import pandas as pd\n",
    "import numpy as np"
   ]
  },
  {
   "cell_type": "code",
   "execution_count": 2,
   "outputs": [],
   "source": [
    "%load_ext autoreload\n",
    "%autoreload 2"
   ],
   "metadata": {
    "collapsed": false,
    "pycharm": {
     "name": "#%%\n"
    }
   }
  },
  {
   "cell_type": "markdown",
   "source": [
    "# Sequence generation\n",
    "\n",
    "Generate the same amount of TP and FP:\n",
    "\n",
    "* **TP**: The alarms in the alarms.csv\n",
    "* **FP**: Combinations of:\n",
    "    * _distractions_\n",
    "    * only background\n",
    "\n",
    "Try to distribute the load of sequence across videos/stages."
   ],
   "metadata": {
    "collapsed": false,
    "pycharm": {
     "name": "#%% md\n"
    }
   }
  },
  {
   "cell_type": "code",
   "execution_count": 3,
   "outputs": [],
   "source": [
    "# Student number\n",
    "np.random.seed(16896375)"
   ],
   "metadata": {
    "collapsed": false,
    "pycharm": {
     "name": "#%%\n"
    }
   }
  },
  {
   "cell_type": "code",
   "execution_count": 4,
   "outputs": [],
   "source": [
    "PROJECT_DIR = Path(\"..\")\n",
    "DATA_DIR = PROJECT_DIR / \"data\"\n",
    "\n",
    "ILIDS_META_DIR = DATA_DIR / \"ilids-metadata\""
   ],
   "metadata": {
    "collapsed": false,
    "pycharm": {
     "name": "#%%\n"
    }
   }
  },
  {
   "cell_type": "code",
   "execution_count": 5,
   "outputs": [],
   "source": [
    "videos_csv = ILIDS_META_DIR / \"videos.csv\"\n",
    "\n",
    "videos_df = pd.read_csv(videos_csv, index_col=\"format.filename\")\n",
    "videos_df[\"format.duration\"] = pd.to_timedelta(\n",
    "    videos_df[\"format.duration\"], unit=\"second\"\n",
    ")"
   ],
   "metadata": {
    "collapsed": false,
    "pycharm": {
     "name": "#%%\n"
    }
   }
  },
  {
   "cell_type": "code",
   "execution_count": 6,
   "outputs": [],
   "source": [
    "alarms_csv = ILIDS_META_DIR / \"alarms.csv\"\n",
    "\n",
    "alarms_df = pd.read_csv(alarms_csv, index_col=\"filename\")\n",
    "\n",
    "alarms_df[\"AlarmDuration\"] = pd.to_timedelta(alarms_df[\"AlarmDuration\"])\n",
    "alarms_df[\"StartTime\"] = pd.to_timedelta(alarms_df[\"StartTime\"])\n",
    "alarms_df[\"EndTime\"] = alarms_df[\"StartTime\"] + alarms_df[\"AlarmDuration\"]\n",
    "\n",
    "alarms_duration_min = alarms_df[\"AlarmDuration\"].dt.seconds.min()\n",
    "alarms_duration_max = alarms_df[\"AlarmDuration\"].dt.seconds.max()"
   ],
   "metadata": {
    "collapsed": false,
    "pycharm": {
     "name": "#%%\n"
    }
   }
  },
  {
   "cell_type": "code",
   "execution_count": 7,
   "outputs": [],
   "source": [
    "hand_distractions_csv = (\n",
    "    DATA_DIR / \"handcrafted-metadata\" / \"szte_distractions.extended.corrected.csv\"\n",
    ")\n",
    "\n",
    "distractions_df = pd.read_csv(hand_distractions_csv, index_col=\"filename\")\n",
    "distractions_df[\"start time\"] = pd.to_timedelta(distractions_df[\"start time\"])\n",
    "distractions_df[\"end time\"] = pd.to_timedelta(distractions_df[\"end time\"])\n",
    "distractions_df[\"duration\"] = pd.to_timedelta(distractions_df[\"duration\"])"
   ],
   "metadata": {
    "collapsed": false,
    "pycharm": {
     "name": "#%%\n"
    }
   }
  },
  {
   "cell_type": "code",
   "execution_count": 8,
   "outputs": [
    {
     "data": {
      "text/plain": "(432, 35)"
     },
     "execution_count": 8,
     "metadata": {},
     "output_type": "execute_result"
    }
   ],
   "source": [
    "len(alarms_df), len(distractions_df)"
   ],
   "metadata": {
    "collapsed": false,
    "pycharm": {
     "name": "#%%\n"
    }
   }
  },
  {
   "cell_type": "code",
   "execution_count": 9,
   "outputs": [],
   "source": [
    "alarms_df = alarms_df.rename(columns={\"AlarmDuration\": \"Duration\"})\n",
    "TP = alarms_df[\n",
    "    [\n",
    "        \"StartTime\",\n",
    "        \"EndTime\",\n",
    "        \"Duration\",\n",
    "        \"Distance\",\n",
    "        \"SubjectApproachType\",\n",
    "        \"SubjectDescription\",\n",
    "        \"SubjectOrientation\",\n",
    "    ]\n",
    "]"
   ],
   "metadata": {
    "collapsed": false,
    "pycharm": {
     "name": "#%%\n"
    }
   }
  },
  {
   "cell_type": "code",
   "execution_count": 10,
   "outputs": [
    {
     "data": {
      "text/plain": "SZTR/SZTEA204a.mov    31\nSZTR/SZTEA104a.mov    31\nSZTE/SZTEA104a.mov    31\nSZTE/SZTEA204a.mov    31\nSZTE/SZTEA203a.mov    17\nSZTR/SZTEA103a.mov    17\nSZTR/SZTEA102b.mov    17\nSZTE/SZTEA202b.mov    17\nSZTR/SZTEA202b.mov    17\nSZTR/SZTEA203a.mov    17\nSZTE/SZTEA103a.mov    17\nSZTE/SZTEA102b.mov    17\nSZTE/SZTEA201b.mov    15\nSZTR/SZTEA201b.mov    15\nSZTE/SZTEA101b.mov    15\nSZTR/SZTEA101b.mov    15\nSZTE/SZTEA202a.mov    13\nSZTR/SZTEA102a.mov    13\nSZTE/SZTEA102a.mov    13\nSZTR/SZTEA202a.mov    13\nSZTE/SZTEA101a.mov    10\nSZTR/SZTEA201a.mov    10\nSZTR/SZTEA105a.mov    10\nSZTE/SZTEA201a.mov    10\nSZTE/SZTEA105a.mov    10\nSZTR/SZTEA101a.mov    10\nName: filename, dtype: int64"
     },
     "execution_count": 10,
     "metadata": {},
     "output_type": "execute_result"
    }
   ],
   "source": [
    "TP.index.value_counts()"
   ],
   "metadata": {
    "collapsed": false,
    "pycharm": {
     "name": "#%%\n"
    }
   }
  },
  {
   "cell_type": "code",
   "execution_count": 11,
   "outputs": [],
   "source": [
    "distractions_df = distractions_df.rename(\n",
    "    columns={\n",
    "        \"distraction\": \"Distraction\",\n",
    "        \"start time\": \"StartTime\",\n",
    "        \"end time\": \"EndTime\",\n",
    "        \"duration\": \"Duration\",\n",
    "    }\n",
    ")\n",
    "FP = distractions_df[[\"StartTime\", \"EndTime\", \"Duration\", \"Distraction\"]]"
   ],
   "metadata": {
    "collapsed": false,
    "pycharm": {
     "name": "#%%\n"
    }
   }
  },
  {
   "cell_type": "code",
   "execution_count": 12,
   "outputs": [
    {
     "data": {
      "text/plain": "                         StartTime         EndTime        Duration  Distance  \\\nfilename                                                                       \nSZTE/SZTEA101a.mov 0 days 00:05:37 0 days 00:06:37 0 days 00:01:00      30.0   \nSZTE/SZTEA101a.mov 0 days 00:08:58 0 days 00:10:06 0 days 00:01:08      15.0   \nSZTE/SZTEA101a.mov 0 days 00:12:12 0 days 00:13:12 0 days 00:01:00      10.0   \nSZTE/SZTEA101a.mov 0 days 00:15:14 0 days 00:16:52 0 days 00:01:38      15.0   \nSZTE/SZTEA101a.mov 0 days 00:18:41 0 days 00:19:33 0 days 00:00:52      30.0   \n\n                   SubjectApproachType SubjectDescription SubjectOrientation  \\\nfilename                                                                       \nSZTE/SZTEA101a.mov         Crouch Walk         One Person      Perpendicular   \nSZTE/SZTEA101a.mov               Crawl         One Person      Perpendicular   \nSZTE/SZTEA101a.mov                 Run         One Person      Perpendicular   \nSZTE/SZTEA101a.mov          Creep walk         One Person      Perpendicular   \nSZTE/SZTEA101a.mov                 Run         One Person      Perpendicular   \n\n                   Distraction  \nfilename                        \nSZTE/SZTEA101a.mov         NaN  \nSZTE/SZTEA101a.mov         NaN  \nSZTE/SZTEA101a.mov         NaN  \nSZTE/SZTEA101a.mov         NaN  \nSZTE/SZTEA101a.mov         NaN  ",
      "text/html": "<div>\n<style scoped>\n    .dataframe tbody tr th:only-of-type {\n        vertical-align: middle;\n    }\n\n    .dataframe tbody tr th {\n        vertical-align: top;\n    }\n\n    .dataframe thead th {\n        text-align: right;\n    }\n</style>\n<table border=\"1\" class=\"dataframe\">\n  <thead>\n    <tr style=\"text-align: right;\">\n      <th></th>\n      <th>StartTime</th>\n      <th>EndTime</th>\n      <th>Duration</th>\n      <th>Distance</th>\n      <th>SubjectApproachType</th>\n      <th>SubjectDescription</th>\n      <th>SubjectOrientation</th>\n      <th>Distraction</th>\n    </tr>\n    <tr>\n      <th>filename</th>\n      <th></th>\n      <th></th>\n      <th></th>\n      <th></th>\n      <th></th>\n      <th></th>\n      <th></th>\n      <th></th>\n    </tr>\n  </thead>\n  <tbody>\n    <tr>\n      <th>SZTE/SZTEA101a.mov</th>\n      <td>0 days 00:05:37</td>\n      <td>0 days 00:06:37</td>\n      <td>0 days 00:01:00</td>\n      <td>30.0</td>\n      <td>Crouch Walk</td>\n      <td>One Person</td>\n      <td>Perpendicular</td>\n      <td>NaN</td>\n    </tr>\n    <tr>\n      <th>SZTE/SZTEA101a.mov</th>\n      <td>0 days 00:08:58</td>\n      <td>0 days 00:10:06</td>\n      <td>0 days 00:01:08</td>\n      <td>15.0</td>\n      <td>Crawl</td>\n      <td>One Person</td>\n      <td>Perpendicular</td>\n      <td>NaN</td>\n    </tr>\n    <tr>\n      <th>SZTE/SZTEA101a.mov</th>\n      <td>0 days 00:12:12</td>\n      <td>0 days 00:13:12</td>\n      <td>0 days 00:01:00</td>\n      <td>10.0</td>\n      <td>Run</td>\n      <td>One Person</td>\n      <td>Perpendicular</td>\n      <td>NaN</td>\n    </tr>\n    <tr>\n      <th>SZTE/SZTEA101a.mov</th>\n      <td>0 days 00:15:14</td>\n      <td>0 days 00:16:52</td>\n      <td>0 days 00:01:38</td>\n      <td>15.0</td>\n      <td>Creep walk</td>\n      <td>One Person</td>\n      <td>Perpendicular</td>\n      <td>NaN</td>\n    </tr>\n    <tr>\n      <th>SZTE/SZTEA101a.mov</th>\n      <td>0 days 00:18:41</td>\n      <td>0 days 00:19:33</td>\n      <td>0 days 00:00:52</td>\n      <td>30.0</td>\n      <td>Run</td>\n      <td>One Person</td>\n      <td>Perpendicular</td>\n      <td>NaN</td>\n    </tr>\n  </tbody>\n</table>\n</div>"
     },
     "execution_count": 12,
     "metadata": {},
     "output_type": "execute_result"
    }
   ],
   "source": [
    "SEQUENCES = pd.concat([TP, FP])\n",
    "SEQUENCES.head()"
   ],
   "metadata": {
    "collapsed": false,
    "pycharm": {
     "name": "#%%\n"
    }
   }
  },
  {
   "cell_type": "code",
   "execution_count": 13,
   "outputs": [
    {
     "data": {
      "text/plain": "                         StartTime         EndTime        Duration  Distance  \\\nfilename                                                                       \nSZTE/SZTEN202a.mov 0 days 00:06:02 0 days 00:06:02 0 days 00:02:00       NaN   \nSZTE/SZTEN202b.mov 0 days 00:20:49 0 days 00:20:49 0 days 00:01:28       NaN   \nSZTE/SZTEN202c.mov 0 days 00:09:24 0 days 00:09:24 0 days 00:01:02       NaN   \nSZTE/SZTEN202c.mov 0 days 00:15:18 0 days 00:15:39 0 days 00:00:21       NaN   \nSZTE/SZTEN202d.mov 0 days 00:19:50 0 days 00:20:18 0 days 00:00:28       NaN   \n\n                   SubjectApproachType SubjectDescription SubjectOrientation  \\\nfilename                                                                       \nSZTE/SZTEN202a.mov                 NaN                NaN                NaN   \nSZTE/SZTEN202b.mov                 NaN                NaN                NaN   \nSZTE/SZTEN202c.mov                 NaN                NaN                NaN   \nSZTE/SZTEN202c.mov                 NaN                NaN                NaN   \nSZTE/SZTEN202d.mov                 NaN                NaN                NaN   \n\n                         Distraction  \nfilename                              \nSZTE/SZTEN202a.mov             Birds  \nSZTE/SZTEN202b.mov             Birds  \nSZTE/SZTEN202c.mov             Birds  \nSZTE/SZTEN202c.mov  Insect on camera  \nSZTE/SZTEN202d.mov             Foxes  ",
      "text/html": "<div>\n<style scoped>\n    .dataframe tbody tr th:only-of-type {\n        vertical-align: middle;\n    }\n\n    .dataframe tbody tr th {\n        vertical-align: top;\n    }\n\n    .dataframe thead th {\n        text-align: right;\n    }\n</style>\n<table border=\"1\" class=\"dataframe\">\n  <thead>\n    <tr style=\"text-align: right;\">\n      <th></th>\n      <th>StartTime</th>\n      <th>EndTime</th>\n      <th>Duration</th>\n      <th>Distance</th>\n      <th>SubjectApproachType</th>\n      <th>SubjectDescription</th>\n      <th>SubjectOrientation</th>\n      <th>Distraction</th>\n    </tr>\n    <tr>\n      <th>filename</th>\n      <th></th>\n      <th></th>\n      <th></th>\n      <th></th>\n      <th></th>\n      <th></th>\n      <th></th>\n      <th></th>\n    </tr>\n  </thead>\n  <tbody>\n    <tr>\n      <th>SZTE/SZTEN202a.mov</th>\n      <td>0 days 00:06:02</td>\n      <td>0 days 00:06:02</td>\n      <td>0 days 00:02:00</td>\n      <td>NaN</td>\n      <td>NaN</td>\n      <td>NaN</td>\n      <td>NaN</td>\n      <td>Birds</td>\n    </tr>\n    <tr>\n      <th>SZTE/SZTEN202b.mov</th>\n      <td>0 days 00:20:49</td>\n      <td>0 days 00:20:49</td>\n      <td>0 days 00:01:28</td>\n      <td>NaN</td>\n      <td>NaN</td>\n      <td>NaN</td>\n      <td>NaN</td>\n      <td>Birds</td>\n    </tr>\n    <tr>\n      <th>SZTE/SZTEN202c.mov</th>\n      <td>0 days 00:09:24</td>\n      <td>0 days 00:09:24</td>\n      <td>0 days 00:01:02</td>\n      <td>NaN</td>\n      <td>NaN</td>\n      <td>NaN</td>\n      <td>NaN</td>\n      <td>Birds</td>\n    </tr>\n    <tr>\n      <th>SZTE/SZTEN202c.mov</th>\n      <td>0 days 00:15:18</td>\n      <td>0 days 00:15:39</td>\n      <td>0 days 00:00:21</td>\n      <td>NaN</td>\n      <td>NaN</td>\n      <td>NaN</td>\n      <td>NaN</td>\n      <td>Insect on camera</td>\n    </tr>\n    <tr>\n      <th>SZTE/SZTEN202d.mov</th>\n      <td>0 days 00:19:50</td>\n      <td>0 days 00:20:18</td>\n      <td>0 days 00:00:28</td>\n      <td>NaN</td>\n      <td>NaN</td>\n      <td>NaN</td>\n      <td>NaN</td>\n      <td>Foxes</td>\n    </tr>\n  </tbody>\n</table>\n</div>"
     },
     "execution_count": 13,
     "metadata": {},
     "output_type": "execute_result"
    }
   ],
   "source": [
    "SEQUENCES.tail()"
   ],
   "metadata": {
    "collapsed": false,
    "pycharm": {
     "name": "#%%\n"
    }
   }
  },
  {
   "cell_type": "code",
   "execution_count": 14,
   "outputs": [],
   "source": [
    "def check_in_sequences(df: pd.DataFrame) -> Tuple[List[bool], List[bool], List[bool]]:\n",
    "    # For matching filename and\n",
    "    # startTime <= start <= endTime or\n",
    "    # startTime <= end <= endTime\n",
    "\n",
    "    # df = pd.DataFrame({'StartTime': pd.to_timedelta([0, 0, 6*60], unit=\"second\"), 'EndTime': pd.to_timedelta([9*60, 12, 8*60], unit=\"second\"), 'filename': [\"SZTE/SZTEA101a.mov\",\n",
    "    # \"SZTE/SZTEA101a.mov\",\n",
    "    # \"SZTE/SZTEA101a.mov\",]}).set_index(\"filename\")\n",
    "    matching_filename = [(df.index[i] == SEQUENCES.index).any() for i in range(len(df))]\n",
    "    matching_filename_df = SEQUENCES[\n",
    "        [(df.index == SEQUENCES.index[i]).any() for i in range(len(SEQUENCES))]\n",
    "    ]\n",
    "\n",
    "    if not any(matching_filename_df):\n",
    "        return matching_filename_df\n",
    "\n",
    "    matching_start_df = [\n",
    "        (\n",
    "            matching_filename_df[\"StartTime\"]\n",
    "            <= df.iloc[i, df.columns.get_loc(\"StartTime\")]\n",
    "        ).any()\n",
    "        and (\n",
    "            df.iloc[i, df.columns.get_loc(\"StartTime\")]\n",
    "            <= matching_filename_df[\"EndTime\"]\n",
    "        ).any()\n",
    "        for i in range(len(df))\n",
    "    ]\n",
    "\n",
    "    matching_end_df = [\n",
    "        (\n",
    "            matching_filename_df[\"StartTime\"]\n",
    "            <= df.iloc[i, df.columns.get_loc(\"EndTime\")]\n",
    "        ).any()\n",
    "        and (\n",
    "            df.iloc[i, df.columns.get_loc(\"EndTime\")] <= matching_filename_df[\"EndTime\"]\n",
    "        ).any()\n",
    "        for i in range(len(df))\n",
    "    ]\n",
    "\n",
    "    return matching_filename & (\n",
    "        np.array(matching_start_df) | np.array(matching_end_df)\n",
    "    )  # , matching_filename_df[matching_start_df], matching_filename_df[matching_end_df]"
   ],
   "metadata": {
    "collapsed": false,
    "pycharm": {
     "name": "#%%\n"
    }
   }
  },
  {
   "cell_type": "code",
   "execution_count": 15,
   "outputs": [
    {
     "data": {
      "text/plain": "                           StartTime        Duration         EndTime\nformat.filename                                                     \nSZTR/SZTRA101a21.mov 0 days 00:00:01 0 days 00:01:43 0 days 00:01:44\nSZTE/SZTEN202b.mov   0 days 00:27:33 0 days 00:00:56 0 days 00:28:29\nSZTR/SZTRA103b15.mov 0 days 00:00:08 0 days 00:01:30 0 days 00:01:38\nSZTR/SZTRN101a.mov   0 days 00:11:10 0 days 00:01:21 0 days 00:12:31\nSZTR/SZTRA203b11.mov 0 days 00:01:12 0 days 00:01:55 0 days 00:03:07",
      "text/html": "<div>\n<style scoped>\n    .dataframe tbody tr th:only-of-type {\n        vertical-align: middle;\n    }\n\n    .dataframe tbody tr th {\n        vertical-align: top;\n    }\n\n    .dataframe thead th {\n        text-align: right;\n    }\n</style>\n<table border=\"1\" class=\"dataframe\">\n  <thead>\n    <tr style=\"text-align: right;\">\n      <th></th>\n      <th>StartTime</th>\n      <th>Duration</th>\n      <th>EndTime</th>\n    </tr>\n    <tr>\n      <th>format.filename</th>\n      <th></th>\n      <th></th>\n      <th></th>\n    </tr>\n  </thead>\n  <tbody>\n    <tr>\n      <th>SZTR/SZTRA101a21.mov</th>\n      <td>0 days 00:00:01</td>\n      <td>0 days 00:01:43</td>\n      <td>0 days 00:01:44</td>\n    </tr>\n    <tr>\n      <th>SZTE/SZTEN202b.mov</th>\n      <td>0 days 00:27:33</td>\n      <td>0 days 00:00:56</td>\n      <td>0 days 00:28:29</td>\n    </tr>\n    <tr>\n      <th>SZTR/SZTRA103b15.mov</th>\n      <td>0 days 00:00:08</td>\n      <td>0 days 00:01:30</td>\n      <td>0 days 00:01:38</td>\n    </tr>\n    <tr>\n      <th>SZTR/SZTRN101a.mov</th>\n      <td>0 days 00:11:10</td>\n      <td>0 days 00:01:21</td>\n      <td>0 days 00:12:31</td>\n    </tr>\n    <tr>\n      <th>SZTR/SZTRA203b11.mov</th>\n      <td>0 days 00:01:12</td>\n      <td>0 days 00:01:55</td>\n      <td>0 days 00:03:07</td>\n    </tr>\n  </tbody>\n</table>\n</div>"
     },
     "execution_count": 15,
     "metadata": {},
     "output_type": "execute_result"
    }
   ],
   "source": [
    "missing_fp = 2 * len(alarms_df) - len(SEQUENCES)\n",
    "\n",
    "video_files_idx = np.random.randint(0, len(videos_df), missing_fp)\n",
    "\n",
    "video_files = videos_df.index[video_files_idx]\n",
    "video_durations = videos_df.iloc[video_files_idx][\"format.duration\"]\n",
    "fp_durations = np.random.randint(alarms_duration_min, alarms_duration_max, missing_fp)\n",
    "fp_durations_delta = pd.to_timedelta(fp_durations, unit=\"second\")\n",
    "\n",
    "video_remaining_proportion = video_durations - fp_durations_delta\n",
    "# TODO in case of remaining not enough, drop it\n",
    "\n",
    "fp_start = (video_remaining_proportion * 0.95) * np.random.random(missing_fp)\n",
    "\n",
    "fp_df = pd.DataFrame(\n",
    "    {\n",
    "        \"StartTime\": pd.to_timedelta(fp_start, unit=\"second\").dt.floor(\"S\"),\n",
    "        \"Duration\": fp_durations_delta,\n",
    "    },\n",
    "    index=video_files,\n",
    ")\n",
    "fp_df[\"EndTime\"] = fp_df[\"StartTime\"] + fp_df[\"Duration\"]\n",
    "fp_df.head()"
   ],
   "metadata": {
    "collapsed": false,
    "pycharm": {
     "name": "#%%\n"
    }
   }
  },
  {
   "cell_type": "code",
   "execution_count": 16,
   "outputs": [
    {
     "data": {
      "text/plain": "array([False,  True, False, False, False, False, False, False, False,\n       False, False, False, False, False, False, False, False, False,\n       False, False, False,  True, False, False, False, False, False,\n       False, False, False, False,  True, False, False, False,  True,\n       False, False, False, False, False, False, False, False, False,\n       False, False,  True, False, False, False, False, False, False,\n       False, False, False, False, False, False,  True, False, False,\n       False, False, False, False,  True, False, False, False, False,\n        True, False, False, False, False, False, False, False, False,\n       False, False, False, False, False,  True, False, False,  True,\n       False, False, False, False, False, False, False, False, False,\n       False, False, False, False, False, False, False, False, False,\n       False, False, False, False, False, False, False, False, False,\n       False, False, False, False, False, False, False, False, False,\n       False, False, False,  True, False, False,  True, False, False,\n       False, False, False, False, False, False, False, False, False,\n       False,  True,  True, False, False, False, False, False, False,\n        True, False, False, False, False, False,  True, False, False,\n       False, False, False, False, False, False, False, False, False,\n       False, False, False, False,  True, False, False, False, False,\n       False, False, False, False, False, False, False, False, False,\n        True, False, False, False, False, False, False,  True, False,\n       False, False, False, False,  True, False, False, False,  True,\n       False, False, False, False, False, False, False, False, False,\n       False, False, False, False, False, False, False, False,  True,\n        True, False, False, False, False, False, False, False, False,\n       False, False, False, False, False, False, False, False, False,\n       False,  True, False, False, False, False, False, False, False,\n       False, False, False, False, False, False,  True, False,  True,\n       False, False, False, False, False, False, False, False, False,\n        True, False, False, False, False,  True,  True, False, False,\n        True, False, False, False, False,  True, False, False, False,\n       False, False, False, False,  True, False, False, False, False,\n       False, False, False, False, False, False, False, False, False,\n       False, False, False, False, False, False, False,  True, False,\n       False, False,  True, False, False, False, False, False, False,\n       False,  True, False,  True, False, False, False, False, False,\n       False, False, False,  True, False, False, False,  True, False,\n       False, False,  True, False, False, False, False, False, False,\n       False, False, False,  True, False,  True, False, False, False,\n       False, False, False,  True, False, False, False, False, False,\n       False, False, False, False, False, False, False, False,  True,\n       False, False, False, False, False,  True, False, False, False,\n       False, False, False, False, False,  True, False,  True, False,\n       False])"
     },
     "execution_count": 16,
     "metadata": {},
     "output_type": "execute_result"
    }
   ],
   "source": [
    "check_in_sequences(fp_df)"
   ],
   "metadata": {
    "collapsed": false,
    "pycharm": {
     "name": "#%%\n"
    }
   }
  }
 ],
 "metadata": {
  "kernelspec": {
   "display_name": "Python 3.10.6 64-bit",
   "language": "python",
   "name": "python3"
  },
  "language_info": {
   "name": "python",
   "version": "3.10.6"
  },
  "orig_nbformat": 4,
  "vscode": {
   "interpreter": {
    "hash": "aee8b7b246df8f9039afb4144a1f6fd8d2ca17a180786b69acc140d282b71a49"
   }
  }
 },
 "nbformat": 4,
 "nbformat_minor": 2
}