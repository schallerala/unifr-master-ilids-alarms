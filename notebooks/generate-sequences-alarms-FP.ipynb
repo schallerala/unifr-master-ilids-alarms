{
 "cells": [
  {
   "cell_type": "code",
   "execution_count": 1,
   "metadata": {
    "pycharm": {
     "name": "#%%\n"
    }
   },
   "outputs": [],
   "source": [
    "from pathlib import Path\n",
    "from time import strftime, gmtime\n",
    "\n",
    "import pandas as pd\n",
    "import numpy as np\n",
    "from tqdm import tqdm"
   ]
  },
  {
   "cell_type": "markdown",
   "source": [
    "# Sequence generation\n",
    "\n",
    "Generate the same amount of TP and FP:\n",
    "\n",
    "* **TP**: The alarms in the alarms.csv\n",
    "* **FP**: Combinations of:\n",
    "    * _distractions_\n",
    "    * only background\n",
    "\n",
    "TODO: How could one do that\n",
    "Try to distribute the load of sequence across video stages."
   ],
   "metadata": {
    "collapsed": false,
    "pycharm": {
     "name": "#%% md\n"
    }
   }
  },
  {
   "cell_type": "code",
   "execution_count": 2,
   "outputs": [],
   "source": [
    "# Student number\n",
    "np.random.seed(16896375)"
   ],
   "metadata": {
    "collapsed": false,
    "pycharm": {
     "name": "#%%\n"
    }
   }
  },
  {
   "cell_type": "code",
   "execution_count": 3,
   "outputs": [],
   "source": [
    "PROJECT_DIR = Path(\"..\")\n",
    "DATA_DIR = PROJECT_DIR / \"data\"\n",
    "\n",
    "ILIDS_META_DIR = DATA_DIR / \"ilids-metadata\""
   ],
   "metadata": {
    "collapsed": false,
    "pycharm": {
     "name": "#%%\n"
    }
   }
  },
  {
   "cell_type": "code",
   "execution_count": 4,
   "outputs": [],
   "source": [
    "clips_csv = ILIDS_META_DIR / \"clips.csv\"\n",
    "\n",
    "clips_df = pd.read_csv(clips_csv, index_col=\"filename\")\n",
    "clips_df = clips_df.drop(columns=[\"AlarmEvents\", \"Duration\"])"
   ],
   "metadata": {
    "collapsed": false,
    "pycharm": {
     "name": "#%%\n"
    }
   }
  },
  {
   "cell_type": "code",
   "execution_count": 5,
   "outputs": [],
   "source": [
    "videos_csv = ILIDS_META_DIR / \"videos.csv\"\n",
    "\n",
    "videos_df = pd.read_csv(videos_csv, index_col=\"format.filename\")\n",
    "videos_df[\"format.duration\"] = pd.to_timedelta(\n",
    "    videos_df[\"format.duration\"], unit=\"second\"\n",
    ")"
   ],
   "metadata": {
    "collapsed": false,
    "pycharm": {
     "name": "#%%\n"
    }
   }
  },
  {
   "cell_type": "code",
   "execution_count": 6,
   "outputs": [],
   "source": [
    "alarms_csv = ILIDS_META_DIR / \"alarms.csv\"\n",
    "\n",
    "alarms_df = pd.read_csv(alarms_csv, index_col=\"filename\")\n",
    "\n",
    "alarms_df[\"AlarmDuration\"] = pd.to_timedelta(alarms_df[\"AlarmDuration\"])\n",
    "alarms_df[\"StartTime\"] = pd.to_timedelta(alarms_df[\"StartTime\"])\n",
    "alarms_df[\"EndTime\"] = alarms_df[\"StartTime\"] + alarms_df[\"AlarmDuration\"]\n",
    "\n",
    "alarms_duration_min = alarms_df[\"AlarmDuration\"].dt.seconds.min()\n",
    "alarms_duration_max = alarms_df[\"AlarmDuration\"].dt.seconds.max()"
   ],
   "metadata": {
    "collapsed": false,
    "pycharm": {
     "name": "#%%\n"
    }
   }
  },
  {
   "cell_type": "code",
   "execution_count": 7,
   "outputs": [],
   "source": [
    "hand_distractions_csv = (\n",
    "    DATA_DIR / \"handcrafted-metadata\" / \"szte_distractions.extended.corrected.csv\"\n",
    ")\n",
    "\n",
    "distractions_df = pd.read_csv(hand_distractions_csv, index_col=\"filename\")\n",
    "distractions_df[\"start time\"] = pd.to_timedelta(distractions_df[\"start time\"])\n",
    "distractions_df[\"end time\"] = pd.to_timedelta(distractions_df[\"end time\"])\n",
    "distractions_df[\"duration\"] = pd.to_timedelta(distractions_df[\"duration\"])"
   ],
   "metadata": {
    "collapsed": false,
    "pycharm": {
     "name": "#%%\n"
    }
   }
  },
  {
   "cell_type": "code",
   "execution_count": 8,
   "outputs": [
    {
     "data": {
      "text/plain": "(432, 35)"
     },
     "execution_count": 8,
     "metadata": {},
     "output_type": "execute_result"
    }
   ],
   "source": [
    "len(alarms_df), len(distractions_df)"
   ],
   "metadata": {
    "collapsed": false,
    "pycharm": {
     "name": "#%%\n"
    }
   }
  },
  {
   "cell_type": "code",
   "execution_count": 9,
   "outputs": [],
   "source": [
    "alarms_df = alarms_df.rename(columns={\"AlarmDuration\": \"Duration\"})\n",
    "TP = alarms_df[\n",
    "    [\n",
    "        \"StartTime\",\n",
    "        \"EndTime\",\n",
    "        \"Duration\",\n",
    "        \"Distance\",\n",
    "        \"SubjectApproachType\",\n",
    "        \"SubjectDescription\",\n",
    "        \"SubjectOrientation\",\n",
    "    ]\n",
    "]"
   ],
   "metadata": {
    "collapsed": false,
    "pycharm": {
     "name": "#%%\n"
    }
   }
  },
  {
   "cell_type": "code",
   "execution_count": 10,
   "outputs": [
    {
     "data": {
      "text/plain": "SZTE/SZTEA204a.mov      31\nSZTE/SZTEA104a.mov      31\nSZTE/SZTEA202b.mov      17\nSZTE/SZTEA102b.mov      17\nSZTE/SZTEA103a.mov      17\n                        ..\nSZTR/SZTRA103b04.mov     1\nSZTR/SZTRA103b05.mov     1\nSZTR/SZTRA103b06.mov     1\nSZTR/SZTRA103b07.mov     1\nSZTR/SZTRA204a15.mov     1\nName: filename, Length: 229, dtype: int64"
     },
     "execution_count": 10,
     "metadata": {},
     "output_type": "execute_result"
    }
   ],
   "source": [
    "TP.index.value_counts()"
   ],
   "metadata": {
    "collapsed": false,
    "pycharm": {
     "name": "#%%\n"
    }
   }
  },
  {
   "cell_type": "code",
   "execution_count": 11,
   "outputs": [],
   "source": [
    "distractions_df = distractions_df.rename(\n",
    "    columns={\n",
    "        \"distraction\": \"Distraction\",\n",
    "        \"start time\": \"StartTime\",\n",
    "        \"end time\": \"EndTime\",\n",
    "        \"duration\": \"Duration\",\n",
    "    }\n",
    ")\n",
    "distractions_df = distractions_df[[\"StartTime\", \"EndTime\", \"Duration\", \"Distraction\"]]"
   ],
   "metadata": {
    "collapsed": false,
    "pycharm": {
     "name": "#%%\n"
    }
   }
  },
  {
   "cell_type": "code",
   "execution_count": 12,
   "outputs": [
    {
     "data": {
      "text/plain": "                         StartTime         EndTime        Duration  Distance  \\\nfilename                                                                       \nSZTE/SZTEA101a.mov 0 days 00:05:37 0 days 00:06:37 0 days 00:01:00      30.0   \nSZTE/SZTEA101a.mov 0 days 00:08:58 0 days 00:10:06 0 days 00:01:08      15.0   \nSZTE/SZTEA101a.mov 0 days 00:12:12 0 days 00:13:12 0 days 00:01:00      10.0   \nSZTE/SZTEA101a.mov 0 days 00:15:14 0 days 00:16:52 0 days 00:01:38      15.0   \nSZTE/SZTEA101a.mov 0 days 00:18:41 0 days 00:19:33 0 days 00:00:52      30.0   \n\n                   SubjectApproachType SubjectDescription SubjectOrientation  \\\nfilename                                                                       \nSZTE/SZTEA101a.mov         Crouch Walk         One Person      Perpendicular   \nSZTE/SZTEA101a.mov               Crawl         One Person      Perpendicular   \nSZTE/SZTEA101a.mov                 Run         One Person      Perpendicular   \nSZTE/SZTEA101a.mov          Creep walk         One Person      Perpendicular   \nSZTE/SZTEA101a.mov                 Run         One Person      Perpendicular   \n\n                   Distraction  \nfilename                        \nSZTE/SZTEA101a.mov         NaN  \nSZTE/SZTEA101a.mov         NaN  \nSZTE/SZTEA101a.mov         NaN  \nSZTE/SZTEA101a.mov         NaN  \nSZTE/SZTEA101a.mov         NaN  ",
      "text/html": "<div>\n<style scoped>\n    .dataframe tbody tr th:only-of-type {\n        vertical-align: middle;\n    }\n\n    .dataframe tbody tr th {\n        vertical-align: top;\n    }\n\n    .dataframe thead th {\n        text-align: right;\n    }\n</style>\n<table border=\"1\" class=\"dataframe\">\n  <thead>\n    <tr style=\"text-align: right;\">\n      <th></th>\n      <th>StartTime</th>\n      <th>EndTime</th>\n      <th>Duration</th>\n      <th>Distance</th>\n      <th>SubjectApproachType</th>\n      <th>SubjectDescription</th>\n      <th>SubjectOrientation</th>\n      <th>Distraction</th>\n    </tr>\n    <tr>\n      <th>filename</th>\n      <th></th>\n      <th></th>\n      <th></th>\n      <th></th>\n      <th></th>\n      <th></th>\n      <th></th>\n      <th></th>\n    </tr>\n  </thead>\n  <tbody>\n    <tr>\n      <th>SZTE/SZTEA101a.mov</th>\n      <td>0 days 00:05:37</td>\n      <td>0 days 00:06:37</td>\n      <td>0 days 00:01:00</td>\n      <td>30.0</td>\n      <td>Crouch Walk</td>\n      <td>One Person</td>\n      <td>Perpendicular</td>\n      <td>NaN</td>\n    </tr>\n    <tr>\n      <th>SZTE/SZTEA101a.mov</th>\n      <td>0 days 00:08:58</td>\n      <td>0 days 00:10:06</td>\n      <td>0 days 00:01:08</td>\n      <td>15.0</td>\n      <td>Crawl</td>\n      <td>One Person</td>\n      <td>Perpendicular</td>\n      <td>NaN</td>\n    </tr>\n    <tr>\n      <th>SZTE/SZTEA101a.mov</th>\n      <td>0 days 00:12:12</td>\n      <td>0 days 00:13:12</td>\n      <td>0 days 00:01:00</td>\n      <td>10.0</td>\n      <td>Run</td>\n      <td>One Person</td>\n      <td>Perpendicular</td>\n      <td>NaN</td>\n    </tr>\n    <tr>\n      <th>SZTE/SZTEA101a.mov</th>\n      <td>0 days 00:15:14</td>\n      <td>0 days 00:16:52</td>\n      <td>0 days 00:01:38</td>\n      <td>15.0</td>\n      <td>Creep walk</td>\n      <td>One Person</td>\n      <td>Perpendicular</td>\n      <td>NaN</td>\n    </tr>\n    <tr>\n      <th>SZTE/SZTEA101a.mov</th>\n      <td>0 days 00:18:41</td>\n      <td>0 days 00:19:33</td>\n      <td>0 days 00:00:52</td>\n      <td>30.0</td>\n      <td>Run</td>\n      <td>One Person</td>\n      <td>Perpendicular</td>\n      <td>NaN</td>\n    </tr>\n  </tbody>\n</table>\n</div>"
     },
     "execution_count": 12,
     "metadata": {},
     "output_type": "execute_result"
    }
   ],
   "source": [
    "SEQUENCES = pd.concat([TP, distractions_df])\n",
    "SEQUENCES.head()"
   ],
   "metadata": {
    "collapsed": false,
    "pycharm": {
     "name": "#%%\n"
    }
   }
  },
  {
   "cell_type": "code",
   "execution_count": 13,
   "outputs": [
    {
     "data": {
      "text/plain": "                         StartTime         EndTime        Duration  Distance  \\\nfilename                                                                       \nSZTE/SZTEN202a.mov 0 days 00:06:02 0 days 00:06:02 0 days 00:02:00       NaN   \nSZTE/SZTEN202b.mov 0 days 00:20:49 0 days 00:20:49 0 days 00:01:28       NaN   \nSZTE/SZTEN202c.mov 0 days 00:09:24 0 days 00:09:24 0 days 00:01:02       NaN   \nSZTE/SZTEN202c.mov 0 days 00:15:18 0 days 00:15:39 0 days 00:00:21       NaN   \nSZTE/SZTEN202d.mov 0 days 00:19:50 0 days 00:20:18 0 days 00:00:28       NaN   \n\n                   SubjectApproachType SubjectDescription SubjectOrientation  \\\nfilename                                                                       \nSZTE/SZTEN202a.mov                 NaN                NaN                NaN   \nSZTE/SZTEN202b.mov                 NaN                NaN                NaN   \nSZTE/SZTEN202c.mov                 NaN                NaN                NaN   \nSZTE/SZTEN202c.mov                 NaN                NaN                NaN   \nSZTE/SZTEN202d.mov                 NaN                NaN                NaN   \n\n                         Distraction  \nfilename                              \nSZTE/SZTEN202a.mov             Birds  \nSZTE/SZTEN202b.mov             Birds  \nSZTE/SZTEN202c.mov             Birds  \nSZTE/SZTEN202c.mov  Insect on camera  \nSZTE/SZTEN202d.mov             Foxes  ",
      "text/html": "<div>\n<style scoped>\n    .dataframe tbody tr th:only-of-type {\n        vertical-align: middle;\n    }\n\n    .dataframe tbody tr th {\n        vertical-align: top;\n    }\n\n    .dataframe thead th {\n        text-align: right;\n    }\n</style>\n<table border=\"1\" class=\"dataframe\">\n  <thead>\n    <tr style=\"text-align: right;\">\n      <th></th>\n      <th>StartTime</th>\n      <th>EndTime</th>\n      <th>Duration</th>\n      <th>Distance</th>\n      <th>SubjectApproachType</th>\n      <th>SubjectDescription</th>\n      <th>SubjectOrientation</th>\n      <th>Distraction</th>\n    </tr>\n    <tr>\n      <th>filename</th>\n      <th></th>\n      <th></th>\n      <th></th>\n      <th></th>\n      <th></th>\n      <th></th>\n      <th></th>\n      <th></th>\n    </tr>\n  </thead>\n  <tbody>\n    <tr>\n      <th>SZTE/SZTEN202a.mov</th>\n      <td>0 days 00:06:02</td>\n      <td>0 days 00:06:02</td>\n      <td>0 days 00:02:00</td>\n      <td>NaN</td>\n      <td>NaN</td>\n      <td>NaN</td>\n      <td>NaN</td>\n      <td>Birds</td>\n    </tr>\n    <tr>\n      <th>SZTE/SZTEN202b.mov</th>\n      <td>0 days 00:20:49</td>\n      <td>0 days 00:20:49</td>\n      <td>0 days 00:01:28</td>\n      <td>NaN</td>\n      <td>NaN</td>\n      <td>NaN</td>\n      <td>NaN</td>\n      <td>Birds</td>\n    </tr>\n    <tr>\n      <th>SZTE/SZTEN202c.mov</th>\n      <td>0 days 00:09:24</td>\n      <td>0 days 00:09:24</td>\n      <td>0 days 00:01:02</td>\n      <td>NaN</td>\n      <td>NaN</td>\n      <td>NaN</td>\n      <td>NaN</td>\n      <td>Birds</td>\n    </tr>\n    <tr>\n      <th>SZTE/SZTEN202c.mov</th>\n      <td>0 days 00:15:18</td>\n      <td>0 days 00:15:39</td>\n      <td>0 days 00:00:21</td>\n      <td>NaN</td>\n      <td>NaN</td>\n      <td>NaN</td>\n      <td>NaN</td>\n      <td>Insect on camera</td>\n    </tr>\n    <tr>\n      <th>SZTE/SZTEN202d.mov</th>\n      <td>0 days 00:19:50</td>\n      <td>0 days 00:20:18</td>\n      <td>0 days 00:00:28</td>\n      <td>NaN</td>\n      <td>NaN</td>\n      <td>NaN</td>\n      <td>NaN</td>\n      <td>Foxes</td>\n    </tr>\n  </tbody>\n</table>\n</div>"
     },
     "execution_count": 13,
     "metadata": {},
     "output_type": "execute_result"
    }
   ],
   "source": [
    "SEQUENCES.tail()"
   ],
   "metadata": {
    "collapsed": false,
    "pycharm": {
     "name": "#%%\n"
    }
   }
  },
  {
   "cell_type": "code",
   "execution_count": 14,
   "outputs": [],
   "source": [
    "def apply_interval(df: pd.DataFrame) -> pd.arrays.IntervalArray:\n",
    "    return pd.arrays.IntervalArray.from_arrays(df[\"StartTime\"], df[\"EndTime\"], closed=\"both\")"
   ],
   "metadata": {
    "collapsed": false,
    "pycharm": {
     "name": "#%%\n"
    }
   }
  },
  {
   "cell_type": "code",
   "execution_count": 15,
   "outputs": [
    {
     "data": {
      "text/plain": "                         StartTime         EndTime        Duration  Distance  \\\nfilename                                                                       \nSZTE/SZTEA101a.mov 0 days 00:05:37 0 days 00:06:37 0 days 00:01:00      30.0   \nSZTE/SZTEA101a.mov 0 days 00:08:58 0 days 00:10:06 0 days 00:01:08      15.0   \nSZTE/SZTEA101a.mov 0 days 00:12:12 0 days 00:13:12 0 days 00:01:00      10.0   \nSZTE/SZTEA101a.mov 0 days 00:15:14 0 days 00:16:52 0 days 00:01:38      15.0   \nSZTE/SZTEA101a.mov 0 days 00:18:41 0 days 00:19:33 0 days 00:00:52      30.0   \n\n                   SubjectApproachType SubjectDescription SubjectOrientation  \\\nfilename                                                                       \nSZTE/SZTEA101a.mov         Crouch Walk         One Person      Perpendicular   \nSZTE/SZTEA101a.mov               Crawl         One Person      Perpendicular   \nSZTE/SZTEA101a.mov                 Run         One Person      Perpendicular   \nSZTE/SZTEA101a.mov          Creep walk         One Person      Perpendicular   \nSZTE/SZTEA101a.mov                 Run         One Person      Perpendicular   \n\n                   Distraction                            Interval  \nfilename                                                            \nSZTE/SZTEA101a.mov         NaN  [0 days 00:05:37, 0 days 00:06:37]  \nSZTE/SZTEA101a.mov         NaN  [0 days 00:08:58, 0 days 00:10:06]  \nSZTE/SZTEA101a.mov         NaN  [0 days 00:12:12, 0 days 00:13:12]  \nSZTE/SZTEA101a.mov         NaN  [0 days 00:15:14, 0 days 00:16:52]  \nSZTE/SZTEA101a.mov         NaN  [0 days 00:18:41, 0 days 00:19:33]  ",
      "text/html": "<div>\n<style scoped>\n    .dataframe tbody tr th:only-of-type {\n        vertical-align: middle;\n    }\n\n    .dataframe tbody tr th {\n        vertical-align: top;\n    }\n\n    .dataframe thead th {\n        text-align: right;\n    }\n</style>\n<table border=\"1\" class=\"dataframe\">\n  <thead>\n    <tr style=\"text-align: right;\">\n      <th></th>\n      <th>StartTime</th>\n      <th>EndTime</th>\n      <th>Duration</th>\n      <th>Distance</th>\n      <th>SubjectApproachType</th>\n      <th>SubjectDescription</th>\n      <th>SubjectOrientation</th>\n      <th>Distraction</th>\n      <th>Interval</th>\n    </tr>\n    <tr>\n      <th>filename</th>\n      <th></th>\n      <th></th>\n      <th></th>\n      <th></th>\n      <th></th>\n      <th></th>\n      <th></th>\n      <th></th>\n      <th></th>\n    </tr>\n  </thead>\n  <tbody>\n    <tr>\n      <th>SZTE/SZTEA101a.mov</th>\n      <td>0 days 00:05:37</td>\n      <td>0 days 00:06:37</td>\n      <td>0 days 00:01:00</td>\n      <td>30.0</td>\n      <td>Crouch Walk</td>\n      <td>One Person</td>\n      <td>Perpendicular</td>\n      <td>NaN</td>\n      <td>[0 days 00:05:37, 0 days 00:06:37]</td>\n    </tr>\n    <tr>\n      <th>SZTE/SZTEA101a.mov</th>\n      <td>0 days 00:08:58</td>\n      <td>0 days 00:10:06</td>\n      <td>0 days 00:01:08</td>\n      <td>15.0</td>\n      <td>Crawl</td>\n      <td>One Person</td>\n      <td>Perpendicular</td>\n      <td>NaN</td>\n      <td>[0 days 00:08:58, 0 days 00:10:06]</td>\n    </tr>\n    <tr>\n      <th>SZTE/SZTEA101a.mov</th>\n      <td>0 days 00:12:12</td>\n      <td>0 days 00:13:12</td>\n      <td>0 days 00:01:00</td>\n      <td>10.0</td>\n      <td>Run</td>\n      <td>One Person</td>\n      <td>Perpendicular</td>\n      <td>NaN</td>\n      <td>[0 days 00:12:12, 0 days 00:13:12]</td>\n    </tr>\n    <tr>\n      <th>SZTE/SZTEA101a.mov</th>\n      <td>0 days 00:15:14</td>\n      <td>0 days 00:16:52</td>\n      <td>0 days 00:01:38</td>\n      <td>15.0</td>\n      <td>Creep walk</td>\n      <td>One Person</td>\n      <td>Perpendicular</td>\n      <td>NaN</td>\n      <td>[0 days 00:15:14, 0 days 00:16:52]</td>\n    </tr>\n    <tr>\n      <th>SZTE/SZTEA101a.mov</th>\n      <td>0 days 00:18:41</td>\n      <td>0 days 00:19:33</td>\n      <td>0 days 00:00:52</td>\n      <td>30.0</td>\n      <td>Run</td>\n      <td>One Person</td>\n      <td>Perpendicular</td>\n      <td>NaN</td>\n      <td>[0 days 00:18:41, 0 days 00:19:33]</td>\n    </tr>\n  </tbody>\n</table>\n</div>"
     },
     "execution_count": 15,
     "metadata": {},
     "output_type": "execute_result"
    }
   ],
   "source": [
    "SEQUENCES[\"Interval\"] = apply_interval(SEQUENCES)\n",
    "SEQUENCES.head()"
   ],
   "metadata": {
    "collapsed": false,
    "pycharm": {
     "name": "#%%\n"
    }
   }
  },
  {
   "cell_type": "code",
   "execution_count": 16,
   "outputs": [],
   "source": [
    "def check_in_sequences(\n",
    "    df: pd.DataFrame, reference: pd.DataFrame\n",
    ") -> np.ndarray:\n",
    "    # For matching filename and\n",
    "    #   startTime <= start <= endTime or\n",
    "    #   startTime <= end <= endTime\n",
    "\n",
    "    # Example df to test\n",
    "    # df = pd.DataFrame(\n",
    "    #     {\n",
    "    #         \"StartTime\": pd.to_timedelta([0, 0, 6 * 60], unit=\"second\"),\n",
    "    #         \"EndTime\": pd.to_timedelta([9 * 60, 12, 8 * 60], unit=\"second\"),\n",
    "    #         \"filename\": [\n",
    "    #             \"SZTE/SZTEA101a.mov\",\n",
    "    #             \"SZTE/SZTEA101a.mov\",\n",
    "    #             \"SZTE/SZTEA101a.mov\",\n",
    "    #         ],\n",
    "    #     }\n",
    "    # ).set_index(\"filename\")\n",
    "\n",
    "    matching_filename = df.index.intersection(reference.index)\n",
    "\n",
    "    if len(matching_filename) == 0:\n",
    "        return np.array([False] * len(df))\n",
    "\n",
    "    def check_df_row(row, reference: pd.DataFrame):\n",
    "        sub_reference = reference.loc[reference.index.intersection([row.name])]\n",
    "        return any(sub_reference[\"Interval\"].array.contains(row[\"StartTime\"])) or any(sub_reference[\"Interval\"].array.contains(row[\"EndTime\"]))\n",
    "\n",
    "    return df.apply(check_df_row, axis=1, args=(reference,))"
   ],
   "metadata": {
    "collapsed": false,
    "pycharm": {
     "name": "#%%\n"
    }
   }
  },
  {
   "cell_type": "code",
   "execution_count": 17,
   "outputs": [],
   "source": [
    "def generate_new_false_positive_intervals(N: int) -> pd.DataFrame:\n",
    "    video_files_idx = np.random.randint(0, len(videos_df), N)\n",
    "\n",
    "    video_files = videos_df.index[video_files_idx]\n",
    "    video_durations = videos_df.iloc[video_files_idx][\"format.duration\"]\n",
    "    fp_durations = np.random.randint(alarms_duration_min, alarms_duration_max, N)\n",
    "    fp_durations_delta = pd.to_timedelta(fp_durations, unit=\"second\")\n",
    "\n",
    "    video_remaining_proportion = video_durations - fp_durations_delta\n",
    "\n",
    "    fp_start = (video_remaining_proportion * 0.95) * np.random.random(N)\n",
    "\n",
    "    fp_df = pd.DataFrame(\n",
    "        {\n",
    "            \"StartTime\": pd.to_timedelta(fp_start, unit=\"second\").dt.floor(\"S\"),\n",
    "            \"Duration\": fp_durations_delta,\n",
    "        },\n",
    "        index=video_files,\n",
    "    )\n",
    "    fp_df[\"EndTime\"] = fp_df[\"StartTime\"] + fp_df[\"Duration\"]\n",
    "    fp_df[\"Comment\"] = \"FP\"\n",
    "\n",
    "    return fp_df"
   ],
   "metadata": {
    "collapsed": false,
    "pycharm": {
     "name": "#%%\n"
    }
   }
  },
  {
   "cell_type": "code",
   "execution_count": 18,
   "outputs": [],
   "source": [
    "def drop_invalid_intervals(df: pd.DataFrame, inplace=True) -> pd.DataFrame:\n",
    "    # In some cases, the generated duration is longer than the selected video's duration.\n",
    "    # In this case, the 'StartTime' will be negative.\n",
    "    # Drop them.\n",
    "    dropping_rows = df[df[\"StartTime\"] < pd.Timedelta(0, \"second\")].index\n",
    "\n",
    "    df = df.drop(dropping_rows, inplace=inplace)\n",
    "\n",
    "    return df"
   ],
   "metadata": {
    "collapsed": false,
    "pycharm": {
     "name": "#%%\n"
    }
   }
  },
  {
   "cell_type": "code",
   "execution_count": 19,
   "outputs": [],
   "source": [
    "def drop_intersect_interval(\n",
    "    df: pd.DataFrame, reference: pd.DataFrame, inplace=True\n",
    ") -> pd.DataFrame:\n",
    "    # In case in the sequence to extract from the videos already has an intersecting\n",
    "    # interval, drop them.\n",
    "    dropping_rows = df[check_in_sequences(df, reference=reference)].index\n",
    "\n",
    "    df = df.drop(dropping_rows, inplace=inplace)\n",
    "\n",
    "    return df"
   ],
   "metadata": {
    "collapsed": false,
    "pycharm": {
     "name": "#%%\n"
    }
   }
  },
  {
   "cell_type": "code",
   "execution_count": 20,
   "outputs": [
    {
     "name": "stderr",
     "output_type": "stream",
     "text": [
      "Generating unique non overlapping sequences: 100%|█████████▉| 861/864 [00:08<00:00, 32.86it/s]"
     ]
    }
   ],
   "source": [
    "TARGET_SEQUENCES = 2 * len(alarms_df)\n",
    "missing_fp = TARGET_SEQUENCES - len(SEQUENCES)\n",
    "\n",
    "progress = tqdm(total=TARGET_SEQUENCES, desc=\"Generating unique non overlapping sequences\", initial=len(SEQUENCES))\n",
    "while missing_fp > 0:\n",
    "    fp_df = generate_new_false_positive_intervals(missing_fp)\n",
    "    drop_invalid_intervals(fp_df)\n",
    "    drop_intersect_interval(fp_df, SEQUENCES)\n",
    "\n",
    "    fp_df[\"Interval\"] = apply_interval(fp_df)\n",
    "\n",
    "    SEQUENCES = pd.concat([SEQUENCES, fp_df])\n",
    "\n",
    "    missing_fp = TARGET_SEQUENCES - len(SEQUENCES)\n",
    "\n",
    "    progress.update(n=len(fp_df))"
   ],
   "metadata": {
    "collapsed": false,
    "pycharm": {
     "name": "#%%\n"
    }
   }
  },
  {
   "cell_type": "code",
   "execution_count": 21,
   "outputs": [
    {
     "data": {
      "text/plain": "                           StartTime         EndTime        Duration  \\\nSZTE/SZTEN202a.mov   0 days 00:14:55 0 days 00:16:04 0 days 00:01:09   \nSZTR/SZTRA203b11.mov 0 days 00:03:06 0 days 00:04:00 0 days 00:00:54   \nSZTE/SZTEA101a.mov   0 days 00:25:53 0 days 00:26:21 0 days 00:00:28   \nSZTR/SZTRN202b.mov   0 days 00:02:05 0 days 00:02:36 0 days 00:00:31   \nSZTR/SZTRN201b.mov   0 days 00:16:51 0 days 00:17:31 0 days 00:00:40   \n\n                      Distance SubjectApproachType SubjectDescription  \\\nSZTE/SZTEN202a.mov         NaN                 NaN                NaN   \nSZTR/SZTRA203b11.mov       NaN                 NaN                NaN   \nSZTE/SZTEA101a.mov         NaN                 NaN                NaN   \nSZTR/SZTRN202b.mov         NaN                 NaN                NaN   \nSZTR/SZTRN201b.mov         NaN                 NaN                NaN   \n\n                     SubjectOrientation Distraction  \\\nSZTE/SZTEN202a.mov                  NaN         NaN   \nSZTR/SZTRA203b11.mov                NaN         NaN   \nSZTE/SZTEA101a.mov                  NaN         NaN   \nSZTR/SZTRN202b.mov                  NaN         NaN   \nSZTR/SZTRN201b.mov                  NaN         NaN   \n\n                                                Interval Comment  \nSZTE/SZTEN202a.mov    [0 days 00:14:55, 0 days 00:16:04]      FP  \nSZTR/SZTRA203b11.mov  [0 days 00:03:06, 0 days 00:04:00]      FP  \nSZTE/SZTEA101a.mov    [0 days 00:25:53, 0 days 00:26:21]      FP  \nSZTR/SZTRN202b.mov    [0 days 00:02:05, 0 days 00:02:36]      FP  \nSZTR/SZTRN201b.mov    [0 days 00:16:51, 0 days 00:17:31]      FP  ",
      "text/html": "<div>\n<style scoped>\n    .dataframe tbody tr th:only-of-type {\n        vertical-align: middle;\n    }\n\n    .dataframe tbody tr th {\n        vertical-align: top;\n    }\n\n    .dataframe thead th {\n        text-align: right;\n    }\n</style>\n<table border=\"1\" class=\"dataframe\">\n  <thead>\n    <tr style=\"text-align: right;\">\n      <th></th>\n      <th>StartTime</th>\n      <th>EndTime</th>\n      <th>Duration</th>\n      <th>Distance</th>\n      <th>SubjectApproachType</th>\n      <th>SubjectDescription</th>\n      <th>SubjectOrientation</th>\n      <th>Distraction</th>\n      <th>Interval</th>\n      <th>Comment</th>\n    </tr>\n  </thead>\n  <tbody>\n    <tr>\n      <th>SZTE/SZTEN202a.mov</th>\n      <td>0 days 00:14:55</td>\n      <td>0 days 00:16:04</td>\n      <td>0 days 00:01:09</td>\n      <td>NaN</td>\n      <td>NaN</td>\n      <td>NaN</td>\n      <td>NaN</td>\n      <td>NaN</td>\n      <td>[0 days 00:14:55, 0 days 00:16:04]</td>\n      <td>FP</td>\n    </tr>\n    <tr>\n      <th>SZTR/SZTRA203b11.mov</th>\n      <td>0 days 00:03:06</td>\n      <td>0 days 00:04:00</td>\n      <td>0 days 00:00:54</td>\n      <td>NaN</td>\n      <td>NaN</td>\n      <td>NaN</td>\n      <td>NaN</td>\n      <td>NaN</td>\n      <td>[0 days 00:03:06, 0 days 00:04:00]</td>\n      <td>FP</td>\n    </tr>\n    <tr>\n      <th>SZTE/SZTEA101a.mov</th>\n      <td>0 days 00:25:53</td>\n      <td>0 days 00:26:21</td>\n      <td>0 days 00:00:28</td>\n      <td>NaN</td>\n      <td>NaN</td>\n      <td>NaN</td>\n      <td>NaN</td>\n      <td>NaN</td>\n      <td>[0 days 00:25:53, 0 days 00:26:21]</td>\n      <td>FP</td>\n    </tr>\n    <tr>\n      <th>SZTR/SZTRN202b.mov</th>\n      <td>0 days 00:02:05</td>\n      <td>0 days 00:02:36</td>\n      <td>0 days 00:00:31</td>\n      <td>NaN</td>\n      <td>NaN</td>\n      <td>NaN</td>\n      <td>NaN</td>\n      <td>NaN</td>\n      <td>[0 days 00:02:05, 0 days 00:02:36]</td>\n      <td>FP</td>\n    </tr>\n    <tr>\n      <th>SZTR/SZTRN201b.mov</th>\n      <td>0 days 00:16:51</td>\n      <td>0 days 00:17:31</td>\n      <td>0 days 00:00:40</td>\n      <td>NaN</td>\n      <td>NaN</td>\n      <td>NaN</td>\n      <td>NaN</td>\n      <td>NaN</td>\n      <td>[0 days 00:16:51, 0 days 00:17:31]</td>\n      <td>FP</td>\n    </tr>\n  </tbody>\n</table>\n</div>"
     },
     "execution_count": 21,
     "metadata": {},
     "output_type": "execute_result"
    }
   ],
   "source": [
    "SEQUENCES.tail()\n"
   ],
   "metadata": {
    "collapsed": false,
    "pycharm": {
     "name": "#%%\n"
    }
   }
  },
  {
   "cell_type": "code",
   "execution_count": 22,
   "outputs": [],
   "source": [
    "SEQUENCES = SEQUENCES.join(clips_df)\n",
    "SEQUENCES.index.rename(\"filename\", inplace=True)"
   ],
   "metadata": {
    "collapsed": false,
    "pycharm": {
     "name": "#%%\n"
    }
   }
  },
  {
   "cell_type": "code",
   "execution_count": 23,
   "outputs": [],
   "source": [
    "# Change to way time related column will be serialized in the new csv\n",
    "SEQUENCES[\"StartTime\"] = SEQUENCES[\"StartTime\"].dt.seconds.apply(lambda secs: strftime(\"%H:%M:%S\", gmtime(secs)))\n",
    "SEQUENCES[\"EndTime\"] = SEQUENCES[\"EndTime\"].dt.seconds.apply(lambda secs: strftime(\"%H:%M:%S\", gmtime(secs)))\n",
    "SEQUENCES[\"Duration\"] = SEQUENCES[\"Duration\"].dt.seconds.apply(lambda secs: strftime(\"%H:%M:%S\", gmtime(secs)))\n",
    "SEQUENCES.drop(columns=\"Interval\", inplace=True)\n",
    "\n",
    "SEQUENCES.to_csv(\n",
    "    hand_distractions_csv.parent / \"tp_fp_sequences.csv\"\n",
    ")\n"
   ],
   "metadata": {
    "collapsed": false,
    "pycharm": {
     "name": "#%%\n"
    }
   }
  }
 ],
 "metadata": {
  "kernelspec": {
   "display_name": "Python 3.10.6 64-bit",
   "language": "python",
   "name": "python3"
  },
  "language_info": {
   "name": "python",
   "version": "3.10.6"
  },
  "orig_nbformat": 4,
  "vscode": {
   "interpreter": {
    "hash": "aee8b7b246df8f9039afb4144a1f6fd8d2ca17a180786b69acc140d282b71a49"
   }
  }
 },
 "nbformat": 4,
 "nbformat_minor": 2
}