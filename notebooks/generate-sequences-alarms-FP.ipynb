{
 "cells": [
  {
   "cell_type": "code",
   "execution_count": 1,
   "metadata": {
    "pycharm": {
     "name": "#%%\n"
    }
   },
   "outputs": [],
   "source": [
    "from pathlib import Path\n",
    "from time import strftime, gmtime\n",
    "\n",
    "import pandas as pd\n",
    "import numpy as np\n",
    "from tqdm import tqdm"
   ]
  },
  {
   "cell_type": "markdown",
   "metadata": {
    "collapsed": false,
    "pycharm": {
     "name": "#%% md\n"
    }
   },
   "source": [
    "# Sequence generation\n",
    "\n",
    "Generate the same amount of TP and FP:\n",
    "\n",
    "* **TP**: The alarms in the alarms.csv\n",
    "* **FP**: Combinations of:\n",
    "    * _distractions_\n",
    "    * only background\n",
    "\n",
    "TODO: How could one do that\n",
    "Try to distribute the load of sequence across video stages."
   ]
  },
  {
   "cell_type": "code",
   "execution_count": 2,
   "metadata": {
    "collapsed": false,
    "pycharm": {
     "name": "#%%\n"
    }
   },
   "outputs": [],
   "source": [
    "# Student number\n",
    "np.random.seed(16896375)"
   ]
  },
  {
   "cell_type": "code",
   "execution_count": 3,
   "metadata": {
    "collapsed": false,
    "pycharm": {
     "name": "#%%\n"
    }
   },
   "outputs": [],
   "source": [
    "PROJECT_DIR = Path(\"..\")\n",
    "DATA_DIR = PROJECT_DIR / \"data\"\n",
    "\n",
    "ILIDS_META_DIR = DATA_DIR / \"ilids-metadata\""
   ]
  },
  {
   "cell_type": "code",
   "execution_count": 4,
   "metadata": {
    "collapsed": false,
    "pycharm": {
     "name": "#%%\n"
    }
   },
   "outputs": [],
   "source": [
    "clips_csv = ILIDS_META_DIR / \"clips.csv\"\n",
    "\n",
    "clips_df = pd.read_csv(clips_csv, index_col=\"filename\")\n",
    "clips_df = clips_df.drop(columns=[\"AlarmEvents\", \"Duration\"])"
   ]
  },
  {
   "cell_type": "code",
   "execution_count": 5,
   "metadata": {
    "collapsed": false,
    "pycharm": {
     "name": "#%%\n"
    }
   },
   "outputs": [],
   "source": [
    "videos_csv = ILIDS_META_DIR / \"videos.csv\"\n",
    "\n",
    "videos_df = pd.read_csv(videos_csv, index_col=\"format.filename\")\n",
    "videos_df[\"format.duration\"] = pd.to_timedelta(\n",
    "    videos_df[\"format.duration\"], unit=\"second\"\n",
    ")"
   ]
  },
  {
   "cell_type": "code",
   "execution_count": 6,
   "metadata": {
    "collapsed": false,
    "pycharm": {
     "name": "#%%\n"
    }
   },
   "outputs": [],
   "source": [
    "alarms_csv = ILIDS_META_DIR / \"alarms.csv\"\n",
    "\n",
    "alarms_df = pd.read_csv(alarms_csv, index_col=\"filename\")\n",
    "\n",
    "alarms_df[\"AlarmDuration\"] = pd.to_timedelta(alarms_df[\"AlarmDuration\"])\n",
    "alarms_df[\"StartTime\"] = pd.to_timedelta(alarms_df[\"StartTime\"])\n",
    "alarms_df[\"EndTime\"] = alarms_df[\"StartTime\"] + alarms_df[\"AlarmDuration\"]\n",
    "\n",
    "alarms_duration_min = alarms_df[\"AlarmDuration\"].dt.seconds.min()\n",
    "alarms_duration_max = alarms_df[\"AlarmDuration\"].dt.seconds.max()"
   ]
  },
  {
   "cell_type": "code",
   "execution_count": 7,
   "metadata": {
    "collapsed": false,
    "pycharm": {
     "name": "#%%\n"
    }
   },
   "outputs": [],
   "source": [
    "hand_distractions_csv = (\n",
    "    DATA_DIR / \"handcrafted-metadata\" / \"szte_distractions.extended.corrected.csv\"\n",
    ")\n",
    "\n",
    "distractions_df = pd.read_csv(hand_distractions_csv, index_col=\"filename\")\n",
    "distractions_df[\"start time\"] = pd.to_timedelta(distractions_df[\"start time\"])\n",
    "distractions_df[\"end time\"] = pd.to_timedelta(distractions_df[\"end time\"])\n",
    "distractions_df[\"duration\"] = pd.to_timedelta(distractions_df[\"duration\"])"
   ]
  },
  {
   "cell_type": "code",
   "execution_count": 8,
   "metadata": {
    "collapsed": false,
    "pycharm": {
     "name": "#%%\n"
    }
   },
   "outputs": [
    {
     "data": {
      "text/plain": [
       "(432, 35)"
      ]
     },
     "execution_count": 8,
     "metadata": {},
     "output_type": "execute_result"
    }
   ],
   "source": [
    "len(alarms_df), len(distractions_df)"
   ]
  },
  {
   "cell_type": "code",
   "execution_count": null,
   "outputs": [],
   "source": [
    "alarms_df = alarms_df.rename(columns={\"AlarmDuration\": \"Duration\"})\n",
    "TP = alarms_df[\n",
    "    [\n",
    "        \"StartTime\",\n",
    "        \"EndTime\",\n",
    "        \"Duration\",\n",
    "        \"Distance\",\n",
    "        \"SubjectApproachType\",\n",
    "        \"SubjectDescription\",\n",
    "        \"SubjectOrientation\",\n",
    "    ]\n",
    "]\n",
    "TP[\"Classification\"] = \"TP\""
   ],
   "metadata": {
    "collapsed": false,
    "pycharm": {
     "name": "#%%\n"
    }
   }
  },
  {
   "cell_type": "code",
   "execution_count": null,
   "outputs": [],
   "source": [
    "distractions_df = distractions_df.rename(\n",
    "    columns={\n",
    "        \"distraction\": \"Distraction\",\n",
    "        \"start time\": \"StartTime\",\n",
    "        \"end time\": \"EndTime\",\n",
    "        \"duration\": \"Duration\",\n",
    "    }\n",
    ")\n",
    "distractions_df = distractions_df[[\"StartTime\", \"EndTime\", \"Duration\", \"Distraction\"]]\n",
    "distractions_df[\"Classification\"] = \"FP\""
   ],
   "metadata": {
    "collapsed": false,
    "pycharm": {
     "name": "#%%\n"
    }
   }
  },
  {
   "cell_type": "code",
   "execution_count": null,
   "outputs": [],
   "source": [
    "SEQUENCES = pd.concat([TP, distractions_df])\n",
    "SEQUENCES.head()"
   ],
   "metadata": {
    "collapsed": false,
    "pycharm": {
     "name": "#%%\n"
    }
   }
  },
  {
   "cell_type": "code",
   "execution_count": null,
   "outputs": [],
   "source": [
    "SEQUENCES.tail()"
   ],
   "metadata": {
    "collapsed": false,
    "pycharm": {
     "name": "#%%\n"
    }
   }
  },
  {
   "cell_type": "code",
   "execution_count": null,
   "outputs": [],
   "source": [
    "def apply_interval(df: pd.DataFrame) -> pd.arrays.IntervalArray:\n",
    "    return pd.arrays.IntervalArray.from_arrays(\n",
    "        df[\"StartTime\"], df[\"EndTime\"], closed=\"both\"\n",
    "    )"
   ],
   "metadata": {
    "collapsed": false,
    "pycharm": {
     "name": "#%%\n"
    }
   }
  },
  {
   "cell_type": "code",
   "execution_count": null,
   "outputs": [],
   "source": [
    "SEQUENCES[\"Interval\"] = apply_interval(SEQUENCES)\n",
    "SEQUENCES.head()"
   ],
   "metadata": {
    "collapsed": false,
    "pycharm": {
     "name": "#%%\n"
    }
   }
  },
  {
   "cell_type": "code",
   "execution_count": null,
   "outputs": [],
   "source": [
    "def check_in_sequences(df: pd.DataFrame, reference: pd.DataFrame) -> np.ndarray:\n",
    "    # For matching filename and\n",
    "    #   startTime <= start <= endTime or\n",
    "    #   startTime <= end <= endTime\n",
    "\n",
    "    # Example df to test\n",
    "    # df = pd.DataFrame(\n",
    "    #     {\n",
    "    #         \"StartTime\": pd.to_timedelta([0, 0, 6 * 60], unit=\"second\"),\n",
    "    #         \"EndTime\": pd.to_timedelta([9 * 60, 12, 8 * 60], unit=\"second\"),\n",
    "    #         \"filename\": [\n",
    "    #             \"SZTE/SZTEA101a.mov\",\n",
    "    #             \"SZTE/SZTEA101a.mov\",\n",
    "    #             \"SZTE/SZTEA101a.mov\",\n",
    "    #         ],\n",
    "    #     }\n",
    "    # ).set_index(\"filename\")\n",
    "\n",
    "    matching_filename = df.index.intersection(reference.index)\n",
    "\n",
    "    if len(matching_filename) == 0:\n",
    "        return np.array([False] * len(df))\n",
    "\n",
    "    def check_df_row(row, reference: pd.DataFrame):\n",
    "        sub_reference = reference.loc[reference.index.intersection([row.name])]\n",
    "        return any(sub_reference[\"Interval\"].array.contains(row[\"StartTime\"])) or any(\n",
    "            sub_reference[\"Interval\"].array.contains(row[\"EndTime\"])\n",
    "        )\n",
    "\n",
    "    return df.apply(check_df_row, axis=1, args=(reference,))"
   ],
   "metadata": {
    "collapsed": false,
    "pycharm": {
     "name": "#%%\n"
    }
   }
  },
  {
   "cell_type": "code",
   "execution_count": null,
   "outputs": [],
   "source": [
    "def generate_new_false_positive_intervals(N: int) -> pd.DataFrame:\n",
    "    video_files_idx = np.random.randint(0, len(videos_df), N)\n",
    "\n",
    "    video_files = videos_df.index[video_files_idx]\n",
    "    video_durations = videos_df.iloc[video_files_idx][\"format.duration\"]\n",
    "    fp_durations = np.random.randint(alarms_duration_min, alarms_duration_max, N)\n",
    "    fp_durations_delta = pd.to_timedelta(fp_durations, unit=\"second\")\n",
    "\n",
    "    video_remaining_proportion = video_durations - fp_durations_delta\n",
    "\n",
    "    fp_start = (video_remaining_proportion * 0.95) * np.random.random(N)\n",
    "\n",
    "    fp_df = pd.DataFrame(\n",
    "        {\n",
    "            \"StartTime\": pd.to_timedelta(fp_start, unit=\"second\").dt.floor(\"S\"),\n",
    "            \"Duration\": fp_durations_delta,\n",
    "        },\n",
    "        index=video_files,\n",
    "    )\n",
    "    fp_df[\"EndTime\"] = fp_df[\"StartTime\"] + fp_df[\"Duration\"]\n",
    "    fp_df[\"Classification\"] = \"FP\"\n",
    "\n",
    "    return fp_df"
   ],
   "metadata": {
    "collapsed": false,
    "pycharm": {
     "name": "#%%\n"
    }
   }
  },
  {
   "cell_type": "code",
   "execution_count": null,
   "outputs": [],
   "source": [
    "def drop_invalid_intervals(df: pd.DataFrame, inplace=True) -> pd.DataFrame:\n",
    "    # In some cases, the generated duration is longer than the selected video's duration.\n",
    "    # In this case, the 'StartTime' will be negative.\n",
    "    # Drop them.\n",
    "    dropping_rows = df[df[\"StartTime\"] < pd.Timedelta(0, \"second\")].index\n",
    "\n",
    "    df = df.drop(dropping_rows, inplace=inplace)\n",
    "\n",
    "    return df"
   ],
   "metadata": {
    "collapsed": false,
    "pycharm": {
     "name": "#%%\n"
    }
   }
  },
  {
   "cell_type": "code",
   "execution_count": null,
   "outputs": [],
   "source": [
    "def drop_intersect_interval(\n",
    "    df: pd.DataFrame, reference: pd.DataFrame, inplace=True\n",
    ") -> pd.DataFrame:\n",
    "    # In case in the sequence to extract from the videos already has an intersecting\n",
    "    # interval, drop them.\n",
    "    dropping_rows = df[check_in_sequences(df, reference=reference)].index\n",
    "\n",
    "    df = df.drop(dropping_rows, inplace=inplace)\n",
    "\n",
    "    return df"
   ],
   "metadata": {
    "collapsed": false,
    "pycharm": {
     "name": "#%%\n"
    }
   }
  },
  {
   "cell_type": "code",
   "execution_count": null,
   "outputs": [],
   "source": [
    "TARGET_SEQUENCES = 2 * len(alarms_df)\n",
    "missing_fp = TARGET_SEQUENCES - len(SEQUENCES)\n",
    "\n",
    "progress = tqdm(\n",
    "    total=TARGET_SEQUENCES,\n",
    "    desc=\"Generating unique non overlapping sequences\",\n",
    "    initial=len(SEQUENCES),\n",
    ")\n",
    "while missing_fp > 0:\n",
    "    fp_df = generate_new_false_positive_intervals(missing_fp)\n",
    "    drop_invalid_intervals(fp_df)\n",
    "    drop_intersect_interval(fp_df, SEQUENCES)\n",
    "\n",
    "    fp_df[\"Interval\"] = apply_interval(fp_df)\n",
    "\n",
    "    SEQUENCES = pd.concat([SEQUENCES, fp_df])\n",
    "\n",
    "    missing_fp = TARGET_SEQUENCES - len(SEQUENCES)\n",
    "\n",
    "    progress.update(n=len(fp_df))"
   ],
   "metadata": {
    "collapsed": false,
    "pycharm": {
     "name": "#%%\n"
    }
   }
  },
  {
   "cell_type": "code",
   "execution_count": null,
   "outputs": [],
   "source": [
    "SEQUENCES.tail()"
   ],
   "metadata": {
    "collapsed": false,
    "pycharm": {
     "name": "#%%\n"
    }
   }
  },
  {
   "cell_type": "code",
   "execution_count": null,
   "outputs": [],
   "source": [
    "SEQUENCES = SEQUENCES.join(clips_df)\n",
    "SEQUENCES.index.rename(\"filename\", inplace=True)"
   ],
   "metadata": {
    "collapsed": false,
    "pycharm": {
     "name": "#%%\n"
    }
   }
  },
  {
   "cell_type": "code",
   "execution_count": null,
   "outputs": [],
   "source": [
    "# Change to way time related column will be serialized in the new csv\n",
    "SEQUENCES[\"StartTime\"] = SEQUENCES[\"StartTime\"].dt.seconds.apply(\n",
    "    lambda secs: strftime(\"%H:%M:%S\", gmtime(secs))\n",
    ")\n",
    "SEQUENCES[\"EndTime\"] = SEQUENCES[\"EndTime\"].dt.seconds.apply(\n",
    "    lambda secs: strftime(\"%H:%M:%S\", gmtime(secs))\n",
    ")\n",
    "SEQUENCES[\"Duration\"] = SEQUENCES[\"Duration\"].dt.seconds.apply(\n",
    "    lambda secs: strftime(\"%H:%M:%S\", gmtime(secs))\n",
    ")\n",
    "SEQUENCES.drop(columns=\"Interval\", inplace=True)\n",
    "\n",
    "SEQUENCES.to_csv(hand_distractions_csv.parent / \"tp_fp_sequences.csv\")\n"
   ],
   "metadata": {
    "collapsed": false,
    "pycharm": {
     "name": "#%%\n"
    }
   }
  }
 ],
 "metadata": {
  "kernelspec": {
   "display_name": "Python 3.10.6 64-bit",
   "language": "python",
   "name": "python3"
  },
  "language_info": {
   "name": "python",
   "version": "3.10.6"
  },
  "orig_nbformat": 4,
  "vscode": {
   "interpreter": {
    "hash": "aee8b7b246df8f9039afb4144a1f6fd8d2ca17a180786b69acc140d282b71a49"
   }
  }
 },
 "nbformat": 4,
 "nbformat_minor": 2
}