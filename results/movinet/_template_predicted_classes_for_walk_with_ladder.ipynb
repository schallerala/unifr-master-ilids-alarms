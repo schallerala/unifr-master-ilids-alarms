{
 "cells": [
  {
   "attachments": {},
   "cell_type": "markdown",
   "metadata": {},
   "source": [
    "# Analyze what classes labels are predicted for sequences with man walking with a ladder\n",
    "\n",
    "Those sequences should probably be the easiest to classify."
   ]
  },
  {
   "cell_type": "code",
   "execution_count": 1,
   "metadata": {},
   "outputs": [],
   "source": [
    "import pandas as pd\n",
    "from pathlib import Path\n",
    "\n",
    "import plotly.graph_objects as go\n",
    "from plotly.subplots import make_subplots\n",
    "\n",
    "import numpy as np\n",
    "import torch\n",
    "\n",
    "from ilids.towhee_utils.override.movinet import read_kinetics_600_classmap"
   ]
  },
  {
   "cell_type": "code",
   "execution_count": 2,
   "metadata": {
    "tags": [
     "parameters"
    ]
   },
   "outputs": [],
   "source": [
    "# cell has parameters tag for papermill execution\n",
    "movinet_variation: str = \"movineta0\"\n",
    "normalize_features: str = False\n",
    "topk: int = 5"
   ]
  },
  {
   "cell_type": "code",
   "execution_count": 3,
   "metadata": {},
   "outputs": [
    {
     "name": "stdout",
     "output_type": "stream",
     "text": [
      "Using variation: movineta0\n",
      "Normalize features: False\n"
     ]
    }
   ],
   "source": [
    "print(f\"Using variation: {movinet_variation}\")\n",
    "print(f\"Normalize features: {normalize_features}\")"
   ]
  },
  {
   "cell_type": "code",
   "execution_count": 4,
   "metadata": {},
   "outputs": [],
   "source": [
    "# Constants\n",
    "SOURCE_PATH = Path().resolve() # this template folder\n",
    "\n",
    "SUBJECT_APPROACH_TYPE = \"Walk With Ladder\" # looking at features of the sequences of this type"
   ]
  },
  {
   "attachments": {},
   "cell_type": "markdown",
   "metadata": {},
   "source": [
    "## Loading Ground Truth and Experiment Results"
   ]
  },
  {
   "cell_type": "code",
   "execution_count": 5,
   "metadata": {},
   "outputs": [],
   "source": [
    "# Load the ground truth sequences\n",
    "tp_fp_sequences_path = (\n",
    "    SOURCE_PATH.parent.parent / \"data\" / \"handcrafted-metadata\" / \"tp_fp_sequences.csv\"\n",
    ")\n",
    "# the first column being the sequence file name: e.g. \"SZTEA101a_00_05_37.mov\"\n",
    "SEQUENCES_DF = pd.read_csv(tp_fp_sequences_path, index_col=0)\n",
    "# Only keep relevant columns\n",
    "SEQUENCES_DF = SEQUENCES_DF[\n",
    "    [\n",
    "        # \"Classification\", All sequences are \"TP\" when filtering only the \"Walk With Ladder\" type\n",
    "        \"Distance\",\n",
    "        \"SubjectApproachType\",\n",
    "        \"SubjectDescription\",\n",
    "        \"Stage\",\n",
    "    ]\n",
    "]\n",
    "# Prefix the index with the path to the sequence file\n",
    "SEQUENCES_DF = SEQUENCES_DF.set_index(\"data/sequences/\" + SEQUENCES_DF.index)"
   ]
  },
  {
   "attachments": {},
   "cell_type": "markdown",
   "metadata": {},
   "source": [
    "## Load the pickle result features"
   ]
  },
  {
   "cell_type": "code",
   "execution_count": 6,
   "metadata": {},
   "outputs": [],
   "source": [
    "# Load pickle results\n",
    "pickle_file = SOURCE_PATH / f\"{movinet_variation}.pkl\"\n",
    "features_df = pd.read_pickle(pickle_file)\n",
    "\n",
    "# MoViNet produce 600 features (the 600 classes of the Kinetics-600 dataset)\n",
    "FEATURES_COLUMNS_INDEXES = pd.RangeIndex.from_range(range(600))\n",
    "\n",
    "if normalize_features:\n",
    "    features = features_df[FEATURES_COLUMNS_INDEXES].to_numpy()\n",
    "    features_df[FEATURES_COLUMNS_INDEXES] = (features / np.linalg.norm(features, axis=-1, keepdims=True)).tolist()\n",
    "\n",
    "df = SEQUENCES_DF.join(features_df)"
   ]
  },
  {
   "cell_type": "code",
   "execution_count": 7,
   "metadata": {},
   "outputs": [
    {
     "data": {
      "text/plain": [
       "26"
      ]
     },
     "execution_count": 7,
     "metadata": {},
     "output_type": "execute_result"
    }
   ],
   "source": [
    "# Keep only the sequences matching the subject approach type\n",
    "df = df[df[\"SubjectApproachType\"] == SUBJECT_APPROACH_TYPE].drop(columns=[\"SubjectApproachType\"])\n",
    "len(df)"
   ]
  },
  {
   "attachments": {},
   "cell_type": "markdown",
   "metadata": {},
   "source": [
    "## Compute their Top K scores and labels"
   ]
  },
  {
   "cell_type": "code",
   "execution_count": 8,
   "metadata": {},
   "outputs": [],
   "source": [
    "softmax = torch.nn.Softmax(dim=1)"
   ]
  },
  {
   "cell_type": "code",
   "execution_count": 9,
   "metadata": {},
   "outputs": [],
   "source": [
    "# initialize the class map\n",
    "classmap = read_kinetics_600_classmap()"
   ]
  },
  {
   "cell_type": "code",
   "execution_count": 10,
   "metadata": {},
   "outputs": [],
   "source": [
    "features = torch.tensor(df[FEATURES_COLUMNS_INDEXES].values) # N, 600 (600 being the number of classes in Kinetics-600)\n",
    "\n",
    "probabilities = softmax(features) # N, 600\n",
    "predictions_scores, predictions_classes = probabilities.topk(topk) # N, topk"
   ]
  },
  {
   "cell_type": "code",
   "execution_count": 11,
   "metadata": {},
   "outputs": [],
   "source": [
    "# labels = [[classmap[int(i)] for i in video_pred_classes] for video_pred_classes in predictions_classes]  # list of string with topk elements\n",
    "# scores = [[round(float(x), 5) for x in video_pred_scores] for video_pred_scores in predictions_scores]  # float percentages (e.g. 0.34 -> 34%; sum doesn't sum to 1, as topk from preds)"
   ]
  },
  {
   "cell_type": "code",
   "execution_count": 12,
   "metadata": {},
   "outputs": [],
   "source": [
    "# Produce heatmap with the topk predictions\n",
    "# x axis: classes\n",
    "all_prediction_classes = predictions_classes.ravel()\n",
    "all_prediction_classes.sort()\n",
    "all_prediction_classes = all_prediction_classes.unique()\n",
    "\n",
    "all_prediction_classes_names = [classmap[int(i)] for i in all_prediction_classes]\n",
    "# y axis: sequences\n",
    "# color: score\n",
    "#  -> for each sequences\n",
    "#    -> for each remaining predicted classes\n",
    "#      -> if the predicted class is in the topk, then the score is the score of the prediction\n",
    "#      -> else the score is 0\n",
    "#  -> sum the scores for each sequences\n",
    "#  -> normalize the scores by the number of sequences\n",
    "#  -> produce the heatmap\n",
    "z = [\n",
    "    [\n",
    "        scores[video_pred_classes == predicted_class].item()\n",
    "        if predicted_class in video_pred_classes \n",
    "        else 0\n",
    "        for predicted_class in all_prediction_classes\n",
    "    ]\n",
    "    for video_pred_classes, scores in zip(predictions_classes, predictions_scores)\n",
    "]\n",
    "# reduce z to the mean of the scores\n",
    "classes_means = np.array(z).mean(axis=0)"
   ]
  },
  {
   "cell_type": "code",
   "execution_count": 13,
   "metadata": {},
   "outputs": [
    {
     "data": {
      "application/vnd.plotly.v1+json": {
       "config": {
        "plotlyServerURL": "https://plot.ly"
       },
       "data": [
        {
         "marker": {
          "color": [
           0.010422368462269124,
           0.0013370850624946447,
           0.0013188724047862566,
           0.003223206274784528,
           0.0013859551399946213,
           0.001741755037353589,
           0.00640787105434216,
           0.03850344735502194,
           0.0019049969716713978,
           0.02996674137046704,
           0.012429973826958584,
           0.0714001223588219,
           0.00007236745351782211,
           0.0366574486600681,
           0.00009288116752241667,
           0.002798651846555563,
           0.01141866840995275,
           0.00627383217215538,
           4.977607386098708e-10,
           0.001537846544614205,
           0.004599624814895483,
           0.004096556741457719,
           0.00008348211681900117,
           0.0024021588839017428,
           0.0093784355200254,
           0.0021705631739818133,
           0.0510407001666653,
           0.002632340846153406,
           0.040152427095633283,
           0.0016350140078709675,
           0.001985019646011866,
           0.03573111602320121,
           2.9170532425868723e-15,
           0.00017162693592791373,
           0.0000010189392128253689,
           0.0383991369834313,
           0.019069109326944902,
           1.2519305160073858e-7,
           0.00004114842686948787,
           0.040222761865991816,
           0.0010365906816262465,
           0.065495123679284,
           0.018888531539302606,
           0.0019286611618903966,
           0.006503877874750357,
           0.0016969066972915942,
           0.004924752964423253,
           0.0015275737700554042,
           0.0030658692121505737,
           0.022471194083874043,
           0.001179708454471368,
           0.0016645175906328054,
           0.0028285509906709194,
           9.442383840630751e-12
          ],
          "colorscale": [
           [
            0,
            "rgb(230, 240, 240)"
           ],
           [
            0.09090909090909091,
            "rgb(191, 221, 229)"
           ],
           [
            0.18181818181818182,
            "rgb(156, 201, 226)"
           ],
           [
            0.2727272727272727,
            "rgb(129, 180, 227)"
           ],
           [
            0.36363636363636365,
            "rgb(115, 154, 228)"
           ],
           [
            0.45454545454545453,
            "rgb(117, 127, 221)"
           ],
           [
            0.5454545454545454,
            "rgb(120, 100, 202)"
           ],
           [
            0.6363636363636364,
            "rgb(119, 74, 175)"
           ],
           [
            0.7272727272727273,
            "rgb(113, 50, 141)"
           ],
           [
            0.8181818181818182,
            "rgb(100, 31, 104)"
           ],
           [
            0.9090909090909091,
            "rgb(80, 20, 66)"
           ],
           [
            1,
            "rgb(54, 14, 36)"
           ]
          ]
         },
         "type": "bar",
         "x": [
          "archery",
          "belly dancing",
          "bending back",
          "bowling",
          "bungee jumping",
          "casting fishing line",
          "cleaning windows",
          "finger snapping",
          "front raises",
          "golf chipping",
          "golf driving",
          "golf putting",
          "hammer throw",
          "headbutting",
          "historical reenactment",
          "hitting baseball",
          "hurling (sport)",
          "ice climbing",
          "laughing",
          "lunge",
          "massaging neck",
          "mopping floor",
          "mountain climber (exercise)",
          "mowing lawn",
          "news anchoring",
          "passing soccer ball",
          "pirouetting",
          "playing cricket",
          "playing didgeridoo",
          "playing field hockey",
          "pole vault",
          "presenting weather forecast",
          "punching person (boxing)",
          "riding a bike",
          "shaking hands",
          "shaking head",
          "shooting goal (soccer)",
          "side kick",
          "situp",
          "slapping",
          "smoking",
          "stretching arm",
          "stretching leg",
          "sweeping floor",
          "swinging baseball bat",
          "sword fighting",
          "talking on cell phone",
          "tiptoeing",
          "trapezing",
          "using a paint roller",
          "using circular saw",
          "winking",
          "yoga",
          "zumba"
         ],
         "xaxis": "x",
         "y": [
          0.010422368462269124,
          0.0013370850624946447,
          0.0013188724047862566,
          0.003223206274784528,
          0.0013859551399946213,
          0.001741755037353589,
          0.00640787105434216,
          0.03850344735502194,
          0.0019049969716713978,
          0.02996674137046704,
          0.012429973826958584,
          0.0714001223588219,
          0.00007236745351782211,
          0.0366574486600681,
          0.00009288116752241667,
          0.002798651846555563,
          0.01141866840995275,
          0.00627383217215538,
          4.977607386098708e-10,
          0.001537846544614205,
          0.004599624814895483,
          0.004096556741457719,
          0.00008348211681900117,
          0.0024021588839017428,
          0.0093784355200254,
          0.0021705631739818133,
          0.0510407001666653,
          0.002632340846153406,
          0.040152427095633283,
          0.0016350140078709675,
          0.001985019646011866,
          0.03573111602320121,
          2.9170532425868723e-15,
          0.00017162693592791373,
          0.0000010189392128253689,
          0.0383991369834313,
          0.019069109326944902,
          1.2519305160073858e-7,
          0.00004114842686948787,
          0.040222761865991816,
          0.0010365906816262465,
          0.065495123679284,
          0.018888531539302606,
          0.0019286611618903966,
          0.006503877874750357,
          0.0016969066972915942,
          0.004924752964423253,
          0.0015275737700554042,
          0.0030658692121505737,
          0.022471194083874043,
          0.001179708454471368,
          0.0016645175906328054,
          0.0028285509906709194,
          9.442383840630751e-12
         ],
         "yaxis": "y"
        },
        {
         "colorscale": [
          [
           0,
           "rgb(230, 240, 240)"
          ],
          [
           0.09090909090909091,
           "rgb(191, 221, 229)"
          ],
          [
           0.18181818181818182,
           "rgb(156, 201, 226)"
          ],
          [
           0.2727272727272727,
           "rgb(129, 180, 227)"
          ],
          [
           0.36363636363636365,
           "rgb(115, 154, 228)"
          ],
          [
           0.45454545454545453,
           "rgb(117, 127, 221)"
          ],
          [
           0.5454545454545454,
           "rgb(120, 100, 202)"
          ],
          [
           0.6363636363636364,
           "rgb(119, 74, 175)"
          ],
          [
           0.7272727272727273,
           "rgb(113, 50, 141)"
          ],
          [
           0.8181818181818182,
           "rgb(100, 31, 104)"
          ],
          [
           0.9090909090909091,
           "rgb(80, 20, 66)"
          ],
          [
           1,
           "rgb(54, 14, 36)"
          ]
         ],
         "type": "heatmap",
         "x": [
          "archery",
          "belly dancing",
          "bending back",
          "bowling",
          "bungee jumping",
          "casting fishing line",
          "cleaning windows",
          "finger snapping",
          "front raises",
          "golf chipping",
          "golf driving",
          "golf putting",
          "hammer throw",
          "headbutting",
          "historical reenactment",
          "hitting baseball",
          "hurling (sport)",
          "ice climbing",
          "laughing",
          "lunge",
          "massaging neck",
          "mopping floor",
          "mountain climber (exercise)",
          "mowing lawn",
          "news anchoring",
          "passing soccer ball",
          "pirouetting",
          "playing cricket",
          "playing didgeridoo",
          "playing field hockey",
          "pole vault",
          "presenting weather forecast",
          "punching person (boxing)",
          "riding a bike",
          "shaking hands",
          "shaking head",
          "shooting goal (soccer)",
          "side kick",
          "situp",
          "slapping",
          "smoking",
          "stretching arm",
          "stretching leg",
          "sweeping floor",
          "swinging baseball bat",
          "sword fighting",
          "talking on cell phone",
          "tiptoeing",
          "trapezing",
          "using a paint roller",
          "using circular saw",
          "winking",
          "yoga",
          "zumba"
         ],
         "xaxis": "x2",
         "y": [
          "data/sequences/SZTEA101a_00_35_51.mov",
          "data/sequences/SZTEA101b_00_48_48.mov",
          "data/sequences/SZTEA102a_00_36_18.mov",
          "data/sequences/SZTEA102b_00_45_14.mov",
          "data/sequences/SZTEA103a_00_46_44.mov",
          "data/sequences/SZTEA104a_01_31_51.mov",
          "data/sequences/SZTEA105a_00_35_05.mov",
          "data/sequences/SZTEA201a_00_35_52.mov",
          "data/sequences/SZTEA201b_00_48_48.mov",
          "data/sequences/SZTEA202a_00_36_15.mov",
          "data/sequences/SZTEA202b_00_45_20.mov",
          "data/sequences/SZTEA203a_00_46_41.mov",
          "data/sequences/SZTEA204a_01_31_46.mov",
          "data/sequences/SZTRA101a31_00_01_17.mov",
          "data/sequences/SZTRA102a10_00_00_12.mov",
          "data/sequences/SZTRA102b13_00_00_20.mov",
          "data/sequences/SZTRA103a17_00_00_09.mov",
          "data/sequences/SZTRA103b17_00_00_12.mov",
          "data/sequences/SZTRA104a15_00_00_25.mov",
          "data/sequences/SZTRA104b10_00_01_22.mov",
          "data/sequences/SZTRA201a31_00_01_17.mov",
          "data/sequences/SZTRA202a10_00_00_08.mov",
          "data/sequences/SZTRA202b13_00_00_19.mov",
          "data/sequences/SZTRA203a17_00_00_10.mov",
          "data/sequences/SZTRA203b17_00_00_13.mov",
          "data/sequences/SZTRA204a15_00_00_24.mov"
         ],
         "yaxis": "y2",
         "z": [
          [
           0.08435402065515518,
           0,
           0,
           0,
           0.03603483363986015,
           0,
           0,
           0,
           0,
           0,
           0,
           0.033818550407886505,
           0,
           0,
           0,
           0,
           0,
           0,
           0,
           0,
           0,
           0,
           0,
           0.028344348073005676,
           0,
           0,
           0,
           0,
           0,
           0,
           0,
           0.14923501014709473,
           0,
           0,
           0,
           0,
           0,
           0,
           0,
           0,
           0,
           0,
           0,
           0,
           0,
           0,
           0,
           0,
           0,
           0,
           0,
           0,
           0,
           0
          ],
          [
           0,
           0.034764211624860764,
           0,
           0,
           0,
           0,
           0,
           0,
           0,
           0,
           0,
           0,
           0.001881553791463375,
           0,
           0.0024149103555828333,
           0,
           0,
           0,
           0,
           0,
           0,
           0,
           0.00217053503729403,
           0,
           0,
           0,
           0.9537338614463806,
           0,
           0,
           0,
           0,
           0,
           0,
           0,
           0,
           0,
           0,
           0,
           0,
           0,
           0,
           0,
           0,
           0,
           0,
           0,
           0,
           0,
           0,
           0,
           0,
           0,
           0,
           0
          ],
          [
           0.04790858179330826,
           0,
           0,
           0,
           0,
           0,
           0,
           0,
           0,
           0,
           0,
           0.39467310905456543,
           0,
           0,
           0,
           0.07276494801044464,
           0,
           0,
           0,
           0,
           0,
           0,
           0,
           0,
           0,
           0,
           0,
           0,
           0,
           0,
           0,
           0,
           0,
           0,
           0,
           0,
           0.029853006824851036,
           0,
           0,
           0,
           0,
           0,
           0,
           0,
           0.10066937655210495,
           0,
           0,
           0,
           0,
           0,
           0,
           0,
           0,
           0
          ],
          [
           0,
           0,
           0,
           0,
           0,
           0,
           0,
           0,
           0,
           0,
           0,
           0.15579822659492493,
           0,
           0,
           0,
           0,
           0.12365295737981796,
           0,
           0,
           0,
           0,
           0,
           0,
           0.034111782908439636,
           0,
           0.056434642523527145,
           0,
           0,
           0,
           0,
           0,
           0,
           0,
           0,
           0,
           0,
           0.19081754982471466,
           0,
           0,
           0,
           0,
           0,
           0,
           0,
           0,
           0,
           0,
           0,
           0,
           0,
           0,
           0,
           0,
           0
          ],
          [
           0,
           0,
           0,
           0,
           0,
           0,
           0,
           0,
           0,
           0.1600155085325241,
           0.08538861572742462,
           0.23386719822883606,
           0,
           0,
           0,
           0,
           0.07047093659639359,
           0,
           0,
           0,
           0,
           0,
           0,
           0,
           0,
           0,
           0,
           0,
           0,
           0,
           0,
           0,
           0,
           0,
           0,
           0,
           0.0876934677362442,
           0,
           0,
           0,
           0,
           0,
           0,
           0,
           0,
           0,
           0,
           0,
           0,
           0,
           0,
           0,
           0,
           0
          ],
          [
           0,
           0,
           0,
           0,
           0,
           0,
           0,
           0,
           3.2568897620658894e-19,
           0,
           0,
           0,
           0,
           0,
           0,
           0,
           0,
           0,
           0,
           0,
           0,
           0,
           0,
           0,
           0,
           0,
           0,
           0,
           0,
           0,
           0,
           0,
           0,
           0,
           0,
           0,
           0,
           0,
           5.56773533553274e-21,
           0,
           0,
           1,
           1.987291405018419e-20,
           0,
           0,
           0,
           0,
           0,
           0,
           0,
           0,
           0,
           0,
           2.4550197985639954e-10
          ],
          [
           0,
           0,
           0,
           0,
           0,
           0,
           0,
           0,
           0,
           0,
           0,
           0,
           0,
           0,
           0,
           0,
           0,
           0,
           0,
           0,
           0,
           0,
           0,
           0,
           0.10879996418952942,
           0,
           0,
           0,
           0,
           0,
           0,
           0.09084458649158478,
           0,
           0,
           0,
           0,
           0,
           0,
           0,
           0,
           0.02695135772228241,
           0,
           0.04564601555466652,
           0,
           0,
           0,
           0,
           0,
           0,
           0,
           0.03067241981625557,
           0,
           0,
           0
          ],
          [
           0,
           0,
           0,
           0,
           0,
           0,
           0.0327426977455616,
           0,
           0,
           0,
           0,
           0,
           0,
           0,
           0,
           0,
           0,
           0.055802106857299805,
           0,
           0,
           0,
           0,
           0,
           0,
           0,
           0,
           0,
           0,
           0,
           0,
           0.05161051079630852,
           0,
           0,
           0,
           0,
           0,
           0,
           0,
           0,
           0,
           0,
           0,
           0,
           0,
           0,
           0.04411957412958145,
           0,
           0,
           0.07971259951591492,
           0,
           0,
           0,
           0,
           0
          ],
          [
           0,
           0,
           0,
           0,
           0,
           0,
           0,
           0,
           0,
           0,
           0,
           0,
           0,
           2.3155921082505804e-13,
           0,
           0,
           0,
           0,
           0,
           0,
           0,
           0,
           0,
           0,
           0,
           0,
           0,
           0,
           0,
           0,
           0,
           0,
           7.584338430725868e-14,
           0,
           4.243045026441905e-9,
           0,
           0,
           2.1888033607808666e-9,
           0,
           1,
           0,
           0,
           0,
           0,
           0,
           0,
           0,
           0,
           0,
           0,
           0,
           0,
           0,
           0
          ],
          [
           0,
           0,
           0,
           0,
           0,
           0,
           0,
           0,
           0.049529921263456345,
           0,
           0,
           0.054707057774066925,
           0,
           0,
           0,
           0,
           0,
           0,
           0,
           0,
           0,
           0,
           0,
           0,
           0,
           0,
           0,
           0,
           0,
           0,
           0,
           0,
           0,
           0,
           0,
           0,
           0,
           0,
           0,
           0,
           0,
           0.27108004689216614,
           0.12115572392940521,
           0,
           0,
           0,
           0,
           0,
           0,
           0,
           0,
           0,
           0.06349550187587738,
           0
          ],
          [
           0,
           0,
           0,
           0,
           0,
           0,
           0.06054716184735298,
           0,
           0,
           0,
           0,
           0,
           0,
           0,
           0,
           0,
           0,
           0,
           0,
           0,
           0,
           0.1065104752779007,
           0,
           0,
           0,
           0,
           0,
           0,
           0,
           0,
           0,
           0.1966671347618103,
           0,
           0,
           0,
           0,
           0,
           0,
           0,
           0,
           0,
           0,
           0,
           0.050145190209150314,
           0,
           0,
           0,
           0,
           0,
           0.08573682606220245,
           0,
           0,
           0,
           0
          ],
          [
           0,
           0,
           0,
           0,
           0,
           0,
           0,
           0,
           0,
           0.04123835265636444,
           0,
           0.05381393805146217,
           0,
           0,
           0,
           0,
           0,
           0,
           0,
           0,
           0,
           0,
           0,
           0,
           0.046698302030563354,
           0,
           0,
           0,
           0,
           0,
           0,
           0.2508499324321747,
           0,
           0,
           0,
           0,
           0,
           0,
           0,
           0,
           0,
           0,
           0,
           0,
           0,
           0,
           0,
           0,
           0,
           0.027311384677886963,
           0,
           0,
           0,
           0
          ],
          [
           0,
           0,
           0,
           0,
           0,
           0,
           0,
           0.001089631230570376,
           0,
           0,
           0,
           0,
           0,
           0.9530921578407288,
           0,
           0,
           0,
           0,
           1.294177920385664e-8,
           0,
           0,
           0,
           0,
           0,
           0,
           0,
           0,
           0,
           0,
           0,
           0,
           0,
           0,
           0,
           0.000026488176445127465,
           0,
           0,
           0,
           0,
           0.045791808515787125,
           0,
           0,
           0,
           0,
           0,
           0,
           0,
           0,
           0,
           0,
           0,
           0,
           0,
           0
          ],
          [
           0,
           0,
           0,
           0,
           0,
           0,
           0,
           0,
           0,
           0,
           0,
           0,
           0,
           0,
           0,
           0,
           0,
           0,
           0,
           0,
           0,
           0,
           0,
           0,
           0,
           0,
           0,
           0,
           0.979881763458252,
           0,
           0,
           0,
           0,
           0.004462300334125757,
           0,
           0,
           0,
           0,
           0.0010669659823179245,
           0,
           0,
           0.0009799363324418664,
           0,
           0,
           0,
           0,
           0,
           0,
           0,
           0,
           0,
           0,
           0.010046823881566525,
           0
          ],
          [
           0,
           0,
           0,
           0,
           0,
           0,
           0,
           0,
           0,
           0,
           0,
           0,
           0,
           0,
           0,
           0,
           0,
           0,
           0,
           0.03998401015996933,
           0,
           0,
           0,
           0,
           0,
           0,
           0,
           0,
           0,
           0,
           0,
           0.04756494611501694,
           0,
           0,
           0,
           0,
           0,
           0,
           0,
           0,
           0,
           0,
           0.04270773008465767,
           0,
           0,
           0,
           0,
           0.039716918021440506,
           0,
           0.07256686687469482,
           0,
           0,
           0,
           0
          ],
          [
           0,
           0,
           0,
           0,
           0,
           0,
           0,
           0,
           0,
           0,
           0,
           0.19538149237632751,
           0,
           0,
           0,
           0,
           0,
           0,
           0,
           0,
           0,
           0,
           0,
           0,
           0,
           0,
           0,
           0.06844086199998856,
           0,
           0.04251036420464516,
           0,
           0,
           0,
           0,
           0,
           0,
           0.1221625879406929,
           0,
           0,
           0,
           0,
           0,
           0,
           0,
           0.04022233560681343,
           0,
           0,
           0,
           0,
           0,
           0,
           0,
           0,
           0
          ],
          [
           0.019545823335647583,
           0,
           0,
           0,
           0,
           0,
           0,
           0,
           0,
           0.06725797802209854,
           0,
           0.37473443150520325,
           0,
           0,
           0,
           0,
           0.10276148468255997,
           0,
           0,
           0,
           0,
           0,
           0,
           0,
           0,
           0,
           0,
           0,
           0,
           0,
           0,
           0,
           0,
           0,
           0,
           0,
           0.06527023017406464,
           0,
           0,
           0,
           0,
           0,
           0,
           0,
           0,
           0,
           0,
           0,
           0,
           0,
           0,
           0,
           0,
           0
          ],
          [
           0,
           0,
           0,
           0,
           0,
           0,
           0,
           0,
           0,
           0,
           0,
           0,
           0,
           0,
           0,
           0,
           0,
           0,
           0,
           0,
           0.11959024518728256,
           0,
           0,
           0,
           0,
           0,
           0.3717096745967865,
           0,
           0,
           0,
           0,
           0,
           0,
           0,
           0,
           0,
           0,
           0,
           0,
           0,
           0,
           0.030784310773015022,
           0,
           0,
           0,
           0,
           0.12804357707500458,
           0,
           0,
           0,
           0,
           0.04327745735645294,
           0,
           0
          ],
          [
           0,
           0,
           0,
           0,
           0,
           0.045285630971193314,
           0,
           0,
           0,
           0.45457762479782104,
           0.23779070377349854,
           0.07652000337839127,
           0,
           0,
           0,
           0,
           0,
           0,
           0,
           0,
           0,
           0,
           0,
           0,
           0,
           0,
           0,
           0,
           0,
           0,
           0,
           0,
           0,
           0,
           0,
           0,
           0,
           0,
           0,
           0,
           0,
           0,
           0,
           0,
           0.028209112584590912,
           0,
           0,
           0,
           0,
           0,
           0,
           0,
           0,
           0
          ],
          [
           0,
           0,
           0,
           0.05630107223987579,
           0,
           0,
           0.02276107855141163,
           0,
           0,
           0,
           0,
           0,
           0,
           0,
           0,
           0,
           0,
           0,
           0,
           0,
           0,
           0,
           0,
           0,
           0.08834105730056763,
           0,
           0,
           0,
           0,
           0,
           0,
           0.14367195963859558,
           0,
           0,
           0,
           0,
           0,
           0,
           0,
           0,
           0,
           0,
           0.03477201238274574,
           0,
           0,
           0,
           0,
           0,
           0,
           0,
           0,
           0,
           0,
           0
          ],
          [
           0,
           0,
           0,
           0,
           0,
           0,
           0,
           0,
           0,
           0,
           0,
           0,
           0,
           0.0000015073208032845287,
           0,
           0,
           0,
           0,
           0,
           0,
           0,
           0,
           0,
           0,
           0,
           0,
           0.001614668290130794,
           0,
           0,
           0,
           0,
           0,
           0,
           0,
           0,
           0.9983775615692139,
           0,
           0.000003252830538258422,
           0.0000028931162887602113,
           0,
           0,
           0,
           0,
           0,
           0,
           0,
           0,
           0,
           0,
           0,
           0,
           0,
           0,
           0
          ],
          [
           0.08607036620378494,
           0,
           0,
           0.027502290904521942,
           0,
           0,
           0.027433857321739197,
           0,
           0,
           0,
           0,
           0,
           0,
           0,
           0,
           0,
           0,
           0.10731752961874008,
           0,
           0,
           0,
           0,
           0,
           0,
           0,
           0,
           0,
           0,
           0,
           0,
           0,
           0,
           0,
           0,
           0,
           0,
           0,
           0,
           0,
           0,
           0,
           0,
           0.02996806800365448,
           0,
           0,
           0,
           0,
           0,
           0,
           0,
           0,
           0,
           0,
           0
          ],
          [
           0,
           0,
           0.03429068252444267,
           0,
           0,
           0,
           0,
           0,
           0,
           0,
           0,
           0.06511667370796204,
           0,
           0,
           0,
           0,
           0,
           0,
           0,
           0,
           0,
           0,
           0,
           0,
           0,
           0,
           0,
           0,
           0.0640813410282135,
           0,
           0,
           0,
           0,
           0,
           0,
           0,
           0,
           0,
           0,
           0,
           0,
           0.34993913769721985,
           0.12023882567882538,
           0,
           0,
           0,
           0,
           0,
           0,
           0,
           0,
           0,
           0,
           0
          ],
          [
           0,
           0,
           0,
           0,
           0,
           0,
           0,
           0,
           0,
           0.056045811623334885,
           0,
           0.19503335654735565,
           0,
           0,
           0,
           0,
           0,
           0,
           0,
           0,
           0,
           0,
           0,
           0,
           0,
           0,
           0,
           0,
           0,
           0,
           0,
           0,
           0,
           0,
           0,
           0,
           0,
           0,
           0,
           0,
           0,
           0.05008978396654129,
           0.09661344438791275,
           0,
           0,
           0,
           0,
           0,
           0,
           0.11763636767864227,
           0,
           0,
           0,
           0
          ],
          [
           0.03310278803110123,
           0,
           0,
           0,
           0,
           0,
           0.02311985194683075,
           0,
           0,
           0,
           0,
           0.02293914370238781,
           0,
           0,
           0,
           0,
           0,
           0,
           0,
           0,
           0,
           0,
           0,
           0,
           0,
           0,
           0,
           0,
           0,
           0,
           0,
           0.05017544701695442,
           0,
           0,
           0,
           0,
           0,
           0,
           0,
           0,
           0,
           0,
           0,
           0,
           0,
           0,
           0,
           0,
           0,
           0.2809996008872986,
           0,
           0,
           0,
           0
          ],
          [
           0,
           0,
           0,
           0,
           0,
           0,
           0,
           1,
           0,
           0,
           0,
           0,
           0,
           6.947654342164206e-15,
           0,
           0,
           0,
           0,
           3.623469785275348e-33,
           0,
           0,
           0,
           0,
           0,
           0,
           0,
           0,
           0,
           0,
           0,
           0,
           0,
           0,
           0,
           4.330568089999827e-14,
           0,
           0,
           0,
           0,
           0,
           0,
           0,
           0,
           0,
           0,
           0,
           0,
           0,
           0,
           0,
           0,
           1.7117753168119216e-26,
           0,
           0
          ]
         ]
        }
       ],
       "layout": {
        "height": 800,
        "template": {
         "data": {
          "bar": [
           {
            "error_x": {
             "color": "#2a3f5f"
            },
            "error_y": {
             "color": "#2a3f5f"
            },
            "marker": {
             "line": {
              "color": "#E5ECF6",
              "width": 0.5
             },
             "pattern": {
              "fillmode": "overlay",
              "size": 10,
              "solidity": 0.2
             }
            },
            "type": "bar"
           }
          ],
          "barpolar": [
           {
            "marker": {
             "line": {
              "color": "#E5ECF6",
              "width": 0.5
             },
             "pattern": {
              "fillmode": "overlay",
              "size": 10,
              "solidity": 0.2
             }
            },
            "type": "barpolar"
           }
          ],
          "carpet": [
           {
            "aaxis": {
             "endlinecolor": "#2a3f5f",
             "gridcolor": "white",
             "linecolor": "white",
             "minorgridcolor": "white",
             "startlinecolor": "#2a3f5f"
            },
            "baxis": {
             "endlinecolor": "#2a3f5f",
             "gridcolor": "white",
             "linecolor": "white",
             "minorgridcolor": "white",
             "startlinecolor": "#2a3f5f"
            },
            "type": "carpet"
           }
          ],
          "choropleth": [
           {
            "colorbar": {
             "outlinewidth": 0,
             "ticks": ""
            },
            "type": "choropleth"
           }
          ],
          "contour": [
           {
            "colorbar": {
             "outlinewidth": 0,
             "ticks": ""
            },
            "colorscale": [
             [
              0,
              "#0d0887"
             ],
             [
              0.1111111111111111,
              "#46039f"
             ],
             [
              0.2222222222222222,
              "#7201a8"
             ],
             [
              0.3333333333333333,
              "#9c179e"
             ],
             [
              0.4444444444444444,
              "#bd3786"
             ],
             [
              0.5555555555555556,
              "#d8576b"
             ],
             [
              0.6666666666666666,
              "#ed7953"
             ],
             [
              0.7777777777777778,
              "#fb9f3a"
             ],
             [
              0.8888888888888888,
              "#fdca26"
             ],
             [
              1,
              "#f0f921"
             ]
            ],
            "type": "contour"
           }
          ],
          "contourcarpet": [
           {
            "colorbar": {
             "outlinewidth": 0,
             "ticks": ""
            },
            "type": "contourcarpet"
           }
          ],
          "heatmap": [
           {
            "colorbar": {
             "outlinewidth": 0,
             "ticks": ""
            },
            "colorscale": [
             [
              0,
              "#0d0887"
             ],
             [
              0.1111111111111111,
              "#46039f"
             ],
             [
              0.2222222222222222,
              "#7201a8"
             ],
             [
              0.3333333333333333,
              "#9c179e"
             ],
             [
              0.4444444444444444,
              "#bd3786"
             ],
             [
              0.5555555555555556,
              "#d8576b"
             ],
             [
              0.6666666666666666,
              "#ed7953"
             ],
             [
              0.7777777777777778,
              "#fb9f3a"
             ],
             [
              0.8888888888888888,
              "#fdca26"
             ],
             [
              1,
              "#f0f921"
             ]
            ],
            "type": "heatmap"
           }
          ],
          "heatmapgl": [
           {
            "colorbar": {
             "outlinewidth": 0,
             "ticks": ""
            },
            "colorscale": [
             [
              0,
              "#0d0887"
             ],
             [
              0.1111111111111111,
              "#46039f"
             ],
             [
              0.2222222222222222,
              "#7201a8"
             ],
             [
              0.3333333333333333,
              "#9c179e"
             ],
             [
              0.4444444444444444,
              "#bd3786"
             ],
             [
              0.5555555555555556,
              "#d8576b"
             ],
             [
              0.6666666666666666,
              "#ed7953"
             ],
             [
              0.7777777777777778,
              "#fb9f3a"
             ],
             [
              0.8888888888888888,
              "#fdca26"
             ],
             [
              1,
              "#f0f921"
             ]
            ],
            "type": "heatmapgl"
           }
          ],
          "histogram": [
           {
            "marker": {
             "pattern": {
              "fillmode": "overlay",
              "size": 10,
              "solidity": 0.2
             }
            },
            "type": "histogram"
           }
          ],
          "histogram2d": [
           {
            "colorbar": {
             "outlinewidth": 0,
             "ticks": ""
            },
            "colorscale": [
             [
              0,
              "#0d0887"
             ],
             [
              0.1111111111111111,
              "#46039f"
             ],
             [
              0.2222222222222222,
              "#7201a8"
             ],
             [
              0.3333333333333333,
              "#9c179e"
             ],
             [
              0.4444444444444444,
              "#bd3786"
             ],
             [
              0.5555555555555556,
              "#d8576b"
             ],
             [
              0.6666666666666666,
              "#ed7953"
             ],
             [
              0.7777777777777778,
              "#fb9f3a"
             ],
             [
              0.8888888888888888,
              "#fdca26"
             ],
             [
              1,
              "#f0f921"
             ]
            ],
            "type": "histogram2d"
           }
          ],
          "histogram2dcontour": [
           {
            "colorbar": {
             "outlinewidth": 0,
             "ticks": ""
            },
            "colorscale": [
             [
              0,
              "#0d0887"
             ],
             [
              0.1111111111111111,
              "#46039f"
             ],
             [
              0.2222222222222222,
              "#7201a8"
             ],
             [
              0.3333333333333333,
              "#9c179e"
             ],
             [
              0.4444444444444444,
              "#bd3786"
             ],
             [
              0.5555555555555556,
              "#d8576b"
             ],
             [
              0.6666666666666666,
              "#ed7953"
             ],
             [
              0.7777777777777778,
              "#fb9f3a"
             ],
             [
              0.8888888888888888,
              "#fdca26"
             ],
             [
              1,
              "#f0f921"
             ]
            ],
            "type": "histogram2dcontour"
           }
          ],
          "mesh3d": [
           {
            "colorbar": {
             "outlinewidth": 0,
             "ticks": ""
            },
            "type": "mesh3d"
           }
          ],
          "parcoords": [
           {
            "line": {
             "colorbar": {
              "outlinewidth": 0,
              "ticks": ""
             }
            },
            "type": "parcoords"
           }
          ],
          "pie": [
           {
            "automargin": true,
            "type": "pie"
           }
          ],
          "scatter": [
           {
            "fillpattern": {
             "fillmode": "overlay",
             "size": 10,
             "solidity": 0.2
            },
            "type": "scatter"
           }
          ],
          "scatter3d": [
           {
            "line": {
             "colorbar": {
              "outlinewidth": 0,
              "ticks": ""
             }
            },
            "marker": {
             "colorbar": {
              "outlinewidth": 0,
              "ticks": ""
             }
            },
            "type": "scatter3d"
           }
          ],
          "scattercarpet": [
           {
            "marker": {
             "colorbar": {
              "outlinewidth": 0,
              "ticks": ""
             }
            },
            "type": "scattercarpet"
           }
          ],
          "scattergeo": [
           {
            "marker": {
             "colorbar": {
              "outlinewidth": 0,
              "ticks": ""
             }
            },
            "type": "scattergeo"
           }
          ],
          "scattergl": [
           {
            "marker": {
             "colorbar": {
              "outlinewidth": 0,
              "ticks": ""
             }
            },
            "type": "scattergl"
           }
          ],
          "scattermapbox": [
           {
            "marker": {
             "colorbar": {
              "outlinewidth": 0,
              "ticks": ""
             }
            },
            "type": "scattermapbox"
           }
          ],
          "scatterpolar": [
           {
            "marker": {
             "colorbar": {
              "outlinewidth": 0,
              "ticks": ""
             }
            },
            "type": "scatterpolar"
           }
          ],
          "scatterpolargl": [
           {
            "marker": {
             "colorbar": {
              "outlinewidth": 0,
              "ticks": ""
             }
            },
            "type": "scatterpolargl"
           }
          ],
          "scatterternary": [
           {
            "marker": {
             "colorbar": {
              "outlinewidth": 0,
              "ticks": ""
             }
            },
            "type": "scatterternary"
           }
          ],
          "surface": [
           {
            "colorbar": {
             "outlinewidth": 0,
             "ticks": ""
            },
            "colorscale": [
             [
              0,
              "#0d0887"
             ],
             [
              0.1111111111111111,
              "#46039f"
             ],
             [
              0.2222222222222222,
              "#7201a8"
             ],
             [
              0.3333333333333333,
              "#9c179e"
             ],
             [
              0.4444444444444444,
              "#bd3786"
             ],
             [
              0.5555555555555556,
              "#d8576b"
             ],
             [
              0.6666666666666666,
              "#ed7953"
             ],
             [
              0.7777777777777778,
              "#fb9f3a"
             ],
             [
              0.8888888888888888,
              "#fdca26"
             ],
             [
              1,
              "#f0f921"
             ]
            ],
            "type": "surface"
           }
          ],
          "table": [
           {
            "cells": {
             "fill": {
              "color": "#EBF0F8"
             },
             "line": {
              "color": "white"
             }
            },
            "header": {
             "fill": {
              "color": "#C8D4E3"
             },
             "line": {
              "color": "white"
             }
            },
            "type": "table"
           }
          ]
         },
         "layout": {
          "annotationdefaults": {
           "arrowcolor": "#2a3f5f",
           "arrowhead": 0,
           "arrowwidth": 1
          },
          "autotypenumbers": "strict",
          "coloraxis": {
           "colorbar": {
            "outlinewidth": 0,
            "ticks": ""
           }
          },
          "colorscale": {
           "diverging": [
            [
             0,
             "#8e0152"
            ],
            [
             0.1,
             "#c51b7d"
            ],
            [
             0.2,
             "#de77ae"
            ],
            [
             0.3,
             "#f1b6da"
            ],
            [
             0.4,
             "#fde0ef"
            ],
            [
             0.5,
             "#f7f7f7"
            ],
            [
             0.6,
             "#e6f5d0"
            ],
            [
             0.7,
             "#b8e186"
            ],
            [
             0.8,
             "#7fbc41"
            ],
            [
             0.9,
             "#4d9221"
            ],
            [
             1,
             "#276419"
            ]
           ],
           "sequential": [
            [
             0,
             "#0d0887"
            ],
            [
             0.1111111111111111,
             "#46039f"
            ],
            [
             0.2222222222222222,
             "#7201a8"
            ],
            [
             0.3333333333333333,
             "#9c179e"
            ],
            [
             0.4444444444444444,
             "#bd3786"
            ],
            [
             0.5555555555555556,
             "#d8576b"
            ],
            [
             0.6666666666666666,
             "#ed7953"
            ],
            [
             0.7777777777777778,
             "#fb9f3a"
            ],
            [
             0.8888888888888888,
             "#fdca26"
            ],
            [
             1,
             "#f0f921"
            ]
           ],
           "sequentialminus": [
            [
             0,
             "#0d0887"
            ],
            [
             0.1111111111111111,
             "#46039f"
            ],
            [
             0.2222222222222222,
             "#7201a8"
            ],
            [
             0.3333333333333333,
             "#9c179e"
            ],
            [
             0.4444444444444444,
             "#bd3786"
            ],
            [
             0.5555555555555556,
             "#d8576b"
            ],
            [
             0.6666666666666666,
             "#ed7953"
            ],
            [
             0.7777777777777778,
             "#fb9f3a"
            ],
            [
             0.8888888888888888,
             "#fdca26"
            ],
            [
             1,
             "#f0f921"
            ]
           ]
          },
          "colorway": [
           "#636efa",
           "#EF553B",
           "#00cc96",
           "#ab63fa",
           "#FFA15A",
           "#19d3f3",
           "#FF6692",
           "#B6E880",
           "#FF97FF",
           "#FECB52"
          ],
          "font": {
           "color": "#2a3f5f"
          },
          "geo": {
           "bgcolor": "white",
           "lakecolor": "white",
           "landcolor": "#E5ECF6",
           "showlakes": true,
           "showland": true,
           "subunitcolor": "white"
          },
          "hoverlabel": {
           "align": "left"
          },
          "hovermode": "closest",
          "mapbox": {
           "style": "light"
          },
          "paper_bgcolor": "white",
          "plot_bgcolor": "#E5ECF6",
          "polar": {
           "angularaxis": {
            "gridcolor": "white",
            "linecolor": "white",
            "ticks": ""
           },
           "bgcolor": "#E5ECF6",
           "radialaxis": {
            "gridcolor": "white",
            "linecolor": "white",
            "ticks": ""
           }
          },
          "scene": {
           "xaxis": {
            "backgroundcolor": "#E5ECF6",
            "gridcolor": "white",
            "gridwidth": 2,
            "linecolor": "white",
            "showbackground": true,
            "ticks": "",
            "zerolinecolor": "white"
           },
           "yaxis": {
            "backgroundcolor": "#E5ECF6",
            "gridcolor": "white",
            "gridwidth": 2,
            "linecolor": "white",
            "showbackground": true,
            "ticks": "",
            "zerolinecolor": "white"
           },
           "zaxis": {
            "backgroundcolor": "#E5ECF6",
            "gridcolor": "white",
            "gridwidth": 2,
            "linecolor": "white",
            "showbackground": true,
            "ticks": "",
            "zerolinecolor": "white"
           }
          },
          "shapedefaults": {
           "line": {
            "color": "#2a3f5f"
           }
          },
          "ternary": {
           "aaxis": {
            "gridcolor": "white",
            "linecolor": "white",
            "ticks": ""
           },
           "baxis": {
            "gridcolor": "white",
            "linecolor": "white",
            "ticks": ""
           },
           "bgcolor": "#E5ECF6",
           "caxis": {
            "gridcolor": "white",
            "linecolor": "white",
            "ticks": ""
           }
          },
          "title": {
           "x": 0.05
          },
          "xaxis": {
           "automargin": true,
           "gridcolor": "white",
           "linecolor": "white",
           "ticks": "",
           "title": {
            "standoff": 15
           },
           "zerolinecolor": "white",
           "zerolinewidth": 2
          },
          "yaxis": {
           "automargin": true,
           "gridcolor": "white",
           "linecolor": "white",
           "ticks": "",
           "title": {
            "standoff": 15
           },
           "zerolinecolor": "white",
           "zerolinewidth": 2
          }
         }
        },
        "title": {
         "text": "Topk predictions heatmap"
        },
        "xaxis": {
         "anchor": "y",
         "domain": [
          0,
          1
         ],
         "showticklabels": false
        },
        "xaxis2": {
         "anchor": "y2",
         "domain": [
          0,
          1
         ]
        },
        "yaxis": {
         "anchor": "x",
         "domain": [
          0.853,
          1
         ]
        },
        "yaxis2": {
         "anchor": "x2",
         "domain": [
          0,
          0.833
         ]
        }
       }
      }
     },
     "metadata": {},
     "output_type": "display_data"
    }
   ],
   "source": [
    "fig = make_subplots(\n",
    "    rows=2, cols=1,\n",
    "    row_heights=[0.15, 0.85],\n",
    "    vertical_spacing=0.02,\n",
    ")\n",
    "\n",
    "# add mean of scores as bars\n",
    "fig.add_trace(\n",
    "    go.Bar(\n",
    "        x=all_prediction_classes_names, \n",
    "        y=classes_means,\n",
    "        marker_color=classes_means,\n",
    "        marker_colorscale='dense',\n",
    "    ),\n",
    "    row=1, col=1,\n",
    ")\n",
    "# hide x axis of the bar plot\n",
    "fig.update_xaxes(showticklabels=False, row=1, col=1)\n",
    "\n",
    "# add heatmap\n",
    "fig.add_trace(\n",
    "    go.Heatmap(\n",
    "        z=z, \n",
    "        x=all_prediction_classes_names,\n",
    "        y=df.index,\n",
    "        colorscale='dense',\n",
    "    ),\n",
    "    row=2, col=1,\n",
    ")\n",
    "\n",
    "fig.update_layout(height=800, title_text=\"Topk predictions heatmap\")\n",
    "\n",
    "fig.show()"
   ]
  },
  {
   "cell_type": "code",
   "execution_count": 14,
   "metadata": {
    "tags": [
     "result-mean-classes-topk-csv"
    ]
   },
   "outputs": [
    {
     "name": "stdout",
     "output_type": "stream",
     "text": [
      "class,score\n",
      "golf putting,0.0714001223588219\n",
      "stretching arm,0.065495123679284\n",
      "pirouetting,0.0510407001666653\n",
      "slapping,0.040222761865991816\n",
      "playing didgeridoo,0.040152427095633283\n",
      "finger snapping,0.03850344735502194\n",
      "shaking head,0.0383991369834313\n",
      "headbutting,0.0366574486600681\n",
      "presenting weather forecast,0.03573111602320121\n",
      "golf chipping,0.02996674137046704\n",
      "using a paint roller,0.022471194083874043\n",
      "shooting goal (soccer),0.019069109326944902\n",
      "stretching leg,0.018888531539302606\n",
      "golf driving,0.012429973826958584\n",
      "hurling (sport),0.01141866840995275\n",
      "\n"
     ]
    }
   ],
   "source": [
    "# Print the best working classes\n",
    "mean_score_df = pd.DataFrame(classes_means, index=pd.Index(all_prediction_classes_names, name=\"class\"), columns=[\"score\"])\n",
    "mean_score_df[\"model_name\"] = movinet_variation\n",
    "\n",
    "print(\n",
    "    mean_score_df\n",
    "        .sort_values(by=\"score\", ascending=False)\n",
    "        .head(15)\n",
    "        .to_csv()\n",
    ")"
   ]
  }
 ],
 "metadata": {
  "kernelspec": {
   "display_name": ".venv",
   "language": "python",
   "name": "python3"
  },
  "language_info": {
   "codemirror_mode": {
    "name": "ipython",
    "version": 3
   },
   "file_extension": ".py",
   "mimetype": "text/x-python",
   "name": "python",
   "nbconvert_exporter": "python",
   "pygments_lexer": "ipython3",
   "version": "3.10.11"
  },
  "orig_nbformat": 4
 },
 "nbformat": 4,
 "nbformat_minor": 2
}
