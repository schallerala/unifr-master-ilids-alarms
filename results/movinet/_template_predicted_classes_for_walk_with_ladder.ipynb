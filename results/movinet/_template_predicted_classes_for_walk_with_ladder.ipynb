{
 "cells": [
  {
   "attachments": {},
   "cell_type": "markdown",
   "metadata": {},
   "source": [
    "# Analyze what classes labels are predicted for sequences with man walking with a ladder\n",
    "\n",
    "Those sequences should probably be the easiest to classify."
   ]
  },
  {
   "cell_type": "code",
   "execution_count": 1,
   "metadata": {},
   "outputs": [],
   "source": [
    "import pandas as pd\n",
    "from pathlib import Path\n",
    "\n",
    "import plotly.graph_objects as go\n",
    "from plotly.subplots import make_subplots\n",
    "\n",
    "import numpy as np\n",
    "import torch\n",
    "\n",
    "import plotly.io as pio\n",
    "\n",
    "from ilids.towhee_utils.override.movinet import read_kinetics_600_classmap"
   ]
  },
  {
   "cell_type": "code",
   "execution_count": 2,
   "metadata": {
    "tags": [
     "parameters"
    ]
   },
   "outputs": [],
   "source": [
    "# cell has parameters tag for papermill execution\n",
    "movinet_variation: str = \"movineta0\"\n",
    "normalize_features: str = False\n",
    "topk: int = 5\n",
    "\n",
    "# PNG\n",
    "# ---\n",
    "# In case you want to export to png to use in report, set to \"png\".\n",
    "# jq + base64 decode cli:\n",
    "#   `jq -r '.cells[X] | .outputs[Y].data.\"image/png\"' | base64 -d > fileX.png`\n",
    "#\n",
    "# Default\n",
    "# ---\n",
    "# Default is \"notebook_connected\" which is interactive and works while being connected\n",
    "# to the internet and works in a browser too\n",
    "plotly_renderer: str = \"notebook_connected\""
   ]
  },
  {
   "cell_type": "code",
   "execution_count": 3,
   "metadata": {},
   "outputs": [
    {
     "name": "stdout",
     "output_type": "stream",
     "text": [
      "Using variation: movineta0\n",
      "Normalize features: False\n"
     ]
    }
   ],
   "source": [
    "pio.renderers.default = plotly_renderer\n",
    "print(f\"Using variation: {movinet_variation}\")\n",
    "print(f\"Normalize features: {normalize_features}\")"
   ]
  },
  {
   "cell_type": "code",
   "execution_count": 4,
   "metadata": {},
   "outputs": [],
   "source": [
    "# Constants\n",
    "SOURCE_PATH = Path().resolve()  # this template folder\n",
    "\n",
    "SUBJECT_APPROACH_TYPE = (\n",
    "    \"Walk With Ladder\"  # looking at features of the sequences of this type\n",
    ")"
   ]
  },
  {
   "attachments": {},
   "cell_type": "markdown",
   "metadata": {},
   "source": [
    "## Loading Ground Truth and Experiment Results"
   ]
  },
  {
   "cell_type": "code",
   "execution_count": 5,
   "metadata": {},
   "outputs": [],
   "source": [
    "# Load the ground truth sequences\n",
    "tp_fp_sequences_path = (\n",
    "    SOURCE_PATH.parent.parent / \"data\" / \"handcrafted-metadata\" / \"tp_fp_sequences.csv\"\n",
    ")\n",
    "# the first column being the sequence file name: e.g. \"SZTEA101a_00_05_37.mov\"\n",
    "SEQUENCES_DF = pd.read_csv(tp_fp_sequences_path, index_col=0)\n",
    "# Only keep relevant columns\n",
    "SEQUENCES_DF = SEQUENCES_DF[\n",
    "    [\n",
    "        # \"Classification\", All sequences are \"TP\" when filtering only the \"Walk With Ladder\" type\n",
    "        \"Distance\",\n",
    "        \"SubjectApproachType\",\n",
    "        \"SubjectDescription\",\n",
    "        \"Stage\",\n",
    "    ]\n",
    "]\n",
    "# Prefix the index with the path to the sequence file\n",
    "SEQUENCES_DF = SEQUENCES_DF.set_index(\"data/sequences/\" + SEQUENCES_DF.index)"
   ]
  },
  {
   "attachments": {},
   "cell_type": "markdown",
   "metadata": {},
   "source": [
    "## Load the pickle result features"
   ]
  },
  {
   "cell_type": "code",
   "execution_count": 6,
   "metadata": {},
   "outputs": [],
   "source": [
    "# Load pickle results\n",
    "pickle_file = SOURCE_PATH / f\"{movinet_variation}.pkl\"\n",
    "features_df = pd.read_pickle(pickle_file)\n",
    "\n",
    "# MoViNet produce 600 features (the 600 classes of the Kinetics-600 dataset)\n",
    "FEATURES_COLUMNS_INDEXES = pd.RangeIndex.from_range(range(600))\n",
    "\n",
    "if normalize_features:\n",
    "    features = features_df[FEATURES_COLUMNS_INDEXES].to_numpy()\n",
    "    features_df[FEATURES_COLUMNS_INDEXES] = (\n",
    "        features / np.linalg.norm(features, axis=-1, keepdims=True) * 100\n",
    "    ).tolist()\n",
    "\n",
    "df = SEQUENCES_DF.join(features_df)"
   ]
  },
  {
   "cell_type": "code",
   "execution_count": 7,
   "metadata": {},
   "outputs": [
    {
     "data": {
      "text/plain": [
       "26"
      ]
     },
     "execution_count": 7,
     "metadata": {},
     "output_type": "execute_result"
    }
   ],
   "source": [
    "# Keep only the sequences matching the subject approach type\n",
    "df = df[df[\"SubjectApproachType\"] == SUBJECT_APPROACH_TYPE].drop(\n",
    "    columns=[\"SubjectApproachType\"]\n",
    ")\n",
    "len(df)"
   ]
  },
  {
   "attachments": {},
   "cell_type": "markdown",
   "metadata": {},
   "source": [
    "## Compute their Top K scores and labels"
   ]
  },
  {
   "cell_type": "code",
   "execution_count": 8,
   "metadata": {},
   "outputs": [],
   "source": [
    "softmax = torch.nn.Softmax(dim=1)"
   ]
  },
  {
   "cell_type": "code",
   "execution_count": 9,
   "metadata": {},
   "outputs": [],
   "source": [
    "# initialize the class map\n",
    "classmap = read_kinetics_600_classmap()"
   ]
  },
  {
   "cell_type": "code",
   "execution_count": 10,
   "metadata": {},
   "outputs": [],
   "source": [
    "features = torch.tensor(\n",
    "    df[FEATURES_COLUMNS_INDEXES].values\n",
    ")  # N, 600 (600 being the number of classes in Kinetics-600)\n",
    "\n",
    "probabilities = softmax(features)  # N, 600\n",
    "predictions_scores, predictions_classes = probabilities.topk(topk)  # N, topk"
   ]
  },
  {
   "cell_type": "code",
   "execution_count": 11,
   "metadata": {},
   "outputs": [],
   "source": [
    "# labels = [[classmap[int(i)] for i in video_pred_classes] for video_pred_classes in predictions_classes]  # list of string with topk elements\n",
    "# scores = [[round(float(x), 5) for x in video_pred_scores] for video_pred_scores in predictions_scores]  # float percentages (e.g. 0.34 -> 34%; sum doesn't sum to 1, as topk from preds)"
   ]
  },
  {
   "cell_type": "code",
   "execution_count": 12,
   "metadata": {},
   "outputs": [],
   "source": [
    "# Produce heatmap with the topk predictions\n",
    "# x axis: classes\n",
    "all_prediction_classes = predictions_classes.ravel()\n",
    "all_prediction_classes.sort()\n",
    "all_prediction_classes = all_prediction_classes.unique()\n",
    "\n",
    "all_prediction_classes_names = [classmap[int(i)] for i in all_prediction_classes]\n",
    "# y axis: sequences\n",
    "# color: score\n",
    "#  -> for each sequences\n",
    "#    -> for each remaining predicted classes\n",
    "#      -> if the predicted class is in the topk, then the score is the score of the prediction\n",
    "#      -> else the score is 0\n",
    "#  -> sum the scores for each sequences\n",
    "#  -> normalize the scores by the number of sequences\n",
    "#  -> produce the heatmap\n",
    "z = [\n",
    "    [\n",
    "        scores[video_pred_classes == predicted_class].item()\n",
    "        if predicted_class in video_pred_classes\n",
    "        else 0\n",
    "        for predicted_class in all_prediction_classes\n",
    "    ]\n",
    "    for video_pred_classes, scores in zip(predictions_classes, predictions_scores)\n",
    "]\n",
    "# reduce z to the mean of the scores\n",
    "classes_means = np.array(z).mean(axis=0)"
   ]
  },
  {
   "cell_type": "code",
   "execution_count": 13,
   "metadata": {
    "tags": [
     "image-topk-class-heatmap"
    ]
   },
   "outputs": [
    {
     "data": {
      "text/html": [
       "        <script type=\"text/javascript\">\n",
       "        window.PlotlyConfig = {MathJaxConfig: 'local'};\n",
       "        if (window.MathJax && window.MathJax.Hub && window.MathJax.Hub.Config) {window.MathJax.Hub.Config({SVG: {font: \"STIX-Web\"}});}\n",
       "        if (typeof require !== 'undefined') {\n",
       "        require.undef(\"plotly\");\n",
       "        requirejs.config({\n",
       "            paths: {\n",
       "                'plotly': ['https://cdn.plot.ly/plotly-2.20.0.min']\n",
       "            }\n",
       "        });\n",
       "        require(['plotly'], function(Plotly) {\n",
       "            window._Plotly = Plotly;\n",
       "        });\n",
       "        }\n",
       "        </script>\n",
       "        "
      ]
     },
     "metadata": {},
     "output_type": "display_data"
    },
    {
     "data": {
      "text/html": [
       "<div>                            <div id=\"77a23f2b-6f68-4013-af4c-29c8e94f1ae7\" class=\"plotly-graph-div\" style=\"height:800px; width:1600px;\"></div>            <script type=\"text/javascript\">                require([\"plotly\"], function(Plotly) {                    window.PLOTLYENV=window.PLOTLYENV || {};                                    if (document.getElementById(\"77a23f2b-6f68-4013-af4c-29c8e94f1ae7\")) {                    Plotly.newPlot(                        \"77a23f2b-6f68-4013-af4c-29c8e94f1ae7\",                        [{\"marker\":{\"color\":[0.010422368462269124,0.0013370850624946447,0.0013188724047862566,0.003223206274784528,0.0013859551399946213,0.001741755037353589,0.00640787105434216,0.03850344735502194,0.0019049969716713978,0.02996674137046704,0.012429973826958584,0.0714001223588219,7.236745351782211e-05,0.0366574486600681,9.288116752241667e-05,0.002798651846555563,0.01141866840995275,0.00627383217215538,4.977607386098708e-10,0.001537846544614205,0.004599624814895483,0.004096556741457719,8.348211681900117e-05,0.0024021588839017428,0.0093784355200254,0.0021705631739818133,0.0510407001666653,0.002632340846153406,0.040152427095633283,0.0016350140078709675,0.001985019646011866,0.03573111602320121,2.9170532425868723e-15,0.00017162693592791373,1.0189392128253689e-06,0.0383991369834313,0.019069109326944902,1.2519305160073858e-07,4.114842686948787e-05,0.040222761865991816,0.0010365906816262465,0.065495123679284,0.018888531539302606,0.0019286611618903966,0.006503877874750357,0.0016969066972915942,0.004924752964423253,0.0015275737700554042,0.0030658692121505737,0.022471194083874043,0.001179708454471368,0.0016645175906328054,0.0028285509906709194,9.442383840630751e-12],\"colorscale\":[[0.0,\"rgb(230, 240, 240)\"],[0.09090909090909091,\"rgb(191, 221, 229)\"],[0.18181818181818182,\"rgb(156, 201, 226)\"],[0.2727272727272727,\"rgb(129, 180, 227)\"],[0.36363636363636365,\"rgb(115, 154, 228)\"],[0.45454545454545453,\"rgb(117, 127, 221)\"],[0.5454545454545454,\"rgb(120, 100, 202)\"],[0.6363636363636364,\"rgb(119, 74, 175)\"],[0.7272727272727273,\"rgb(113, 50, 141)\"],[0.8181818181818182,\"rgb(100, 31, 104)\"],[0.9090909090909091,\"rgb(80, 20, 66)\"],[1.0,\"rgb(54, 14, 36)\"]]},\"x\":[\"archery\",\"belly dancing\",\"bending back\",\"bowling\",\"bungee jumping\",\"casting fishing line\",\"cleaning windows\",\"finger snapping\",\"front raises\",\"golf chipping\",\"golf driving\",\"golf putting\",\"hammer throw\",\"headbutting\",\"historical reenactment\",\"hitting baseball\",\"hurling (sport)\",\"ice climbing\",\"laughing\",\"lunge\",\"massaging neck\",\"mopping floor\",\"mountain climber (exercise)\",\"mowing lawn\",\"news anchoring\",\"passing soccer ball\",\"pirouetting\",\"playing cricket\",\"playing didgeridoo\",\"playing field hockey\",\"pole vault\",\"presenting weather forecast\",\"punching person (boxing)\",\"riding a bike\",\"shaking hands\",\"shaking head\",\"shooting goal (soccer)\",\"side kick\",\"situp\",\"slapping\",\"smoking\",\"stretching arm\",\"stretching leg\",\"sweeping floor\",\"swinging baseball bat\",\"sword fighting\",\"talking on cell phone\",\"tiptoeing\",\"trapezing\",\"using a paint roller\",\"using circular saw\",\"winking\",\"yoga\",\"zumba\"],\"y\":[0.010422368462269124,0.0013370850624946447,0.0013188724047862566,0.003223206274784528,0.0013859551399946213,0.001741755037353589,0.00640787105434216,0.03850344735502194,0.0019049969716713978,0.02996674137046704,0.012429973826958584,0.0714001223588219,7.236745351782211e-05,0.0366574486600681,9.288116752241667e-05,0.002798651846555563,0.01141866840995275,0.00627383217215538,4.977607386098708e-10,0.001537846544614205,0.004599624814895483,0.004096556741457719,8.348211681900117e-05,0.0024021588839017428,0.0093784355200254,0.0021705631739818133,0.0510407001666653,0.002632340846153406,0.040152427095633283,0.0016350140078709675,0.001985019646011866,0.03573111602320121,2.9170532425868723e-15,0.00017162693592791373,1.0189392128253689e-06,0.0383991369834313,0.019069109326944902,1.2519305160073858e-07,4.114842686948787e-05,0.040222761865991816,0.0010365906816262465,0.065495123679284,0.018888531539302606,0.0019286611618903966,0.006503877874750357,0.0016969066972915942,0.004924752964423253,0.0015275737700554042,0.0030658692121505737,0.022471194083874043,0.001179708454471368,0.0016645175906328054,0.0028285509906709194,9.442383840630751e-12],\"type\":\"bar\",\"xaxis\":\"x\",\"yaxis\":\"y\"},{\"colorscale\":[[0.0,\"rgb(230, 240, 240)\"],[0.09090909090909091,\"rgb(191, 221, 229)\"],[0.18181818181818182,\"rgb(156, 201, 226)\"],[0.2727272727272727,\"rgb(129, 180, 227)\"],[0.36363636363636365,\"rgb(115, 154, 228)\"],[0.45454545454545453,\"rgb(117, 127, 221)\"],[0.5454545454545454,\"rgb(120, 100, 202)\"],[0.6363636363636364,\"rgb(119, 74, 175)\"],[0.7272727272727273,\"rgb(113, 50, 141)\"],[0.8181818181818182,\"rgb(100, 31, 104)\"],[0.9090909090909091,\"rgb(80, 20, 66)\"],[1.0,\"rgb(54, 14, 36)\"]],\"x\":[\"archery\",\"belly dancing\",\"bending back\",\"bowling\",\"bungee jumping\",\"casting fishing line\",\"cleaning windows\",\"finger snapping\",\"front raises\",\"golf chipping\",\"golf driving\",\"golf putting\",\"hammer throw\",\"headbutting\",\"historical reenactment\",\"hitting baseball\",\"hurling (sport)\",\"ice climbing\",\"laughing\",\"lunge\",\"massaging neck\",\"mopping floor\",\"mountain climber (exercise)\",\"mowing lawn\",\"news anchoring\",\"passing soccer ball\",\"pirouetting\",\"playing cricket\",\"playing didgeridoo\",\"playing field hockey\",\"pole vault\",\"presenting weather forecast\",\"punching person (boxing)\",\"riding a bike\",\"shaking hands\",\"shaking head\",\"shooting goal (soccer)\",\"side kick\",\"situp\",\"slapping\",\"smoking\",\"stretching arm\",\"stretching leg\",\"sweeping floor\",\"swinging baseball bat\",\"sword fighting\",\"talking on cell phone\",\"tiptoeing\",\"trapezing\",\"using a paint roller\",\"using circular saw\",\"winking\",\"yoga\",\"zumba\"],\"y\":[\"data/sequences/SZTEA101a_00_35_51.mov\",\"data/sequences/SZTEA101b_00_48_48.mov\",\"data/sequences/SZTEA102a_00_36_18.mov\",\"data/sequences/SZTEA102b_00_45_14.mov\",\"data/sequences/SZTEA103a_00_46_44.mov\",\"data/sequences/SZTEA104a_01_31_51.mov\",\"data/sequences/SZTEA105a_00_35_05.mov\",\"data/sequences/SZTEA201a_00_35_52.mov\",\"data/sequences/SZTEA201b_00_48_48.mov\",\"data/sequences/SZTEA202a_00_36_15.mov\",\"data/sequences/SZTEA202b_00_45_20.mov\",\"data/sequences/SZTEA203a_00_46_41.mov\",\"data/sequences/SZTEA204a_01_31_46.mov\",\"data/sequences/SZTRA101a31_00_01_17.mov\",\"data/sequences/SZTRA102a10_00_00_12.mov\",\"data/sequences/SZTRA102b13_00_00_20.mov\",\"data/sequences/SZTRA103a17_00_00_09.mov\",\"data/sequences/SZTRA103b17_00_00_12.mov\",\"data/sequences/SZTRA104a15_00_00_25.mov\",\"data/sequences/SZTRA104b10_00_01_22.mov\",\"data/sequences/SZTRA201a31_00_01_17.mov\",\"data/sequences/SZTRA202a10_00_00_08.mov\",\"data/sequences/SZTRA202b13_00_00_19.mov\",\"data/sequences/SZTRA203a17_00_00_10.mov\",\"data/sequences/SZTRA203b17_00_00_13.mov\",\"data/sequences/SZTRA204a15_00_00_24.mov\"],\"z\":[[0.08435402065515518,0,0,0,0.03603483363986015,0,0,0,0,0,0,0.033818550407886505,0,0,0,0,0,0,0,0,0,0,0,0.028344348073005676,0,0,0,0,0,0,0,0.14923501014709473,0,0,0,0,0,0,0,0,0,0,0,0,0,0,0,0,0,0,0,0,0,0],[0,0.034764211624860764,0,0,0,0,0,0,0,0,0,0,0.001881553791463375,0,0.0024149103555828333,0,0,0,0,0,0,0,0.00217053503729403,0,0,0,0.9537338614463806,0,0,0,0,0,0,0,0,0,0,0,0,0,0,0,0,0,0,0,0,0,0,0,0,0,0,0],[0.04790858179330826,0,0,0,0,0,0,0,0,0,0,0.39467310905456543,0,0,0,0.07276494801044464,0,0,0,0,0,0,0,0,0,0,0,0,0,0,0,0,0,0,0,0,0.029853006824851036,0,0,0,0,0,0,0,0.10066937655210495,0,0,0,0,0,0,0,0,0],[0,0,0,0,0,0,0,0,0,0,0,0.15579822659492493,0,0,0,0,0.12365295737981796,0,0,0,0,0,0,0.034111782908439636,0,0.056434642523527145,0,0,0,0,0,0,0,0,0,0,0.19081754982471466,0,0,0,0,0,0,0,0,0,0,0,0,0,0,0,0,0],[0,0,0,0,0,0,0,0,0,0.1600155085325241,0.08538861572742462,0.23386719822883606,0,0,0,0,0.07047093659639359,0,0,0,0,0,0,0,0,0,0,0,0,0,0,0,0,0,0,0,0.0876934677362442,0,0,0,0,0,0,0,0,0,0,0,0,0,0,0,0,0],[0,0,0,0,0,0,0,0,3.2568897620658894e-19,0,0,0,0,0,0,0,0,0,0,0,0,0,0,0,0,0,0,0,0,0,0,0,0,0,0,0,0,0,5.56773533553274e-21,0,0,1.0,1.987291405018419e-20,0,0,0,0,0,0,0,0,0,0,2.4550197985639954e-10],[0,0,0,0,0,0,0,0,0,0,0,0,0,0,0,0,0,0,0,0,0,0,0,0,0.10879996418952942,0,0,0,0,0,0,0.09084458649158478,0,0,0,0,0,0,0,0,0.02695135772228241,0,0.04564601555466652,0,0,0,0,0,0,0,0.03067241981625557,0,0,0],[0,0,0,0,0,0,0.0327426977455616,0,0,0,0,0,0,0,0,0,0,0.055802106857299805,0,0,0,0,0,0,0,0,0,0,0,0,0.05161051079630852,0,0,0,0,0,0,0,0,0,0,0,0,0,0,0.04411957412958145,0,0,0.07971259951591492,0,0,0,0,0],[0,0,0,0,0,0,0,0,0,0,0,0,0,2.3155921082505804e-13,0,0,0,0,0,0,0,0,0,0,0,0,0,0,0,0,0,0,7.584338430725868e-14,0,4.243045026441905e-09,0,0,2.1888033607808666e-09,0,1.0,0,0,0,0,0,0,0,0,0,0,0,0,0,0],[0,0,0,0,0,0,0,0,0.049529921263456345,0,0,0.054707057774066925,0,0,0,0,0,0,0,0,0,0,0,0,0,0,0,0,0,0,0,0,0,0,0,0,0,0,0,0,0,0.27108004689216614,0.12115572392940521,0,0,0,0,0,0,0,0,0,0.06349550187587738,0],[0,0,0,0,0,0,0.06054716184735298,0,0,0,0,0,0,0,0,0,0,0,0,0,0,0.1065104752779007,0,0,0,0,0,0,0,0,0,0.1966671347618103,0,0,0,0,0,0,0,0,0,0,0,0.050145190209150314,0,0,0,0,0,0.08573682606220245,0,0,0,0],[0,0,0,0,0,0,0,0,0,0.04123835265636444,0,0.05381393805146217,0,0,0,0,0,0,0,0,0,0,0,0,0.046698302030563354,0,0,0,0,0,0,0.2508499324321747,0,0,0,0,0,0,0,0,0,0,0,0,0,0,0,0,0,0.027311384677886963,0,0,0,0],[0,0,0,0,0,0,0,0.001089631230570376,0,0,0,0,0,0.9530921578407288,0,0,0,0,1.294177920385664e-08,0,0,0,0,0,0,0,0,0,0,0,0,0,0,0,2.6488176445127465e-05,0,0,0,0,0.045791808515787125,0,0,0,0,0,0,0,0,0,0,0,0,0,0],[0,0,0,0,0,0,0,0,0,0,0,0,0,0,0,0,0,0,0,0,0,0,0,0,0,0,0,0,0.979881763458252,0,0,0,0,0.004462300334125757,0,0,0,0,0.0010669659823179245,0,0,0.0009799363324418664,0,0,0,0,0,0,0,0,0,0,0.010046823881566525,0],[0,0,0,0,0,0,0,0,0,0,0,0,0,0,0,0,0,0,0,0.03998401015996933,0,0,0,0,0,0,0,0,0,0,0,0.04756494611501694,0,0,0,0,0,0,0,0,0,0,0.04270773008465767,0,0,0,0,0.039716918021440506,0,0.07256686687469482,0,0,0,0],[0,0,0,0,0,0,0,0,0,0,0,0.19538149237632751,0,0,0,0,0,0,0,0,0,0,0,0,0,0,0,0.06844086199998856,0,0.04251036420464516,0,0,0,0,0,0,0.1221625879406929,0,0,0,0,0,0,0,0.04022233560681343,0,0,0,0,0,0,0,0,0],[0.019545823335647583,0,0,0,0,0,0,0,0,0.06725797802209854,0,0.37473443150520325,0,0,0,0,0.10276148468255997,0,0,0,0,0,0,0,0,0,0,0,0,0,0,0,0,0,0,0,0.06527023017406464,0,0,0,0,0,0,0,0,0,0,0,0,0,0,0,0,0],[0,0,0,0,0,0,0,0,0,0,0,0,0,0,0,0,0,0,0,0,0.11959024518728256,0,0,0,0,0,0.3717096745967865,0,0,0,0,0,0,0,0,0,0,0,0,0,0,0.030784310773015022,0,0,0,0,0.12804357707500458,0,0,0,0,0.04327745735645294,0,0],[0,0,0,0,0,0.045285630971193314,0,0,0,0.45457762479782104,0.23779070377349854,0.07652000337839127,0,0,0,0,0,0,0,0,0,0,0,0,0,0,0,0,0,0,0,0,0,0,0,0,0,0,0,0,0,0,0,0,0.028209112584590912,0,0,0,0,0,0,0,0,0],[0,0,0,0.05630107223987579,0,0,0.02276107855141163,0,0,0,0,0,0,0,0,0,0,0,0,0,0,0,0,0,0.08834105730056763,0,0,0,0,0,0,0.14367195963859558,0,0,0,0,0,0,0,0,0,0,0.03477201238274574,0,0,0,0,0,0,0,0,0,0,0],[0,0,0,0,0,0,0,0,0,0,0,0,0,1.5073208032845287e-06,0,0,0,0,0,0,0,0,0,0,0,0,0.001614668290130794,0,0,0,0,0,0,0,0,0.9983775615692139,0,3.252830538258422e-06,2.8931162887602113e-06,0,0,0,0,0,0,0,0,0,0,0,0,0,0,0],[0.08607036620378494,0,0,0.027502290904521942,0,0,0.027433857321739197,0,0,0,0,0,0,0,0,0,0,0.10731752961874008,0,0,0,0,0,0,0,0,0,0,0,0,0,0,0,0,0,0,0,0,0,0,0,0,0.02996806800365448,0,0,0,0,0,0,0,0,0,0,0],[0,0,0.03429068252444267,0,0,0,0,0,0,0,0,0.06511667370796204,0,0,0,0,0,0,0,0,0,0,0,0,0,0,0,0,0.0640813410282135,0,0,0,0,0,0,0,0,0,0,0,0,0.34993913769721985,0.12023882567882538,0,0,0,0,0,0,0,0,0,0,0],[0,0,0,0,0,0,0,0,0,0.056045811623334885,0,0.19503335654735565,0,0,0,0,0,0,0,0,0,0,0,0,0,0,0,0,0,0,0,0,0,0,0,0,0,0,0,0,0,0.05008978396654129,0.09661344438791275,0,0,0,0,0,0,0.11763636767864227,0,0,0,0],[0.03310278803110123,0,0,0,0,0,0.02311985194683075,0,0,0,0,0.02293914370238781,0,0,0,0,0,0,0,0,0,0,0,0,0,0,0,0,0,0,0,0.05017544701695442,0,0,0,0,0,0,0,0,0,0,0,0,0,0,0,0,0,0.2809996008872986,0,0,0,0],[0,0,0,0,0,0,0,1.0,0,0,0,0,0,6.947654342164206e-15,0,0,0,0,3.623469785275348e-33,0,0,0,0,0,0,0,0,0,0,0,0,0,0,0,4.330568089999827e-14,0,0,0,0,0,0,0,0,0,0,0,0,0,0,0,0,1.7117753168119216e-26,0,0]],\"type\":\"heatmap\",\"xaxis\":\"x2\",\"yaxis\":\"y2\"}],                        {\"template\":{\"data\":{\"histogram2dcontour\":[{\"type\":\"histogram2dcontour\",\"colorbar\":{\"outlinewidth\":0,\"ticks\":\"\"},\"colorscale\":[[0.0,\"#0d0887\"],[0.1111111111111111,\"#46039f\"],[0.2222222222222222,\"#7201a8\"],[0.3333333333333333,\"#9c179e\"],[0.4444444444444444,\"#bd3786\"],[0.5555555555555556,\"#d8576b\"],[0.6666666666666666,\"#ed7953\"],[0.7777777777777778,\"#fb9f3a\"],[0.8888888888888888,\"#fdca26\"],[1.0,\"#f0f921\"]]}],\"choropleth\":[{\"type\":\"choropleth\",\"colorbar\":{\"outlinewidth\":0,\"ticks\":\"\"}}],\"histogram2d\":[{\"type\":\"histogram2d\",\"colorbar\":{\"outlinewidth\":0,\"ticks\":\"\"},\"colorscale\":[[0.0,\"#0d0887\"],[0.1111111111111111,\"#46039f\"],[0.2222222222222222,\"#7201a8\"],[0.3333333333333333,\"#9c179e\"],[0.4444444444444444,\"#bd3786\"],[0.5555555555555556,\"#d8576b\"],[0.6666666666666666,\"#ed7953\"],[0.7777777777777778,\"#fb9f3a\"],[0.8888888888888888,\"#fdca26\"],[1.0,\"#f0f921\"]]}],\"heatmap\":[{\"type\":\"heatmap\",\"colorbar\":{\"outlinewidth\":0,\"ticks\":\"\"},\"colorscale\":[[0.0,\"#0d0887\"],[0.1111111111111111,\"#46039f\"],[0.2222222222222222,\"#7201a8\"],[0.3333333333333333,\"#9c179e\"],[0.4444444444444444,\"#bd3786\"],[0.5555555555555556,\"#d8576b\"],[0.6666666666666666,\"#ed7953\"],[0.7777777777777778,\"#fb9f3a\"],[0.8888888888888888,\"#fdca26\"],[1.0,\"#f0f921\"]]}],\"heatmapgl\":[{\"type\":\"heatmapgl\",\"colorbar\":{\"outlinewidth\":0,\"ticks\":\"\"},\"colorscale\":[[0.0,\"#0d0887\"],[0.1111111111111111,\"#46039f\"],[0.2222222222222222,\"#7201a8\"],[0.3333333333333333,\"#9c179e\"],[0.4444444444444444,\"#bd3786\"],[0.5555555555555556,\"#d8576b\"],[0.6666666666666666,\"#ed7953\"],[0.7777777777777778,\"#fb9f3a\"],[0.8888888888888888,\"#fdca26\"],[1.0,\"#f0f921\"]]}],\"contourcarpet\":[{\"type\":\"contourcarpet\",\"colorbar\":{\"outlinewidth\":0,\"ticks\":\"\"}}],\"contour\":[{\"type\":\"contour\",\"colorbar\":{\"outlinewidth\":0,\"ticks\":\"\"},\"colorscale\":[[0.0,\"#0d0887\"],[0.1111111111111111,\"#46039f\"],[0.2222222222222222,\"#7201a8\"],[0.3333333333333333,\"#9c179e\"],[0.4444444444444444,\"#bd3786\"],[0.5555555555555556,\"#d8576b\"],[0.6666666666666666,\"#ed7953\"],[0.7777777777777778,\"#fb9f3a\"],[0.8888888888888888,\"#fdca26\"],[1.0,\"#f0f921\"]]}],\"surface\":[{\"type\":\"surface\",\"colorbar\":{\"outlinewidth\":0,\"ticks\":\"\"},\"colorscale\":[[0.0,\"#0d0887\"],[0.1111111111111111,\"#46039f\"],[0.2222222222222222,\"#7201a8\"],[0.3333333333333333,\"#9c179e\"],[0.4444444444444444,\"#bd3786\"],[0.5555555555555556,\"#d8576b\"],[0.6666666666666666,\"#ed7953\"],[0.7777777777777778,\"#fb9f3a\"],[0.8888888888888888,\"#fdca26\"],[1.0,\"#f0f921\"]]}],\"mesh3d\":[{\"type\":\"mesh3d\",\"colorbar\":{\"outlinewidth\":0,\"ticks\":\"\"}}],\"scatter\":[{\"fillpattern\":{\"fillmode\":\"overlay\",\"size\":10,\"solidity\":0.2},\"type\":\"scatter\"}],\"parcoords\":[{\"type\":\"parcoords\",\"line\":{\"colorbar\":{\"outlinewidth\":0,\"ticks\":\"\"}}}],\"scatterpolargl\":[{\"type\":\"scatterpolargl\",\"marker\":{\"colorbar\":{\"outlinewidth\":0,\"ticks\":\"\"}}}],\"bar\":[{\"error_x\":{\"color\":\"#2a3f5f\"},\"error_y\":{\"color\":\"#2a3f5f\"},\"marker\":{\"line\":{\"color\":\"#E5ECF6\",\"width\":0.5},\"pattern\":{\"fillmode\":\"overlay\",\"size\":10,\"solidity\":0.2}},\"type\":\"bar\"}],\"scattergeo\":[{\"type\":\"scattergeo\",\"marker\":{\"colorbar\":{\"outlinewidth\":0,\"ticks\":\"\"}}}],\"scatterpolar\":[{\"type\":\"scatterpolar\",\"marker\":{\"colorbar\":{\"outlinewidth\":0,\"ticks\":\"\"}}}],\"histogram\":[{\"marker\":{\"pattern\":{\"fillmode\":\"overlay\",\"size\":10,\"solidity\":0.2}},\"type\":\"histogram\"}],\"scattergl\":[{\"type\":\"scattergl\",\"marker\":{\"colorbar\":{\"outlinewidth\":0,\"ticks\":\"\"}}}],\"scatter3d\":[{\"type\":\"scatter3d\",\"line\":{\"colorbar\":{\"outlinewidth\":0,\"ticks\":\"\"}},\"marker\":{\"colorbar\":{\"outlinewidth\":0,\"ticks\":\"\"}}}],\"scattermapbox\":[{\"type\":\"scattermapbox\",\"marker\":{\"colorbar\":{\"outlinewidth\":0,\"ticks\":\"\"}}}],\"scatterternary\":[{\"type\":\"scatterternary\",\"marker\":{\"colorbar\":{\"outlinewidth\":0,\"ticks\":\"\"}}}],\"scattercarpet\":[{\"type\":\"scattercarpet\",\"marker\":{\"colorbar\":{\"outlinewidth\":0,\"ticks\":\"\"}}}],\"carpet\":[{\"aaxis\":{\"endlinecolor\":\"#2a3f5f\",\"gridcolor\":\"white\",\"linecolor\":\"white\",\"minorgridcolor\":\"white\",\"startlinecolor\":\"#2a3f5f\"},\"baxis\":{\"endlinecolor\":\"#2a3f5f\",\"gridcolor\":\"white\",\"linecolor\":\"white\",\"minorgridcolor\":\"white\",\"startlinecolor\":\"#2a3f5f\"},\"type\":\"carpet\"}],\"table\":[{\"cells\":{\"fill\":{\"color\":\"#EBF0F8\"},\"line\":{\"color\":\"white\"}},\"header\":{\"fill\":{\"color\":\"#C8D4E3\"},\"line\":{\"color\":\"white\"}},\"type\":\"table\"}],\"barpolar\":[{\"marker\":{\"line\":{\"color\":\"#E5ECF6\",\"width\":0.5},\"pattern\":{\"fillmode\":\"overlay\",\"size\":10,\"solidity\":0.2}},\"type\":\"barpolar\"}],\"pie\":[{\"automargin\":true,\"type\":\"pie\"}]},\"layout\":{\"autotypenumbers\":\"strict\",\"colorway\":[\"#636efa\",\"#EF553B\",\"#00cc96\",\"#ab63fa\",\"#FFA15A\",\"#19d3f3\",\"#FF6692\",\"#B6E880\",\"#FF97FF\",\"#FECB52\"],\"font\":{\"color\":\"#2a3f5f\"},\"hovermode\":\"closest\",\"hoverlabel\":{\"align\":\"left\"},\"paper_bgcolor\":\"white\",\"plot_bgcolor\":\"#E5ECF6\",\"polar\":{\"bgcolor\":\"#E5ECF6\",\"angularaxis\":{\"gridcolor\":\"white\",\"linecolor\":\"white\",\"ticks\":\"\"},\"radialaxis\":{\"gridcolor\":\"white\",\"linecolor\":\"white\",\"ticks\":\"\"}},\"ternary\":{\"bgcolor\":\"#E5ECF6\",\"aaxis\":{\"gridcolor\":\"white\",\"linecolor\":\"white\",\"ticks\":\"\"},\"baxis\":{\"gridcolor\":\"white\",\"linecolor\":\"white\",\"ticks\":\"\"},\"caxis\":{\"gridcolor\":\"white\",\"linecolor\":\"white\",\"ticks\":\"\"}},\"coloraxis\":{\"colorbar\":{\"outlinewidth\":0,\"ticks\":\"\"}},\"colorscale\":{\"sequential\":[[0.0,\"#0d0887\"],[0.1111111111111111,\"#46039f\"],[0.2222222222222222,\"#7201a8\"],[0.3333333333333333,\"#9c179e\"],[0.4444444444444444,\"#bd3786\"],[0.5555555555555556,\"#d8576b\"],[0.6666666666666666,\"#ed7953\"],[0.7777777777777778,\"#fb9f3a\"],[0.8888888888888888,\"#fdca26\"],[1.0,\"#f0f921\"]],\"sequentialminus\":[[0.0,\"#0d0887\"],[0.1111111111111111,\"#46039f\"],[0.2222222222222222,\"#7201a8\"],[0.3333333333333333,\"#9c179e\"],[0.4444444444444444,\"#bd3786\"],[0.5555555555555556,\"#d8576b\"],[0.6666666666666666,\"#ed7953\"],[0.7777777777777778,\"#fb9f3a\"],[0.8888888888888888,\"#fdca26\"],[1.0,\"#f0f921\"]],\"diverging\":[[0,\"#8e0152\"],[0.1,\"#c51b7d\"],[0.2,\"#de77ae\"],[0.3,\"#f1b6da\"],[0.4,\"#fde0ef\"],[0.5,\"#f7f7f7\"],[0.6,\"#e6f5d0\"],[0.7,\"#b8e186\"],[0.8,\"#7fbc41\"],[0.9,\"#4d9221\"],[1,\"#276419\"]]},\"xaxis\":{\"gridcolor\":\"white\",\"linecolor\":\"white\",\"ticks\":\"\",\"title\":{\"standoff\":15},\"zerolinecolor\":\"white\",\"automargin\":true,\"zerolinewidth\":2},\"yaxis\":{\"gridcolor\":\"white\",\"linecolor\":\"white\",\"ticks\":\"\",\"title\":{\"standoff\":15},\"zerolinecolor\":\"white\",\"automargin\":true,\"zerolinewidth\":2},\"scene\":{\"xaxis\":{\"backgroundcolor\":\"#E5ECF6\",\"gridcolor\":\"white\",\"linecolor\":\"white\",\"showbackground\":true,\"ticks\":\"\",\"zerolinecolor\":\"white\",\"gridwidth\":2},\"yaxis\":{\"backgroundcolor\":\"#E5ECF6\",\"gridcolor\":\"white\",\"linecolor\":\"white\",\"showbackground\":true,\"ticks\":\"\",\"zerolinecolor\":\"white\",\"gridwidth\":2},\"zaxis\":{\"backgroundcolor\":\"#E5ECF6\",\"gridcolor\":\"white\",\"linecolor\":\"white\",\"showbackground\":true,\"ticks\":\"\",\"zerolinecolor\":\"white\",\"gridwidth\":2}},\"shapedefaults\":{\"line\":{\"color\":\"#2a3f5f\"}},\"annotationdefaults\":{\"arrowcolor\":\"#2a3f5f\",\"arrowhead\":0,\"arrowwidth\":1},\"geo\":{\"bgcolor\":\"white\",\"landcolor\":\"#E5ECF6\",\"subunitcolor\":\"white\",\"showland\":true,\"showlakes\":true,\"lakecolor\":\"white\"},\"title\":{\"x\":0.05},\"mapbox\":{\"style\":\"light\"}}},\"xaxis\":{\"anchor\":\"y\",\"domain\":[0.0,1.0],\"showticklabels\":false},\"yaxis\":{\"anchor\":\"x\",\"domain\":[0.853,1.0]},\"xaxis2\":{\"anchor\":\"y2\",\"domain\":[0.0,1.0]},\"yaxis2\":{\"anchor\":\"x2\",\"domain\":[0.0,0.833]},\"title\":{\"text\":\"Topk predictions heatmap\"},\"height\":800,\"width\":1600},                        {\"responsive\": true}                    ).then(function(){\n",
       "                            \n",
       "var gd = document.getElementById('77a23f2b-6f68-4013-af4c-29c8e94f1ae7');\n",
       "var x = new MutationObserver(function (mutations, observer) {{\n",
       "        var display = window.getComputedStyle(gd).display;\n",
       "        if (!display || display === 'none') {{\n",
       "            console.log([gd, 'removed!']);\n",
       "            Plotly.purge(gd);\n",
       "            observer.disconnect();\n",
       "        }}\n",
       "}});\n",
       "\n",
       "// Listen for the removal of the full notebook cells\n",
       "var notebookContainer = gd.closest('#notebook-container');\n",
       "if (notebookContainer) {{\n",
       "    x.observe(notebookContainer, {childList: true});\n",
       "}}\n",
       "\n",
       "// Listen for the clearing of the current output cell\n",
       "var outputEl = gd.closest('.output');\n",
       "if (outputEl) {{\n",
       "    x.observe(outputEl, {childList: true});\n",
       "}}\n",
       "\n",
       "                        })                };                });            </script>        </div>"
      ]
     },
     "metadata": {},
     "output_type": "display_data"
    }
   ],
   "source": [
    "fig = make_subplots(\n",
    "    rows=2,\n",
    "    cols=1,\n",
    "    row_heights=[0.15, 0.85],\n",
    "    vertical_spacing=0.02,\n",
    ")\n",
    "\n",
    "# add mean of scores as bars\n",
    "fig.add_trace(\n",
    "    go.Bar(\n",
    "        x=all_prediction_classes_names,\n",
    "        y=classes_means,\n",
    "        marker_color=classes_means,\n",
    "        marker_colorscale=\"dense\",\n",
    "    ),\n",
    "    row=1,\n",
    "    col=1,\n",
    ")\n",
    "# hide x axis of the bar plot\n",
    "fig.update_xaxes(showticklabels=False, row=1, col=1)\n",
    "\n",
    "# add heatmap\n",
    "fig.add_trace(\n",
    "    go.Heatmap(\n",
    "        z=z,\n",
    "        x=all_prediction_classes_names,\n",
    "        y=df.index,\n",
    "        colorscale=\"dense\",\n",
    "    ),\n",
    "    row=2,\n",
    "    col=1,\n",
    ")\n",
    "\n",
    "fig.update_layout(height=800, width=1600, title_text=\"Topk predictions heatmap\")\n",
    "\n",
    "fig.show()"
   ]
  },
  {
   "cell_type": "code",
   "execution_count": 14,
   "metadata": {
    "tags": [
     "csv-result-topk-classes-score"
    ]
   },
   "outputs": [
    {
     "name": "stdout",
     "output_type": "stream",
     "text": [
      "class,score,model_name,normalize_features\n",
      "slapping,1.0,movineta0,False\n",
      "finger snapping,1.0,movineta0,False\n",
      "stretching arm,1.0,movineta0,False\n",
      "shaking head,0.99838,movineta0,False\n",
      "playing didgeridoo,0.97988,movineta0,False\n",
      "pirouetting,0.95373,movineta0,False\n",
      "headbutting,0.95309,movineta0,False\n",
      "golf chipping,0.45458,movineta0,False\n",
      "golf putting,0.39467,movineta0,False\n",
      "golf putting,0.37473,movineta0,False\n",
      "pirouetting,0.37171,movineta0,False\n",
      "stretching arm,0.34994,movineta0,False\n",
      "using a paint roller,0.281,movineta0,False\n",
      "stretching arm,0.27108,movineta0,False\n",
      "presenting weather forecast,0.25085,movineta0,False\n",
      "golf driving,0.23779,movineta0,False\n",
      "golf putting,0.23387,movineta0,False\n",
      "presenting weather forecast,0.19667,movineta0,False\n",
      "golf putting,0.19538,movineta0,False\n",
      "golf putting,0.19503,movineta0,False\n",
      "shooting goal (soccer),0.19082,movineta0,False\n",
      "golf chipping,0.16002,movineta0,False\n",
      "golf putting,0.1558,movineta0,False\n",
      "presenting weather forecast,0.14924,movineta0,False\n",
      "presenting weather forecast,0.14367,movineta0,False\n",
      "talking on cell phone,0.12804,movineta0,False\n",
      "hurling (sport),0.12365,movineta0,False\n",
      "shooting goal (soccer),0.12216,movineta0,False\n",
      "stretching leg,0.12116,movineta0,False\n",
      "stretching leg,0.12024,movineta0,False\n",
      "massaging neck,0.11959,movineta0,False\n",
      "using a paint roller,0.11764,movineta0,False\n",
      "news anchoring,0.1088,movineta0,False\n",
      "ice climbing,0.10732,movineta0,False\n",
      "mopping floor,0.10651,movineta0,False\n",
      "hurling (sport),0.10276,movineta0,False\n",
      "swinging baseball bat,0.10067,movineta0,False\n",
      "stretching leg,0.09661,movineta0,False\n",
      "presenting weather forecast,0.09084,movineta0,False\n",
      "news anchoring,0.08834,movineta0,False\n",
      "shooting goal (soccer),0.08769,movineta0,False\n",
      "archery,0.08607,movineta0,False\n",
      "using a paint roller,0.08574,movineta0,False\n",
      "golf driving,0.08539,movineta0,False\n",
      "archery,0.08435,movineta0,False\n",
      "trapezing,0.07971,movineta0,False\n",
      "golf putting,0.07652,movineta0,False\n",
      "hitting baseball,0.07276,movineta0,False\n",
      "using a paint roller,0.07257,movineta0,False\n",
      "hurling (sport),0.07047,movineta0,False\n",
      "playing cricket,0.06844,movineta0,False\n",
      "golf chipping,0.06726,movineta0,False\n",
      "shooting goal (soccer),0.06527,movineta0,False\n",
      "golf putting,0.06512,movineta0,False\n",
      "playing didgeridoo,0.06408,movineta0,False\n",
      "yoga,0.0635,movineta0,False\n",
      "cleaning windows,0.06055,movineta0,False\n",
      "passing soccer ball,0.05643,movineta0,False\n",
      "bowling,0.0563,movineta0,False\n",
      "golf chipping,0.05605,movineta0,False\n",
      "ice climbing,0.0558,movineta0,False\n",
      "golf putting,0.05471,movineta0,False\n",
      "golf putting,0.05381,movineta0,False\n",
      "pole vault,0.05161,movineta0,False\n",
      "presenting weather forecast,0.05018,movineta0,False\n",
      "sweeping floor,0.05015,movineta0,False\n",
      "stretching arm,0.05009,movineta0,False\n",
      "front raises,0.04953,movineta0,False\n",
      "archery,0.04791,movineta0,False\n",
      "presenting weather forecast,0.04756,movineta0,False\n",
      "news anchoring,0.0467,movineta0,False\n",
      "slapping,0.04579,movineta0,False\n",
      "stretching leg,0.04565,movineta0,False\n",
      "casting fishing line,0.04529,movineta0,False\n",
      "sword fighting,0.04412,movineta0,False\n",
      "winking,0.04328,movineta0,False\n",
      "stretching leg,0.04271,movineta0,False\n",
      "playing field hockey,0.04251,movineta0,False\n",
      "golf chipping,0.04124,movineta0,False\n",
      "swinging baseball bat,0.04022,movineta0,False\n",
      "lunge,0.03998,movineta0,False\n",
      "tiptoeing,0.03972,movineta0,False\n",
      "bungee jumping,0.03603,movineta0,False\n",
      "stretching leg,0.03477,movineta0,False\n",
      "belly dancing,0.03476,movineta0,False\n",
      "bending back,0.03429,movineta0,False\n",
      "mowing lawn,0.03411,movineta0,False\n",
      "golf putting,0.03382,movineta0,False\n",
      "archery,0.0331,movineta0,False\n",
      "cleaning windows,0.03274,movineta0,False\n",
      "stretching arm,0.03078,movineta0,False\n",
      "using circular saw,0.03067,movineta0,False\n",
      "stretching leg,0.02997,movineta0,False\n",
      "shooting goal (soccer),0.02985,movineta0,False\n",
      "mowing lawn,0.02834,movineta0,False\n",
      "swinging baseball bat,0.02821,movineta0,False\n",
      "bowling,0.0275,movineta0,False\n",
      "cleaning windows,0.02743,movineta0,False\n",
      "using a paint roller,0.02731,movineta0,False\n",
      "smoking,0.02695,movineta0,False\n",
      "cleaning windows,0.02312,movineta0,False\n",
      "golf putting,0.02294,movineta0,False\n",
      "cleaning windows,0.02276,movineta0,False\n",
      "archery,0.01955,movineta0,False\n",
      "yoga,0.01005,movineta0,False\n",
      "riding a bike,0.00446,movineta0,False\n",
      "historical reenactment,0.00241,movineta0,False\n",
      "mountain climber (exercise),0.00217,movineta0,False\n",
      "hammer throw,0.00188,movineta0,False\n",
      "pirouetting,0.00161,movineta0,False\n",
      "finger snapping,0.00109,movineta0,False\n",
      "situp,0.00107,movineta0,False\n",
      "stretching arm,0.00098,movineta0,False\n",
      "shaking hands,3e-05,movineta0,False\n",
      "situp,0.0,movineta0,False\n",
      "punching person (boxing),0.0,movineta0,False\n",
      "winking,0.0,movineta0,False\n",
      "headbutting,0.0,movineta0,False\n",
      "shaking hands,0.0,movineta0,False\n",
      "laughing,0.0,movineta0,False\n",
      "headbutting,0.0,movineta0,False\n",
      "headbutting,0.0,movineta0,False\n",
      "side kick,0.0,movineta0,False\n",
      "zumba,0.0,movineta0,False\n",
      "front raises,0.0,movineta0,False\n",
      "shaking hands,0.0,movineta0,False\n",
      "side kick,0.0,movineta0,False\n",
      "situp,0.0,movineta0,False\n",
      "stretching leg,0.0,movineta0,False\n",
      "laughing,0.0,movineta0,False\n",
      "\n"
     ]
    }
   ],
   "source": [
    "# Print the topk classes and there scores\n",
    "# csv:\n",
    "#       sequences,class,score,model_name,normalize_features\n",
    "df = pd.DataFrame(\n",
    "    [\n",
    "        (\n",
    "            classmap[int(pred_class_idx)],  # class name\n",
    "            round(float(video_pred_score), 5),  # score\n",
    "            movinet_variation,  # model name\n",
    "            normalize_features,  # normalize features\n",
    "        )\n",
    "        for video_pred_classes, video_pred_scores in zip(\n",
    "            predictions_classes, predictions_scores\n",
    "        )\n",
    "        for pred_class_idx, video_pred_score in zip(\n",
    "            video_pred_classes, video_pred_scores\n",
    "        )\n",
    "    ],\n",
    "    columns=[\"class\", \"score\", \"model_name\", \"normalize_features\"],\n",
    ").sort_values(by=\"score\", ascending=False)\n",
    "\n",
    "print(df.to_csv(index=False))"
   ]
  }
 ],
 "metadata": {
  "kernelspec": {
   "display_name": ".venv",
   "language": "python",
   "name": "python3"
  },
  "language_info": {
   "codemirror_mode": {
    "name": "ipython",
    "version": 3
   },
   "file_extension": ".py",
   "mimetype": "text/x-python",
   "name": "python",
   "nbconvert_exporter": "python",
   "pygments_lexer": "ipython3",
   "version": "3.10.11"
  },
  "orig_nbformat": 4
 },
 "nbformat": 4,
 "nbformat_minor": 2
}
