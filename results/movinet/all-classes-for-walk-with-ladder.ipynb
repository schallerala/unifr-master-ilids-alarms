{
 "cells": [
  {
   "cell_type": "code",
   "execution_count": 1,
   "metadata": {},
   "outputs": [],
   "source": [
    "import pandas as pd\n",
    "import plotly.express as px\n",
    "\n",
    "import plotly.io as pio"
   ]
  },
  {
   "cell_type": "code",
   "execution_count": 2,
   "metadata": {},
   "outputs": [],
   "source": [
    "# Load the data\n",
    "df = pd.read_csv('all-classes-for-walk-with-ladder.csv')"
   ]
  },
  {
   "cell_type": "code",
   "execution_count": 3,
   "metadata": {},
   "outputs": [],
   "source": [
    "# set renderer\n",
    "# pio.renderers.default = \"png\"  # uncomment this line to save the image as png\n",
    "png_renderer = pio.renderers[\"png\"]\n",
    "png_renderer.width = 1400"
   ]
  },
  {
   "attachments": {},
   "cell_type": "markdown",
   "metadata": {},
   "source": [
    "## Model variation specific\n",
    "\n",
    "The following plots present the resulting classification for specific model and\n",
    "method.\n",
    "\n",
    "This would orient if certain classes are common to classify the `walk with ladder` \n",
    "sequences for a certain model\n",
    "or if certain classes are more present with a specific model."
   ]
  },
  {
   "cell_type": "code",
   "execution_count": 4,
   "metadata": {},
   "outputs": [
    {
     "data": {
      "text/html": [
       "<div>\n",
       "<style scoped>\n",
       "    .dataframe tbody tr th:only-of-type {\n",
       "        vertical-align: middle;\n",
       "    }\n",
       "\n",
       "    .dataframe tbody tr th {\n",
       "        vertical-align: top;\n",
       "    }\n",
       "\n",
       "    .dataframe thead th {\n",
       "        text-align: right;\n",
       "    }\n",
       "</style>\n",
       "<table border=\"1\" class=\"dataframe\">\n",
       "  <thead>\n",
       "    <tr style=\"text-align: right;\">\n",
       "      <th></th>\n",
       "      <th>model_name</th>\n",
       "      <th>normalize_features</th>\n",
       "      <th>class</th>\n",
       "      <th>count</th>\n",
       "      <th>min_score</th>\n",
       "      <th>avg_score</th>\n",
       "      <th>max_score</th>\n",
       "    </tr>\n",
       "  </thead>\n",
       "  <tbody>\n",
       "    <tr>\n",
       "      <th>284</th>\n",
       "      <td>movineta2</td>\n",
       "      <td>True</td>\n",
       "      <td>finger snapping</td>\n",
       "      <td>7</td>\n",
       "      <td>0.00184</td>\n",
       "      <td>0.001871</td>\n",
       "      <td>0.00190</td>\n",
       "    </tr>\n",
       "    <tr>\n",
       "      <th>336</th>\n",
       "      <td>movineta2</td>\n",
       "      <td>True</td>\n",
       "      <td>waving hand</td>\n",
       "      <td>7</td>\n",
       "      <td>0.00185</td>\n",
       "      <td>0.001893</td>\n",
       "      <td>0.00194</td>\n",
       "    </tr>\n",
       "    <tr>\n",
       "      <th>81</th>\n",
       "      <td>movineta0</td>\n",
       "      <td>True</td>\n",
       "      <td>presenting weather forecast</td>\n",
       "      <td>7</td>\n",
       "      <td>0.00185</td>\n",
       "      <td>0.001926</td>\n",
       "      <td>0.00200</td>\n",
       "    </tr>\n",
       "    <tr>\n",
       "      <th>211</th>\n",
       "      <td>movineta1</td>\n",
       "      <td>True</td>\n",
       "      <td>throwing knife</td>\n",
       "      <td>7</td>\n",
       "      <td>0.00187</td>\n",
       "      <td>0.001933</td>\n",
       "      <td>0.00199</td>\n",
       "    </tr>\n",
       "    <tr>\n",
       "      <th>216</th>\n",
       "      <td>movineta1</td>\n",
       "      <td>True</td>\n",
       "      <td>trimming shrubs</td>\n",
       "      <td>7</td>\n",
       "      <td>0.00189</td>\n",
       "      <td>0.001951</td>\n",
       "      <td>0.00201</td>\n",
       "    </tr>\n",
       "    <tr>\n",
       "      <th>39</th>\n",
       "      <td>movineta0</td>\n",
       "      <td>False</td>\n",
       "      <td>stretching leg</td>\n",
       "      <td>7</td>\n",
       "      <td>0.02997</td>\n",
       "      <td>0.070159</td>\n",
       "      <td>0.12116</td>\n",
       "    </tr>\n",
       "    <tr>\n",
       "      <th>144</th>\n",
       "      <td>movineta1</td>\n",
       "      <td>False</td>\n",
       "      <td>throwing knife</td>\n",
       "      <td>7</td>\n",
       "      <td>0.02628</td>\n",
       "      <td>0.070931</td>\n",
       "      <td>0.18781</td>\n",
       "    </tr>\n",
       "    <tr>\n",
       "      <th>149</th>\n",
       "      <td>movineta1</td>\n",
       "      <td>False</td>\n",
       "      <td>trimming shrubs</td>\n",
       "      <td>7</td>\n",
       "      <td>0.02400</td>\n",
       "      <td>0.126994</td>\n",
       "      <td>0.33953</td>\n",
       "    </tr>\n",
       "    <tr>\n",
       "      <th>30</th>\n",
       "      <td>movineta0</td>\n",
       "      <td>False</td>\n",
       "      <td>presenting weather forecast</td>\n",
       "      <td>7</td>\n",
       "      <td>0.04756</td>\n",
       "      <td>0.132716</td>\n",
       "      <td>0.25085</td>\n",
       "    </tr>\n",
       "    <tr>\n",
       "      <th>92</th>\n",
       "      <td>movineta0</td>\n",
       "      <td>True</td>\n",
       "      <td>stretching leg</td>\n",
       "      <td>8</td>\n",
       "      <td>0.00185</td>\n",
       "      <td>0.001871</td>\n",
       "      <td>0.00189</td>\n",
       "    </tr>\n",
       "    <tr>\n",
       "      <th>621</th>\n",
       "      <td>movineta5</td>\n",
       "      <td>True</td>\n",
       "      <td>playing marbles</td>\n",
       "      <td>8</td>\n",
       "      <td>0.00186</td>\n",
       "      <td>0.001911</td>\n",
       "      <td>0.00198</td>\n",
       "    </tr>\n",
       "    <tr>\n",
       "      <th>643</th>\n",
       "      <td>movineta5</td>\n",
       "      <td>True</td>\n",
       "      <td>tossing coin</td>\n",
       "      <td>8</td>\n",
       "      <td>0.00185</td>\n",
       "      <td>0.001930</td>\n",
       "      <td>0.00203</td>\n",
       "    </tr>\n",
       "    <tr>\n",
       "      <th>396</th>\n",
       "      <td>movineta3</td>\n",
       "      <td>True</td>\n",
       "      <td>cleaning windows</td>\n",
       "      <td>8</td>\n",
       "      <td>0.00189</td>\n",
       "      <td>0.001959</td>\n",
       "      <td>0.00201</td>\n",
       "    </tr>\n",
       "    <tr>\n",
       "      <th>351</th>\n",
       "      <td>movineta3</td>\n",
       "      <td>False</td>\n",
       "      <td>cleaning windows</td>\n",
       "      <td>8</td>\n",
       "      <td>0.00924</td>\n",
       "      <td>0.082348</td>\n",
       "      <td>0.14397</td>\n",
       "    </tr>\n",
       "    <tr>\n",
       "      <th>532</th>\n",
       "      <td>movineta4</td>\n",
       "      <td>True</td>\n",
       "      <td>shaking hands</td>\n",
       "      <td>9</td>\n",
       "      <td>0.00182</td>\n",
       "      <td>0.001890</td>\n",
       "      <td>0.00194</td>\n",
       "    </tr>\n",
       "    <tr>\n",
       "      <th>171</th>\n",
       "      <td>movineta1</td>\n",
       "      <td>True</td>\n",
       "      <td>delivering mail</td>\n",
       "      <td>9</td>\n",
       "      <td>0.00187</td>\n",
       "      <td>0.001929</td>\n",
       "      <td>0.00197</td>\n",
       "    </tr>\n",
       "    <tr>\n",
       "      <th>404</th>\n",
       "      <td>movineta3</td>\n",
       "      <td>True</td>\n",
       "      <td>golf putting</td>\n",
       "      <td>9</td>\n",
       "      <td>0.00192</td>\n",
       "      <td>0.002001</td>\n",
       "      <td>0.00210</td>\n",
       "    </tr>\n",
       "    <tr>\n",
       "      <th>116</th>\n",
       "      <td>movineta1</td>\n",
       "      <td>False</td>\n",
       "      <td>delivering mail</td>\n",
       "      <td>9</td>\n",
       "      <td>0.03161</td>\n",
       "      <td>0.064829</td>\n",
       "      <td>0.16939</td>\n",
       "    </tr>\n",
       "    <tr>\n",
       "      <th>358</th>\n",
       "      <td>movineta3</td>\n",
       "      <td>False</td>\n",
       "      <td>golf putting</td>\n",
       "      <td>9</td>\n",
       "      <td>0.08341</td>\n",
       "      <td>0.250712</td>\n",
       "      <td>0.54330</td>\n",
       "    </tr>\n",
       "    <tr>\n",
       "      <th>156</th>\n",
       "      <td>movineta1</td>\n",
       "      <td>True</td>\n",
       "      <td>archery</td>\n",
       "      <td>10</td>\n",
       "      <td>0.00191</td>\n",
       "      <td>0.001934</td>\n",
       "      <td>0.00198</td>\n",
       "    </tr>\n",
       "    <tr>\n",
       "      <th>104</th>\n",
       "      <td>movineta1</td>\n",
       "      <td>False</td>\n",
       "      <td>archery</td>\n",
       "      <td>10</td>\n",
       "      <td>0.04372</td>\n",
       "      <td>0.157217</td>\n",
       "      <td>1.00000</td>\n",
       "    </tr>\n",
       "    <tr>\n",
       "      <th>424</th>\n",
       "      <td>movineta3</td>\n",
       "      <td>True</td>\n",
       "      <td>spray painting</td>\n",
       "      <td>11</td>\n",
       "      <td>0.00189</td>\n",
       "      <td>0.001969</td>\n",
       "      <td>0.00207</td>\n",
       "    </tr>\n",
       "    <tr>\n",
       "      <th>373</th>\n",
       "      <td>movineta3</td>\n",
       "      <td>False</td>\n",
       "      <td>spray painting</td>\n",
       "      <td>11</td>\n",
       "      <td>0.01873</td>\n",
       "      <td>0.117968</td>\n",
       "      <td>0.35715</td>\n",
       "    </tr>\n",
       "    <tr>\n",
       "      <th>61</th>\n",
       "      <td>movineta0</td>\n",
       "      <td>True</td>\n",
       "      <td>golf putting</td>\n",
       "      <td>12</td>\n",
       "      <td>0.00186</td>\n",
       "      <td>0.001942</td>\n",
       "      <td>0.00206</td>\n",
       "    </tr>\n",
       "    <tr>\n",
       "      <th>11</th>\n",
       "      <td>movineta0</td>\n",
       "      <td>False</td>\n",
       "      <td>golf putting</td>\n",
       "      <td>12</td>\n",
       "      <td>0.02294</td>\n",
       "      <td>0.154700</td>\n",
       "      <td>0.39467</td>\n",
       "    </tr>\n",
       "  </tbody>\n",
       "</table>\n",
       "</div>"
      ],
      "text/plain": [
       "    model_name  normalize_features                        class  count  \\\n",
       "284  movineta2                True              finger snapping      7   \n",
       "336  movineta2                True                  waving hand      7   \n",
       "81   movineta0                True  presenting weather forecast      7   \n",
       "211  movineta1                True               throwing knife      7   \n",
       "216  movineta1                True              trimming shrubs      7   \n",
       "39   movineta0               False               stretching leg      7   \n",
       "144  movineta1               False               throwing knife      7   \n",
       "149  movineta1               False              trimming shrubs      7   \n",
       "30   movineta0               False  presenting weather forecast      7   \n",
       "92   movineta0                True               stretching leg      8   \n",
       "621  movineta5                True              playing marbles      8   \n",
       "643  movineta5                True                 tossing coin      8   \n",
       "396  movineta3                True             cleaning windows      8   \n",
       "351  movineta3               False             cleaning windows      8   \n",
       "532  movineta4                True                shaking hands      9   \n",
       "171  movineta1                True              delivering mail      9   \n",
       "404  movineta3                True                 golf putting      9   \n",
       "116  movineta1               False              delivering mail      9   \n",
       "358  movineta3               False                 golf putting      9   \n",
       "156  movineta1                True                      archery     10   \n",
       "104  movineta1               False                      archery     10   \n",
       "424  movineta3                True               spray painting     11   \n",
       "373  movineta3               False               spray painting     11   \n",
       "61   movineta0                True                 golf putting     12   \n",
       "11   movineta0               False                 golf putting     12   \n",
       "\n",
       "     min_score  avg_score  max_score  \n",
       "284    0.00184   0.001871    0.00190  \n",
       "336    0.00185   0.001893    0.00194  \n",
       "81     0.00185   0.001926    0.00200  \n",
       "211    0.00187   0.001933    0.00199  \n",
       "216    0.00189   0.001951    0.00201  \n",
       "39     0.02997   0.070159    0.12116  \n",
       "144    0.02628   0.070931    0.18781  \n",
       "149    0.02400   0.126994    0.33953  \n",
       "30     0.04756   0.132716    0.25085  \n",
       "92     0.00185   0.001871    0.00189  \n",
       "621    0.00186   0.001911    0.00198  \n",
       "643    0.00185   0.001930    0.00203  \n",
       "396    0.00189   0.001959    0.00201  \n",
       "351    0.00924   0.082348    0.14397  \n",
       "532    0.00182   0.001890    0.00194  \n",
       "171    0.00187   0.001929    0.00197  \n",
       "404    0.00192   0.002001    0.00210  \n",
       "116    0.03161   0.064829    0.16939  \n",
       "358    0.08341   0.250712    0.54330  \n",
       "156    0.00191   0.001934    0.00198  \n",
       "104    0.04372   0.157217    1.00000  \n",
       "424    0.00189   0.001969    0.00207  \n",
       "373    0.01873   0.117968    0.35715  \n",
       "61     0.00186   0.001942    0.00206  \n",
       "11     0.02294   0.154700    0.39467  "
      ]
     },
     "execution_count": 4,
     "metadata": {},
     "output_type": "execute_result"
    }
   ],
   "source": [
    "# SELECT model_name, normalize_features, class, count(*), min(score), avg(score), max(score) \n",
    "# FROM `all` WHERE score > 0 \n",
    "# GROUP BY model_name, normalize_features, class ORDER BY count(*);\n",
    "r = df[df['score'] > 0].groupby(['model_name', 'normalize_features', 'class']).agg(\n",
    "    count=('score', 'size'),\n",
    "    min_score=('score', 'min'),\n",
    "    avg_score=('score', 'mean'),\n",
    "    max_score=('score', 'max')\n",
    ").reset_index().sort_values(by=['count', 'avg_score']).tail(25)\n",
    "r"
   ]
  },
  {
   "cell_type": "code",
   "execution_count": 5,
   "metadata": {
    "tags": [
     "image-classes-count-by-model-variation"
    ]
   },
   "outputs": [
    {
     "data": {
      "application/vnd.plotly.v1+json": {
       "config": {
        "plotlyServerURL": "https://plot.ly"
       },
       "data": [
        {
         "alignmentgroup": "True",
         "bingroup": "x",
         "histfunc": "sum",
         "hovertemplate": "variable=min_score<br>x_label=%{x}<br>sum of value=%{y}<extra></extra>",
         "legendgroup": "min_score",
         "marker": {
          "color": "#636efa",
          "pattern": {
           "shape": ""
          }
         },
         "name": "min_score",
         "offsetgroup": "min_score",
         "orientation": "v",
         "showlegend": true,
         "type": "histogram",
         "x": [
          "finger snapping (a2 - True)",
          "waving hand (a2 - True)",
          "presenting weather forecast (a0 - True)",
          "throwing knife (a1 - True)",
          "trimming shrubs (a1 - True)",
          "stretching leg (a0 - False)",
          "throwing knife (a1 - False)",
          "trimming shrubs (a1 - False)",
          "presenting weather forecast (a0 - False)",
          "stretching leg (a0 - True)",
          "playing marbles (a5 - True)",
          "tossing coin (a5 - True)",
          "cleaning windows (a3 - True)",
          "cleaning windows (a3 - False)",
          "shaking hands (a4 - True)",
          "delivering mail (a1 - True)",
          "golf putting (a3 - True)",
          "delivering mail (a1 - False)",
          "golf putting (a3 - False)",
          "archery (a1 - True)",
          "archery (a1 - False)",
          "spray painting (a3 - True)",
          "spray painting (a3 - False)",
          "golf putting (a0 - True)",
          "golf putting (a0 - False)"
         ],
         "xaxis": "x",
         "y": [
          0.184,
          0.185,
          0.185,
          0.187,
          0.189,
          2.997,
          2.628,
          2.4,
          4.756,
          0.185,
          0.186,
          0.185,
          0.189,
          0.924,
          0.182,
          0.187,
          0.192,
          3.161,
          8.341,
          0.191,
          4.372,
          0.189,
          1.873,
          0.186,
          2.294
         ],
         "yaxis": "y"
        },
        {
         "alignmentgroup": "True",
         "bingroup": "x",
         "histfunc": "sum",
         "hovertemplate": "variable=avg_score<br>x_label=%{x}<br>sum of value=%{y}<extra></extra>",
         "legendgroup": "avg_score",
         "marker": {
          "color": "#EF553B",
          "pattern": {
           "shape": ""
          }
         },
         "name": "avg_score",
         "offsetgroup": "avg_score",
         "orientation": "v",
         "showlegend": true,
         "type": "histogram",
         "x": [
          "finger snapping (a2 - True)",
          "waving hand (a2 - True)",
          "presenting weather forecast (a0 - True)",
          "throwing knife (a1 - True)",
          "trimming shrubs (a1 - True)",
          "stretching leg (a0 - False)",
          "throwing knife (a1 - False)",
          "trimming shrubs (a1 - False)",
          "presenting weather forecast (a0 - False)",
          "stretching leg (a0 - True)",
          "playing marbles (a5 - True)",
          "tossing coin (a5 - True)",
          "cleaning windows (a3 - True)",
          "cleaning windows (a3 - False)",
          "shaking hands (a4 - True)",
          "delivering mail (a1 - True)",
          "golf putting (a3 - True)",
          "delivering mail (a1 - False)",
          "golf putting (a3 - False)",
          "archery (a1 - True)",
          "archery (a1 - False)",
          "spray painting (a3 - True)",
          "spray painting (a3 - False)",
          "golf putting (a0 - True)",
          "golf putting (a0 - False)"
         ],
         "xaxis": "x",
         "y": [
          0.18714285714285714,
          0.1892857142857143,
          0.1925714285714286,
          0.19328571428571428,
          0.19514285714285715,
          7.0158571428571435,
          7.093142857142857,
          12.69942857142857,
          13.27157142857143,
          0.187125,
          0.191125,
          0.193,
          0.195875,
          8.23475,
          0.18900000000000003,
          0.1928888888888889,
          0.2001111111111111,
          6.482888888888888,
          25.07122222222222,
          0.1934,
          15.7217,
          0.1969090909090909,
          11.796818181818182,
          0.19416666666666668,
          15.47
         ],
         "yaxis": "y"
        },
        {
         "alignmentgroup": "True",
         "bingroup": "x",
         "histfunc": "sum",
         "hovertemplate": "variable=max_score<br>x_label=%{x}<br>sum of value=%{y}<extra></extra>",
         "legendgroup": "max_score",
         "marker": {
          "color": "#00cc96",
          "pattern": {
           "shape": ""
          }
         },
         "name": "max_score",
         "offsetgroup": "max_score",
         "orientation": "v",
         "showlegend": true,
         "type": "histogram",
         "x": [
          "finger snapping (a2 - True)",
          "waving hand (a2 - True)",
          "presenting weather forecast (a0 - True)",
          "throwing knife (a1 - True)",
          "trimming shrubs (a1 - True)",
          "stretching leg (a0 - False)",
          "throwing knife (a1 - False)",
          "trimming shrubs (a1 - False)",
          "presenting weather forecast (a0 - False)",
          "stretching leg (a0 - True)",
          "playing marbles (a5 - True)",
          "tossing coin (a5 - True)",
          "cleaning windows (a3 - True)",
          "cleaning windows (a3 - False)",
          "shaking hands (a4 - True)",
          "delivering mail (a1 - True)",
          "golf putting (a3 - True)",
          "delivering mail (a1 - False)",
          "golf putting (a3 - False)",
          "archery (a1 - True)",
          "archery (a1 - False)",
          "spray painting (a3 - True)",
          "spray painting (a3 - False)",
          "golf putting (a0 - True)",
          "golf putting (a0 - False)"
         ],
         "xaxis": "x",
         "y": [
          0.19,
          0.194,
          0.2,
          0.199,
          0.201,
          12.116,
          18.781,
          33.953,
          25.085,
          0.189,
          0.198,
          0.203,
          0.201,
          14.396999999999998,
          0.194,
          0.197,
          0.21,
          16.939,
          54.33,
          0.198,
          100,
          0.207,
          35.715,
          0.20600000000000002,
          39.467
         ],
         "yaxis": "y"
        },
        {
         "marker": {
          "size": [
           19.797720805443024,
           19.797720805443024,
           19.797720805443024,
           19.797720805443024,
           19.797720805443024,
           19.797720805443024,
           19.797720805443024,
           19.797720805443024,
           19.797720805443024,
           25.909962525595052,
           25.909962525595052,
           25.909962525595052,
           25.909962525595052,
           25.909962525595052,
           32.540507598529544,
           32.540507598529544,
           32.540507598529544,
           32.540507598529544,
           32.540507598529544,
           39.6683592150963,
           39.6683592150963,
           47.27546811440258,
           47.27546811440258,
           55.346078862402024,
           55.346078862402024,
           19.797720805443024,
           19.797720805443024,
           19.797720805443024,
           19.797720805443024,
           19.797720805443024,
           19.797720805443024,
           19.797720805443024,
           19.797720805443024,
           19.797720805443024,
           25.909962525595052,
           25.909962525595052,
           25.909962525595052,
           25.909962525595052,
           25.909962525595052,
           32.540507598529544,
           32.540507598529544,
           32.540507598529544,
           32.540507598529544,
           32.540507598529544,
           39.6683592150963,
           39.6683592150963,
           47.27546811440258,
           47.27546811440258,
           55.346078862402024,
           55.346078862402024,
           19.797720805443024,
           19.797720805443024,
           19.797720805443024,
           19.797720805443024,
           19.797720805443024,
           19.797720805443024,
           19.797720805443024,
           19.797720805443024,
           19.797720805443024,
           25.909962525595052,
           25.909962525595052,
           25.909962525595052,
           25.909962525595052,
           25.909962525595052,
           32.540507598529544,
           32.540507598529544,
           32.540507598529544,
           32.540507598529544,
           32.540507598529544,
           39.6683592150963,
           39.6683592150963,
           47.27546811440258,
           47.27546811440258,
           55.346078862402024,
           55.346078862402024
          ]
         },
         "mode": "markers+text",
         "name": "count",
         "opacity": 0.8,
         "text": [
          7,
          7,
          7,
          7,
          7,
          7,
          7,
          7,
          7,
          8,
          8,
          8,
          8,
          8,
          9,
          9,
          9,
          9,
          9,
          10,
          10,
          11,
          11,
          12,
          12,
          7,
          7,
          7,
          7,
          7,
          7,
          7,
          7,
          7,
          8,
          8,
          8,
          8,
          8,
          9,
          9,
          9,
          9,
          9,
          10,
          10,
          11,
          11,
          12,
          12,
          7,
          7,
          7,
          7,
          7,
          7,
          7,
          7,
          7,
          8,
          8,
          8,
          8,
          8,
          9,
          9,
          9,
          9,
          9,
          10,
          10,
          11,
          11,
          12,
          12
         ],
         "textfont": {
          "color": "white"
         },
         "textposition": "middle center",
         "type": "scatter",
         "x": [
          "finger snapping (a2 - True)",
          "waving hand (a2 - True)",
          "presenting weather forecast (a0 - True)",
          "throwing knife (a1 - True)",
          "trimming shrubs (a1 - True)",
          "stretching leg (a0 - False)",
          "throwing knife (a1 - False)",
          "trimming shrubs (a1 - False)",
          "presenting weather forecast (a0 - False)",
          "stretching leg (a0 - True)",
          "playing marbles (a5 - True)",
          "tossing coin (a5 - True)",
          "cleaning windows (a3 - True)",
          "cleaning windows (a3 - False)",
          "shaking hands (a4 - True)",
          "delivering mail (a1 - True)",
          "golf putting (a3 - True)",
          "delivering mail (a1 - False)",
          "golf putting (a3 - False)",
          "archery (a1 - True)",
          "archery (a1 - False)",
          "spray painting (a3 - True)",
          "spray painting (a3 - False)",
          "golf putting (a0 - True)",
          "golf putting (a0 - False)",
          "finger snapping (a2 - True)",
          "waving hand (a2 - True)",
          "presenting weather forecast (a0 - True)",
          "throwing knife (a1 - True)",
          "trimming shrubs (a1 - True)",
          "stretching leg (a0 - False)",
          "throwing knife (a1 - False)",
          "trimming shrubs (a1 - False)",
          "presenting weather forecast (a0 - False)",
          "stretching leg (a0 - True)",
          "playing marbles (a5 - True)",
          "tossing coin (a5 - True)",
          "cleaning windows (a3 - True)",
          "cleaning windows (a3 - False)",
          "shaking hands (a4 - True)",
          "delivering mail (a1 - True)",
          "golf putting (a3 - True)",
          "delivering mail (a1 - False)",
          "golf putting (a3 - False)",
          "archery (a1 - True)",
          "archery (a1 - False)",
          "spray painting (a3 - True)",
          "spray painting (a3 - False)",
          "golf putting (a0 - True)",
          "golf putting (a0 - False)",
          "finger snapping (a2 - True)",
          "waving hand (a2 - True)",
          "presenting weather forecast (a0 - True)",
          "throwing knife (a1 - True)",
          "trimming shrubs (a1 - True)",
          "stretching leg (a0 - False)",
          "throwing knife (a1 - False)",
          "trimming shrubs (a1 - False)",
          "presenting weather forecast (a0 - False)",
          "stretching leg (a0 - True)",
          "playing marbles (a5 - True)",
          "tossing coin (a5 - True)",
          "cleaning windows (a3 - True)",
          "cleaning windows (a3 - False)",
          "shaking hands (a4 - True)",
          "delivering mail (a1 - True)",
          "golf putting (a3 - True)",
          "delivering mail (a1 - False)",
          "golf putting (a3 - False)",
          "archery (a1 - True)",
          "archery (a1 - False)",
          "spray painting (a3 - True)",
          "spray painting (a3 - False)",
          "golf putting (a0 - True)",
          "golf putting (a0 - False)"
         ],
         "y": [
          70,
          70,
          70,
          70,
          70,
          70,
          70,
          70,
          70,
          70,
          70,
          70,
          70,
          70,
          70,
          70,
          70,
          70,
          70,
          70,
          70,
          70,
          70,
          70,
          70,
          70,
          70,
          70,
          70,
          70,
          70,
          70,
          70,
          70,
          70,
          70,
          70,
          70,
          70,
          70,
          70,
          70,
          70,
          70,
          70,
          70,
          70,
          70,
          70,
          70,
          70,
          70,
          70,
          70,
          70,
          70,
          70,
          70,
          70,
          70,
          70,
          70,
          70,
          70,
          70,
          70,
          70,
          70,
          70,
          70,
          70,
          70,
          70,
          70,
          70
         ]
        }
       ],
       "layout": {
        "barmode": "group",
        "legend": {
         "title": {
          "text": "variable"
         },
         "tracegroupgap": 0
        },
        "margin": {
         "t": 60
        },
        "template": {
         "data": {
          "bar": [
           {
            "error_x": {
             "color": "#2a3f5f"
            },
            "error_y": {
             "color": "#2a3f5f"
            },
            "marker": {
             "line": {
              "color": "#E5ECF6",
              "width": 0.5
             },
             "pattern": {
              "fillmode": "overlay",
              "size": 10,
              "solidity": 0.2
             }
            },
            "type": "bar"
           }
          ],
          "barpolar": [
           {
            "marker": {
             "line": {
              "color": "#E5ECF6",
              "width": 0.5
             },
             "pattern": {
              "fillmode": "overlay",
              "size": 10,
              "solidity": 0.2
             }
            },
            "type": "barpolar"
           }
          ],
          "carpet": [
           {
            "aaxis": {
             "endlinecolor": "#2a3f5f",
             "gridcolor": "white",
             "linecolor": "white",
             "minorgridcolor": "white",
             "startlinecolor": "#2a3f5f"
            },
            "baxis": {
             "endlinecolor": "#2a3f5f",
             "gridcolor": "white",
             "linecolor": "white",
             "minorgridcolor": "white",
             "startlinecolor": "#2a3f5f"
            },
            "type": "carpet"
           }
          ],
          "choropleth": [
           {
            "colorbar": {
             "outlinewidth": 0,
             "ticks": ""
            },
            "type": "choropleth"
           }
          ],
          "contour": [
           {
            "colorbar": {
             "outlinewidth": 0,
             "ticks": ""
            },
            "colorscale": [
             [
              0,
              "#0d0887"
             ],
             [
              0.1111111111111111,
              "#46039f"
             ],
             [
              0.2222222222222222,
              "#7201a8"
             ],
             [
              0.3333333333333333,
              "#9c179e"
             ],
             [
              0.4444444444444444,
              "#bd3786"
             ],
             [
              0.5555555555555556,
              "#d8576b"
             ],
             [
              0.6666666666666666,
              "#ed7953"
             ],
             [
              0.7777777777777778,
              "#fb9f3a"
             ],
             [
              0.8888888888888888,
              "#fdca26"
             ],
             [
              1,
              "#f0f921"
             ]
            ],
            "type": "contour"
           }
          ],
          "contourcarpet": [
           {
            "colorbar": {
             "outlinewidth": 0,
             "ticks": ""
            },
            "type": "contourcarpet"
           }
          ],
          "heatmap": [
           {
            "colorbar": {
             "outlinewidth": 0,
             "ticks": ""
            },
            "colorscale": [
             [
              0,
              "#0d0887"
             ],
             [
              0.1111111111111111,
              "#46039f"
             ],
             [
              0.2222222222222222,
              "#7201a8"
             ],
             [
              0.3333333333333333,
              "#9c179e"
             ],
             [
              0.4444444444444444,
              "#bd3786"
             ],
             [
              0.5555555555555556,
              "#d8576b"
             ],
             [
              0.6666666666666666,
              "#ed7953"
             ],
             [
              0.7777777777777778,
              "#fb9f3a"
             ],
             [
              0.8888888888888888,
              "#fdca26"
             ],
             [
              1,
              "#f0f921"
             ]
            ],
            "type": "heatmap"
           }
          ],
          "heatmapgl": [
           {
            "colorbar": {
             "outlinewidth": 0,
             "ticks": ""
            },
            "colorscale": [
             [
              0,
              "#0d0887"
             ],
             [
              0.1111111111111111,
              "#46039f"
             ],
             [
              0.2222222222222222,
              "#7201a8"
             ],
             [
              0.3333333333333333,
              "#9c179e"
             ],
             [
              0.4444444444444444,
              "#bd3786"
             ],
             [
              0.5555555555555556,
              "#d8576b"
             ],
             [
              0.6666666666666666,
              "#ed7953"
             ],
             [
              0.7777777777777778,
              "#fb9f3a"
             ],
             [
              0.8888888888888888,
              "#fdca26"
             ],
             [
              1,
              "#f0f921"
             ]
            ],
            "type": "heatmapgl"
           }
          ],
          "histogram": [
           {
            "marker": {
             "pattern": {
              "fillmode": "overlay",
              "size": 10,
              "solidity": 0.2
             }
            },
            "type": "histogram"
           }
          ],
          "histogram2d": [
           {
            "colorbar": {
             "outlinewidth": 0,
             "ticks": ""
            },
            "colorscale": [
             [
              0,
              "#0d0887"
             ],
             [
              0.1111111111111111,
              "#46039f"
             ],
             [
              0.2222222222222222,
              "#7201a8"
             ],
             [
              0.3333333333333333,
              "#9c179e"
             ],
             [
              0.4444444444444444,
              "#bd3786"
             ],
             [
              0.5555555555555556,
              "#d8576b"
             ],
             [
              0.6666666666666666,
              "#ed7953"
             ],
             [
              0.7777777777777778,
              "#fb9f3a"
             ],
             [
              0.8888888888888888,
              "#fdca26"
             ],
             [
              1,
              "#f0f921"
             ]
            ],
            "type": "histogram2d"
           }
          ],
          "histogram2dcontour": [
           {
            "colorbar": {
             "outlinewidth": 0,
             "ticks": ""
            },
            "colorscale": [
             [
              0,
              "#0d0887"
             ],
             [
              0.1111111111111111,
              "#46039f"
             ],
             [
              0.2222222222222222,
              "#7201a8"
             ],
             [
              0.3333333333333333,
              "#9c179e"
             ],
             [
              0.4444444444444444,
              "#bd3786"
             ],
             [
              0.5555555555555556,
              "#d8576b"
             ],
             [
              0.6666666666666666,
              "#ed7953"
             ],
             [
              0.7777777777777778,
              "#fb9f3a"
             ],
             [
              0.8888888888888888,
              "#fdca26"
             ],
             [
              1,
              "#f0f921"
             ]
            ],
            "type": "histogram2dcontour"
           }
          ],
          "mesh3d": [
           {
            "colorbar": {
             "outlinewidth": 0,
             "ticks": ""
            },
            "type": "mesh3d"
           }
          ],
          "parcoords": [
           {
            "line": {
             "colorbar": {
              "outlinewidth": 0,
              "ticks": ""
             }
            },
            "type": "parcoords"
           }
          ],
          "pie": [
           {
            "automargin": true,
            "type": "pie"
           }
          ],
          "scatter": [
           {
            "fillpattern": {
             "fillmode": "overlay",
             "size": 10,
             "solidity": 0.2
            },
            "type": "scatter"
           }
          ],
          "scatter3d": [
           {
            "line": {
             "colorbar": {
              "outlinewidth": 0,
              "ticks": ""
             }
            },
            "marker": {
             "colorbar": {
              "outlinewidth": 0,
              "ticks": ""
             }
            },
            "type": "scatter3d"
           }
          ],
          "scattercarpet": [
           {
            "marker": {
             "colorbar": {
              "outlinewidth": 0,
              "ticks": ""
             }
            },
            "type": "scattercarpet"
           }
          ],
          "scattergeo": [
           {
            "marker": {
             "colorbar": {
              "outlinewidth": 0,
              "ticks": ""
             }
            },
            "type": "scattergeo"
           }
          ],
          "scattergl": [
           {
            "marker": {
             "colorbar": {
              "outlinewidth": 0,
              "ticks": ""
             }
            },
            "type": "scattergl"
           }
          ],
          "scattermapbox": [
           {
            "marker": {
             "colorbar": {
              "outlinewidth": 0,
              "ticks": ""
             }
            },
            "type": "scattermapbox"
           }
          ],
          "scatterpolar": [
           {
            "marker": {
             "colorbar": {
              "outlinewidth": 0,
              "ticks": ""
             }
            },
            "type": "scatterpolar"
           }
          ],
          "scatterpolargl": [
           {
            "marker": {
             "colorbar": {
              "outlinewidth": 0,
              "ticks": ""
             }
            },
            "type": "scatterpolargl"
           }
          ],
          "scatterternary": [
           {
            "marker": {
             "colorbar": {
              "outlinewidth": 0,
              "ticks": ""
             }
            },
            "type": "scatterternary"
           }
          ],
          "surface": [
           {
            "colorbar": {
             "outlinewidth": 0,
             "ticks": ""
            },
            "colorscale": [
             [
              0,
              "#0d0887"
             ],
             [
              0.1111111111111111,
              "#46039f"
             ],
             [
              0.2222222222222222,
              "#7201a8"
             ],
             [
              0.3333333333333333,
              "#9c179e"
             ],
             [
              0.4444444444444444,
              "#bd3786"
             ],
             [
              0.5555555555555556,
              "#d8576b"
             ],
             [
              0.6666666666666666,
              "#ed7953"
             ],
             [
              0.7777777777777778,
              "#fb9f3a"
             ],
             [
              0.8888888888888888,
              "#fdca26"
             ],
             [
              1,
              "#f0f921"
             ]
            ],
            "type": "surface"
           }
          ],
          "table": [
           {
            "cells": {
             "fill": {
              "color": "#EBF0F8"
             },
             "line": {
              "color": "white"
             }
            },
            "header": {
             "fill": {
              "color": "#C8D4E3"
             },
             "line": {
              "color": "white"
             }
            },
            "type": "table"
           }
          ]
         },
         "layout": {
          "annotationdefaults": {
           "arrowcolor": "#2a3f5f",
           "arrowhead": 0,
           "arrowwidth": 1
          },
          "autotypenumbers": "strict",
          "coloraxis": {
           "colorbar": {
            "outlinewidth": 0,
            "ticks": ""
           }
          },
          "colorscale": {
           "diverging": [
            [
             0,
             "#8e0152"
            ],
            [
             0.1,
             "#c51b7d"
            ],
            [
             0.2,
             "#de77ae"
            ],
            [
             0.3,
             "#f1b6da"
            ],
            [
             0.4,
             "#fde0ef"
            ],
            [
             0.5,
             "#f7f7f7"
            ],
            [
             0.6,
             "#e6f5d0"
            ],
            [
             0.7,
             "#b8e186"
            ],
            [
             0.8,
             "#7fbc41"
            ],
            [
             0.9,
             "#4d9221"
            ],
            [
             1,
             "#276419"
            ]
           ],
           "sequential": [
            [
             0,
             "#0d0887"
            ],
            [
             0.1111111111111111,
             "#46039f"
            ],
            [
             0.2222222222222222,
             "#7201a8"
            ],
            [
             0.3333333333333333,
             "#9c179e"
            ],
            [
             0.4444444444444444,
             "#bd3786"
            ],
            [
             0.5555555555555556,
             "#d8576b"
            ],
            [
             0.6666666666666666,
             "#ed7953"
            ],
            [
             0.7777777777777778,
             "#fb9f3a"
            ],
            [
             0.8888888888888888,
             "#fdca26"
            ],
            [
             1,
             "#f0f921"
            ]
           ],
           "sequentialminus": [
            [
             0,
             "#0d0887"
            ],
            [
             0.1111111111111111,
             "#46039f"
            ],
            [
             0.2222222222222222,
             "#7201a8"
            ],
            [
             0.3333333333333333,
             "#9c179e"
            ],
            [
             0.4444444444444444,
             "#bd3786"
            ],
            [
             0.5555555555555556,
             "#d8576b"
            ],
            [
             0.6666666666666666,
             "#ed7953"
            ],
            [
             0.7777777777777778,
             "#fb9f3a"
            ],
            [
             0.8888888888888888,
             "#fdca26"
            ],
            [
             1,
             "#f0f921"
            ]
           ]
          },
          "colorway": [
           "#636efa",
           "#EF553B",
           "#00cc96",
           "#ab63fa",
           "#FFA15A",
           "#19d3f3",
           "#FF6692",
           "#B6E880",
           "#FF97FF",
           "#FECB52"
          ],
          "font": {
           "color": "#2a3f5f"
          },
          "geo": {
           "bgcolor": "white",
           "lakecolor": "white",
           "landcolor": "#E5ECF6",
           "showlakes": true,
           "showland": true,
           "subunitcolor": "white"
          },
          "hoverlabel": {
           "align": "left"
          },
          "hovermode": "closest",
          "mapbox": {
           "style": "light"
          },
          "paper_bgcolor": "white",
          "plot_bgcolor": "#E5ECF6",
          "polar": {
           "angularaxis": {
            "gridcolor": "white",
            "linecolor": "white",
            "ticks": ""
           },
           "bgcolor": "#E5ECF6",
           "radialaxis": {
            "gridcolor": "white",
            "linecolor": "white",
            "ticks": ""
           }
          },
          "scene": {
           "xaxis": {
            "backgroundcolor": "#E5ECF6",
            "gridcolor": "white",
            "gridwidth": 2,
            "linecolor": "white",
            "showbackground": true,
            "ticks": "",
            "zerolinecolor": "white"
           },
           "yaxis": {
            "backgroundcolor": "#E5ECF6",
            "gridcolor": "white",
            "gridwidth": 2,
            "linecolor": "white",
            "showbackground": true,
            "ticks": "",
            "zerolinecolor": "white"
           },
           "zaxis": {
            "backgroundcolor": "#E5ECF6",
            "gridcolor": "white",
            "gridwidth": 2,
            "linecolor": "white",
            "showbackground": true,
            "ticks": "",
            "zerolinecolor": "white"
           }
          },
          "shapedefaults": {
           "line": {
            "color": "#2a3f5f"
           }
          },
          "ternary": {
           "aaxis": {
            "gridcolor": "white",
            "linecolor": "white",
            "ticks": ""
           },
           "baxis": {
            "gridcolor": "white",
            "linecolor": "white",
            "ticks": ""
           },
           "bgcolor": "#E5ECF6",
           "caxis": {
            "gridcolor": "white",
            "linecolor": "white",
            "ticks": ""
           }
          },
          "title": {
           "x": 0.05
          },
          "xaxis": {
           "automargin": true,
           "gridcolor": "white",
           "linecolor": "white",
           "ticks": "",
           "title": {
            "standoff": 15
           },
           "zerolinecolor": "white",
           "zerolinewidth": 2
          },
          "yaxis": {
           "automargin": true,
           "gridcolor": "white",
           "linecolor": "white",
           "ticks": "",
           "title": {
            "standoff": 15
           },
           "zerolinecolor": "white",
           "zerolinewidth": 2
          }
         }
        },
        "xaxis": {
         "anchor": "y",
         "domain": [
          0,
          1
         ],
         "title": {
          "text": "Class (Model - Normalize Features)"
         }
        },
        "yaxis": {
         "anchor": "x",
         "domain": [
          0,
          1
         ],
         "title": {
          "text": "Score (%)"
         }
        }
       }
      }
     },
     "metadata": {},
     "output_type": "display_data"
    }
   ],
   "source": [
    "plot_df = r.melt(id_vars=['model_name', 'normalize_features', 'class', 'count'], value_vars=['min_score', 'avg_score', 'max_score'])\n",
    "plot_df['x_label'] = plot_df['class'] + ' (a' + plot_df['model_name'].str[-1] + ' - ' + plot_df['normalize_features'].astype(str) + ')'\n",
    "plot_df['value'] *= 100\n",
    "\n",
    "fig = px.histogram(plot_df, x='x_label', y='value', color='variable', barmode='group')\n",
    "fig.add_scatter(\n",
    "    y=[70] * len(plot_df), \n",
    "    x=plot_df['x_label'], \n",
    "    mode='markers+text',\n",
    "    marker_size=plot_df['count'] ** 1.65 - 5, \n",
    "    text=plot_df['count'],\n",
    "    textposition='middle center',\n",
    "    textfont_color='white',\n",
    "    opacity=0.8,\n",
    "    name='count'\n",
    ")\n",
    "\n",
    "fig.update_yaxes(title_text='Score (%)')\n",
    "fig.update_xaxes(title_text='Class (Model - Normalize Features)')\n",
    "\n",
    "fig.show()"
   ]
  },
  {
   "cell_type": "code",
   "execution_count": 6,
   "metadata": {},
   "outputs": [
    {
     "data": {
      "text/html": [
       "<div>\n",
       "<style scoped>\n",
       "    .dataframe tbody tr th:only-of-type {\n",
       "        vertical-align: middle;\n",
       "    }\n",
       "\n",
       "    .dataframe tbody tr th {\n",
       "        vertical-align: top;\n",
       "    }\n",
       "\n",
       "    .dataframe thead th {\n",
       "        text-align: right;\n",
       "    }\n",
       "</style>\n",
       "<table border=\"1\" class=\"dataframe\">\n",
       "  <thead>\n",
       "    <tr style=\"text-align: right;\">\n",
       "      <th></th>\n",
       "      <th>model_name</th>\n",
       "      <th>normalize_features</th>\n",
       "      <th>class</th>\n",
       "      <th>count</th>\n",
       "      <th>min_score</th>\n",
       "      <th>avg_score</th>\n",
       "      <th>max_score</th>\n",
       "    </tr>\n",
       "  </thead>\n",
       "  <tbody>\n",
       "    <tr>\n",
       "      <th>11</th>\n",
       "      <td>movineta0</td>\n",
       "      <td>False</td>\n",
       "      <td>pirouetting</td>\n",
       "      <td>3</td>\n",
       "      <td>0.00161</td>\n",
       "      <td>0.442350</td>\n",
       "      <td>0.95373</td>\n",
       "    </tr>\n",
       "    <tr>\n",
       "      <th>93</th>\n",
       "      <td>movineta2</td>\n",
       "      <td>False</td>\n",
       "      <td>whistling</td>\n",
       "      <td>2</td>\n",
       "      <td>0.00018</td>\n",
       "      <td>0.500090</td>\n",
       "      <td>1.00000</td>\n",
       "    </tr>\n",
       "    <tr>\n",
       "      <th>3</th>\n",
       "      <td>movineta0</td>\n",
       "      <td>False</td>\n",
       "      <td>finger snapping</td>\n",
       "      <td>2</td>\n",
       "      <td>0.00109</td>\n",
       "      <td>0.500545</td>\n",
       "      <td>1.00000</td>\n",
       "    </tr>\n",
       "    <tr>\n",
       "      <th>211</th>\n",
       "      <td>movineta5</td>\n",
       "      <td>False</td>\n",
       "      <td>tossing coin</td>\n",
       "      <td>6</td>\n",
       "      <td>0.00061</td>\n",
       "      <td>0.504095</td>\n",
       "      <td>1.00000</td>\n",
       "    </tr>\n",
       "    <tr>\n",
       "      <th>87</th>\n",
       "      <td>movineta2</td>\n",
       "      <td>False</td>\n",
       "      <td>riding unicycle</td>\n",
       "      <td>2</td>\n",
       "      <td>0.01873</td>\n",
       "      <td>0.509365</td>\n",
       "      <td>1.00000</td>\n",
       "    </tr>\n",
       "    <tr>\n",
       "      <th>12</th>\n",
       "      <td>movineta0</td>\n",
       "      <td>False</td>\n",
       "      <td>playing didgeridoo</td>\n",
       "      <td>2</td>\n",
       "      <td>0.06408</td>\n",
       "      <td>0.521980</td>\n",
       "      <td>0.97988</td>\n",
       "    </tr>\n",
       "    <tr>\n",
       "      <th>15</th>\n",
       "      <td>movineta0</td>\n",
       "      <td>False</td>\n",
       "      <td>slapping</td>\n",
       "      <td>2</td>\n",
       "      <td>0.04579</td>\n",
       "      <td>0.522895</td>\n",
       "      <td>1.00000</td>\n",
       "    </tr>\n",
       "    <tr>\n",
       "      <th>175</th>\n",
       "      <td>movineta4</td>\n",
       "      <td>False</td>\n",
       "      <td>shucking oysters</td>\n",
       "      <td>5</td>\n",
       "      <td>0.27765</td>\n",
       "      <td>0.579576</td>\n",
       "      <td>1.00000</td>\n",
       "    </tr>\n",
       "    <tr>\n",
       "      <th>90</th>\n",
       "      <td>movineta2</td>\n",
       "      <td>False</td>\n",
       "      <td>stretching arm</td>\n",
       "      <td>2</td>\n",
       "      <td>0.21974</td>\n",
       "      <td>0.609865</td>\n",
       "      <td>0.99999</td>\n",
       "    </tr>\n",
       "    <tr>\n",
       "      <th>55</th>\n",
       "      <td>movineta1</td>\n",
       "      <td>False</td>\n",
       "      <td>jogging</td>\n",
       "      <td>2</td>\n",
       "      <td>0.23840</td>\n",
       "      <td>0.619200</td>\n",
       "      <td>1.00000</td>\n",
       "    </tr>\n",
       "    <tr>\n",
       "      <th>92</th>\n",
       "      <td>movineta2</td>\n",
       "      <td>False</td>\n",
       "      <td>waving hand</td>\n",
       "      <td>3</td>\n",
       "      <td>0.00001</td>\n",
       "      <td>0.666670</td>\n",
       "      <td>1.00000</td>\n",
       "    </tr>\n",
       "    <tr>\n",
       "      <th>208</th>\n",
       "      <td>movineta5</td>\n",
       "      <td>False</td>\n",
       "      <td>playing marbles</td>\n",
       "      <td>3</td>\n",
       "      <td>0.03714</td>\n",
       "      <td>0.678167</td>\n",
       "      <td>0.99939</td>\n",
       "    </tr>\n",
       "    <tr>\n",
       "      <th>130</th>\n",
       "      <td>movineta3</td>\n",
       "      <td>False</td>\n",
       "      <td>finger snapping</td>\n",
       "      <td>6</td>\n",
       "      <td>0.02806</td>\n",
       "      <td>0.691577</td>\n",
       "      <td>1.00000</td>\n",
       "    </tr>\n",
       "    <tr>\n",
       "      <th>52</th>\n",
       "      <td>movineta1</td>\n",
       "      <td>False</td>\n",
       "      <td>cosplaying</td>\n",
       "      <td>3</td>\n",
       "      <td>0.62224</td>\n",
       "      <td>0.874080</td>\n",
       "      <td>1.00000</td>\n",
       "    </tr>\n",
       "    <tr>\n",
       "      <th>170</th>\n",
       "      <td>movineta4</td>\n",
       "      <td>False</td>\n",
       "      <td>cutting apple</td>\n",
       "      <td>2</td>\n",
       "      <td>1.00000</td>\n",
       "      <td>1.000000</td>\n",
       "      <td>1.00000</td>\n",
       "    </tr>\n",
       "    <tr>\n",
       "      <th>174</th>\n",
       "      <td>movineta4</td>\n",
       "      <td>False</td>\n",
       "      <td>shaking hands</td>\n",
       "      <td>2</td>\n",
       "      <td>1.00000</td>\n",
       "      <td>1.000000</td>\n",
       "      <td>1.00000</td>\n",
       "    </tr>\n",
       "    <tr>\n",
       "      <th>204</th>\n",
       "      <td>movineta5</td>\n",
       "      <td>False</td>\n",
       "      <td>hopscotch</td>\n",
       "      <td>2</td>\n",
       "      <td>1.00000</td>\n",
       "      <td>1.000000</td>\n",
       "      <td>1.00000</td>\n",
       "    </tr>\n",
       "    <tr>\n",
       "      <th>207</th>\n",
       "      <td>movineta5</td>\n",
       "      <td>False</td>\n",
       "      <td>photobombing</td>\n",
       "      <td>2</td>\n",
       "      <td>1.00000</td>\n",
       "      <td>1.000000</td>\n",
       "      <td>1.00000</td>\n",
       "    </tr>\n",
       "    <tr>\n",
       "      <th>209</th>\n",
       "      <td>movineta5</td>\n",
       "      <td>False</td>\n",
       "      <td>robot dancing</td>\n",
       "      <td>2</td>\n",
       "      <td>1.00000</td>\n",
       "      <td>1.000000</td>\n",
       "      <td>1.00000</td>\n",
       "    </tr>\n",
       "    <tr>\n",
       "      <th>91</th>\n",
       "      <td>movineta2</td>\n",
       "      <td>False</td>\n",
       "      <td>twiddling fingers</td>\n",
       "      <td>3</td>\n",
       "      <td>1.00000</td>\n",
       "      <td>1.000000</td>\n",
       "      <td>1.00000</td>\n",
       "    </tr>\n",
       "  </tbody>\n",
       "</table>\n",
       "</div>"
      ],
      "text/plain": [
       "    model_name  normalize_features               class  count  min_score  \\\n",
       "11   movineta0               False         pirouetting      3    0.00161   \n",
       "93   movineta2               False           whistling      2    0.00018   \n",
       "3    movineta0               False     finger snapping      2    0.00109   \n",
       "211  movineta5               False        tossing coin      6    0.00061   \n",
       "87   movineta2               False     riding unicycle      2    0.01873   \n",
       "12   movineta0               False  playing didgeridoo      2    0.06408   \n",
       "15   movineta0               False            slapping      2    0.04579   \n",
       "175  movineta4               False    shucking oysters      5    0.27765   \n",
       "90   movineta2               False      stretching arm      2    0.21974   \n",
       "55   movineta1               False             jogging      2    0.23840   \n",
       "92   movineta2               False         waving hand      3    0.00001   \n",
       "208  movineta5               False     playing marbles      3    0.03714   \n",
       "130  movineta3               False     finger snapping      6    0.02806   \n",
       "52   movineta1               False          cosplaying      3    0.62224   \n",
       "170  movineta4               False       cutting apple      2    1.00000   \n",
       "174  movineta4               False       shaking hands      2    1.00000   \n",
       "204  movineta5               False           hopscotch      2    1.00000   \n",
       "207  movineta5               False        photobombing      2    1.00000   \n",
       "209  movineta5               False       robot dancing      2    1.00000   \n",
       "91   movineta2               False   twiddling fingers      3    1.00000   \n",
       "\n",
       "     avg_score  max_score  \n",
       "11    0.442350    0.95373  \n",
       "93    0.500090    1.00000  \n",
       "3     0.500545    1.00000  \n",
       "211   0.504095    1.00000  \n",
       "87    0.509365    1.00000  \n",
       "12    0.521980    0.97988  \n",
       "15    0.522895    1.00000  \n",
       "175   0.579576    1.00000  \n",
       "90    0.609865    0.99999  \n",
       "55    0.619200    1.00000  \n",
       "92    0.666670    1.00000  \n",
       "208   0.678167    0.99939  \n",
       "130   0.691577    1.00000  \n",
       "52    0.874080    1.00000  \n",
       "170   1.000000    1.00000  \n",
       "174   1.000000    1.00000  \n",
       "204   1.000000    1.00000  \n",
       "207   1.000000    1.00000  \n",
       "209   1.000000    1.00000  \n",
       "91    1.000000    1.00000  "
      ]
     },
     "execution_count": 6,
     "metadata": {},
     "output_type": "execute_result"
    }
   ],
   "source": [
    "# SELECT model_name, normalize_features, class, count(*), min(score), avg(score), max(score) \n",
    "# FROM `all` WHERE score > 0 \n",
    "# GROUP BY model_name, normalize_features, class HAVING count(*) > 1 ORDER BY avg(score);\n",
    "r = df[df['score'] > 0].groupby(['model_name', 'normalize_features', 'class']).filter(\n",
    "    lambda x: len(x) > 1\n",
    ").groupby(['model_name', 'normalize_features', 'class']).agg(\n",
    "    count=('score', 'size'),\n",
    "    min_score=('score', 'min'),\n",
    "    avg_score=('score', 'mean'),\n",
    "    max_score=('score', 'max')\n",
    ").reset_index().sort_values(by=['avg_score', 'count']).tail(20)\n",
    "r"
   ]
  },
  {
   "cell_type": "code",
   "execution_count": 7,
   "metadata": {
    "tags": [
     "image-classes-avg-by-model-variation"
    ]
   },
   "outputs": [
    {
     "data": {
      "application/vnd.plotly.v1+json": {
       "config": {
        "plotlyServerURL": "https://plot.ly"
       },
       "data": [
        {
         "alignmentgroup": "True",
         "bingroup": "x",
         "histfunc": "sum",
         "hovertemplate": "variable=min_score<br>x_label=%{x}<br>sum of value=%{y}<extra></extra>",
         "legendgroup": "min_score",
         "marker": {
          "color": "#636efa",
          "pattern": {
           "shape": ""
          }
         },
         "name": "min_score",
         "offsetgroup": "min_score",
         "orientation": "v",
         "showlegend": true,
         "type": "histogram",
         "x": [
          "pirouetting (a0 - False)",
          "whistling (a2 - False)",
          "finger snapping (a0 - False)",
          "tossing coin (a5 - False)",
          "riding unicycle (a2 - False)",
          "playing didgeridoo (a0 - False)",
          "slapping (a0 - False)",
          "shucking oysters (a4 - False)",
          "stretching arm (a2 - False)",
          "jogging (a1 - False)",
          "waving hand (a2 - False)",
          "playing marbles (a5 - False)",
          "finger snapping (a3 - False)",
          "cosplaying (a1 - False)",
          "cutting apple (a4 - False)",
          "shaking hands (a4 - False)",
          "hopscotch (a5 - False)",
          "photobombing (a5 - False)",
          "robot dancing (a5 - False)",
          "twiddling fingers (a2 - False)"
         ],
         "xaxis": "x",
         "y": [
          0.161,
          0.018000000000000002,
          0.109,
          0.061,
          1.873,
          6.4079999999999995,
          4.579,
          27.765,
          21.974,
          23.84,
          0.001,
          3.714,
          2.806,
          62.224000000000004,
          100,
          100,
          100,
          100,
          100,
          100
         ],
         "yaxis": "y"
        },
        {
         "alignmentgroup": "True",
         "bingroup": "x",
         "histfunc": "sum",
         "hovertemplate": "variable=avg_score<br>x_label=%{x}<br>sum of value=%{y}<extra></extra>",
         "legendgroup": "avg_score",
         "marker": {
          "color": "#EF553B",
          "pattern": {
           "shape": ""
          }
         },
         "name": "avg_score",
         "offsetgroup": "avg_score",
         "orientation": "v",
         "showlegend": true,
         "type": "histogram",
         "x": [
          "pirouetting (a0 - False)",
          "whistling (a2 - False)",
          "finger snapping (a0 - False)",
          "tossing coin (a5 - False)",
          "riding unicycle (a2 - False)",
          "playing didgeridoo (a0 - False)",
          "slapping (a0 - False)",
          "shucking oysters (a4 - False)",
          "stretching arm (a2 - False)",
          "jogging (a1 - False)",
          "waving hand (a2 - False)",
          "playing marbles (a5 - False)",
          "finger snapping (a3 - False)",
          "cosplaying (a1 - False)",
          "cutting apple (a4 - False)",
          "shaking hands (a4 - False)",
          "hopscotch (a5 - False)",
          "photobombing (a5 - False)",
          "robot dancing (a5 - False)",
          "twiddling fingers (a2 - False)"
         ],
         "xaxis": "x",
         "y": [
          44.235,
          50.009,
          50.054500000000004,
          50.40950000000001,
          50.936499999999995,
          52.198,
          52.2895,
          57.9576,
          60.9865,
          61.919999999999995,
          66.667,
          67.81666666666666,
          69.15766666666667,
          87.408,
          100,
          100,
          100,
          100,
          100,
          100
         ],
         "yaxis": "y"
        },
        {
         "alignmentgroup": "True",
         "bingroup": "x",
         "histfunc": "sum",
         "hovertemplate": "variable=max_score<br>x_label=%{x}<br>sum of value=%{y}<extra></extra>",
         "legendgroup": "max_score",
         "marker": {
          "color": "#00cc96",
          "pattern": {
           "shape": ""
          }
         },
         "name": "max_score",
         "offsetgroup": "max_score",
         "orientation": "v",
         "showlegend": true,
         "type": "histogram",
         "x": [
          "pirouetting (a0 - False)",
          "whistling (a2 - False)",
          "finger snapping (a0 - False)",
          "tossing coin (a5 - False)",
          "riding unicycle (a2 - False)",
          "playing didgeridoo (a0 - False)",
          "slapping (a0 - False)",
          "shucking oysters (a4 - False)",
          "stretching arm (a2 - False)",
          "jogging (a1 - False)",
          "waving hand (a2 - False)",
          "playing marbles (a5 - False)",
          "finger snapping (a3 - False)",
          "cosplaying (a1 - False)",
          "cutting apple (a4 - False)",
          "shaking hands (a4 - False)",
          "hopscotch (a5 - False)",
          "photobombing (a5 - False)",
          "robot dancing (a5 - False)",
          "twiddling fingers (a2 - False)"
         ],
         "xaxis": "x",
         "y": [
          95.37299999999999,
          100,
          100,
          100,
          100,
          97.988,
          100,
          100,
          99.99900000000001,
          100,
          100,
          99.939,
          100,
          100,
          100,
          100,
          100,
          100,
          100,
          100
         ],
         "yaxis": "y"
        },
        {
         "marker": {
          "size": [
           31.21157845653966,
           24.59479341998814,
           24.59479341998814,
           71.5148869197892,
           24.59479341998814,
           24.59479341998814,
           24.59479341998814,
           54.493241536530384,
           24.59479341998814,
           24.59479341998814,
           31.21157845653966,
           31.21157845653966,
           71.5148869197892,
           31.21157845653966,
           24.59479341998814,
           24.59479341998814,
           24.59479341998814,
           24.59479341998814,
           24.59479341998814,
           31.21157845653966,
           31.21157845653966,
           24.59479341998814,
           24.59479341998814,
           71.5148869197892,
           24.59479341998814,
           24.59479341998814,
           24.59479341998814,
           54.493241536530384,
           24.59479341998814,
           24.59479341998814,
           31.21157845653966,
           31.21157845653966,
           71.5148869197892,
           31.21157845653966,
           24.59479341998814,
           24.59479341998814,
           24.59479341998814,
           24.59479341998814,
           24.59479341998814,
           31.21157845653966,
           31.21157845653966,
           24.59479341998814,
           24.59479341998814,
           71.5148869197892,
           24.59479341998814,
           24.59479341998814,
           24.59479341998814,
           54.493241536530384,
           24.59479341998814,
           24.59479341998814,
           31.21157845653966,
           31.21157845653966,
           71.5148869197892,
           31.21157845653966,
           24.59479341998814,
           24.59479341998814,
           24.59479341998814,
           24.59479341998814,
           24.59479341998814,
           31.21157845653966
          ]
         },
         "mode": "markers+text",
         "name": "count",
         "opacity": 0.8,
         "text": [
          3,
          2,
          2,
          6,
          2,
          2,
          2,
          5,
          2,
          2,
          3,
          3,
          6,
          3,
          2,
          2,
          2,
          2,
          2,
          3,
          3,
          2,
          2,
          6,
          2,
          2,
          2,
          5,
          2,
          2,
          3,
          3,
          6,
          3,
          2,
          2,
          2,
          2,
          2,
          3,
          3,
          2,
          2,
          6,
          2,
          2,
          2,
          5,
          2,
          2,
          3,
          3,
          6,
          3,
          2,
          2,
          2,
          2,
          2,
          3
         ],
         "textfont": {
          "color": "white"
         },
         "textposition": "middle center",
         "type": "scatter",
         "x": [
          "pirouetting (a0 - False)",
          "whistling (a2 - False)",
          "finger snapping (a0 - False)",
          "tossing coin (a5 - False)",
          "riding unicycle (a2 - False)",
          "playing didgeridoo (a0 - False)",
          "slapping (a0 - False)",
          "shucking oysters (a4 - False)",
          "stretching arm (a2 - False)",
          "jogging (a1 - False)",
          "waving hand (a2 - False)",
          "playing marbles (a5 - False)",
          "finger snapping (a3 - False)",
          "cosplaying (a1 - False)",
          "cutting apple (a4 - False)",
          "shaking hands (a4 - False)",
          "hopscotch (a5 - False)",
          "photobombing (a5 - False)",
          "robot dancing (a5 - False)",
          "twiddling fingers (a2 - False)",
          "pirouetting (a0 - False)",
          "whistling (a2 - False)",
          "finger snapping (a0 - False)",
          "tossing coin (a5 - False)",
          "riding unicycle (a2 - False)",
          "playing didgeridoo (a0 - False)",
          "slapping (a0 - False)",
          "shucking oysters (a4 - False)",
          "stretching arm (a2 - False)",
          "jogging (a1 - False)",
          "waving hand (a2 - False)",
          "playing marbles (a5 - False)",
          "finger snapping (a3 - False)",
          "cosplaying (a1 - False)",
          "cutting apple (a4 - False)",
          "shaking hands (a4 - False)",
          "hopscotch (a5 - False)",
          "photobombing (a5 - False)",
          "robot dancing (a5 - False)",
          "twiddling fingers (a2 - False)",
          "pirouetting (a0 - False)",
          "whistling (a2 - False)",
          "finger snapping (a0 - False)",
          "tossing coin (a5 - False)",
          "riding unicycle (a2 - False)",
          "playing didgeridoo (a0 - False)",
          "slapping (a0 - False)",
          "shucking oysters (a4 - False)",
          "stretching arm (a2 - False)",
          "jogging (a1 - False)",
          "waving hand (a2 - False)",
          "playing marbles (a5 - False)",
          "finger snapping (a3 - False)",
          "cosplaying (a1 - False)",
          "cutting apple (a4 - False)",
          "shaking hands (a4 - False)",
          "hopscotch (a5 - False)",
          "photobombing (a5 - False)",
          "robot dancing (a5 - False)",
          "twiddling fingers (a2 - False)"
         ],
         "y": [
          120,
          120,
          120,
          120,
          120,
          120,
          120,
          120,
          120,
          120,
          120,
          120,
          120,
          120,
          120,
          120,
          120,
          120,
          120,
          120,
          120,
          120,
          120,
          120,
          120,
          120,
          120,
          120,
          120,
          120,
          120,
          120,
          120,
          120,
          120,
          120,
          120,
          120,
          120,
          120,
          120,
          120,
          120,
          120,
          120,
          120,
          120,
          120,
          120,
          120,
          120,
          120,
          120,
          120,
          120,
          120,
          120,
          120,
          120,
          120
         ]
        },
        {
         "marker": {
          "color": "#383838"
         },
         "mode": "markers+lines+text",
         "opacity": 0.8,
         "showlegend": false,
         "type": "scatter",
         "x": [
          "pirouetting (a0 - False)",
          "whistling (a2 - False)",
          "finger snapping (a0 - False)",
          "tossing coin (a5 - False)",
          "riding unicycle (a2 - False)",
          "playing didgeridoo (a0 - False)",
          "slapping (a0 - False)",
          "shucking oysters (a4 - False)",
          "stretching arm (a2 - False)",
          "jogging (a1 - False)",
          "waving hand (a2 - False)",
          "playing marbles (a5 - False)",
          "finger snapping (a3 - False)",
          "cosplaying (a1 - False)",
          "cutting apple (a4 - False)",
          "shaking hands (a4 - False)",
          "hopscotch (a5 - False)",
          "photobombing (a5 - False)",
          "robot dancing (a5 - False)",
          "twiddling fingers (a2 - False)",
          "pirouetting (a0 - False)",
          "whistling (a2 - False)",
          "finger snapping (a0 - False)",
          "tossing coin (a5 - False)",
          "riding unicycle (a2 - False)",
          "playing didgeridoo (a0 - False)",
          "slapping (a0 - False)",
          "shucking oysters (a4 - False)",
          "stretching arm (a2 - False)",
          "jogging (a1 - False)",
          "waving hand (a2 - False)",
          "playing marbles (a5 - False)",
          "finger snapping (a3 - False)",
          "cosplaying (a1 - False)",
          "cutting apple (a4 - False)",
          "shaking hands (a4 - False)",
          "hopscotch (a5 - False)",
          "photobombing (a5 - False)",
          "robot dancing (a5 - False)",
          "twiddling fingers (a2 - False)",
          "pirouetting (a0 - False)",
          "whistling (a2 - False)",
          "finger snapping (a0 - False)",
          "tossing coin (a5 - False)",
          "riding unicycle (a2 - False)",
          "playing didgeridoo (a0 - False)",
          "slapping (a0 - False)",
          "shucking oysters (a4 - False)",
          "stretching arm (a2 - False)",
          "jogging (a1 - False)",
          "waving hand (a2 - False)",
          "playing marbles (a5 - False)",
          "finger snapping (a3 - False)",
          "cosplaying (a1 - False)",
          "cutting apple (a4 - False)",
          "shaking hands (a4 - False)",
          "hopscotch (a5 - False)",
          "photobombing (a5 - False)",
          "robot dancing (a5 - False)",
          "twiddling fingers (a2 - False)"
         ],
         "y": [
          44.235,
          50.009,
          50.054500000000004,
          50.40950000000001,
          50.936499999999995,
          52.198,
          52.2895,
          57.9576,
          60.9865,
          61.919999999999995,
          66.667,
          67.81666666666666,
          69.15766666666667,
          87.408,
          100,
          100,
          100,
          100,
          100,
          100
         ]
        }
       ],
       "layout": {
        "barmode": "group",
        "legend": {
         "title": {
          "text": "variable"
         },
         "tracegroupgap": 0
        },
        "margin": {
         "t": 60
        },
        "template": {
         "data": {
          "bar": [
           {
            "error_x": {
             "color": "#2a3f5f"
            },
            "error_y": {
             "color": "#2a3f5f"
            },
            "marker": {
             "line": {
              "color": "#E5ECF6",
              "width": 0.5
             },
             "pattern": {
              "fillmode": "overlay",
              "size": 10,
              "solidity": 0.2
             }
            },
            "type": "bar"
           }
          ],
          "barpolar": [
           {
            "marker": {
             "line": {
              "color": "#E5ECF6",
              "width": 0.5
             },
             "pattern": {
              "fillmode": "overlay",
              "size": 10,
              "solidity": 0.2
             }
            },
            "type": "barpolar"
           }
          ],
          "carpet": [
           {
            "aaxis": {
             "endlinecolor": "#2a3f5f",
             "gridcolor": "white",
             "linecolor": "white",
             "minorgridcolor": "white",
             "startlinecolor": "#2a3f5f"
            },
            "baxis": {
             "endlinecolor": "#2a3f5f",
             "gridcolor": "white",
             "linecolor": "white",
             "minorgridcolor": "white",
             "startlinecolor": "#2a3f5f"
            },
            "type": "carpet"
           }
          ],
          "choropleth": [
           {
            "colorbar": {
             "outlinewidth": 0,
             "ticks": ""
            },
            "type": "choropleth"
           }
          ],
          "contour": [
           {
            "colorbar": {
             "outlinewidth": 0,
             "ticks": ""
            },
            "colorscale": [
             [
              0,
              "#0d0887"
             ],
             [
              0.1111111111111111,
              "#46039f"
             ],
             [
              0.2222222222222222,
              "#7201a8"
             ],
             [
              0.3333333333333333,
              "#9c179e"
             ],
             [
              0.4444444444444444,
              "#bd3786"
             ],
             [
              0.5555555555555556,
              "#d8576b"
             ],
             [
              0.6666666666666666,
              "#ed7953"
             ],
             [
              0.7777777777777778,
              "#fb9f3a"
             ],
             [
              0.8888888888888888,
              "#fdca26"
             ],
             [
              1,
              "#f0f921"
             ]
            ],
            "type": "contour"
           }
          ],
          "contourcarpet": [
           {
            "colorbar": {
             "outlinewidth": 0,
             "ticks": ""
            },
            "type": "contourcarpet"
           }
          ],
          "heatmap": [
           {
            "colorbar": {
             "outlinewidth": 0,
             "ticks": ""
            },
            "colorscale": [
             [
              0,
              "#0d0887"
             ],
             [
              0.1111111111111111,
              "#46039f"
             ],
             [
              0.2222222222222222,
              "#7201a8"
             ],
             [
              0.3333333333333333,
              "#9c179e"
             ],
             [
              0.4444444444444444,
              "#bd3786"
             ],
             [
              0.5555555555555556,
              "#d8576b"
             ],
             [
              0.6666666666666666,
              "#ed7953"
             ],
             [
              0.7777777777777778,
              "#fb9f3a"
             ],
             [
              0.8888888888888888,
              "#fdca26"
             ],
             [
              1,
              "#f0f921"
             ]
            ],
            "type": "heatmap"
           }
          ],
          "heatmapgl": [
           {
            "colorbar": {
             "outlinewidth": 0,
             "ticks": ""
            },
            "colorscale": [
             [
              0,
              "#0d0887"
             ],
             [
              0.1111111111111111,
              "#46039f"
             ],
             [
              0.2222222222222222,
              "#7201a8"
             ],
             [
              0.3333333333333333,
              "#9c179e"
             ],
             [
              0.4444444444444444,
              "#bd3786"
             ],
             [
              0.5555555555555556,
              "#d8576b"
             ],
             [
              0.6666666666666666,
              "#ed7953"
             ],
             [
              0.7777777777777778,
              "#fb9f3a"
             ],
             [
              0.8888888888888888,
              "#fdca26"
             ],
             [
              1,
              "#f0f921"
             ]
            ],
            "type": "heatmapgl"
           }
          ],
          "histogram": [
           {
            "marker": {
             "pattern": {
              "fillmode": "overlay",
              "size": 10,
              "solidity": 0.2
             }
            },
            "type": "histogram"
           }
          ],
          "histogram2d": [
           {
            "colorbar": {
             "outlinewidth": 0,
             "ticks": ""
            },
            "colorscale": [
             [
              0,
              "#0d0887"
             ],
             [
              0.1111111111111111,
              "#46039f"
             ],
             [
              0.2222222222222222,
              "#7201a8"
             ],
             [
              0.3333333333333333,
              "#9c179e"
             ],
             [
              0.4444444444444444,
              "#bd3786"
             ],
             [
              0.5555555555555556,
              "#d8576b"
             ],
             [
              0.6666666666666666,
              "#ed7953"
             ],
             [
              0.7777777777777778,
              "#fb9f3a"
             ],
             [
              0.8888888888888888,
              "#fdca26"
             ],
             [
              1,
              "#f0f921"
             ]
            ],
            "type": "histogram2d"
           }
          ],
          "histogram2dcontour": [
           {
            "colorbar": {
             "outlinewidth": 0,
             "ticks": ""
            },
            "colorscale": [
             [
              0,
              "#0d0887"
             ],
             [
              0.1111111111111111,
              "#46039f"
             ],
             [
              0.2222222222222222,
              "#7201a8"
             ],
             [
              0.3333333333333333,
              "#9c179e"
             ],
             [
              0.4444444444444444,
              "#bd3786"
             ],
             [
              0.5555555555555556,
              "#d8576b"
             ],
             [
              0.6666666666666666,
              "#ed7953"
             ],
             [
              0.7777777777777778,
              "#fb9f3a"
             ],
             [
              0.8888888888888888,
              "#fdca26"
             ],
             [
              1,
              "#f0f921"
             ]
            ],
            "type": "histogram2dcontour"
           }
          ],
          "mesh3d": [
           {
            "colorbar": {
             "outlinewidth": 0,
             "ticks": ""
            },
            "type": "mesh3d"
           }
          ],
          "parcoords": [
           {
            "line": {
             "colorbar": {
              "outlinewidth": 0,
              "ticks": ""
             }
            },
            "type": "parcoords"
           }
          ],
          "pie": [
           {
            "automargin": true,
            "type": "pie"
           }
          ],
          "scatter": [
           {
            "fillpattern": {
             "fillmode": "overlay",
             "size": 10,
             "solidity": 0.2
            },
            "type": "scatter"
           }
          ],
          "scatter3d": [
           {
            "line": {
             "colorbar": {
              "outlinewidth": 0,
              "ticks": ""
             }
            },
            "marker": {
             "colorbar": {
              "outlinewidth": 0,
              "ticks": ""
             }
            },
            "type": "scatter3d"
           }
          ],
          "scattercarpet": [
           {
            "marker": {
             "colorbar": {
              "outlinewidth": 0,
              "ticks": ""
             }
            },
            "type": "scattercarpet"
           }
          ],
          "scattergeo": [
           {
            "marker": {
             "colorbar": {
              "outlinewidth": 0,
              "ticks": ""
             }
            },
            "type": "scattergeo"
           }
          ],
          "scattergl": [
           {
            "marker": {
             "colorbar": {
              "outlinewidth": 0,
              "ticks": ""
             }
            },
            "type": "scattergl"
           }
          ],
          "scattermapbox": [
           {
            "marker": {
             "colorbar": {
              "outlinewidth": 0,
              "ticks": ""
             }
            },
            "type": "scattermapbox"
           }
          ],
          "scatterpolar": [
           {
            "marker": {
             "colorbar": {
              "outlinewidth": 0,
              "ticks": ""
             }
            },
            "type": "scatterpolar"
           }
          ],
          "scatterpolargl": [
           {
            "marker": {
             "colorbar": {
              "outlinewidth": 0,
              "ticks": ""
             }
            },
            "type": "scatterpolargl"
           }
          ],
          "scatterternary": [
           {
            "marker": {
             "colorbar": {
              "outlinewidth": 0,
              "ticks": ""
             }
            },
            "type": "scatterternary"
           }
          ],
          "surface": [
           {
            "colorbar": {
             "outlinewidth": 0,
             "ticks": ""
            },
            "colorscale": [
             [
              0,
              "#0d0887"
             ],
             [
              0.1111111111111111,
              "#46039f"
             ],
             [
              0.2222222222222222,
              "#7201a8"
             ],
             [
              0.3333333333333333,
              "#9c179e"
             ],
             [
              0.4444444444444444,
              "#bd3786"
             ],
             [
              0.5555555555555556,
              "#d8576b"
             ],
             [
              0.6666666666666666,
              "#ed7953"
             ],
             [
              0.7777777777777778,
              "#fb9f3a"
             ],
             [
              0.8888888888888888,
              "#fdca26"
             ],
             [
              1,
              "#f0f921"
             ]
            ],
            "type": "surface"
           }
          ],
          "table": [
           {
            "cells": {
             "fill": {
              "color": "#EBF0F8"
             },
             "line": {
              "color": "white"
             }
            },
            "header": {
             "fill": {
              "color": "#C8D4E3"
             },
             "line": {
              "color": "white"
             }
            },
            "type": "table"
           }
          ]
         },
         "layout": {
          "annotationdefaults": {
           "arrowcolor": "#2a3f5f",
           "arrowhead": 0,
           "arrowwidth": 1
          },
          "autotypenumbers": "strict",
          "coloraxis": {
           "colorbar": {
            "outlinewidth": 0,
            "ticks": ""
           }
          },
          "colorscale": {
           "diverging": [
            [
             0,
             "#8e0152"
            ],
            [
             0.1,
             "#c51b7d"
            ],
            [
             0.2,
             "#de77ae"
            ],
            [
             0.3,
             "#f1b6da"
            ],
            [
             0.4,
             "#fde0ef"
            ],
            [
             0.5,
             "#f7f7f7"
            ],
            [
             0.6,
             "#e6f5d0"
            ],
            [
             0.7,
             "#b8e186"
            ],
            [
             0.8,
             "#7fbc41"
            ],
            [
             0.9,
             "#4d9221"
            ],
            [
             1,
             "#276419"
            ]
           ],
           "sequential": [
            [
             0,
             "#0d0887"
            ],
            [
             0.1111111111111111,
             "#46039f"
            ],
            [
             0.2222222222222222,
             "#7201a8"
            ],
            [
             0.3333333333333333,
             "#9c179e"
            ],
            [
             0.4444444444444444,
             "#bd3786"
            ],
            [
             0.5555555555555556,
             "#d8576b"
            ],
            [
             0.6666666666666666,
             "#ed7953"
            ],
            [
             0.7777777777777778,
             "#fb9f3a"
            ],
            [
             0.8888888888888888,
             "#fdca26"
            ],
            [
             1,
             "#f0f921"
            ]
           ],
           "sequentialminus": [
            [
             0,
             "#0d0887"
            ],
            [
             0.1111111111111111,
             "#46039f"
            ],
            [
             0.2222222222222222,
             "#7201a8"
            ],
            [
             0.3333333333333333,
             "#9c179e"
            ],
            [
             0.4444444444444444,
             "#bd3786"
            ],
            [
             0.5555555555555556,
             "#d8576b"
            ],
            [
             0.6666666666666666,
             "#ed7953"
            ],
            [
             0.7777777777777778,
             "#fb9f3a"
            ],
            [
             0.8888888888888888,
             "#fdca26"
            ],
            [
             1,
             "#f0f921"
            ]
           ]
          },
          "colorway": [
           "#636efa",
           "#EF553B",
           "#00cc96",
           "#ab63fa",
           "#FFA15A",
           "#19d3f3",
           "#FF6692",
           "#B6E880",
           "#FF97FF",
           "#FECB52"
          ],
          "font": {
           "color": "#2a3f5f"
          },
          "geo": {
           "bgcolor": "white",
           "lakecolor": "white",
           "landcolor": "#E5ECF6",
           "showlakes": true,
           "showland": true,
           "subunitcolor": "white"
          },
          "hoverlabel": {
           "align": "left"
          },
          "hovermode": "closest",
          "mapbox": {
           "style": "light"
          },
          "paper_bgcolor": "white",
          "plot_bgcolor": "#E5ECF6",
          "polar": {
           "angularaxis": {
            "gridcolor": "white",
            "linecolor": "white",
            "ticks": ""
           },
           "bgcolor": "#E5ECF6",
           "radialaxis": {
            "gridcolor": "white",
            "linecolor": "white",
            "ticks": ""
           }
          },
          "scene": {
           "xaxis": {
            "backgroundcolor": "#E5ECF6",
            "gridcolor": "white",
            "gridwidth": 2,
            "linecolor": "white",
            "showbackground": true,
            "ticks": "",
            "zerolinecolor": "white"
           },
           "yaxis": {
            "backgroundcolor": "#E5ECF6",
            "gridcolor": "white",
            "gridwidth": 2,
            "linecolor": "white",
            "showbackground": true,
            "ticks": "",
            "zerolinecolor": "white"
           },
           "zaxis": {
            "backgroundcolor": "#E5ECF6",
            "gridcolor": "white",
            "gridwidth": 2,
            "linecolor": "white",
            "showbackground": true,
            "ticks": "",
            "zerolinecolor": "white"
           }
          },
          "shapedefaults": {
           "line": {
            "color": "#2a3f5f"
           }
          },
          "ternary": {
           "aaxis": {
            "gridcolor": "white",
            "linecolor": "white",
            "ticks": ""
           },
           "baxis": {
            "gridcolor": "white",
            "linecolor": "white",
            "ticks": ""
           },
           "bgcolor": "#E5ECF6",
           "caxis": {
            "gridcolor": "white",
            "linecolor": "white",
            "ticks": ""
           }
          },
          "title": {
           "x": 0.05
          },
          "xaxis": {
           "automargin": true,
           "gridcolor": "white",
           "linecolor": "white",
           "ticks": "",
           "title": {
            "standoff": 15
           },
           "zerolinecolor": "white",
           "zerolinewidth": 2
          },
          "yaxis": {
           "automargin": true,
           "gridcolor": "white",
           "linecolor": "white",
           "ticks": "",
           "title": {
            "standoff": 15
           },
           "zerolinecolor": "white",
           "zerolinewidth": 2
          }
         }
        },
        "xaxis": {
         "anchor": "y",
         "domain": [
          0,
          1
         ],
         "title": {
          "text": "Class (Model - Normalize Features)"
         }
        },
        "yaxis": {
         "anchor": "x",
         "domain": [
          0,
          1
         ],
         "title": {
          "text": "Score (%)"
         }
        }
       }
      }
     },
     "metadata": {},
     "output_type": "display_data"
    }
   ],
   "source": [
    "plot_df = r.melt(id_vars=['model_name', 'normalize_features', 'class', 'count'], value_vars=['min_score', 'avg_score', 'max_score'])\n",
    "plot_df['x_label'] = plot_df['class'] + ' (a' + plot_df['model_name'].str[-1] + ' - ' + plot_df['normalize_features'].astype(str) + ')'\n",
    "plot_df['value'] *= 100\n",
    "\n",
    "fig = px.histogram(plot_df, x='x_label', y='value', color='variable', barmode='group')\n",
    "fig.add_scatter(\n",
    "    y=[120] * len(plot_df), \n",
    "    x=plot_df['x_label'], \n",
    "    mode='markers+text',\n",
    "    marker_size=plot_df['count'] ** 2.2 + 20, \n",
    "    text=plot_df['count'],\n",
    "    textposition='middle center',\n",
    "    textfont_color='white',\n",
    "    opacity=0.8,\n",
    "    name='count'\n",
    ")\n",
    "fig.add_scatter(\n",
    "    y=r['avg_score'] * 100,\n",
    "    x=plot_df['x_label'],\n",
    "    mode='markers+lines+text',\n",
    "    marker_color='#383838',\n",
    "    opacity=0.8,\n",
    "    showlegend=False,\n",
    ")\n",
    "\n",
    "fig.update_yaxes(title_text='Score (%)')\n",
    "fig.update_xaxes(title_text='Class (Model - Normalize Features)')\n",
    "\n",
    "fig.show()"
   ]
  },
  {
   "attachments": {},
   "cell_type": "markdown",
   "metadata": {},
   "source": [
    "## Global resulting classes\n",
    "\n",
    "Similarly to the plots above, but across all models."
   ]
  },
  {
   "cell_type": "code",
   "execution_count": 8,
   "metadata": {},
   "outputs": [
    {
     "data": {
      "text/html": [
       "<div>\n",
       "<style scoped>\n",
       "    .dataframe tbody tr th:only-of-type {\n",
       "        vertical-align: middle;\n",
       "    }\n",
       "\n",
       "    .dataframe tbody tr th {\n",
       "        vertical-align: top;\n",
       "    }\n",
       "\n",
       "    .dataframe thead th {\n",
       "        text-align: right;\n",
       "    }\n",
       "</style>\n",
       "<table border=\"1\" class=\"dataframe\">\n",
       "  <thead>\n",
       "    <tr style=\"text-align: right;\">\n",
       "      <th></th>\n",
       "      <th>class</th>\n",
       "      <th>count</th>\n",
       "      <th>min_score</th>\n",
       "      <th>avg_score</th>\n",
       "      <th>max_score</th>\n",
       "    </tr>\n",
       "  </thead>\n",
       "  <tbody>\n",
       "    <tr>\n",
       "      <th>125</th>\n",
       "      <td>photobombing</td>\n",
       "      <td>10</td>\n",
       "      <td>0.00185</td>\n",
       "      <td>0.303211</td>\n",
       "      <td>1.00000</td>\n",
       "    </tr>\n",
       "    <tr>\n",
       "      <th>20</th>\n",
       "      <td>building shed</td>\n",
       "      <td>11</td>\n",
       "      <td>0.00185</td>\n",
       "      <td>0.022464</td>\n",
       "      <td>0.06805</td>\n",
       "    </tr>\n",
       "    <tr>\n",
       "      <th>150</th>\n",
       "      <td>pumping fist</td>\n",
       "      <td>11</td>\n",
       "      <td>0.00185</td>\n",
       "      <td>0.092628</td>\n",
       "      <td>1.00000</td>\n",
       "    </tr>\n",
       "    <tr>\n",
       "      <th>82</th>\n",
       "      <td>headbutting</td>\n",
       "      <td>11</td>\n",
       "      <td>0.00185</td>\n",
       "      <td>0.179108</td>\n",
       "      <td>1.00000</td>\n",
       "    </tr>\n",
       "    <tr>\n",
       "      <th>7</th>\n",
       "      <td>beatboxing</td>\n",
       "      <td>11</td>\n",
       "      <td>0.00183</td>\n",
       "      <td>0.183355</td>\n",
       "      <td>1.00000</td>\n",
       "    </tr>\n",
       "    <tr>\n",
       "      <th>43</th>\n",
       "      <td>cosplaying</td>\n",
       "      <td>11</td>\n",
       "      <td>0.00186</td>\n",
       "      <td>0.243062</td>\n",
       "      <td>1.00000</td>\n",
       "    </tr>\n",
       "    <tr>\n",
       "      <th>228</th>\n",
       "      <td>yoga</td>\n",
       "      <td>12</td>\n",
       "      <td>0.00187</td>\n",
       "      <td>0.025877</td>\n",
       "      <td>0.09516</td>\n",
       "    </tr>\n",
       "    <tr>\n",
       "      <th>176</th>\n",
       "      <td>ski jumping</td>\n",
       "      <td>12</td>\n",
       "      <td>0.00187</td>\n",
       "      <td>0.028842</td>\n",
       "      <td>0.12847</td>\n",
       "    </tr>\n",
       "    <tr>\n",
       "      <th>170</th>\n",
       "      <td>shining flashlight</td>\n",
       "      <td>12</td>\n",
       "      <td>0.00187</td>\n",
       "      <td>0.052343</td>\n",
       "      <td>0.30543</td>\n",
       "    </tr>\n",
       "    <tr>\n",
       "      <th>140</th>\n",
       "      <td>playing marbles</td>\n",
       "      <td>12</td>\n",
       "      <td>0.00184</td>\n",
       "      <td>0.170969</td>\n",
       "      <td>0.99939</td>\n",
       "    </tr>\n",
       "    <tr>\n",
       "      <th>98</th>\n",
       "      <td>jogging</td>\n",
       "      <td>13</td>\n",
       "      <td>0.00185</td>\n",
       "      <td>0.109522</td>\n",
       "      <td>1.00000</td>\n",
       "    </tr>\n",
       "    <tr>\n",
       "      <th>193</th>\n",
       "      <td>swinging baseball bat</td>\n",
       "      <td>14</td>\n",
       "      <td>0.00186</td>\n",
       "      <td>0.036870</td>\n",
       "      <td>0.25070</td>\n",
       "    </tr>\n",
       "    <tr>\n",
       "      <th>130</th>\n",
       "      <td>playing cricket</td>\n",
       "      <td>14</td>\n",
       "      <td>0.00189</td>\n",
       "      <td>0.043903</td>\n",
       "      <td>0.23719</td>\n",
       "    </tr>\n",
       "    <tr>\n",
       "      <th>149</th>\n",
       "      <td>presenting weather forecast</td>\n",
       "      <td>14</td>\n",
       "      <td>0.00185</td>\n",
       "      <td>0.067321</td>\n",
       "      <td>0.25085</td>\n",
       "    </tr>\n",
       "    <tr>\n",
       "      <th>221</th>\n",
       "      <td>waving hand</td>\n",
       "      <td>14</td>\n",
       "      <td>0.00001</td>\n",
       "      <td>0.144339</td>\n",
       "      <td>1.00000</td>\n",
       "    </tr>\n",
       "    <tr>\n",
       "      <th>172</th>\n",
       "      <td>shucking oysters</td>\n",
       "      <td>14</td>\n",
       "      <td>0.00188</td>\n",
       "      <td>0.224852</td>\n",
       "      <td>1.00000</td>\n",
       "    </tr>\n",
       "    <tr>\n",
       "      <th>213</th>\n",
       "      <td>using a paint roller</td>\n",
       "      <td>16</td>\n",
       "      <td>0.00187</td>\n",
       "      <td>0.072739</td>\n",
       "      <td>0.30379</td>\n",
       "    </tr>\n",
       "    <tr>\n",
       "      <th>190</th>\n",
       "      <td>stretching leg</td>\n",
       "      <td>18</td>\n",
       "      <td>0.00185</td>\n",
       "      <td>0.028424</td>\n",
       "      <td>0.12116</td>\n",
       "    </tr>\n",
       "    <tr>\n",
       "      <th>55</th>\n",
       "      <td>delivering mail</td>\n",
       "      <td>19</td>\n",
       "      <td>0.00187</td>\n",
       "      <td>0.031722</td>\n",
       "      <td>0.16939</td>\n",
       "    </tr>\n",
       "    <tr>\n",
       "      <th>171</th>\n",
       "      <td>shooting goal (soccer)</td>\n",
       "      <td>20</td>\n",
       "      <td>0.00189</td>\n",
       "      <td>0.045912</td>\n",
       "      <td>0.19082</td>\n",
       "    </tr>\n",
       "    <tr>\n",
       "      <th>174</th>\n",
       "      <td>singing</td>\n",
       "      <td>21</td>\n",
       "      <td>0.00184</td>\n",
       "      <td>0.096063</td>\n",
       "      <td>1.00000</td>\n",
       "    </tr>\n",
       "    <tr>\n",
       "      <th>209</th>\n",
       "      <td>trimming shrubs</td>\n",
       "      <td>22</td>\n",
       "      <td>0.00189</td>\n",
       "      <td>0.107275</td>\n",
       "      <td>0.81933</td>\n",
       "    </tr>\n",
       "    <tr>\n",
       "      <th>206</th>\n",
       "      <td>tossing coin</td>\n",
       "      <td>22</td>\n",
       "      <td>0.00061</td>\n",
       "      <td>0.145245</td>\n",
       "      <td>1.00000</td>\n",
       "    </tr>\n",
       "    <tr>\n",
       "      <th>189</th>\n",
       "      <td>stretching arm</td>\n",
       "      <td>23</td>\n",
       "      <td>0.00098</td>\n",
       "      <td>0.171698</td>\n",
       "      <td>1.00000</td>\n",
       "    </tr>\n",
       "    <tr>\n",
       "      <th>202</th>\n",
       "      <td>throwing knife</td>\n",
       "      <td>25</td>\n",
       "      <td>0.00035</td>\n",
       "      <td>0.027818</td>\n",
       "      <td>0.18781</td>\n",
       "    </tr>\n",
       "    <tr>\n",
       "      <th>116</th>\n",
       "      <td>mowing lawn</td>\n",
       "      <td>26</td>\n",
       "      <td>0.00186</td>\n",
       "      <td>0.058098</td>\n",
       "      <td>0.39334</td>\n",
       "    </tr>\n",
       "    <tr>\n",
       "      <th>185</th>\n",
       "      <td>spray painting</td>\n",
       "      <td>28</td>\n",
       "      <td>0.00185</td>\n",
       "      <td>0.050903</td>\n",
       "      <td>0.35715</td>\n",
       "    </tr>\n",
       "    <tr>\n",
       "      <th>166</th>\n",
       "      <td>shaking hands</td>\n",
       "      <td>30</td>\n",
       "      <td>0.00003</td>\n",
       "      <td>0.104446</td>\n",
       "      <td>1.00000</td>\n",
       "    </tr>\n",
       "    <tr>\n",
       "      <th>74</th>\n",
       "      <td>golf chipping</td>\n",
       "      <td>31</td>\n",
       "      <td>0.00185</td>\n",
       "      <td>0.051097</td>\n",
       "      <td>0.45458</td>\n",
       "    </tr>\n",
       "    <tr>\n",
       "      <th>69</th>\n",
       "      <td>finger snapping</td>\n",
       "      <td>33</td>\n",
       "      <td>0.00002</td>\n",
       "      <td>0.217951</td>\n",
       "      <td>1.00000</td>\n",
       "    </tr>\n",
       "    <tr>\n",
       "      <th>40</th>\n",
       "      <td>cleaning windows</td>\n",
       "      <td>35</td>\n",
       "      <td>0.00185</td>\n",
       "      <td>0.050593</td>\n",
       "      <td>0.35531</td>\n",
       "    </tr>\n",
       "    <tr>\n",
       "      <th>3</th>\n",
       "      <td>archery</td>\n",
       "      <td>46</td>\n",
       "      <td>0.00188</td>\n",
       "      <td>0.054212</td>\n",
       "      <td>1.00000</td>\n",
       "    </tr>\n",
       "    <tr>\n",
       "      <th>76</th>\n",
       "      <td>golf putting</td>\n",
       "      <td>58</td>\n",
       "      <td>0.00186</td>\n",
       "      <td>0.086703</td>\n",
       "      <td>0.54330</td>\n",
       "    </tr>\n",
       "  </tbody>\n",
       "</table>\n",
       "</div>"
      ],
      "text/plain": [
       "                           class  count  min_score  avg_score  max_score\n",
       "125                 photobombing     10    0.00185   0.303211    1.00000\n",
       "20                 building shed     11    0.00185   0.022464    0.06805\n",
       "150                 pumping fist     11    0.00185   0.092628    1.00000\n",
       "82                   headbutting     11    0.00185   0.179108    1.00000\n",
       "7                     beatboxing     11    0.00183   0.183355    1.00000\n",
       "43                    cosplaying     11    0.00186   0.243062    1.00000\n",
       "228                         yoga     12    0.00187   0.025877    0.09516\n",
       "176                  ski jumping     12    0.00187   0.028842    0.12847\n",
       "170           shining flashlight     12    0.00187   0.052343    0.30543\n",
       "140              playing marbles     12    0.00184   0.170969    0.99939\n",
       "98                       jogging     13    0.00185   0.109522    1.00000\n",
       "193        swinging baseball bat     14    0.00186   0.036870    0.25070\n",
       "130              playing cricket     14    0.00189   0.043903    0.23719\n",
       "149  presenting weather forecast     14    0.00185   0.067321    0.25085\n",
       "221                  waving hand     14    0.00001   0.144339    1.00000\n",
       "172             shucking oysters     14    0.00188   0.224852    1.00000\n",
       "213         using a paint roller     16    0.00187   0.072739    0.30379\n",
       "190               stretching leg     18    0.00185   0.028424    0.12116\n",
       "55               delivering mail     19    0.00187   0.031722    0.16939\n",
       "171       shooting goal (soccer)     20    0.00189   0.045912    0.19082\n",
       "174                      singing     21    0.00184   0.096063    1.00000\n",
       "209              trimming shrubs     22    0.00189   0.107275    0.81933\n",
       "206                 tossing coin     22    0.00061   0.145245    1.00000\n",
       "189               stretching arm     23    0.00098   0.171698    1.00000\n",
       "202               throwing knife     25    0.00035   0.027818    0.18781\n",
       "116                  mowing lawn     26    0.00186   0.058098    0.39334\n",
       "185               spray painting     28    0.00185   0.050903    0.35715\n",
       "166                shaking hands     30    0.00003   0.104446    1.00000\n",
       "74                 golf chipping     31    0.00185   0.051097    0.45458\n",
       "69               finger snapping     33    0.00002   0.217951    1.00000\n",
       "40              cleaning windows     35    0.00185   0.050593    0.35531\n",
       "3                        archery     46    0.00188   0.054212    1.00000\n",
       "76                  golf putting     58    0.00186   0.086703    0.54330"
      ]
     },
     "execution_count": 8,
     "metadata": {},
     "output_type": "execute_result"
    }
   ],
   "source": [
    "# SELECT class, count(*), min(score), avg(score), max(score) FROM `all` WHERE score > 0 GROUP BY class ORDER BY count(*);\n",
    "r = df[df['score'] > 0].groupby('class').agg(\n",
    "    count=('score', 'size'),\n",
    "    min_score=('score', 'min'),\n",
    "    avg_score=('score', 'mean'),\n",
    "    max_score=('score', 'max')\n",
    ").reset_index().sort_values(by=['count', 'avg_score']).tail(33)\n",
    "r"
   ]
  },
  {
   "cell_type": "code",
   "execution_count": 9,
   "metadata": {
    "tags": [
     "image-classes-count"
    ]
   },
   "outputs": [
    {
     "data": {
      "application/vnd.plotly.v1+json": {
       "config": {
        "plotlyServerURL": "https://plot.ly"
       },
       "data": [
        {
         "alignmentgroup": "True",
         "bingroup": "x",
         "histfunc": "sum",
         "hovertemplate": "variable=min_score<br>x_label=%{x}<br>sum of value=%{y}<extra></extra>",
         "legendgroup": "min_score",
         "marker": {
          "color": "#636efa",
          "pattern": {
           "shape": ""
          }
         },
         "name": "min_score",
         "offsetgroup": "min_score",
         "orientation": "v",
         "showlegend": true,
         "type": "histogram",
         "x": [
          "photobombing",
          "building shed",
          "pumping fist",
          "headbutting",
          "beatboxing",
          "cosplaying",
          "yoga",
          "ski jumping",
          "shining flashlight",
          "playing marbles",
          "jogging",
          "swinging baseball bat",
          "playing cricket",
          "presenting weather forecast",
          "waving hand",
          "shucking oysters",
          "using a paint roller",
          "stretching leg",
          "delivering mail",
          "shooting goal (soccer)",
          "singing",
          "trimming shrubs",
          "tossing coin",
          "stretching arm",
          "throwing knife",
          "mowing lawn",
          "spray painting",
          "shaking hands",
          "golf chipping",
          "finger snapping",
          "cleaning windows",
          "archery",
          "golf putting"
         ],
         "xaxis": "x",
         "y": [
          0.185,
          0.185,
          0.185,
          0.185,
          0.183,
          0.186,
          0.187,
          0.187,
          0.187,
          0.184,
          0.185,
          0.186,
          0.189,
          0.185,
          0.001,
          0.188,
          0.187,
          0.185,
          0.187,
          0.189,
          0.184,
          0.189,
          0.061,
          0.098,
          0.034999999999999996,
          0.186,
          0.185,
          0.003,
          0.185,
          0.002,
          0.185,
          0.188,
          0.186
         ],
         "yaxis": "y"
        },
        {
         "alignmentgroup": "True",
         "bingroup": "x",
         "histfunc": "sum",
         "hovertemplate": "variable=avg_score<br>x_label=%{x}<br>sum of value=%{y}<extra></extra>",
         "legendgroup": "avg_score",
         "marker": {
          "color": "#EF553B",
          "pattern": {
           "shape": ""
          }
         },
         "name": "avg_score",
         "offsetgroup": "avg_score",
         "orientation": "v",
         "showlegend": true,
         "type": "histogram",
         "x": [
          "photobombing",
          "building shed",
          "pumping fist",
          "headbutting",
          "beatboxing",
          "cosplaying",
          "yoga",
          "ski jumping",
          "shining flashlight",
          "playing marbles",
          "jogging",
          "swinging baseball bat",
          "playing cricket",
          "presenting weather forecast",
          "waving hand",
          "shucking oysters",
          "using a paint roller",
          "stretching leg",
          "delivering mail",
          "shooting goal (soccer)",
          "singing",
          "trimming shrubs",
          "tossing coin",
          "stretching arm",
          "throwing knife",
          "mowing lawn",
          "spray painting",
          "shaking hands",
          "golf chipping",
          "finger snapping",
          "cleaning windows",
          "archery",
          "golf putting"
         ],
         "xaxis": "x",
         "y": [
          30.3211,
          2.246363636363636,
          9.262818181818181,
          17.91081818181818,
          18.335454545454546,
          24.30618181818182,
          2.587666666666667,
          2.8842499999999998,
          5.234333333333333,
          17.096916666666665,
          10.952153846153847,
          3.687,
          4.390285714285714,
          6.7320714285714285,
          14.433928571428572,
          22.485214285714285,
          7.2739375,
          2.8424444444444443,
          3.172157894736842,
          4.5912,
          9.606285714285713,
          10.727500000000001,
          14.524454545454546,
          17.16978260869565,
          2.7817600000000002,
          5.809846153846154,
          5.09025,
          10.4446,
          5.109677419354839,
          21.795121212121213,
          5.059285714285714,
          5.421173913043478,
          8.670258620689655
         ],
         "yaxis": "y"
        },
        {
         "alignmentgroup": "True",
         "bingroup": "x",
         "histfunc": "sum",
         "hovertemplate": "variable=max_score<br>x_label=%{x}<br>sum of value=%{y}<extra></extra>",
         "legendgroup": "max_score",
         "marker": {
          "color": "#00cc96",
          "pattern": {
           "shape": ""
          }
         },
         "name": "max_score",
         "offsetgroup": "max_score",
         "orientation": "v",
         "showlegend": true,
         "type": "histogram",
         "x": [
          "photobombing",
          "building shed",
          "pumping fist",
          "headbutting",
          "beatboxing",
          "cosplaying",
          "yoga",
          "ski jumping",
          "shining flashlight",
          "playing marbles",
          "jogging",
          "swinging baseball bat",
          "playing cricket",
          "presenting weather forecast",
          "waving hand",
          "shucking oysters",
          "using a paint roller",
          "stretching leg",
          "delivering mail",
          "shooting goal (soccer)",
          "singing",
          "trimming shrubs",
          "tossing coin",
          "stretching arm",
          "throwing knife",
          "mowing lawn",
          "spray painting",
          "shaking hands",
          "golf chipping",
          "finger snapping",
          "cleaning windows",
          "archery",
          "golf putting"
         ],
         "xaxis": "x",
         "y": [
          100,
          6.805,
          100,
          100,
          100,
          100,
          9.516,
          12.847,
          30.543,
          99.939,
          100,
          25.069999999999997,
          23.719,
          25.085,
          100,
          100,
          30.379,
          12.116,
          16.939,
          19.082,
          100,
          81.933,
          100,
          100,
          18.781,
          39.334,
          35.715,
          100,
          45.458,
          100,
          35.531,
          100,
          54.33
         ],
         "yaxis": "y"
        },
        {
         "marker": {
          "size": [
           25,
           26,
           26,
           26,
           26,
           26,
           27,
           27,
           27,
           27,
           28,
           29,
           29,
           29,
           29,
           29,
           31,
           33,
           34,
           35,
           36,
           37,
           37,
           38,
           40,
           41,
           43,
           45,
           46,
           48,
           50,
           61,
           73,
           25,
           26,
           26,
           26,
           26,
           26,
           27,
           27,
           27,
           27,
           28,
           29,
           29,
           29,
           29,
           29,
           31,
           33,
           34,
           35,
           36,
           37,
           37,
           38,
           40,
           41,
           43,
           45,
           46,
           48,
           50,
           61,
           73,
           25,
           26,
           26,
           26,
           26,
           26,
           27,
           27,
           27,
           27,
           28,
           29,
           29,
           29,
           29,
           29,
           31,
           33,
           34,
           35,
           36,
           37,
           37,
           38,
           40,
           41,
           43,
           45,
           46,
           48,
           50,
           61,
           73
          ]
         },
         "mode": "markers+text",
         "name": "count",
         "opacity": 0.8,
         "text": [
          10,
          11,
          11,
          11,
          11,
          11,
          12,
          12,
          12,
          12,
          13,
          14,
          14,
          14,
          14,
          14,
          16,
          18,
          19,
          20,
          21,
          22,
          22,
          23,
          25,
          26,
          28,
          30,
          31,
          33,
          35,
          46,
          58,
          10,
          11,
          11,
          11,
          11,
          11,
          12,
          12,
          12,
          12,
          13,
          14,
          14,
          14,
          14,
          14,
          16,
          18,
          19,
          20,
          21,
          22,
          22,
          23,
          25,
          26,
          28,
          30,
          31,
          33,
          35,
          46,
          58,
          10,
          11,
          11,
          11,
          11,
          11,
          12,
          12,
          12,
          12,
          13,
          14,
          14,
          14,
          14,
          14,
          16,
          18,
          19,
          20,
          21,
          22,
          22,
          23,
          25,
          26,
          28,
          30,
          31,
          33,
          35,
          46,
          58
         ],
         "textfont": {
          "color": "white"
         },
         "textposition": "middle center",
         "type": "scatter",
         "x": [
          "photobombing",
          "building shed",
          "pumping fist",
          "headbutting",
          "beatboxing",
          "cosplaying",
          "yoga",
          "ski jumping",
          "shining flashlight",
          "playing marbles",
          "jogging",
          "swinging baseball bat",
          "playing cricket",
          "presenting weather forecast",
          "waving hand",
          "shucking oysters",
          "using a paint roller",
          "stretching leg",
          "delivering mail",
          "shooting goal (soccer)",
          "singing",
          "trimming shrubs",
          "tossing coin",
          "stretching arm",
          "throwing knife",
          "mowing lawn",
          "spray painting",
          "shaking hands",
          "golf chipping",
          "finger snapping",
          "cleaning windows",
          "archery",
          "golf putting",
          "photobombing",
          "building shed",
          "pumping fist",
          "headbutting",
          "beatboxing",
          "cosplaying",
          "yoga",
          "ski jumping",
          "shining flashlight",
          "playing marbles",
          "jogging",
          "swinging baseball bat",
          "playing cricket",
          "presenting weather forecast",
          "waving hand",
          "shucking oysters",
          "using a paint roller",
          "stretching leg",
          "delivering mail",
          "shooting goal (soccer)",
          "singing",
          "trimming shrubs",
          "tossing coin",
          "stretching arm",
          "throwing knife",
          "mowing lawn",
          "spray painting",
          "shaking hands",
          "golf chipping",
          "finger snapping",
          "cleaning windows",
          "archery",
          "golf putting",
          "photobombing",
          "building shed",
          "pumping fist",
          "headbutting",
          "beatboxing",
          "cosplaying",
          "yoga",
          "ski jumping",
          "shining flashlight",
          "playing marbles",
          "jogging",
          "swinging baseball bat",
          "playing cricket",
          "presenting weather forecast",
          "waving hand",
          "shucking oysters",
          "using a paint roller",
          "stretching leg",
          "delivering mail",
          "shooting goal (soccer)",
          "singing",
          "trimming shrubs",
          "tossing coin",
          "stretching arm",
          "throwing knife",
          "mowing lawn",
          "spray painting",
          "shaking hands",
          "golf chipping",
          "finger snapping",
          "cleaning windows",
          "archery",
          "golf putting"
         ],
         "y": [
          120,
          120,
          120,
          120,
          120,
          120,
          120,
          120,
          120,
          120,
          120,
          120,
          120,
          120,
          120,
          120,
          120,
          120,
          120,
          120,
          120,
          120,
          120,
          120,
          120,
          120,
          120,
          120,
          120,
          120,
          120,
          120,
          120,
          120,
          120,
          120,
          120,
          120,
          120,
          120,
          120,
          120,
          120,
          120,
          120,
          120,
          120,
          120,
          120,
          120,
          120,
          120,
          120,
          120,
          120,
          120,
          120,
          120,
          120,
          120,
          120,
          120,
          120,
          120,
          120,
          120,
          120,
          120,
          120,
          120,
          120,
          120,
          120,
          120,
          120,
          120,
          120,
          120,
          120,
          120,
          120,
          120,
          120,
          120,
          120,
          120,
          120,
          120,
          120,
          120,
          120,
          120,
          120,
          120,
          120,
          120,
          120,
          120,
          120
         ]
        }
       ],
       "layout": {
        "barmode": "group",
        "legend": {
         "title": {
          "text": "variable"
         },
         "tracegroupgap": 0
        },
        "margin": {
         "t": 60
        },
        "template": {
         "data": {
          "bar": [
           {
            "error_x": {
             "color": "#2a3f5f"
            },
            "error_y": {
             "color": "#2a3f5f"
            },
            "marker": {
             "line": {
              "color": "#E5ECF6",
              "width": 0.5
             },
             "pattern": {
              "fillmode": "overlay",
              "size": 10,
              "solidity": 0.2
             }
            },
            "type": "bar"
           }
          ],
          "barpolar": [
           {
            "marker": {
             "line": {
              "color": "#E5ECF6",
              "width": 0.5
             },
             "pattern": {
              "fillmode": "overlay",
              "size": 10,
              "solidity": 0.2
             }
            },
            "type": "barpolar"
           }
          ],
          "carpet": [
           {
            "aaxis": {
             "endlinecolor": "#2a3f5f",
             "gridcolor": "white",
             "linecolor": "white",
             "minorgridcolor": "white",
             "startlinecolor": "#2a3f5f"
            },
            "baxis": {
             "endlinecolor": "#2a3f5f",
             "gridcolor": "white",
             "linecolor": "white",
             "minorgridcolor": "white",
             "startlinecolor": "#2a3f5f"
            },
            "type": "carpet"
           }
          ],
          "choropleth": [
           {
            "colorbar": {
             "outlinewidth": 0,
             "ticks": ""
            },
            "type": "choropleth"
           }
          ],
          "contour": [
           {
            "colorbar": {
             "outlinewidth": 0,
             "ticks": ""
            },
            "colorscale": [
             [
              0,
              "#0d0887"
             ],
             [
              0.1111111111111111,
              "#46039f"
             ],
             [
              0.2222222222222222,
              "#7201a8"
             ],
             [
              0.3333333333333333,
              "#9c179e"
             ],
             [
              0.4444444444444444,
              "#bd3786"
             ],
             [
              0.5555555555555556,
              "#d8576b"
             ],
             [
              0.6666666666666666,
              "#ed7953"
             ],
             [
              0.7777777777777778,
              "#fb9f3a"
             ],
             [
              0.8888888888888888,
              "#fdca26"
             ],
             [
              1,
              "#f0f921"
             ]
            ],
            "type": "contour"
           }
          ],
          "contourcarpet": [
           {
            "colorbar": {
             "outlinewidth": 0,
             "ticks": ""
            },
            "type": "contourcarpet"
           }
          ],
          "heatmap": [
           {
            "colorbar": {
             "outlinewidth": 0,
             "ticks": ""
            },
            "colorscale": [
             [
              0,
              "#0d0887"
             ],
             [
              0.1111111111111111,
              "#46039f"
             ],
             [
              0.2222222222222222,
              "#7201a8"
             ],
             [
              0.3333333333333333,
              "#9c179e"
             ],
             [
              0.4444444444444444,
              "#bd3786"
             ],
             [
              0.5555555555555556,
              "#d8576b"
             ],
             [
              0.6666666666666666,
              "#ed7953"
             ],
             [
              0.7777777777777778,
              "#fb9f3a"
             ],
             [
              0.8888888888888888,
              "#fdca26"
             ],
             [
              1,
              "#f0f921"
             ]
            ],
            "type": "heatmap"
           }
          ],
          "heatmapgl": [
           {
            "colorbar": {
             "outlinewidth": 0,
             "ticks": ""
            },
            "colorscale": [
             [
              0,
              "#0d0887"
             ],
             [
              0.1111111111111111,
              "#46039f"
             ],
             [
              0.2222222222222222,
              "#7201a8"
             ],
             [
              0.3333333333333333,
              "#9c179e"
             ],
             [
              0.4444444444444444,
              "#bd3786"
             ],
             [
              0.5555555555555556,
              "#d8576b"
             ],
             [
              0.6666666666666666,
              "#ed7953"
             ],
             [
              0.7777777777777778,
              "#fb9f3a"
             ],
             [
              0.8888888888888888,
              "#fdca26"
             ],
             [
              1,
              "#f0f921"
             ]
            ],
            "type": "heatmapgl"
           }
          ],
          "histogram": [
           {
            "marker": {
             "pattern": {
              "fillmode": "overlay",
              "size": 10,
              "solidity": 0.2
             }
            },
            "type": "histogram"
           }
          ],
          "histogram2d": [
           {
            "colorbar": {
             "outlinewidth": 0,
             "ticks": ""
            },
            "colorscale": [
             [
              0,
              "#0d0887"
             ],
             [
              0.1111111111111111,
              "#46039f"
             ],
             [
              0.2222222222222222,
              "#7201a8"
             ],
             [
              0.3333333333333333,
              "#9c179e"
             ],
             [
              0.4444444444444444,
              "#bd3786"
             ],
             [
              0.5555555555555556,
              "#d8576b"
             ],
             [
              0.6666666666666666,
              "#ed7953"
             ],
             [
              0.7777777777777778,
              "#fb9f3a"
             ],
             [
              0.8888888888888888,
              "#fdca26"
             ],
             [
              1,
              "#f0f921"
             ]
            ],
            "type": "histogram2d"
           }
          ],
          "histogram2dcontour": [
           {
            "colorbar": {
             "outlinewidth": 0,
             "ticks": ""
            },
            "colorscale": [
             [
              0,
              "#0d0887"
             ],
             [
              0.1111111111111111,
              "#46039f"
             ],
             [
              0.2222222222222222,
              "#7201a8"
             ],
             [
              0.3333333333333333,
              "#9c179e"
             ],
             [
              0.4444444444444444,
              "#bd3786"
             ],
             [
              0.5555555555555556,
              "#d8576b"
             ],
             [
              0.6666666666666666,
              "#ed7953"
             ],
             [
              0.7777777777777778,
              "#fb9f3a"
             ],
             [
              0.8888888888888888,
              "#fdca26"
             ],
             [
              1,
              "#f0f921"
             ]
            ],
            "type": "histogram2dcontour"
           }
          ],
          "mesh3d": [
           {
            "colorbar": {
             "outlinewidth": 0,
             "ticks": ""
            },
            "type": "mesh3d"
           }
          ],
          "parcoords": [
           {
            "line": {
             "colorbar": {
              "outlinewidth": 0,
              "ticks": ""
             }
            },
            "type": "parcoords"
           }
          ],
          "pie": [
           {
            "automargin": true,
            "type": "pie"
           }
          ],
          "scatter": [
           {
            "fillpattern": {
             "fillmode": "overlay",
             "size": 10,
             "solidity": 0.2
            },
            "type": "scatter"
           }
          ],
          "scatter3d": [
           {
            "line": {
             "colorbar": {
              "outlinewidth": 0,
              "ticks": ""
             }
            },
            "marker": {
             "colorbar": {
              "outlinewidth": 0,
              "ticks": ""
             }
            },
            "type": "scatter3d"
           }
          ],
          "scattercarpet": [
           {
            "marker": {
             "colorbar": {
              "outlinewidth": 0,
              "ticks": ""
             }
            },
            "type": "scattercarpet"
           }
          ],
          "scattergeo": [
           {
            "marker": {
             "colorbar": {
              "outlinewidth": 0,
              "ticks": ""
             }
            },
            "type": "scattergeo"
           }
          ],
          "scattergl": [
           {
            "marker": {
             "colorbar": {
              "outlinewidth": 0,
              "ticks": ""
             }
            },
            "type": "scattergl"
           }
          ],
          "scattermapbox": [
           {
            "marker": {
             "colorbar": {
              "outlinewidth": 0,
              "ticks": ""
             }
            },
            "type": "scattermapbox"
           }
          ],
          "scatterpolar": [
           {
            "marker": {
             "colorbar": {
              "outlinewidth": 0,
              "ticks": ""
             }
            },
            "type": "scatterpolar"
           }
          ],
          "scatterpolargl": [
           {
            "marker": {
             "colorbar": {
              "outlinewidth": 0,
              "ticks": ""
             }
            },
            "type": "scatterpolargl"
           }
          ],
          "scatterternary": [
           {
            "marker": {
             "colorbar": {
              "outlinewidth": 0,
              "ticks": ""
             }
            },
            "type": "scatterternary"
           }
          ],
          "surface": [
           {
            "colorbar": {
             "outlinewidth": 0,
             "ticks": ""
            },
            "colorscale": [
             [
              0,
              "#0d0887"
             ],
             [
              0.1111111111111111,
              "#46039f"
             ],
             [
              0.2222222222222222,
              "#7201a8"
             ],
             [
              0.3333333333333333,
              "#9c179e"
             ],
             [
              0.4444444444444444,
              "#bd3786"
             ],
             [
              0.5555555555555556,
              "#d8576b"
             ],
             [
              0.6666666666666666,
              "#ed7953"
             ],
             [
              0.7777777777777778,
              "#fb9f3a"
             ],
             [
              0.8888888888888888,
              "#fdca26"
             ],
             [
              1,
              "#f0f921"
             ]
            ],
            "type": "surface"
           }
          ],
          "table": [
           {
            "cells": {
             "fill": {
              "color": "#EBF0F8"
             },
             "line": {
              "color": "white"
             }
            },
            "header": {
             "fill": {
              "color": "#C8D4E3"
             },
             "line": {
              "color": "white"
             }
            },
            "type": "table"
           }
          ]
         },
         "layout": {
          "annotationdefaults": {
           "arrowcolor": "#2a3f5f",
           "arrowhead": 0,
           "arrowwidth": 1
          },
          "autotypenumbers": "strict",
          "coloraxis": {
           "colorbar": {
            "outlinewidth": 0,
            "ticks": ""
           }
          },
          "colorscale": {
           "diverging": [
            [
             0,
             "#8e0152"
            ],
            [
             0.1,
             "#c51b7d"
            ],
            [
             0.2,
             "#de77ae"
            ],
            [
             0.3,
             "#f1b6da"
            ],
            [
             0.4,
             "#fde0ef"
            ],
            [
             0.5,
             "#f7f7f7"
            ],
            [
             0.6,
             "#e6f5d0"
            ],
            [
             0.7,
             "#b8e186"
            ],
            [
             0.8,
             "#7fbc41"
            ],
            [
             0.9,
             "#4d9221"
            ],
            [
             1,
             "#276419"
            ]
           ],
           "sequential": [
            [
             0,
             "#0d0887"
            ],
            [
             0.1111111111111111,
             "#46039f"
            ],
            [
             0.2222222222222222,
             "#7201a8"
            ],
            [
             0.3333333333333333,
             "#9c179e"
            ],
            [
             0.4444444444444444,
             "#bd3786"
            ],
            [
             0.5555555555555556,
             "#d8576b"
            ],
            [
             0.6666666666666666,
             "#ed7953"
            ],
            [
             0.7777777777777778,
             "#fb9f3a"
            ],
            [
             0.8888888888888888,
             "#fdca26"
            ],
            [
             1,
             "#f0f921"
            ]
           ],
           "sequentialminus": [
            [
             0,
             "#0d0887"
            ],
            [
             0.1111111111111111,
             "#46039f"
            ],
            [
             0.2222222222222222,
             "#7201a8"
            ],
            [
             0.3333333333333333,
             "#9c179e"
            ],
            [
             0.4444444444444444,
             "#bd3786"
            ],
            [
             0.5555555555555556,
             "#d8576b"
            ],
            [
             0.6666666666666666,
             "#ed7953"
            ],
            [
             0.7777777777777778,
             "#fb9f3a"
            ],
            [
             0.8888888888888888,
             "#fdca26"
            ],
            [
             1,
             "#f0f921"
            ]
           ]
          },
          "colorway": [
           "#636efa",
           "#EF553B",
           "#00cc96",
           "#ab63fa",
           "#FFA15A",
           "#19d3f3",
           "#FF6692",
           "#B6E880",
           "#FF97FF",
           "#FECB52"
          ],
          "font": {
           "color": "#2a3f5f"
          },
          "geo": {
           "bgcolor": "white",
           "lakecolor": "white",
           "landcolor": "#E5ECF6",
           "showlakes": true,
           "showland": true,
           "subunitcolor": "white"
          },
          "hoverlabel": {
           "align": "left"
          },
          "hovermode": "closest",
          "mapbox": {
           "style": "light"
          },
          "paper_bgcolor": "white",
          "plot_bgcolor": "#E5ECF6",
          "polar": {
           "angularaxis": {
            "gridcolor": "white",
            "linecolor": "white",
            "ticks": ""
           },
           "bgcolor": "#E5ECF6",
           "radialaxis": {
            "gridcolor": "white",
            "linecolor": "white",
            "ticks": ""
           }
          },
          "scene": {
           "xaxis": {
            "backgroundcolor": "#E5ECF6",
            "gridcolor": "white",
            "gridwidth": 2,
            "linecolor": "white",
            "showbackground": true,
            "ticks": "",
            "zerolinecolor": "white"
           },
           "yaxis": {
            "backgroundcolor": "#E5ECF6",
            "gridcolor": "white",
            "gridwidth": 2,
            "linecolor": "white",
            "showbackground": true,
            "ticks": "",
            "zerolinecolor": "white"
           },
           "zaxis": {
            "backgroundcolor": "#E5ECF6",
            "gridcolor": "white",
            "gridwidth": 2,
            "linecolor": "white",
            "showbackground": true,
            "ticks": "",
            "zerolinecolor": "white"
           }
          },
          "shapedefaults": {
           "line": {
            "color": "#2a3f5f"
           }
          },
          "ternary": {
           "aaxis": {
            "gridcolor": "white",
            "linecolor": "white",
            "ticks": ""
           },
           "baxis": {
            "gridcolor": "white",
            "linecolor": "white",
            "ticks": ""
           },
           "bgcolor": "#E5ECF6",
           "caxis": {
            "gridcolor": "white",
            "linecolor": "white",
            "ticks": ""
           }
          },
          "title": {
           "x": 0.05
          },
          "xaxis": {
           "automargin": true,
           "gridcolor": "white",
           "linecolor": "white",
           "ticks": "",
           "title": {
            "standoff": 15
           },
           "zerolinecolor": "white",
           "zerolinewidth": 2
          },
          "yaxis": {
           "automargin": true,
           "gridcolor": "white",
           "linecolor": "white",
           "ticks": "",
           "title": {
            "standoff": 15
           },
           "zerolinecolor": "white",
           "zerolinewidth": 2
          }
         }
        },
        "xaxis": {
         "anchor": "y",
         "domain": [
          0,
          1
         ],
         "title": {
          "text": "Class"
         }
        },
        "yaxis": {
         "anchor": "x",
         "domain": [
          0,
          1
         ],
         "title": {
          "text": "Score (%)"
         }
        }
       }
      }
     },
     "metadata": {},
     "output_type": "display_data"
    }
   ],
   "source": [
    "plot_df = r.melt(id_vars=['class', 'count'], value_vars=['min_score', 'avg_score', 'max_score'])\n",
    "plot_df['x_label'] = plot_df['class']\n",
    "plot_df['value'] *= 100\n",
    "\n",
    "fig = px.histogram(plot_df, x='x_label', y='value', color='variable', barmode='group')\n",
    "fig.add_scatter(\n",
    "    y=[120] * len(plot_df), \n",
    "    x=plot_df['x_label'], \n",
    "    mode='markers+text',\n",
    "    marker_size=plot_df['count'] + 15, \n",
    "    text=plot_df['count'],\n",
    "    textposition='middle center',\n",
    "    textfont_color='white',\n",
    "    opacity=0.8,\n",
    "    name='count'\n",
    ")\n",
    "\n",
    "fig.update_yaxes(title_text='Score (%)')\n",
    "fig.update_xaxes(title_text='Class')\n",
    "\n",
    "fig.show()"
   ]
  },
  {
   "cell_type": "code",
   "execution_count": 10,
   "metadata": {},
   "outputs": [
    {
     "data": {
      "text/html": [
       "<div>\n",
       "<style scoped>\n",
       "    .dataframe tbody tr th:only-of-type {\n",
       "        vertical-align: middle;\n",
       "    }\n",
       "\n",
       "    .dataframe tbody tr th {\n",
       "        vertical-align: top;\n",
       "    }\n",
       "\n",
       "    .dataframe thead th {\n",
       "        text-align: right;\n",
       "    }\n",
       "</style>\n",
       "<table border=\"1\" class=\"dataframe\">\n",
       "  <thead>\n",
       "    <tr style=\"text-align: right;\">\n",
       "      <th></th>\n",
       "      <th>class</th>\n",
       "      <th>count</th>\n",
       "      <th>min_score</th>\n",
       "      <th>avg_score</th>\n",
       "      <th>max_score</th>\n",
       "    </tr>\n",
       "  </thead>\n",
       "  <tbody>\n",
       "    <tr>\n",
       "      <th>31</th>\n",
       "      <td>singing</td>\n",
       "      <td>3</td>\n",
       "      <td>0.11484</td>\n",
       "      <td>0.641493</td>\n",
       "      <td>1.00000</td>\n",
       "    </tr>\n",
       "    <tr>\n",
       "      <th>26</th>\n",
       "      <td>rolling pastry</td>\n",
       "      <td>2</td>\n",
       "      <td>0.29030</td>\n",
       "      <td>0.645150</td>\n",
       "      <td>1.00000</td>\n",
       "    </tr>\n",
       "    <tr>\n",
       "      <th>19</th>\n",
       "      <td>pirouetting</td>\n",
       "      <td>2</td>\n",
       "      <td>0.37171</td>\n",
       "      <td>0.662720</td>\n",
       "      <td>0.95373</td>\n",
       "    </tr>\n",
       "    <tr>\n",
       "      <th>5</th>\n",
       "      <td>cosplaying</td>\n",
       "      <td>3</td>\n",
       "      <td>0.62224</td>\n",
       "      <td>0.874080</td>\n",
       "      <td>1.00000</td>\n",
       "    </tr>\n",
       "    <tr>\n",
       "      <th>7</th>\n",
       "      <td>finger snapping</td>\n",
       "      <td>8</td>\n",
       "      <td>0.12140</td>\n",
       "      <td>0.890175</td>\n",
       "      <td>1.00000</td>\n",
       "    </tr>\n",
       "    <tr>\n",
       "      <th>21</th>\n",
       "      <td>playing cymbals</td>\n",
       "      <td>2</td>\n",
       "      <td>0.82083</td>\n",
       "      <td>0.910415</td>\n",
       "      <td>1.00000</td>\n",
       "    </tr>\n",
       "    <tr>\n",
       "      <th>11</th>\n",
       "      <td>headbutting</td>\n",
       "      <td>2</td>\n",
       "      <td>0.95309</td>\n",
       "      <td>0.976545</td>\n",
       "      <td>1.00000</td>\n",
       "    </tr>\n",
       "    <tr>\n",
       "      <th>23</th>\n",
       "      <td>playing marbles</td>\n",
       "      <td>2</td>\n",
       "      <td>0.99797</td>\n",
       "      <td>0.998680</td>\n",
       "      <td>0.99939</td>\n",
       "    </tr>\n",
       "    <tr>\n",
       "      <th>1</th>\n",
       "      <td>beatboxing</td>\n",
       "      <td>2</td>\n",
       "      <td>1.00000</td>\n",
       "      <td>1.000000</td>\n",
       "      <td>1.00000</td>\n",
       "    </tr>\n",
       "    <tr>\n",
       "      <th>6</th>\n",
       "      <td>cutting apple</td>\n",
       "      <td>2</td>\n",
       "      <td>1.00000</td>\n",
       "      <td>1.000000</td>\n",
       "      <td>1.00000</td>\n",
       "    </tr>\n",
       "    <tr>\n",
       "      <th>12</th>\n",
       "      <td>hopscotch</td>\n",
       "      <td>2</td>\n",
       "      <td>1.00000</td>\n",
       "      <td>1.000000</td>\n",
       "      <td>1.00000</td>\n",
       "    </tr>\n",
       "    <tr>\n",
       "      <th>13</th>\n",
       "      <td>huddling</td>\n",
       "      <td>2</td>\n",
       "      <td>1.00000</td>\n",
       "      <td>1.000000</td>\n",
       "      <td>1.00000</td>\n",
       "    </tr>\n",
       "    <tr>\n",
       "      <th>14</th>\n",
       "      <td>hugging (not baby)</td>\n",
       "      <td>2</td>\n",
       "      <td>1.00000</td>\n",
       "      <td>1.000000</td>\n",
       "      <td>1.00000</td>\n",
       "    </tr>\n",
       "    <tr>\n",
       "      <th>25</th>\n",
       "      <td>robot dancing</td>\n",
       "      <td>2</td>\n",
       "      <td>1.00000</td>\n",
       "      <td>1.000000</td>\n",
       "      <td>1.00000</td>\n",
       "    </tr>\n",
       "    <tr>\n",
       "      <th>41</th>\n",
       "      <td>waving hand</td>\n",
       "      <td>2</td>\n",
       "      <td>1.00000</td>\n",
       "      <td>1.000000</td>\n",
       "      <td>1.00000</td>\n",
       "    </tr>\n",
       "    <tr>\n",
       "      <th>18</th>\n",
       "      <td>photobombing</td>\n",
       "      <td>3</td>\n",
       "      <td>1.00000</td>\n",
       "      <td>1.000000</td>\n",
       "      <td>1.00000</td>\n",
       "    </tr>\n",
       "    <tr>\n",
       "      <th>27</th>\n",
       "      <td>shaking hands</td>\n",
       "      <td>3</td>\n",
       "      <td>1.00000</td>\n",
       "      <td>1.000000</td>\n",
       "      <td>1.00000</td>\n",
       "    </tr>\n",
       "    <tr>\n",
       "      <th>37</th>\n",
       "      <td>tossing coin</td>\n",
       "      <td>3</td>\n",
       "      <td>1.00000</td>\n",
       "      <td>1.000000</td>\n",
       "      <td>1.00000</td>\n",
       "    </tr>\n",
       "    <tr>\n",
       "      <th>39</th>\n",
       "      <td>twiddling fingers</td>\n",
       "      <td>3</td>\n",
       "      <td>1.00000</td>\n",
       "      <td>1.000000</td>\n",
       "      <td>1.00000</td>\n",
       "    </tr>\n",
       "  </tbody>\n",
       "</table>\n",
       "</div>"
      ],
      "text/plain": [
       "                 class  count  min_score  avg_score  max_score\n",
       "31             singing      3    0.11484   0.641493    1.00000\n",
       "26      rolling pastry      2    0.29030   0.645150    1.00000\n",
       "19         pirouetting      2    0.37171   0.662720    0.95373\n",
       "5           cosplaying      3    0.62224   0.874080    1.00000\n",
       "7      finger snapping      8    0.12140   0.890175    1.00000\n",
       "21     playing cymbals      2    0.82083   0.910415    1.00000\n",
       "11         headbutting      2    0.95309   0.976545    1.00000\n",
       "23     playing marbles      2    0.99797   0.998680    0.99939\n",
       "1           beatboxing      2    1.00000   1.000000    1.00000\n",
       "6        cutting apple      2    1.00000   1.000000    1.00000\n",
       "12           hopscotch      2    1.00000   1.000000    1.00000\n",
       "13            huddling      2    1.00000   1.000000    1.00000\n",
       "14  hugging (not baby)      2    1.00000   1.000000    1.00000\n",
       "25       robot dancing      2    1.00000   1.000000    1.00000\n",
       "41         waving hand      2    1.00000   1.000000    1.00000\n",
       "18        photobombing      3    1.00000   1.000000    1.00000\n",
       "27       shaking hands      3    1.00000   1.000000    1.00000\n",
       "37        tossing coin      3    1.00000   1.000000    1.00000\n",
       "39   twiddling fingers      3    1.00000   1.000000    1.00000"
      ]
     },
     "execution_count": 10,
     "metadata": {},
     "output_type": "execute_result"
    }
   ],
   "source": [
    "# SELECT class, count(*), min(score), avg(score), max(score) FROM `all` WHERE score > 0.1 GROUP BY class HAVING count(*) > 1 ORDER BY avg(score);\n",
    "r = df[df['score'] > 0.1].groupby('class').filter(\n",
    "    lambda x: len(x) > 1\n",
    ").groupby('class').agg(\n",
    "    count=('score', 'size'),\n",
    "    min_score=('score', 'min'),\n",
    "    avg_score=('score', 'mean'),\n",
    "    max_score=('score', 'max')\n",
    ").reset_index().sort_values(by=['avg_score', 'count']).tail(19)\n",
    "r"
   ]
  },
  {
   "cell_type": "code",
   "execution_count": 11,
   "metadata": {
    "tags": [
     "image-classes-avg"
    ]
   },
   "outputs": [
    {
     "data": {
      "application/vnd.plotly.v1+json": {
       "config": {
        "plotlyServerURL": "https://plot.ly"
       },
       "data": [
        {
         "alignmentgroup": "True",
         "bingroup": "x",
         "histfunc": "sum",
         "hovertemplate": "variable=min_score<br>x_label=%{x}<br>sum of value=%{y}<extra></extra>",
         "legendgroup": "min_score",
         "marker": {
          "color": "#636efa",
          "pattern": {
           "shape": ""
          }
         },
         "name": "min_score",
         "offsetgroup": "min_score",
         "orientation": "v",
         "showlegend": true,
         "type": "histogram",
         "x": [
          "singing",
          "rolling pastry",
          "pirouetting",
          "cosplaying",
          "finger snapping",
          "playing cymbals",
          "headbutting",
          "playing marbles",
          "beatboxing",
          "cutting apple",
          "hopscotch",
          "huddling",
          "hugging (not baby)",
          "robot dancing",
          "waving hand",
          "photobombing",
          "shaking hands",
          "tossing coin",
          "twiddling fingers"
         ],
         "xaxis": "x",
         "y": [
          11.484,
          29.03,
          37.171,
          62.224000000000004,
          12.139999999999999,
          82.083,
          95.309,
          99.797,
          100,
          100,
          100,
          100,
          100,
          100,
          100,
          100,
          100,
          100,
          100
         ],
         "yaxis": "y"
        },
        {
         "alignmentgroup": "True",
         "bingroup": "x",
         "histfunc": "sum",
         "hovertemplate": "variable=avg_score<br>x_label=%{x}<br>sum of value=%{y}<extra></extra>",
         "legendgroup": "avg_score",
         "marker": {
          "color": "#EF553B",
          "pattern": {
           "shape": ""
          }
         },
         "name": "avg_score",
         "offsetgroup": "avg_score",
         "orientation": "v",
         "showlegend": true,
         "type": "histogram",
         "x": [
          "singing",
          "rolling pastry",
          "pirouetting",
          "cosplaying",
          "finger snapping",
          "playing cymbals",
          "headbutting",
          "playing marbles",
          "beatboxing",
          "cutting apple",
          "hopscotch",
          "huddling",
          "hugging (not baby)",
          "robot dancing",
          "waving hand",
          "photobombing",
          "shaking hands",
          "tossing coin",
          "twiddling fingers"
         ],
         "xaxis": "x",
         "y": [
          64.14933333333333,
          64.515,
          66.27199999999999,
          87.408,
          89.0175,
          91.0415,
          97.6545,
          99.868,
          100,
          100,
          100,
          100,
          100,
          100,
          100,
          100,
          100,
          100,
          100
         ],
         "yaxis": "y"
        },
        {
         "alignmentgroup": "True",
         "bingroup": "x",
         "histfunc": "sum",
         "hovertemplate": "variable=max_score<br>x_label=%{x}<br>sum of value=%{y}<extra></extra>",
         "legendgroup": "max_score",
         "marker": {
          "color": "#00cc96",
          "pattern": {
           "shape": ""
          }
         },
         "name": "max_score",
         "offsetgroup": "max_score",
         "orientation": "v",
         "showlegend": true,
         "type": "histogram",
         "x": [
          "singing",
          "rolling pastry",
          "pirouetting",
          "cosplaying",
          "finger snapping",
          "playing cymbals",
          "headbutting",
          "playing marbles",
          "beatboxing",
          "cutting apple",
          "hopscotch",
          "huddling",
          "hugging (not baby)",
          "robot dancing",
          "waving hand",
          "photobombing",
          "shaking hands",
          "tossing coin",
          "twiddling fingers"
         ],
         "xaxis": "x",
         "y": [
          100,
          100,
          95.37299999999999,
          100,
          100,
          100,
          100,
          99.939,
          100,
          100,
          100,
          100,
          100,
          100,
          100,
          100,
          100,
          100,
          100
         ],
         "yaxis": "y"
        },
        {
         "marker": {
          "size": [
           25.79954613479529,
           23.031433133020798,
           23.031433133020798,
           25.79954613479529,
           47.85761802547598,
           23.031433133020798,
           23.031433133020798,
           23.031433133020798,
           23.031433133020798,
           23.031433133020798,
           23.031433133020798,
           23.031433133020798,
           23.031433133020798,
           23.031433133020798,
           23.031433133020798,
           25.79954613479529,
           25.79954613479529,
           25.79954613479529,
           25.79954613479529,
           25.79954613479529,
           23.031433133020798,
           23.031433133020798,
           25.79954613479529,
           47.85761802547598,
           23.031433133020798,
           23.031433133020798,
           23.031433133020798,
           23.031433133020798,
           23.031433133020798,
           23.031433133020798,
           23.031433133020798,
           23.031433133020798,
           23.031433133020798,
           23.031433133020798,
           25.79954613479529,
           25.79954613479529,
           25.79954613479529,
           25.79954613479529,
           25.79954613479529,
           23.031433133020798,
           23.031433133020798,
           25.79954613479529,
           47.85761802547598,
           23.031433133020798,
           23.031433133020798,
           23.031433133020798,
           23.031433133020798,
           23.031433133020798,
           23.031433133020798,
           23.031433133020798,
           23.031433133020798,
           23.031433133020798,
           23.031433133020798,
           25.79954613479529,
           25.79954613479529,
           25.79954613479529,
           25.79954613479529
          ]
         },
         "mode": "markers+text",
         "name": "count",
         "opacity": 0.8,
         "text": [
          3,
          2,
          2,
          3,
          8,
          2,
          2,
          2,
          2,
          2,
          2,
          2,
          2,
          2,
          2,
          3,
          3,
          3,
          3,
          3,
          2,
          2,
          3,
          8,
          2,
          2,
          2,
          2,
          2,
          2,
          2,
          2,
          2,
          2,
          3,
          3,
          3,
          3,
          3,
          2,
          2,
          3,
          8,
          2,
          2,
          2,
          2,
          2,
          2,
          2,
          2,
          2,
          2,
          3,
          3,
          3,
          3
         ],
         "textfont": {
          "color": "white"
         },
         "textposition": "middle center",
         "type": "scatter",
         "x": [
          "singing",
          "rolling pastry",
          "pirouetting",
          "cosplaying",
          "finger snapping",
          "playing cymbals",
          "headbutting",
          "playing marbles",
          "beatboxing",
          "cutting apple",
          "hopscotch",
          "huddling",
          "hugging (not baby)",
          "robot dancing",
          "waving hand",
          "photobombing",
          "shaking hands",
          "tossing coin",
          "twiddling fingers",
          "singing",
          "rolling pastry",
          "pirouetting",
          "cosplaying",
          "finger snapping",
          "playing cymbals",
          "headbutting",
          "playing marbles",
          "beatboxing",
          "cutting apple",
          "hopscotch",
          "huddling",
          "hugging (not baby)",
          "robot dancing",
          "waving hand",
          "photobombing",
          "shaking hands",
          "tossing coin",
          "twiddling fingers",
          "singing",
          "rolling pastry",
          "pirouetting",
          "cosplaying",
          "finger snapping",
          "playing cymbals",
          "headbutting",
          "playing marbles",
          "beatboxing",
          "cutting apple",
          "hopscotch",
          "huddling",
          "hugging (not baby)",
          "robot dancing",
          "waving hand",
          "photobombing",
          "shaking hands",
          "tossing coin",
          "twiddling fingers"
         ],
         "y": [
          120,
          120,
          120,
          120,
          120,
          120,
          120,
          120,
          120,
          120,
          120,
          120,
          120,
          120,
          120,
          120,
          120,
          120,
          120,
          120,
          120,
          120,
          120,
          120,
          120,
          120,
          120,
          120,
          120,
          120,
          120,
          120,
          120,
          120,
          120,
          120,
          120,
          120,
          120,
          120,
          120,
          120,
          120,
          120,
          120,
          120,
          120,
          120,
          120,
          120,
          120,
          120,
          120,
          120,
          120,
          120,
          120
         ]
        },
        {
         "marker": {
          "color": "#383838"
         },
         "mode": "markers+lines+text",
         "opacity": 0.8,
         "showlegend": false,
         "type": "scatter",
         "x": [
          "singing",
          "rolling pastry",
          "pirouetting",
          "cosplaying",
          "finger snapping",
          "playing cymbals",
          "headbutting",
          "playing marbles",
          "beatboxing",
          "cutting apple",
          "hopscotch",
          "huddling",
          "hugging (not baby)",
          "robot dancing",
          "waving hand",
          "photobombing",
          "shaking hands",
          "tossing coin",
          "twiddling fingers",
          "singing",
          "rolling pastry",
          "pirouetting",
          "cosplaying",
          "finger snapping",
          "playing cymbals",
          "headbutting",
          "playing marbles",
          "beatboxing",
          "cutting apple",
          "hopscotch",
          "huddling",
          "hugging (not baby)",
          "robot dancing",
          "waving hand",
          "photobombing",
          "shaking hands",
          "tossing coin",
          "twiddling fingers",
          "singing",
          "rolling pastry",
          "pirouetting",
          "cosplaying",
          "finger snapping",
          "playing cymbals",
          "headbutting",
          "playing marbles",
          "beatboxing",
          "cutting apple",
          "hopscotch",
          "huddling",
          "hugging (not baby)",
          "robot dancing",
          "waving hand",
          "photobombing",
          "shaking hands",
          "tossing coin",
          "twiddling fingers"
         ],
         "y": [
          64.14933333333333,
          64.515,
          66.27199999999999,
          87.408,
          89.0175,
          91.0415,
          97.6545,
          99.868,
          100,
          100,
          100,
          100,
          100,
          100,
          100,
          100,
          100,
          100,
          100
         ]
        }
       ],
       "layout": {
        "barmode": "group",
        "legend": {
         "title": {
          "text": "variable"
         },
         "tracegroupgap": 0
        },
        "margin": {
         "t": 60
        },
        "template": {
         "data": {
          "bar": [
           {
            "error_x": {
             "color": "#2a3f5f"
            },
            "error_y": {
             "color": "#2a3f5f"
            },
            "marker": {
             "line": {
              "color": "#E5ECF6",
              "width": 0.5
             },
             "pattern": {
              "fillmode": "overlay",
              "size": 10,
              "solidity": 0.2
             }
            },
            "type": "bar"
           }
          ],
          "barpolar": [
           {
            "marker": {
             "line": {
              "color": "#E5ECF6",
              "width": 0.5
             },
             "pattern": {
              "fillmode": "overlay",
              "size": 10,
              "solidity": 0.2
             }
            },
            "type": "barpolar"
           }
          ],
          "carpet": [
           {
            "aaxis": {
             "endlinecolor": "#2a3f5f",
             "gridcolor": "white",
             "linecolor": "white",
             "minorgridcolor": "white",
             "startlinecolor": "#2a3f5f"
            },
            "baxis": {
             "endlinecolor": "#2a3f5f",
             "gridcolor": "white",
             "linecolor": "white",
             "minorgridcolor": "white",
             "startlinecolor": "#2a3f5f"
            },
            "type": "carpet"
           }
          ],
          "choropleth": [
           {
            "colorbar": {
             "outlinewidth": 0,
             "ticks": ""
            },
            "type": "choropleth"
           }
          ],
          "contour": [
           {
            "colorbar": {
             "outlinewidth": 0,
             "ticks": ""
            },
            "colorscale": [
             [
              0,
              "#0d0887"
             ],
             [
              0.1111111111111111,
              "#46039f"
             ],
             [
              0.2222222222222222,
              "#7201a8"
             ],
             [
              0.3333333333333333,
              "#9c179e"
             ],
             [
              0.4444444444444444,
              "#bd3786"
             ],
             [
              0.5555555555555556,
              "#d8576b"
             ],
             [
              0.6666666666666666,
              "#ed7953"
             ],
             [
              0.7777777777777778,
              "#fb9f3a"
             ],
             [
              0.8888888888888888,
              "#fdca26"
             ],
             [
              1,
              "#f0f921"
             ]
            ],
            "type": "contour"
           }
          ],
          "contourcarpet": [
           {
            "colorbar": {
             "outlinewidth": 0,
             "ticks": ""
            },
            "type": "contourcarpet"
           }
          ],
          "heatmap": [
           {
            "colorbar": {
             "outlinewidth": 0,
             "ticks": ""
            },
            "colorscale": [
             [
              0,
              "#0d0887"
             ],
             [
              0.1111111111111111,
              "#46039f"
             ],
             [
              0.2222222222222222,
              "#7201a8"
             ],
             [
              0.3333333333333333,
              "#9c179e"
             ],
             [
              0.4444444444444444,
              "#bd3786"
             ],
             [
              0.5555555555555556,
              "#d8576b"
             ],
             [
              0.6666666666666666,
              "#ed7953"
             ],
             [
              0.7777777777777778,
              "#fb9f3a"
             ],
             [
              0.8888888888888888,
              "#fdca26"
             ],
             [
              1,
              "#f0f921"
             ]
            ],
            "type": "heatmap"
           }
          ],
          "heatmapgl": [
           {
            "colorbar": {
             "outlinewidth": 0,
             "ticks": ""
            },
            "colorscale": [
             [
              0,
              "#0d0887"
             ],
             [
              0.1111111111111111,
              "#46039f"
             ],
             [
              0.2222222222222222,
              "#7201a8"
             ],
             [
              0.3333333333333333,
              "#9c179e"
             ],
             [
              0.4444444444444444,
              "#bd3786"
             ],
             [
              0.5555555555555556,
              "#d8576b"
             ],
             [
              0.6666666666666666,
              "#ed7953"
             ],
             [
              0.7777777777777778,
              "#fb9f3a"
             ],
             [
              0.8888888888888888,
              "#fdca26"
             ],
             [
              1,
              "#f0f921"
             ]
            ],
            "type": "heatmapgl"
           }
          ],
          "histogram": [
           {
            "marker": {
             "pattern": {
              "fillmode": "overlay",
              "size": 10,
              "solidity": 0.2
             }
            },
            "type": "histogram"
           }
          ],
          "histogram2d": [
           {
            "colorbar": {
             "outlinewidth": 0,
             "ticks": ""
            },
            "colorscale": [
             [
              0,
              "#0d0887"
             ],
             [
              0.1111111111111111,
              "#46039f"
             ],
             [
              0.2222222222222222,
              "#7201a8"
             ],
             [
              0.3333333333333333,
              "#9c179e"
             ],
             [
              0.4444444444444444,
              "#bd3786"
             ],
             [
              0.5555555555555556,
              "#d8576b"
             ],
             [
              0.6666666666666666,
              "#ed7953"
             ],
             [
              0.7777777777777778,
              "#fb9f3a"
             ],
             [
              0.8888888888888888,
              "#fdca26"
             ],
             [
              1,
              "#f0f921"
             ]
            ],
            "type": "histogram2d"
           }
          ],
          "histogram2dcontour": [
           {
            "colorbar": {
             "outlinewidth": 0,
             "ticks": ""
            },
            "colorscale": [
             [
              0,
              "#0d0887"
             ],
             [
              0.1111111111111111,
              "#46039f"
             ],
             [
              0.2222222222222222,
              "#7201a8"
             ],
             [
              0.3333333333333333,
              "#9c179e"
             ],
             [
              0.4444444444444444,
              "#bd3786"
             ],
             [
              0.5555555555555556,
              "#d8576b"
             ],
             [
              0.6666666666666666,
              "#ed7953"
             ],
             [
              0.7777777777777778,
              "#fb9f3a"
             ],
             [
              0.8888888888888888,
              "#fdca26"
             ],
             [
              1,
              "#f0f921"
             ]
            ],
            "type": "histogram2dcontour"
           }
          ],
          "mesh3d": [
           {
            "colorbar": {
             "outlinewidth": 0,
             "ticks": ""
            },
            "type": "mesh3d"
           }
          ],
          "parcoords": [
           {
            "line": {
             "colorbar": {
              "outlinewidth": 0,
              "ticks": ""
             }
            },
            "type": "parcoords"
           }
          ],
          "pie": [
           {
            "automargin": true,
            "type": "pie"
           }
          ],
          "scatter": [
           {
            "fillpattern": {
             "fillmode": "overlay",
             "size": 10,
             "solidity": 0.2
            },
            "type": "scatter"
           }
          ],
          "scatter3d": [
           {
            "line": {
             "colorbar": {
              "outlinewidth": 0,
              "ticks": ""
             }
            },
            "marker": {
             "colorbar": {
              "outlinewidth": 0,
              "ticks": ""
             }
            },
            "type": "scatter3d"
           }
          ],
          "scattercarpet": [
           {
            "marker": {
             "colorbar": {
              "outlinewidth": 0,
              "ticks": ""
             }
            },
            "type": "scattercarpet"
           }
          ],
          "scattergeo": [
           {
            "marker": {
             "colorbar": {
              "outlinewidth": 0,
              "ticks": ""
             }
            },
            "type": "scattergeo"
           }
          ],
          "scattergl": [
           {
            "marker": {
             "colorbar": {
              "outlinewidth": 0,
              "ticks": ""
             }
            },
            "type": "scattergl"
           }
          ],
          "scattermapbox": [
           {
            "marker": {
             "colorbar": {
              "outlinewidth": 0,
              "ticks": ""
             }
            },
            "type": "scattermapbox"
           }
          ],
          "scatterpolar": [
           {
            "marker": {
             "colorbar": {
              "outlinewidth": 0,
              "ticks": ""
             }
            },
            "type": "scatterpolar"
           }
          ],
          "scatterpolargl": [
           {
            "marker": {
             "colorbar": {
              "outlinewidth": 0,
              "ticks": ""
             }
            },
            "type": "scatterpolargl"
           }
          ],
          "scatterternary": [
           {
            "marker": {
             "colorbar": {
              "outlinewidth": 0,
              "ticks": ""
             }
            },
            "type": "scatterternary"
           }
          ],
          "surface": [
           {
            "colorbar": {
             "outlinewidth": 0,
             "ticks": ""
            },
            "colorscale": [
             [
              0,
              "#0d0887"
             ],
             [
              0.1111111111111111,
              "#46039f"
             ],
             [
              0.2222222222222222,
              "#7201a8"
             ],
             [
              0.3333333333333333,
              "#9c179e"
             ],
             [
              0.4444444444444444,
              "#bd3786"
             ],
             [
              0.5555555555555556,
              "#d8576b"
             ],
             [
              0.6666666666666666,
              "#ed7953"
             ],
             [
              0.7777777777777778,
              "#fb9f3a"
             ],
             [
              0.8888888888888888,
              "#fdca26"
             ],
             [
              1,
              "#f0f921"
             ]
            ],
            "type": "surface"
           }
          ],
          "table": [
           {
            "cells": {
             "fill": {
              "color": "#EBF0F8"
             },
             "line": {
              "color": "white"
             }
            },
            "header": {
             "fill": {
              "color": "#C8D4E3"
             },
             "line": {
              "color": "white"
             }
            },
            "type": "table"
           }
          ]
         },
         "layout": {
          "annotationdefaults": {
           "arrowcolor": "#2a3f5f",
           "arrowhead": 0,
           "arrowwidth": 1
          },
          "autotypenumbers": "strict",
          "coloraxis": {
           "colorbar": {
            "outlinewidth": 0,
            "ticks": ""
           }
          },
          "colorscale": {
           "diverging": [
            [
             0,
             "#8e0152"
            ],
            [
             0.1,
             "#c51b7d"
            ],
            [
             0.2,
             "#de77ae"
            ],
            [
             0.3,
             "#f1b6da"
            ],
            [
             0.4,
             "#fde0ef"
            ],
            [
             0.5,
             "#f7f7f7"
            ],
            [
             0.6,
             "#e6f5d0"
            ],
            [
             0.7,
             "#b8e186"
            ],
            [
             0.8,
             "#7fbc41"
            ],
            [
             0.9,
             "#4d9221"
            ],
            [
             1,
             "#276419"
            ]
           ],
           "sequential": [
            [
             0,
             "#0d0887"
            ],
            [
             0.1111111111111111,
             "#46039f"
            ],
            [
             0.2222222222222222,
             "#7201a8"
            ],
            [
             0.3333333333333333,
             "#9c179e"
            ],
            [
             0.4444444444444444,
             "#bd3786"
            ],
            [
             0.5555555555555556,
             "#d8576b"
            ],
            [
             0.6666666666666666,
             "#ed7953"
            ],
            [
             0.7777777777777778,
             "#fb9f3a"
            ],
            [
             0.8888888888888888,
             "#fdca26"
            ],
            [
             1,
             "#f0f921"
            ]
           ],
           "sequentialminus": [
            [
             0,
             "#0d0887"
            ],
            [
             0.1111111111111111,
             "#46039f"
            ],
            [
             0.2222222222222222,
             "#7201a8"
            ],
            [
             0.3333333333333333,
             "#9c179e"
            ],
            [
             0.4444444444444444,
             "#bd3786"
            ],
            [
             0.5555555555555556,
             "#d8576b"
            ],
            [
             0.6666666666666666,
             "#ed7953"
            ],
            [
             0.7777777777777778,
             "#fb9f3a"
            ],
            [
             0.8888888888888888,
             "#fdca26"
            ],
            [
             1,
             "#f0f921"
            ]
           ]
          },
          "colorway": [
           "#636efa",
           "#EF553B",
           "#00cc96",
           "#ab63fa",
           "#FFA15A",
           "#19d3f3",
           "#FF6692",
           "#B6E880",
           "#FF97FF",
           "#FECB52"
          ],
          "font": {
           "color": "#2a3f5f"
          },
          "geo": {
           "bgcolor": "white",
           "lakecolor": "white",
           "landcolor": "#E5ECF6",
           "showlakes": true,
           "showland": true,
           "subunitcolor": "white"
          },
          "hoverlabel": {
           "align": "left"
          },
          "hovermode": "closest",
          "mapbox": {
           "style": "light"
          },
          "paper_bgcolor": "white",
          "plot_bgcolor": "#E5ECF6",
          "polar": {
           "angularaxis": {
            "gridcolor": "white",
            "linecolor": "white",
            "ticks": ""
           },
           "bgcolor": "#E5ECF6",
           "radialaxis": {
            "gridcolor": "white",
            "linecolor": "white",
            "ticks": ""
           }
          },
          "scene": {
           "xaxis": {
            "backgroundcolor": "#E5ECF6",
            "gridcolor": "white",
            "gridwidth": 2,
            "linecolor": "white",
            "showbackground": true,
            "ticks": "",
            "zerolinecolor": "white"
           },
           "yaxis": {
            "backgroundcolor": "#E5ECF6",
            "gridcolor": "white",
            "gridwidth": 2,
            "linecolor": "white",
            "showbackground": true,
            "ticks": "",
            "zerolinecolor": "white"
           },
           "zaxis": {
            "backgroundcolor": "#E5ECF6",
            "gridcolor": "white",
            "gridwidth": 2,
            "linecolor": "white",
            "showbackground": true,
            "ticks": "",
            "zerolinecolor": "white"
           }
          },
          "shapedefaults": {
           "line": {
            "color": "#2a3f5f"
           }
          },
          "ternary": {
           "aaxis": {
            "gridcolor": "white",
            "linecolor": "white",
            "ticks": ""
           },
           "baxis": {
            "gridcolor": "white",
            "linecolor": "white",
            "ticks": ""
           },
           "bgcolor": "#E5ECF6",
           "caxis": {
            "gridcolor": "white",
            "linecolor": "white",
            "ticks": ""
           }
          },
          "title": {
           "x": 0.05
          },
          "xaxis": {
           "automargin": true,
           "gridcolor": "white",
           "linecolor": "white",
           "ticks": "",
           "title": {
            "standoff": 15
           },
           "zerolinecolor": "white",
           "zerolinewidth": 2
          },
          "yaxis": {
           "automargin": true,
           "gridcolor": "white",
           "linecolor": "white",
           "ticks": "",
           "title": {
            "standoff": 15
           },
           "zerolinecolor": "white",
           "zerolinewidth": 2
          }
         }
        },
        "xaxis": {
         "anchor": "y",
         "domain": [
          0,
          1
         ],
         "title": {
          "text": "Class"
         }
        },
        "yaxis": {
         "anchor": "x",
         "domain": [
          0,
          1
         ],
         "title": {
          "text": "Score (%)"
         }
        }
       }
      }
     },
     "metadata": {},
     "output_type": "display_data"
    }
   ],
   "source": [
    "plot_df = r.melt(id_vars=['class', 'count'], value_vars=['min_score', 'avg_score', 'max_score'])\n",
    "plot_df['x_label'] = plot_df['class']\n",
    "plot_df['value'] *= 100\n",
    "\n",
    "fig = px.histogram(plot_df, x='x_label', y='value', color='variable', barmode='group')\n",
    "fig.add_scatter(\n",
    "    y=[120] * len(plot_df), \n",
    "    x=plot_df['x_label'], \n",
    "    mode='markers+text',\n",
    "    marker_size=plot_df['count'] ** 1.6 + 20, \n",
    "    text=plot_df['count'],\n",
    "    textposition='middle center',\n",
    "    textfont_color='white',\n",
    "    opacity=0.8,\n",
    "    name='count'\n",
    ")\n",
    "fig.add_scatter(\n",
    "    y=r['avg_score'] * 100,\n",
    "    x=plot_df['x_label'],\n",
    "    mode='markers+lines+text',\n",
    "    marker_color='#383838',\n",
    "    opacity=0.8,\n",
    "    showlegend=False,\n",
    ")\n",
    "\n",
    "fig.update_yaxes(title_text='Score (%)')\n",
    "fig.update_xaxes(title_text='Class')\n",
    "\n",
    "fig.show()"
   ]
  }
 ],
 "metadata": {
  "kernelspec": {
   "display_name": ".venv",
   "language": "python",
   "name": "python3"
  },
  "language_info": {
   "codemirror_mode": {
    "name": "ipython",
    "version": 3
   },
   "file_extension": ".py",
   "mimetype": "text/x-python",
   "name": "python",
   "nbconvert_exporter": "python",
   "pygments_lexer": "ipython3",
   "version": "3.10.11"
  },
  "orig_nbformat": 4
 },
 "nbformat": 4,
 "nbformat_minor": 2
}
